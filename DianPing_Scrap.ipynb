{
 "cells": [
  {
   "cell_type": "markdown",
   "metadata": {},
   "source": [
    "from bs4 import BeautifulSoup\n",
    "import requests\n",
    "import csv\n",
    "\n",
    "_headers = {\n",
    "    \"User-Agent\": \"Mozilla/5.0 (Windows NT 10.0; Win64; x64) AppleWebKit/537.36 (KHTML, like Gecko) Chrome/83.0.4103.116 Safari/537.36\"\n",
    "}\n",
    "\n",
    "r = requests.get(\"http://www.dianping.com/hangzhou/ch10/g110\", headers = _headers)\n",
    "if(r.ok):\n",
    "    print(\"访问网站成功\")\n",
    "else:\n",
    "    print(\"访问网站识别 重试\")\n",
    "soup = BeautifulSoup(r.text, \"lxml\")"
   ]
  },
  {
   "cell_type": "code",
   "execution_count": 1,
   "metadata": {},
   "outputs": [
    {
     "data": {
      "text/plain": [
       "'if(requests.get(font_woff_url, headers = _headers).ok):\\n    font_woff = requests.get(font_woff_url, headers = _headers)\\n    font_woff_name = font_woff_url.split(\"/\")[-1]\\n    with open(\"./\" + font_woff_name, \"wb\") as f:\\n        f.write(font_woff.content)\\nelse:\\n    print(\"woff文件已更新 重新获取woff文件的url（重新获取后 代码中numbers_font_name也需要更改\")'"
      ]
     },
     "execution_count": 1,
     "metadata": {},
     "output_type": "execute_result"
    }
   ],
   "source": [
    "from bs4 import BeautifulSoup\n",
    "import requests\n",
    "import csv\n",
    "import re\n",
    "# 从woff文件所在的网址下载woff文件并将它保存到当前文件夹下面\n",
    "#shopNum_woff_url = \"http://s3plus.meituan.net/v1/mss_73a511b8f91f43d0bdae92584ea6330b/font/f6ff9bed.woff\"\n",
    "#reviewTag_woff_url = \"http://s3plus.meituan.net/v1/mss_73a511b8f91f43d0bdae92584ea6330b/font/a48ef165.woff\"\n",
    "#tagName_woff_url = \"http://s3plus.meituan.net/v1/mss_73a511b8f91f43d0bdae92584ea6330b/font/713dffdb.woff\"\n",
    "#adderss_woff_url = \"http://s3plus.meituan.net/v1/mss_73a511b8f91f43d0bdae92584ea6330b/font/5462e416.woff\"  # 2020.7.19     http://s3plus.meituan.net/v1/mss_0a06a471f9514fc79c981b5466f56b91/svgtextcss/899ce0e4f8fbee40d3d8816f5f8431b7.css\n",
    "\n",
    "'''shopNum_woff_url = \"http://s3plus.meituan.net/v1/mss_73a511b8f91f43d0bdae92584ea6330b/font/32c7b176.woff\"\n",
    "reviewTag_woff_url = \"http://s3plus.meituan.net/v1/mss_73a511b8f91f43d0bdae92584ea6330b/font/0c9961d0.woff\"\n",
    "tagName_woff_url = \"http://s3plus.meituan.net/v1/mss_73a511b8f91f43d0bdae92584ea6330b/font/c9bb97e6.woff\"\n",
    "adderss_woff_url = \"http://s3plus.meituan.net/v1/mss_73a511b8f91f43d0bdae92584ea6330b/font/713dffdb.woff\"  # 2020.7.20     http://s3plus.meituan.net/v1/mss_0a06a471f9514fc79c981b5466f56b91/svgtextcss/5018775eeb4e804408aeda8c6e9a31aa.css\n",
    "for url in [shopNum_woff_url, reviewTag_woff_url, tagName_woff_url, adderss_woff_url]:  \n",
    "    font_woff = requests.get(url, headers = _headers)\n",
    "    font_woff_name = url.split(\"/\")[-1]\n",
    "    with open(\"./\" + font_woff_name, \"wb\") as f:\n",
    "        f.write(font_woff.content)'''\n",
    "\n",
    "        \n",
    "'''if(requests.get(font_woff_url, headers = _headers).ok):\n",
    "    font_woff = requests.get(font_woff_url, headers = _headers)\n",
    "    font_woff_name = font_woff_url.split(\"/\")[-1]\n",
    "    with open(\"./\" + font_woff_name, \"wb\") as f:\n",
    "        f.write(font_woff.content)\n",
    "else:\n",
    "    print(\"woff文件已更新 重新获取woff文件的url（重新获取后 代码中numbers_font_name也需要更改\")'''"
   ]
  },
  {
   "cell_type": "code",
   "execution_count": 3,
   "metadata": {},
   "outputs": [],
   "source": [
    "soup = get_web(\"http://www.dianping.com/hangzhou/ch10/g110p1?cpt=G8nlYxUWlkwnGUtN%2CG4mSXrPMsR3CXLB4%2CG6mIUkbzG2gxuNaU\")"
   ]
  },
  {
   "cell_type": "code",
   "execution_count": 7,
   "metadata": {},
   "outputs": [
    {
     "data": {
      "text/plain": [
       "<html>\n",
       "<head>\n",
       "<link href=\"//www.dpfile.com/app/pc-common/dp_favicon.a4af753914321c8e82e402e2b4be01d7.ico\" rel=\"icon\" type=\"image/x-icon\"/>\n",
       "<link href=\"//www.dpfile.com/app/pc-common/dp_favicon.a4af753914321c8e82e402e2b4be01d7.ico\" rel=\"shortcut icon\" type=\"image/x-icon\"/>\n",
       "<title>【杭州火锅】推荐,火锅排行/大全/攻略-大众点评网</title>\n",
       "<meta content=\"杭州火锅推荐,火锅排行榜,杭州火锅,火锅,火锅排行\" name=\"Keywords\"/>\n",
       "<meta content=\"附近好吃的火锅有哪些,大众点评为您找到4072家好吃的火锅餐厅,找杭州火锅,就上大众点评\" name=\"Description\"/>\n",
       "<meta content=\"format=html5; url=https://m.dianping.com/hangzhou/ch10/g110\" http-equiv=\"mobile-agent\"/>\n",
       "<link href=\"https://m.dianping.com/hangzhou/ch10/g110\" media=\"only screen and (max-width: 640px)\" rel=\"alternate\"/>\n",
       "<meta charset=\"utf-8\"/>\n",
       "<script type=\"text/javascript\">\n",
       "        window._DP_HeaderData = {\n",
       "            'cityId': '3',                   \n",
       "            'cityChName': '杭州',                 \n",
       "            'cityEnName': 'hangzhou',               \n",
       "            'pageType': 'search',                                           \n",
       "            'userId': '',                                    \n",
       "            'userName': '',                                      \n",
       "            'searchType': 'category',    \n",
       "            'shopTypeChName': '美食',  \n",
       "            'categoryId': '0',\n",
       "            'seo':'false'\n",
       "        };\n",
       "        window.IS_OVERSEAS_CITY = false;\n",
       "    </script>\n",
       "<meta content=\"dianping_nova\" name=\"lx:category\"/>\n",
       "<meta content=\"dp_pc\" name=\"lx:appnm\"/>\n",
       "<meta content=\"off\" name=\"lx:autopv\"/>\n",
       "<!-- 设置 DNS-Prefetch（可选） -->\n",
       "<link href=\"//analytics.meituan.net\" rel=\"dns-prefetch\"/>\n",
       "<link href=\"//wreport.meituan.net\" rel=\"dns-prefetch\"/>\n",
       "<link href=\"//report.meituan.net\" rel=\"dns-prefetch\"/>\n",
       "<meta content=\"c_0pd2xsxh\" name=\"lx:cid\"/>\n",
       "<script type=\"text/javascript\">\n",
       "      !(function (win, doc, ns) {\n",
       "          var cacheFunName = '_MeiTuanALogObject';\n",
       "          win[cacheFunName] = ns;\n",
       "          if (!win[ns]) {\n",
       "              var _LX = function () {\n",
       "                  _LX.q.push(arguments);\n",
       "                  return _LX;\n",
       "              };\n",
       "              _LX.q = _LX.q || [];\n",
       "              _LX.l = +new Date();\n",
       "              win[ns] = _LX;\n",
       "          }\n",
       "      })(window, document, 'LXAnalytics');\n",
       "    </script>\n",
       "<!-- 引入灵犀统计JS代码 -->\n",
       "<script charset=\"utf-8\" src=\"//analytics.meituan.net/analytics.js\" type=\"text/javascript\"></script>\n",
       "<script type=\"text/javascript\">\n",
       "        (function(){\n",
       "            // 设置城市信息\n",
       "            var environment = {\n",
       "                cityid: window._DP_HeaderData.cityId // 请上报通道的城市 ID，这里的cityid: 1 只是示例\n",
       "            };\n",
       "\n",
       "                var cid = 'c_0pd2xsxh';\n",
       "            LXAnalytics('pageView','', environment, cid);\n",
       "        })();\n",
       "    </script>\n",
       "<link href=\"http://www.dianping.com/hangzhou/ch10/g110p1\" rel=\"canonical\"/>\n",
       "<link href=\"//www.dpfile.com/app/pc-common/index.min.07f49b59a761fcb47a2b3348bfb145ac.css\" rel=\"stylesheet\" type=\"text/css\"/>\n",
       "<script src=\"//www.dpfile.com/app/pc-common/index.min.458b5ac9d9c1b8b55403e5455f603a56.js\" type=\"text/javascript\"></script>\n",
       "<!-- 图文混排css -->\n",
       "<link href=\"//s3plus.meituan.net/v1/mss_0a06a471f9514fc79c981b5466f56b91/svgtextcss/3ca3194fa7d7745ee9bfa323a700e424.css\" rel=\"stylesheet\" type=\"text/css\"/>\n",
       "<!-- 星级相关（星级图片以及星级分数）css -->\n",
       "<link href=\"https://h5.dianping.com/app/nebula/packages/nebula-star.css\" rel=\"stylesheet\" type=\"text/css\"/>\n",
       "<link href=\"//www.dpfile.com/mod/css-reset/1.0.0/css/index.css\" rel=\"stylesheet\" type=\"text/css\"/><link href=\"//www.dpfile.com/concat/~mod~mbox~1.0.4~css~mbox.css,~mod~easy-login~0.4.41~css~account.css,~mod~easy-login~0.4.41~css~style.css,~mod~css-shop-tag~0.1.3~css~index.css,~mod~css-rating~1.0.2~css~index.css,~mod~main-authbox~1.0.9~css~index.css,~mod~css-shop-tag~1.0.1~css~index.css,~mod~app-midas~0.6.12~css~style.css,~mod~app-main-search~1.3.0~css~index.css\" rel=\"stylesheet\" type=\"text/css\"/>\n",
       "<script type=\"text/javascript\">\n",
       "    function hasClass(a,b){return a.className.match(new RegExp(\"(\\\\s|^)\"+b+\"(\\\\s|$)\"))}function addClass(a,b){this.hasClass(a,b)||(a.className+=\" \"+b)}function removeClass(a,b){if(hasClass(a,b)){var c=new RegExp(\"(\\\\s|^)\"+b+\"(\\\\s|$)\");a.className=a.className.replace(c,\" \")}}function isOnlyOneLine(a){for(var b=a.length,c=0,d=0,e=0;b>c;c++){if(d=a[c].offsetLeft,e>d)return!1;e=d}return!0}function injectSecondaryNav(a,b){var d,e,c=getSecondaryNav(a);c&&(d=getLastDomIndexOfCurLine(b),e=b.length-1,e>d&&a.insertBefore(c,b[d+1]))}function getSecondaryNav(a){var c,b=a.getElementsByTagName(\"div\");if(b&&b.length>0)for(c=b.length-1;c>=0;c--)if(\"common\"==b[c].getAttribute(\"data-type\"))return b[c];return null}function getCurDomIndex(a){for(var b=0,c=a.length;c>b;b++)if(/(^|\\s)cur(\\s|$)/.test(a[b].className))return b;return-1}function getLastDomIndexOfCurLine(a){for(var b=0,c=0,d=getCurDomIndex(a);d<a.length;d++){if(c=a[d].offsetLeft,b>c)return d-1;b=c}return a.length-1}function getLastDomOfFirstLine(a){var d,e,f,b=a.getElementsByTagName(\"a\"),c=[];if(b)for(d=0;d<b.length;d++)\"1\"==b[d].getAttribute(\"data-rank\")&&c.push(b[d]);if(isOnlyOneLine(c))return c[c.length-1];for(e=0,f=0,d=0,d=0;d<c.length;d++){if(f=c[d].offsetLeft,e>f)return c[d-1];e=f}}function isCurExist(a){for(var b=a.length,c=!0,d=0;b>d&&!hasClass(a[d],\"cur\");d++)d==b-1&&(c=!1);return c}function isCurDomInFirstLine(a){var d,b=0,c=0;for(d=0;d<a.length;d++){if(c=a[d].offsetLeft,/(^|\\s)cur(\\s|$)/.test(a[d].className))return!0;if(b>c)return!1;b=c}}function getLastDomIndexOfFirstLine(a){for(var b=0,c=0,d=0;d<a.length;d++){if(c=a[d].offsetLeft,b>c)return d-1;b=c}return a.length-1}function injectTheMoreLinkDom(a,b){var c,d,e,f,g;if(isCurDomInFirstLine(b)&&(c=getLastDomIndexOfFirstLine(b),d=b.length-1,d>c))for(e=document.createElement(\"A\"),f=document.createElement(\"I\"),f.setAttribute(\"class\",\"packdown-arrow\"),e.setAttribute(\"class\",\"J_packdown packdown-sear\"),e.appendChild(document.createTextNode(\"更多\")),e.appendChild(f),a.insertBefore(e,b[c]),g=c;g<b.length;g++)addClass(b[g],\"Hide\")}function more(a){var d,e,b=a.getElementsByTagName(\"a\"),c=[];if(b)for(d=0;d<b.length;d++)\"1\"==b[d].getAttribute(\"data-rank\")&&c.push(b[d]);e=isOnlyOneLine(c),e||(injectSecondaryNav(a,c),injectTheMoreLinkDom(a,c))}function moreInner(a){var b,c,d,e,f,g;if(a&&(b=a.getElementsByTagName(\"a\"),!isOnlyOneLine(b)&&(!isCurExist(b)||isCurDomInFirstLine(b))&&(c=getLastDomIndexOfFirstLine(b),d=b.length-1,d>c))){for(e=c;e<b.length;e++)addClass(b[e],\"Hide\");f=document.createElement(\"A\"),g=document.createElement(\"I\"),g.setAttribute(\"class\",\"packdown-arrow\"),f.setAttribute(\"class\",\"J_navpackdown packdown-sear\"),f.appendChild(document.createTextNode(\"更多\")),f.appendChild(g),a.insertBefore(f,b[c])}}\n",
       "</script>\n",
       "<script type=\"text/javascript\">\n",
       "    function hasClass(obj, cls) {\n",
       "        return obj.className.match(new RegExp(\"(\\\\s|^)\" + cls + \"(\\\\s|$)\"));\n",
       "    }\n",
       "    function addClass(obj, cls) {\n",
       "        if (!this.hasClass(obj, cls)) obj.className += \" \" + cls;\n",
       "    }\n",
       "    function removeClass(ele, cls) {\n",
       "        if (hasClass(ele, cls)) {\n",
       "            var reg = new RegExp(\"(\\\\s|^)\" + cls + \"(\\\\s|$)\");\n",
       "            ele.className = ele.className.replace(reg, \" \");\n",
       "        }\n",
       "    }\n",
       "    function setAttribute(o, a, v) {\n",
       "        if (typeof o != 'object' || typeof a != 'string') return;\n",
       "        a == 'class' ? o.className = v : o.setAttribute(a, v);\n",
       "    }\n",
       "    // 获取cookie\n",
       "    function getCookie(name) {\n",
       "        var cookieName = encodeURIComponent(name) + '=';\n",
       "        var cookieStart = document.cookie.indexOf(cookieName);\n",
       "        var cookieValue = null;\n",
       "        if (cookieStart > -1) {\n",
       "            var cookieEnd = document.cookie.indexOf(';', cookieStart);\n",
       "            if (cookieEnd == -1) {\n",
       "                cookieEnd = document.cookie.length;\n",
       "            }\n",
       "            cookieValue = decodeURIComponent(document.cookie.substring(cookieStart + cookieName.length, cookieEnd));\n",
       "        }\n",
       "        return cookieValue;\n",
       "    }\n",
       "    function isSetBtnMore(doms) {\n",
       "        var len = doms.length,\n",
       "                left = 0,\n",
       "                preLeft = 0,\n",
       "                line = 0;\n",
       "        for (var i = 0; i < len; i++) {\n",
       "            left = doms[i].offsetLeft;\n",
       "            if (left < preLeft) line++;\n",
       "            if (line > 1) return true;\n",
       "            preLeft = left;\n",
       "        }\n",
       "        return false;\n",
       "    }\n",
       "    function setBtnMore(box, type) {\n",
       "        var btnMore = document.createElement(\"a\"),\n",
       "                btnMoreIcon = document.createElement(\"i\");\n",
       "\n",
       "        switch (type) {\n",
       "            case 'down':\n",
       "                setAttribute(btnMoreIcon, \"class\", \"icon-arr-extend\");\n",
       "                setAttribute(btnMore, 'class', \"more J_packdown\");\n",
       "                btnMore.appendChild(document.createTextNode(\"更多\"));\n",
       "                break;\n",
       "            case 'up':\n",
       "                setAttribute(btnMoreIcon, \"class\", \"icon-arr-packup\");\n",
       "                setAttribute(btnMore, 'class', \"more J_packup\");\n",
       "                btnMore.appendChild(document.createTextNode(\"收起\"));\n",
       "                break;\n",
       "        }\n",
       "        setAttribute(btnMore, \"href\", \"javascript:;\");\n",
       "        btnMore.appendChild(btnMoreIcon);\n",
       "        box.appendChild(btnMore);\n",
       "    }\n",
       "    function more(container, opt) {\n",
       "        if (!container) {\n",
       "            return;\n",
       "        }\n",
       "        var all = container.getElementsByTagName('a'),\n",
       "                doms = [];\n",
       "        if (all) {\n",
       "            for (var i = 0; i < all.length; i++) {\n",
       "                doms.push(all[i]);\n",
       "            }\n",
       "        }\n",
       "        var isSetBtnMoreResult = isSetBtnMore(doms);\n",
       "        if (isSetBtnMoreResult) {\n",
       "            addClass(container, 'nc-more');\n",
       "\n",
       "            var len = doms.length,\n",
       "                    left = 0,\n",
       "                    preLeft = 0,\n",
       "                    line = 0,\n",
       "                    curNum = -1,\n",
       "                    arrSecNum = [];\n",
       "            // 查找cur所在位置&&确定第三行开始得位置\n",
       "            for (var i = 0; i < len; i++) {\n",
       "                left = doms[i].offsetLeft;\n",
       "                if (left < preLeft) line++;\n",
       "                if (doms[i].className == 'cur') curNum = i;\n",
       "                if (line == 2) arrSecNum.push(i);\n",
       "                preLeft = left;\n",
       "            }\n",
       "\n",
       "            if (opt == 'down' || curNum < arrSecNum[0] || curNum == -1) {\n",
       "                setBtnMore(container, 'down');\n",
       "                for (var i = arrSecNum[0]; i < len; i++) {\n",
       "                    addClass(doms[i], 'Hide');\n",
       "                }\n",
       "            } else if (curNum >= arrSecNum[0]) {\n",
       "                setBtnMore(container, 'up');\n",
       "            }\n",
       "        }\n",
       "    }\n",
       "</script>\n",
       "<script>\n",
       "        (function(){\n",
       "            var bp = document.createElement('script');\n",
       "            var curProtocol = window.location.protocol.split(':')[0];\n",
       "            if (curProtocol === 'https'){\n",
       "                bp.src = 'https://zz.bdstatic.com/linksubmit/push.js';\n",
       "            }\n",
       "            else{\n",
       "                bp.src = 'http://push.zhanzhang.baidu.com/push.js';\n",
       "            }\n",
       "            var s = document.getElementsByTagName(\"script\")[0];\n",
       "            s.parentNode.insertBefore(bp, s);\n",
       "        })();\n",
       "    </script>\n",
       "</head>\n",
       "<body>\n",
       "<!--页头部分-->\n",
       "<div class=\"header-container\"><div class=\"top-nav\" id=\"top-nav\"> <div class=\"top-nav-container clearfix\"> <div class=\"group J-city-select\"> <!--城市选择--> <a class=\"city J-city\" target=\"_blank\"><span class=\"map-icon\"></span><span class=\"J-current-city\">杭州</span><span class=\"J-city-change\">[更换]</span></a> <div class=\"city-list J-city-list Hide\"> <div class=\"group clearfix\"> <h3 class=\"title\">国内城市</h3> <div> <a class=\"city-item\" href=\"//www.dianping.com/shanghai\">上海</a> <a class=\"city-item\" href=\"//www.dianping.com/beijing\">北京</a> <a class=\"city-item\" href=\"//www.dianping.com/guangzhou\">广州</a> <a class=\"city-item\" href=\"//www.dianping.com/shenzhen\">深圳</a> <a class=\"city-item\" href=\"//www.dianping.com/tianjin\">天津</a> <a class=\"city-item\" href=\"//www.dianping.com/hangzhou\">杭州</a> <a class=\"city-item\" href=\"//www.dianping.com/nanjing\">南京</a> <a class=\"city-item\" href=\"//www.dianping.com/suzhou\">苏州</a> <a class=\"city-item\" href=\"//www.dianping.com/chengdu\">成都</a> <a class=\"city-item\" href=\"//www.dianping.com/wuhan\">武汉</a> <a class=\"city-item\" href=\"//www.dianping.com/chongqing\">重庆</a> <a class=\"city-item\" href=\"//www.dianping.com/xian\">西安</a> </div> </div> <div class=\"group clearfix\"> <h3 class=\"title\">国外城市</h3> <div> <a class=\"city-item\" href=\"//www.dianping.com/tokyo\">东京</a> <a class=\"city-item\" href=\"//www.dianping.com/seoul\">首尔</a> <a class=\"city-item\" href=\"//www.dianping.com/bangkok\">曼谷</a> <a class=\"city-item\" href=\"//www.dianping.com/paris\">巴黎</a> </div> </div> <a class=\"all\" href=\"//www.dianping.com/citylist\">更多城市 &gt;</a> </div> </div> <div class=\"group quick-menu \"> <span class=\"login-container J-login-container\"> <a class=\"item \" data-click-name=\"login\" href=\"http://account.dianping.com/login\" rel=\"nofollow\">你好，请登录</a> <a class=\"item login\" data-click-name=\"reg\" href=\"https://account.dianping.com/reg\" rel=\"nofollow\">免费注册</a> </span> <span class=\"seprate\">|</span> <a class=\"item J-my-center-trigger\" href=\"https://www.dianping.com/member/myinfo\" rel=\"nofollow\">个人中心<i class=\"icon i-arrow\"></i></a> <span class=\"seprate\">|</span> <a class=\"item J-shop-serve-trigger\" target=\"_blank\">商户服务<i class=\"icon i-arrow\"></i></a> <span class=\"seprate\">|</span> <a class=\"item J-help-trigger\" target=\"_blank\">帮助中心<i class=\"icon i-arrow\"></i></a> </div> <div class=\"panel my-center J-my-center-target Hide\"> </div> <div class=\"panel my-center J-shop-serve-target Hide\"> <a data-click-name=\"shop-center\" href=\"https://e.dianping.com/\" rel=\"nofollow\" target=\"_blank\">商户中心</a> <a data-click-name=\"shop-coop\" href=\"https://e.dianping.com/claimcpc/page/index?source=dp\" rel=\"nofollow\" target=\"_blank\">商户合作</a> <a data-click-name=\"daili\" href=\"https://daili.meituan.com/?comeFrom=dpwebMenu\" rel=\"nofollow\" target=\"_blank\">招募餐饮代理</a> <a data-click-name=\"apollo\" href=\"https://daili.meituan.com/dz-zhaoshang\" rel=\"nofollow\" target=\"_blank\">招募非餐饮代理</a> <a href=\"http://b.meituan.com/canyin/PC\" rel=\"nofollow\" target=\"_blank\">餐饮商户中心</a> </div> <div class=\"panel my-center J-help-target Hide\"> <a data-click-name=\"useragreement\" href=\"https://rules-center.meituan.com?from=dianpingPC\" rel=\"nofollow\" target=\"_blank\">平台规则</a> <a data-click-name=\"kf\" href=\"http://kf.dianping.com\" rel=\"nofollow\" target=\"_blank\">联系客服</a> </div> </div> </div> <div class=\"logo-input food-conf\" id=\"logo-input\"> <div class=\"logo-input-container clearfix\"> <a class=\"logo logo-food\" href=\"/\" title=\"大众点评网\"></a> <div class=\"search-box\"> <div class=\"search-bar \"> <span class=\"search-container clearfix\"> <i class=\"i-search\"></i> <span> <input autocomplete=\"off\" class=\"J-search-input\" data-s-cateid=\"0\" data-s-cityid=\"1\" data-s-epattern=\"https://www.dianping.com/hangzhou/{0}\" data-s-pattern=\"https://www.dianping.com/search/keyword/{0}/{1}_\" id=\"J-search-input\" placeholder=\"搜索商户名、地址、菜名、外卖等\" type=\"text\" x-webkit-grammar=\"builtin:translate\" x-webkit-speech=\"\"/> </span> <span class=\"search-bnt-panel\"> <a class=\"search-btn search-channel-bnt J-search-btn\" data-s-chanid=\"10\" id=\"J-channel-bnt\" target=\"_blank\">频道搜索</a> <a class=\"search-btn search-all-bnt J-search-btn platform-btn\" data-s-chanid=\"0\" id=\"J-all-btn\" target=\"_blank\">全站搜索</a> </span> </span> <p class=\"hot-search J-hot-search\"> </p> </div> </div> </div> </div> <div class=\"cate-container channel-cate-container food-conf\" id=\"cate-channel\"> <div class=\"nav-header\"> <div class=\"navbar\"> <span class=\"cate-item all-cate J-all-cate\">全部美食分类 <i class=\"primary-more\"></i> </span> <a class=\"cate-item other-cate \" data-click-name=\"霸王餐\" data-click-title=\"row-nav\" href=\"http://s.dianping.com/event/hangzhou\" target=\"_blank\">霸王餐</a> <i class=\"hot-icon\"></i> <a class=\"cate-item other-cate \" data-click-name=\"社区论坛\" data-click-title=\"row-nav\" href=\"http://s.dianping.com/hangzhou/group?utm_source=dp_pc_food\" target=\"_blank\">社区论坛</a> </div> </div> <div class=\"gradient\"></div> <div class=\"cate-index\" id=\"cate-index\"> <div class=\"navwrap\"> <div id=\"nav\"> <div class=\"cate-nav J-cate-nav Hidden\"> <ul class=\"first-cate J-primary-menu\"> <li class=\"first-item\"> <div class=\"primary-container\"> <span class=\"span-container\"> <a class=\"index-title\" target=\"_blank\">异国料理</a> <a class=\"index-item\" data-category=\"food.excticfood\" data-click-name=\"g116\" data-click-title=\"second\" href=\"http://www.dianping.com/hangzhou/ch10/g116\" target=\"_blank\"><span>西餐</span></a> <a class=\"index-item\" data-category=\"food.excticfood\" data-click-name=\"g113\" data-click-title=\"second\" href=\"http://www.dianping.com/hangzhou/ch10/g113\" target=\"_blank\"><span>日本菜</span></a> </span> </div> <div class=\"sec-cate Hide\" data-category=\"cate.food.excticfood\"> <div class=\"groups\"> <div class=\"group\"> <div class=\"sec-title\"> <span class=\"channel-title\" href=\"\">异国料理</span> </div> <div class=\"sec-items\"> <a class=\"second-item\" data-category=\"food.excticfood\" data-click-name=\"g116\" href=\"http://www.dianping.com/hangzhou/ch10/g116\" target=\"_blank\">西餐</a> <a class=\"second-item\" data-category=\"food.excticfood\" data-click-name=\"g113\" href=\"http://www.dianping.com/hangzhou/ch10/g113\" target=\"_blank\">日本菜</a> <a class=\"second-item\" data-category=\"food.excticfood\" data-click-name=\"g114\" href=\"http://www.dianping.com/hangzhou/ch10/g114\" target=\"_blank\">韩国料理</a> <a class=\"second-item\" data-category=\"food.excticfood\" data-click-name=\"g115\" href=\"http://www.dianping.com/hangzhou/ch10/g115\" target=\"_blank\">东南亚菜</a> <a class=\"second-item\" data-category=\"food.excticfood\" data-click-name=\"g111\" href=\"http://www.dianping.com/hangzhou/ch10/g111\" target=\"_blank\">自助餐</a> </div> </div> </div> </div> </li> <li class=\"first-item\"> <div class=\"primary-container\"> <span class=\"span-container\"> <a class=\"index-title\" target=\"_blank\">中式料理</a> <a class=\"index-item\" data-category=\"food.chinesefood\" data-click-name=\"g110\" data-click-title=\"second\" href=\"http://www.dianping.com/hangzhou/ch10/g110\" target=\"_blank\"><span>火锅</span></a> <a class=\"index-item\" data-category=\"food.chinesefood\" data-click-name=\"g101\" data-click-title=\"second\" href=\"http://www.dianping.com/hangzhou/ch10/g101\" target=\"_blank\"><span>本帮江浙菜</span></a> </span> </div> <div class=\"sec-cate Hide\" data-category=\"cate.food.chinesefood\"> <div class=\"groups\"> <div class=\"group\"> <div class=\"sec-title\"> <span class=\"channel-title\" href=\"\">中式料理</span> </div> <div class=\"sec-items\"> <a class=\"second-item\" data-category=\"food.chinesefood\" data-click-name=\"g110\" href=\"http://www.dianping.com/hangzhou/ch10/g110\" target=\"_blank\">火锅</a> <a class=\"second-item\" data-category=\"food.chinesefood\" data-click-name=\"g101\" href=\"http://www.dianping.com/hangzhou/ch10/g101\" target=\"_blank\">本帮江浙菜</a> <a class=\"second-item\" data-category=\"food.chinesefood\" data-click-name=\"g102\" href=\"http://www.dianping.com/hangzhou/ch10/g102\" target=\"_blank\">川菜</a> <a class=\"second-item\" data-category=\"food.chinesefood\" data-click-name=\"g103\" href=\"http://www.dianping.com/hangzhou/ch10/g103\" target=\"_blank\">粤菜</a> <a class=\"second-item\" data-category=\"food.chinesefood\" data-click-name=\"g104\" href=\"http://www.dianping.com/hangzhou/ch10/g104\" target=\"_blank\">湘菜</a> <a class=\"second-item\" data-category=\"food.chinesefood\" data-click-name=\"g3243\" href=\"http://www.dianping.com/hangzhou/ch10/g3243\" target=\"_blank\">新疆菜</a> <a class=\"second-item\" data-category=\"food.chinesefood\" data-click-name=\"g248\" href=\"http://www.dianping.com/hangzhou/ch10/g248\" target=\"_blank\">云南菜</a> <a class=\"second-item\" data-category=\"food.chinesefood\" data-click-name=\"g106\" href=\"http://www.dianping.com/hangzhou/ch10/g106\" target=\"_blank\">东北菜</a> <a class=\"second-item\" data-category=\"food.chinesefood\" data-click-name=\"g105\" href=\"http://www.dianping.com/hangzhou/ch10/g105\" target=\"_blank\">贵州菜</a> <a class=\"second-item\" data-category=\"food.chinesefood\" data-click-name=\"g26481\" href=\"http://www.dianping.com/hangzhou/ch10/g26481\" target=\"_blank\">西北菜</a> <a class=\"second-item\" data-category=\"food.chinesefood\" data-click-name=\"g107\" href=\"http://www.dianping.com/hangzhou/ch10/g107\" target=\"_blank\">台湾菜</a> <a class=\"second-item\" data-category=\"food.chinesefood\" data-click-name=\"g247\" href=\"http://www.dianping.com/hangzhou/ch10/g247\" target=\"_blank\">江西菜</a> </div> </div> </div> </div> </li> <li class=\"first-item\"> <div class=\"primary-container\"> <span class=\"span-container\"> <a class=\"index-title\" target=\"_blank\">小吃夜宵</a> <a class=\"index-item\" data-category=\"food.snack\" data-click-name=\"g508\" data-click-title=\"second\" href=\"http://www.dianping.com/hangzhou/ch10/g508\" target=\"_blank\"><span>烧烤</span></a> <a class=\"index-item\" data-category=\"food.snack\" data-click-name=\"g251\" data-click-title=\"second\" href=\"http://www.dianping.com/hangzhou/ch10/g251\" target=\"_blank\"><span>海鲜</span></a> </span> </div> <div class=\"sec-cate Hide\" data-category=\"cate.food.snack\"> <div class=\"groups\"> <div class=\"group\"> <div class=\"sec-title\"> <span class=\"channel-title\" href=\"\">小吃夜宵</span> </div> <div class=\"sec-items\"> <a class=\"second-item\" data-category=\"food.snack\" data-click-name=\"g508\" href=\"http://www.dianping.com/hangzhou/ch10/g508\" target=\"_blank\">烧烤</a> <a class=\"second-item\" data-category=\"food.snack\" data-click-name=\"g251\" href=\"http://www.dianping.com/hangzhou/ch10/g251\" target=\"_blank\">海鲜</a> <a class=\"second-item\" data-category=\"food.snack\" data-click-name=\"g219\" href=\"http://www.dianping.com/hangzhou/ch10/g219\" target=\"_blank\">小龙虾</a> <a class=\"second-item\" data-category=\"food.snack\" data-click-name=\"g203\" href=\"http://www.dianping.com/hangzhou/ch10/g203\" target=\"_blank\">蟹宴</a> <a class=\"second-item\" data-category=\"food.snack\" data-click-name=\"g112\" href=\"http://www.dianping.com/hangzhou/ch10/g112\" target=\"_blank\">小吃快餐</a> </div> </div> </div> </div> </li> <li class=\"first-item\"> <div class=\"primary-container\"> <span class=\"span-container\"> <a class=\"index-title\" target=\"_blank\">饮品甜点</a> <a class=\"index-item\" data-category=\"food.dessert\" data-click-name=\"g132\" data-click-title=\"second\" href=\"http://www.dianping.com/hangzhou/ch10/g132\" target=\"_blank\"><span>咖啡厅</span></a> <a class=\"index-item\" data-category=\"food.dessert\" data-click-name=\"g117\" data-click-title=\"second\" href=\"http://www.dianping.com/hangzhou/ch10/g117\" target=\"_blank\"><span>面包甜点</span></a> </span> </div> <div class=\"sec-cate Hide\" data-category=\"cate.food.dessert\"> <div class=\"groups\"> <div class=\"group\"> <div class=\"sec-title\"> <span class=\"channel-title\" href=\"\">饮品甜点</span> </div> <div class=\"sec-items\"> <a class=\"second-item\" data-category=\"food.dessert\" data-click-name=\"g132\" href=\"http://www.dianping.com/hangzhou/ch10/g132\" target=\"_blank\">咖啡厅</a> <a class=\"second-item\" data-category=\"food.dessert\" data-click-name=\"g117\" href=\"http://www.dianping.com/hangzhou/ch10/g117\" target=\"_blank\">面包甜点</a> <a class=\"second-item\" data-category=\"food.dessert\" data-click-name=\"g34014\" href=\"http://www.dianping.com/hangzhou/ch10/g34014\" target=\"_blank\">下午茶</a> <a class=\"second-item\" data-category=\"food.dessert\" data-click-name=\"g34015\" href=\"http://www.dianping.com/hangzhou/ch10/g34015\" target=\"_blank\">Brunch</a> </div> </div> </div> </div> </li> <li class=\"first-item\"> <div class=\"primary-container\"> <span class=\"span-container\"> <a class=\"index-title\" target=\"_blank\">其他</a> <a class=\"index-item\" data-category=\"food.others\" data-click-name=\"g109\" data-click-title=\"second\" href=\"http://www.dianping.com/hangzhou/ch10/g109\" target=\"_blank\"><span>素菜</span></a> <a class=\"index-item\" data-category=\"food.others\" data-click-name=\"g215\" data-click-title=\"second\" href=\"http://www.dianping.com/hangzhou/ch10/g215\" target=\"_blank\"><span>面馆</span></a> </span> </div> <div class=\"sec-cate Hide\" data-category=\"cate.food.others\"> <div class=\"groups\"> <div class=\"group\"> <div class=\"sec-title\"> <span class=\"channel-title\" href=\"\">其他</span> </div> <div class=\"sec-items\"> <a class=\"second-item\" data-category=\"food.others\" data-click-name=\"g109\" href=\"http://www.dianping.com/hangzhou/ch10/g109\" target=\"_blank\">素菜</a> <a class=\"second-item\" data-category=\"food.others\" data-click-name=\"g215\" href=\"http://www.dianping.com/hangzhou/ch10/g215\" target=\"_blank\">面馆</a> <a class=\"second-item\" data-category=\"food.others\" data-click-name=\"g1783\" href=\"http://www.dianping.com/hangzhou/ch10/g1783\" target=\"_blank\">家常菜</a> <a class=\"second-item\" data-category=\"food.others\" data-click-name=\"g118\" href=\"http://www.dianping.com/hangzhou/ch10/g118\" target=\"_blank\">其他</a> </div> </div> </div> </div> </li> </ul> </div> </div> </div> </div> </div></div>\n",
       "<div class=\"section Fix J-shop-search\">\n",
       "<div class=\"bread J_bread\">\n",
       "<span>\n",
       "<a data-ga-index=\"1\" href=\"/hangzhou/ch10\" itemprop=\"url\" itemscope=\"\" itemtype=\"http://data-vocabulary.org/Breadcrumb\">\n",
       "<span itemprop=\"title\">\n",
       "                                            杭州美食\n",
       "                                        </span>\n",
       "</a>\n",
       "</span>\n",
       "<span class=\"path\"></span>\n",
       "<span>\n",
       "<a data-ga-index=\"2\" href=\"/hangzhou/ch10/g110\" itemprop=\"url\" itemscope=\"\" itemtype=\"http://data-vocabulary.org/Breadcrumb\">\n",
       "<span itemprop=\"title\">\n",
       "火锅\n",
       "                                        </span>\n",
       "</a>\n",
       "</span>\n",
       "</div>\n",
       "<div class=\"navigation\">\n",
       "<!-- 频道 -->\n",
       "<!-- 频道 end -->\n",
       "<!-- 分类 -->\n",
       "<div class=\"nav-category J_filter_category\">\n",
       "<h4>分类:</h4>\n",
       "<a class=\"def \" data-cat-id=\"0\" data-click-name=\"select_cate_all_click\" href=\"http://www.dianping.com/hangzhou/ch10\"><span>不限</span></a>\n",
       "<div class=\"nc-contain\">\n",
       "<div class=\"con\">\n",
       "<div class=\"nc-items\" id=\"classfy\">\n",
       "<a data-cat-id=\"112\" data-click-name=\"select_cate_小吃快餐_click\" href=\"http://www.dianping.com/hangzhou/ch10/g112\"><span>小吃快餐</span></a>\n",
       "<a data-cat-id=\"132\" data-click-name=\"select_cate_咖啡厅_click\" href=\"http://www.dianping.com/hangzhou/ch10/g132\"><span>咖啡厅</span></a>\n",
       "<a data-cat-id=\"111\" data-click-name=\"select_cate_自助餐_click\" href=\"http://www.dianping.com/hangzhou/ch10/g111\"><span>自助餐</span></a>\n",
       "<a data-cat-id=\"117\" data-click-name=\"select_cate_面包甜点_click\" href=\"http://www.dianping.com/hangzhou/ch10/g117\"><span>面包甜点</span></a>\n",
       "<a data-cat-id=\"133\" data-click-name=\"select_cate_酒吧_click\" href=\"http://www.dianping.com/hangzhou/ch10/g133\"><span>酒吧</span></a>\n",
       "<a data-cat-id=\"215\" data-click-name=\"select_cate_面馆_click\" href=\"http://www.dianping.com/hangzhou/ch10/g215\"><span>面馆</span></a>\n",
       "<a class=\"cur\" data-cat-id=\"110\" data-click-name=\"select_cate_火锅_click\" href=\"http://www.dianping.com/hangzhou/ch10/g110\"><span>火锅</span></a>\n",
       "<a data-cat-id=\"116\" data-click-name=\"select_cate_西餐_click\" href=\"http://www.dianping.com/hangzhou/ch10/g116\"><span>西餐</span></a>\n",
       "<a data-cat-id=\"113\" data-click-name=\"select_cate_日本菜_click\" href=\"http://www.dianping.com/hangzhou/ch10/g113\"><span>日本菜</span></a>\n",
       "<a data-cat-id=\"508\" data-click-name=\"select_cate_烧烤烤串_click\" href=\"http://www.dianping.com/hangzhou/ch10/g508\"><span>烧烤烤串</span></a>\n",
       "<a data-cat-id=\"134\" data-click-name=\"select_cate_茶馆_click\" href=\"http://www.dianping.com/hangzhou/ch10/g134\"><span>茶馆</span></a>\n",
       "<a data-cat-id=\"114\" data-click-name=\"select_cate_韩国料理_click\" href=\"http://www.dianping.com/hangzhou/ch10/g114\"><span>韩国料理</span></a>\n",
       "<a data-cat-id=\"219\" data-click-name=\"select_cate_小龙虾_click\" href=\"http://www.dianping.com/hangzhou/ch10/g219\"><span>小龙虾</span></a>\n",
       "<a data-cat-id=\"250\" data-click-name=\"select_cate_创意菜_click\" href=\"http://www.dianping.com/hangzhou/ch10/g250\"><span>创意菜</span></a>\n",
       "<a data-cat-id=\"251\" data-click-name=\"select_cate_江河湖海鲜_click\" href=\"http://www.dianping.com/hangzhou/ch10/g251\"><span>江河湖海鲜</span></a>\n",
       "<a data-cat-id=\"2714\" data-click-name=\"select_cate_水果生鲜_click\" href=\"http://www.dianping.com/hangzhou/ch10/g2714\"><span>水果生鲜</span></a>\n",
       "<a data-cat-id=\"34236\" data-click-name=\"select_cate_饮品店_click\" href=\"http://www.dianping.com/hangzhou/ch10/g34236\"><span>饮品店</span></a>\n",
       "<a data-cat-id=\"33759\" data-click-name=\"select_cate_食品保健_click\" href=\"http://www.dianping.com/hangzhou/ch10/g33759\"><span>食品保健</span></a>\n",
       "<a data-cat-id=\"25474\" data-click-name=\"select_cate_农家菜_click\" href=\"http://www.dianping.com/hangzhou/ch10/g25474\"><span>农家菜</span></a>\n",
       "<a data-cat-id=\"1338\" data-click-name=\"select_cate_私房菜_click\" href=\"http://www.dianping.com/hangzhou/ch10/g1338\"><span>私房菜</span></a>\n",
       "<a data-cat-id=\"34303\" data-click-name=\"select_cate_烤肉_click\" href=\"http://www.dianping.com/hangzhou/ch10/g34303\"><span>烤肉</span></a>\n",
       "<a data-cat-id=\"103\" data-click-name=\"select_cate_粤菜_click\" href=\"http://www.dianping.com/hangzhou/ch10/g103\"><span>粤菜</span></a>\n",
       "<a data-cat-id=\"102\" data-click-name=\"select_cate_川菜_click\" href=\"http://www.dianping.com/hangzhou/ch10/g102\"><span>川菜</span></a>\n",
       "<a data-cat-id=\"101\" data-click-name=\"select_cate_本帮江浙菜_click\" href=\"http://www.dianping.com/hangzhou/ch10/g101\"><span>本帮江浙菜</span></a>\n",
       "<a data-cat-id=\"106\" data-click-name=\"select_cate_东北菜_click\" href=\"http://www.dianping.com/hangzhou/ch10/g106\"><span>东北菜</span></a>\n",
       "<a data-cat-id=\"34284\" data-click-name=\"select_cate_特色菜_click\" href=\"http://www.dianping.com/hangzhou/ch10/g34284\"><span>特色菜</span></a>\n",
       "<a data-cat-id=\"104\" data-click-name=\"select_cate_湘菜_click\" href=\"http://www.dianping.com/hangzhou/ch10/g104\"><span>湘菜</span></a>\n",
       "<a data-cat-id=\"1783\" data-click-name=\"select_cate_家常菜_click\" href=\"http://www.dianping.com/hangzhou/ch10/g1783\"><span>家常菜</span></a>\n",
       "<a data-cat-id=\"26482\" data-click-name=\"select_cate_徽菜_click\" href=\"http://www.dianping.com/hangzhou/ch10/g26482\"><span>徽菜</span></a>\n",
       "<a data-cat-id=\"311\" data-click-name=\"select_cate_北京菜_click\" href=\"http://www.dianping.com/hangzhou/ch10/g311\"><span>北京菜</span></a>\n",
       "<a data-cat-id=\"247\" data-click-name=\"select_cate_江西菜_click\" href=\"http://www.dianping.com/hangzhou/ch10/g247\"><span>江西菜</span></a>\n",
       "<a data-cat-id=\"34055\" data-click-name=\"select_cate_早茶_click\" href=\"http://www.dianping.com/hangzhou/ch10/g34055\"><span>早茶</span></a>\n",
       "<a data-cat-id=\"26481\" data-click-name=\"select_cate_西北菜_click\" href=\"http://www.dianping.com/hangzhou/ch10/g26481\"><span>西北菜</span></a>\n",
       "<a data-cat-id=\"3243\" data-click-name=\"select_cate_新疆菜_click\" href=\"http://www.dianping.com/hangzhou/ch10/g3243\"><span>新疆菜</span></a>\n",
       "<a data-cat-id=\"115\" data-click-name=\"select_cate_东南亚菜_click\" href=\"http://www.dianping.com/hangzhou/ch10/g115\"><span>东南亚菜</span></a>\n",
       "<a data-cat-id=\"6743\" data-click-name=\"select_cate_云贵菜_click\" href=\"http://www.dianping.com/hangzhou/ch10/g6743\"><span>云贵菜</span></a>\n",
       "<a data-cat-id=\"107\" data-click-name=\"select_cate_台湾菜_click\" href=\"http://www.dianping.com/hangzhou/ch10/g107\"><span>台湾菜</span></a>\n",
       "<a data-cat-id=\"34059\" data-click-name=\"select_cate_福建菜_click\" href=\"http://www.dianping.com/hangzhou/ch10/g34059\"><span>福建菜</span></a>\n",
       "<a data-cat-id=\"234\" data-click-name=\"select_cate_中东菜_click\" href=\"http://www.dianping.com/hangzhou/ch10/g234\"><span>中东菜</span></a>\n",
       "<a data-cat-id=\"34014\" data-click-name=\"select_cate_下午茶_click\" href=\"http://www.dianping.com/hangzhou/ch10/g34014\"><span>下午茶</span></a>\n",
       "<a data-cat-id=\"118\" data-click-name=\"select_cate_其他美食_click\" href=\"http://www.dianping.com/hangzhou/ch10/g118\"><span>其他美食</span></a>\n",
       "</div>\n",
       "<div class=\"nc-items nc-sub\" id=\"classfy-sub\">\n",
       "<a class=\"cur\" data-click-name=\"select_cate_sec_all_click\" href=\"http://www.dianping.com/hangzhou/ch10/g110\"><span>不限</span></a>\n",
       "<a data-cat-id=\"34060\" data-click-name=\"select_cate_sec_川味火锅/麻辣火锅_click\" href=\"http://www.dianping.com/hangzhou/ch10/g34060\"><span>川味火锅/麻辣火锅</span></a>\n",
       "<a data-cat-id=\"3017\" data-click-name=\"select_cate_sec_串串香_click\" href=\"http://www.dianping.com/hangzhou/ch10/g3017\"><span>串串香</span></a>\n",
       "<a data-cat-id=\"3027\" data-click-name=\"select_cate_sec_鱼火锅_click\" href=\"http://www.dianping.com/hangzhou/ch10/g3027\"><span>鱼火锅</span></a>\n",
       "<a data-cat-id=\"32731\" data-click-name=\"select_cate_sec_潮汕牛肉火锅_click\" href=\"http://www.dianping.com/hangzhou/ch10/g32731\"><span>潮汕牛肉火锅</span></a>\n",
       "<a data-cat-id=\"32733\" data-click-name=\"select_cate_sec_重庆火锅_click\" href=\"http://www.dianping.com/hangzhou/ch10/g32733\"><span>重庆火锅</span></a>\n",
       "<a data-cat-id=\"3023\" data-click-name=\"select_cate_sec_四川火锅_click\" href=\"http://www.dianping.com/hangzhou/ch10/g3023\"><span>四川火锅</span></a>\n",
       "<a data-cat-id=\"4477\" data-click-name=\"select_cate_sec_小火锅_click\" href=\"http://www.dianping.com/hangzhou/ch10/g4477\"><span>小火锅</span></a>\n",
       "<a data-cat-id=\"208\" data-click-name=\"select_cate_sec_牛羊肉火锅_click\" href=\"http://www.dianping.com/hangzhou/ch10/g208\"><span>牛羊肉火锅</span></a>\n",
       "<a data-cat-id=\"2889\" data-click-name=\"select_cate_sec_砂锅_click\" href=\"http://www.dianping.com/hangzhou/ch10/g2889\"><span>砂锅</span></a>\n",
       "<a data-cat-id=\"34276\" data-click-name=\"select_cate_sec_地锅鸡_click\" href=\"http://www.dianping.com/hangzhou/ch10/g34276\"><span>地锅鸡</span></a>\n",
       "<a data-cat-id=\"2887\" data-click-name=\"select_cate_sec_本地鸡窝火锅_click\" href=\"http://www.dianping.com/hangzhou/ch10/g2887\"><span>本地鸡窝火锅</span></a>\n",
       "<a data-cat-id=\"34279\" data-click-name=\"select_cate_sec_炭火锅_click\" href=\"http://www.dianping.com/hangzhou/ch10/g34279\"><span>炭火锅</span></a>\n",
       "<a data-cat-id=\"32730\" data-click-name=\"select_cate_sec_猪肚鸡火锅_click\" href=\"http://www.dianping.com/hangzhou/ch10/g32730\"><span>猪肚鸡火锅</span></a>\n",
       "<a data-cat-id=\"34065\" data-click-name=\"select_cate_sec_焖锅_click\" href=\"http://www.dianping.com/hangzhou/ch10/g34065\"><span>焖锅</span></a>\n",
       "<a data-cat-id=\"34277\" data-click-name=\"select_cate_sec_老北京火锅_click\" href=\"http://www.dianping.com/hangzhou/ch10/g34277\"><span>老北京火锅</span></a>\n",
       "<a data-cat-id=\"1805\" data-click-name=\"select_cate_sec_羊蝎子火锅_click\" href=\"http://www.dianping.com/hangzhou/ch10/g1805\"><span>羊蝎子火锅</span></a>\n",
       "<a data-cat-id=\"34063\" data-click-name=\"select_cate_sec_打边炉/港式火锅_click\" href=\"http://www.dianping.com/hangzhou/ch10/g34063\"><span>打边炉/港式火锅</span></a>\n",
       "<a data-cat-id=\"34061\" data-click-name=\"select_cate_sec_自助火锅_click\" href=\"http://www.dianping.com/hangzhou/ch10/g34061\"><span>自助火锅</span></a>\n",
       "<a data-cat-id=\"34278\" data-click-name=\"select_cate_sec_海鲜火锅_click\" href=\"http://www.dianping.com/hangzhou/ch10/g34278\"><span>海鲜火锅</span></a>\n",
       "<a data-cat-id=\"4273\" data-click-name=\"select_cate_sec_汤锅_click\" href=\"http://www.dianping.com/hangzhou/ch10/g4273\"><span>汤锅</span></a>\n",
       "<a data-cat-id=\"32712\" data-click-name=\"select_cate_sec_澳门豆捞_click\" href=\"http://www.dianping.com/hangzhou/ch10/g32712\"><span>澳门豆捞</span></a>\n",
       "<a data-cat-id=\"34275\" data-click-name=\"select_cate_sec_虾蟹火锅_click\" href=\"http://www.dianping.com/hangzhou/ch10/g34275\"><span>虾蟹火锅</span></a>\n",
       "<a data-cat-id=\"34062\" data-click-name=\"select_cate_sec_日韩火锅_click\" href=\"http://www.dianping.com/hangzhou/ch10/g34062\"><span>日韩火锅</span></a>\n",
       "<a data-cat-id=\"34280\" data-click-name=\"select_cate_sec_云南火锅_click\" href=\"http://www.dianping.com/hangzhou/ch10/g34280\"><span>云南火锅</span></a>\n",
       "<a data-cat-id=\"2823\" data-click-name=\"select_cate_sec_泰式火锅_click\" href=\"http://www.dianping.com/hangzhou/ch10/g2823\"><span>泰式火锅</span></a>\n",
       "<a data-cat-id=\"34066\" data-click-name=\"select_cate_sec_蒸汽火锅_click\" href=\"http://www.dianping.com/hangzhou/ch10/g34066\"><span>蒸汽火锅</span></a>\n",
       "<a data-cat-id=\"32726\" data-click-name=\"select_cate_sec_腊排骨火锅_click\" href=\"http://www.dianping.com/hangzhou/ch10/g32726\"><span>腊排骨火锅</span></a>\n",
       "<a data-cat-id=\"32727\" data-click-name=\"select_cate_sec_黑山羊火锅_click\" href=\"http://www.dianping.com/hangzhou/ch10/g32727\"><span>黑山羊火锅</span></a>\n",
       "<a data-cat-id=\"33916\" data-click-name=\"select_cate_sec_韩式火锅_click\" href=\"http://www.dianping.com/hangzhou/ch10/g33916\"><span>韩式火锅</span></a>\n",
       "<a data-cat-id=\"3095\" data-click-name=\"select_cate_sec_菌菇火锅_click\" href=\"http://www.dianping.com/hangzhou/ch10/g3095\"><span>菌菇火锅</span></a>\n",
       "<a data-cat-id=\"32713\" data-click-name=\"select_cate_sec_芋儿鸡_click\" href=\"http://www.dianping.com/hangzhou/ch10/g32713\"><span>芋儿鸡</span></a>\n",
       "</div>\n",
       "</div>\n",
       "</div>\n",
       "</div>\n",
       "<!-- 分类 end -->\n",
       "<!-- 推荐 -->\n",
       "<!-- 推荐 end -->\n",
       "<script type=\"text/javascript\">\n",
       "    more(document.getElementById('classfy'));\n",
       "    more(document.getElementById('classfy-sub'));\n",
       "    more(document.getElementById('recom-food'));\n",
       "</script>\n",
       "<div class=\"nav-category nav-tabs J_filter_region\">\n",
       "<h4>地点:</h4>\n",
       "<a class=\"def cur\" href=\"http://www.dianping.com/hangzhou/ch10/g110\"><span>不限</span></a>\n",
       "<div class=\"nc-contain\">\n",
       "<div class=\"tabs\" id=\"J_nav_tabs\">\n",
       "<a data-click-name=\"select_reg_hot_click\" data-click-title=\"hot\" href=\"javascript:;\" nav=\"#nav-tab|0|0\"><span class=\"tit\">热门商区</span></a>\n",
       "<a data-click-name=\"select_reg_biz_click\" data-click-title=\"biz\" href=\"javascript:;\" nav=\"#nav-tab|0|1\"><span class=\"tit\">行政区</span></a>\n",
       "<a data-click-name=\"select_reg_metro_click\" data-click-title=\"metro\" href=\"javascript:;\" nav=\"#nav-tab|0|2\"><span class=\"tit\">地铁线</span></a>\n",
       "</div>\n",
       "<div class=\"con\" id=\"J_nt_items\">\n",
       "<div class=\"nc-items\" id=\"bussi-nav\">\n",
       "<a data-cat-id=\"23913\" data-click-name=\"select_reg_hot_click\" data-click-title=\"星光大道\" href=\"http://www.dianping.com/hangzhou/ch10/g110r23913\"><span>星光大道</span></a>\n",
       "<a data-cat-id=\"1677\" data-click-name=\"select_reg_hot_click\" data-click-title=\"湖滨\" href=\"http://www.dianping.com/hangzhou/ch10/g110r1677\"><span>湖滨</span></a>\n",
       "<a data-cat-id=\"1669\" data-click-name=\"select_reg_hot_click\" data-click-title=\"武林广场\" href=\"http://www.dianping.com/hangzhou/ch10/g110r1669\"><span>武林广场</span></a>\n",
       "<a data-cat-id=\"1981\" data-click-name=\"select_reg_hot_click\" data-click-title=\"西湖北线/黄龙\" href=\"http://www.dianping.com/hangzhou/ch10/g110r1981\"><span>西湖北线/黄龙</span></a>\n",
       "<a data-cat-id=\"1671\" data-click-name=\"select_reg_hot_click\" data-click-title=\"城东\" href=\"http://www.dianping.com/hangzhou/ch10/g110r1671\"><span>城东</span></a>\n",
       "<a data-cat-id=\"1984\" data-click-name=\"select_reg_hot_click\" data-click-title=\"龙井/虎跑\" href=\"http://www.dianping.com/hangzhou/ch10/g110r1984\"><span>龙井/虎跑</span></a>\n",
       "<a data-cat-id=\"1670\" data-click-name=\"select_reg_hot_click\" data-click-title=\"凤起路沿线\" href=\"http://www.dianping.com/hangzhou/ch10/g110r1670\"><span>凤起路沿线</span></a>\n",
       "<a data-cat-id=\"1983\" data-click-name=\"select_reg_hot_click\" data-click-title=\"古墩路沿线\" href=\"http://www.dianping.com/hangzhou/ch10/g110r1983\"><span>古墩路沿线</span></a>\n",
       "<a data-cat-id=\"23895\" data-click-name=\"select_reg_hot_click\" data-click-title=\"解放路沿线\" href=\"http://www.dianping.com/hangzhou/ch10/g110r23895\"><span>解放路沿线</span></a>\n",
       "<a data-cat-id=\"70530\" data-click-name=\"select_reg_hot_click\" data-click-title=\"滨江宝龙城\" href=\"http://www.dianping.com/hangzhou/ch10/g110r70530\"><span>滨江宝龙城</span></a>\n",
       "<a data-cat-id=\"82936\" data-click-name=\"select_reg_hot_click\" data-click-title=\"滨江天街\" href=\"http://www.dianping.com/hangzhou/ch10/g110r82936\"><span>滨江天街</span></a>\n",
       "<a data-cat-id=\"1679\" data-click-name=\"select_reg_hot_click\" data-click-title=\"庆春路沿线\" href=\"http://www.dianping.com/hangzhou/ch10/g110r1679\"><span>庆春路沿线</span></a>\n",
       "<a data-cat-id=\"1678\" data-click-name=\"select_reg_hot_click\" data-click-title=\"朝晖地区\" href=\"http://www.dianping.com/hangzhou/ch10/g110r1678\"><span>朝晖地区</span></a>\n",
       "<a data-cat-id=\"6448\" data-click-name=\"select_reg_hot_click\" data-click-title=\"北干\" href=\"http://www.dianping.com/hangzhou/ch10/g110r6448\"><span>北干</span></a>\n",
       "<a data-cat-id=\"23894\" data-click-name=\"select_reg_hot_click\" data-click-title=\"平海路\" href=\"http://www.dianping.com/hangzhou/ch10/g110r23894\"><span>平海路</span></a>\n",
       "<a data-cat-id=\"1982\" data-click-name=\"select_reg_hot_click\" data-click-title=\"高新文教区\" href=\"http://www.dianping.com/hangzhou/ch10/g110r1982\"><span>高新文教区</span></a>\n",
       "</div>\n",
       "<div class=\"nc-items\" id=\"region-nav\">\n",
       "<a data-cat-id=\"58\" data-click-name=\"select_reg_biz_click\" data-click-title=\"上城区\" href=\"http://www.dianping.com/hangzhou/ch10/g110r58\"><span>上城区</span></a>\n",
       "<a data-cat-id=\"62\" data-click-name=\"select_reg_biz_click\" data-click-title=\"西湖区\" href=\"http://www.dianping.com/hangzhou/ch10/g110r62\"><span>西湖区</span></a>\n",
       "<a data-cat-id=\"60\" data-click-name=\"select_reg_biz_click\" data-click-title=\"拱墅区\" href=\"http://www.dianping.com/hangzhou/ch10/g110r60\"><span>拱墅区</span></a>\n",
       "<a data-cat-id=\"63\" data-click-name=\"select_reg_biz_click\" data-click-title=\"滨江区\" href=\"http://www.dianping.com/hangzhou/ch10/g110r63\"><span>滨江区</span></a>\n",
       "<a data-cat-id=\"59\" data-click-name=\"select_reg_biz_click\" data-click-title=\"下城区\" href=\"http://www.dianping.com/hangzhou/ch10/g110r59\"><span>下城区</span></a>\n",
       "<a data-cat-id=\"61\" data-click-name=\"select_reg_biz_click\" data-click-title=\"江干区\" href=\"http://www.dianping.com/hangzhou/ch10/g110r61\"><span>江干区</span></a>\n",
       "<a data-cat-id=\"6446\" data-click-name=\"select_reg_biz_click\" data-click-title=\"萧山区\" href=\"http://www.dianping.com/hangzhou/ch10/g110r6446\"><span>萧山区</span></a>\n",
       "<a data-cat-id=\"8845\" data-click-name=\"select_reg_biz_click\" data-click-title=\"余杭区\" href=\"http://www.dianping.com/hangzhou/ch10/g110r8845\"><span>余杭区</span></a>\n",
       "<a data-cat-id=\"869\" data-click-name=\"select_reg_biz_click\" data-click-title=\"富阳区\" href=\"http://www.dianping.com/hangzhou/ch10/g110c869\"><span>富阳区</span></a>\n",
       "<a data-cat-id=\"868\" data-click-name=\"select_reg_biz_click\" data-click-title=\"临安\" href=\"http://www.dianping.com/hangzhou/ch10/g110c868\"><span>临安</span></a>\n",
       "<a data-cat-id=\"871\" data-click-name=\"select_reg_biz_click\" data-click-title=\"桐庐县\" href=\"http://www.dianping.com/hangzhou/ch10/g110c871\"><span>桐庐县</span></a>\n",
       "<a data-cat-id=\"870\" data-click-name=\"select_reg_biz_click\" data-click-title=\"建德市\" href=\"http://www.dianping.com/hangzhou/ch10/g110c870\"><span>建德市</span></a>\n",
       "<a data-cat-id=\"872\" data-click-name=\"select_reg_biz_click\" data-click-title=\"淳安县\" href=\"http://www.dianping.com/hangzhou/ch10/g110c872\"><span>淳安县</span></a>\n",
       "</div>\n",
       "<div class=\"nc-items\" id=\"metro-nav\">\n",
       "<a data-cat-id=\"81946\" data-click-name=\"select_reg_metro_click\" data-click-title=\"4号线\" href=\"http://www.dianping.com/hangzhou/ch10/g110r81946\"><span>4号线</span></a>\n",
       "<a data-cat-id=\"25987\" data-click-name=\"select_reg_metro_click\" data-click-title=\"1号线\" href=\"http://www.dianping.com/hangzhou/ch10/g110r25987\"><span>1号线</span></a>\n",
       "<a data-cat-id=\"82317\" data-click-name=\"select_reg_metro_click\" data-click-title=\"2号线\" href=\"http://www.dianping.com/hangzhou/ch10/g110r82317\"><span>2号线</span></a>\n",
       "<a data-cat-id=\"90074\" data-click-name=\"select_reg_metro_click\" data-click-title=\"5号线\" href=\"http://www.dianping.com/hangzhou/ch10/g110r90074\"><span>5号线</span></a>\n",
       "</div>\n",
       "</div>\n",
       "</div>\n",
       "</div>\n",
       "<!-- 地点 end -->\n",
       "<!-- navigation end -->\n",
       "<script type=\"text/javascript\">\n",
       "    more(document.getElementById('bussi-nav'));\n",
       "    more(document.getElementById('bussi-nav-sub'));\n",
       "    more(document.getElementById('region-nav'));\n",
       "    more(document.getElementById('region-nav-sub'));\n",
       "    more(document.getElementById('metro-nav'));\n",
       "    more(document.getElementById('metro-nav-sub'));\n",
       "     (function(){\n",
       "            var tabs = document.getElementById('J_nav_tabs').getElementsByTagName('a'),\n",
       "                doms = document.getElementById('J_nt_items').getElementsByTagName('div'),\n",
       "                curIndex = 0,\n",
       "                items = document.getElementById('J_nt_items').getElementsByTagName('a');\n",
       "\n",
       "            var tagOpenFlag = false;\n",
       "\n",
       "\n",
       "\n",
       "            // 获取跳转过来得nav\n",
       "            if (getCookie('showNav') != null) {\n",
       "                curIndex = getCookie('showNav').substr(getCookie('showNav').length - 1, getCookie('showNav').length);\n",
       "                try {\n",
       "                    curIndex = parseInt(curIndex);\n",
       "                    if (isNaN(curIndex)) {\n",
       "                        curIndex = 0;\n",
       "                    }\n",
       "                } catch (e) {\n",
       "                    curIndex = 0;\n",
       "                    document.cookie = 'showNav=' + tabs[0].getAttribute('nav');\n",
       "                }\n",
       "            }\n",
       "\n",
       "            for(var i=0; i<items.length; i++) {\n",
       "                 items[i].onclick = function () {\n",
       "                     for(var dataTT=0; dataTT<tabs.length; dataTT++) {\n",
       "                         if(hasClass(tabs[dataTT],'cur')){\n",
       "                             document.cookie = 'showNav=' + tabs[dataTT].getAttribute('nav');\n",
       "                         }\n",
       "                     }\n",
       "                 }\n",
       "            }\n",
       "\n",
       "            // set doms hide\n",
       "            for (var dataTmp = 0; dataTmp < doms.length; dataTmp++) {\n",
       "                addClass(doms[dataTmp], 'Hide');\n",
       "            }\n",
       "            (function(j) {\n",
       "                if(doms[j] != null && doms.length > 0) {\n",
       "                    var curEle = doms[j].id,\n",
       "                            initNavEle = document.getElementById(curEle);\n",
       "\n",
       "                    if (initNavEle.getElementsByTagName('a').length == 0) {\n",
       "                        addClass(tabs[j], 'Hide');\n",
       "                        j += 1;\n",
       "                    }\n",
       "                    curSubName = doms[j].id + '-sub';\n",
       "//                curSubName = doms[j].getAttribute('id') + '-sub';\n",
       "\n",
       "\n",
       "                    if (document.getElementById(curSubName)) {\n",
       "                        removeClass(document.getElementById(curSubName), 'Hide');\n",
       "                    } else {\n",
       "                        j = 0;\n",
       "                    }\n",
       "\n",
       "                    addClass(tabs[j], 'cur');\n",
       "                    removeClass(doms[j], 'Hide');\n",
       "\n",
       "                    for (var i = 0; i < tabs.length; i++) {\n",
       "                        if (doms[i].getElementsByTagName('a').length == 0) {\n",
       "                            addClass(tabs[i], 'Hide');\n",
       "                        }\n",
       "                    }\n",
       "                }\n",
       "            })(curIndex);\n",
       "        })();\n",
       "</script>\n",
       "</div>\n",
       "<div class=\"content-wrap\">\n",
       "<div class=\"shop-wrap\">\n",
       "<div class=\"content\">\n",
       "<div class=\"filter-box J_filter_box\">\n",
       "<!-- classify -->\n",
       "<div class=\"filt-classify\">\n",
       "<a class=\" \" data-click-name=\"filter_booking_click\" href=\"http://www.dianping.com/hangzhou/ch10/g110m3\" rel=\"nofollow\"><i class=\"icon-check\"></i>有团购<i class=\"icon-hot\"></i></a>\n",
       "<a class=\" \" data-click-name=\"filter_price_click\" href=\"http://www.dianping.com/hangzhou/ch10/g110m5\" rel=\"nofollow\"><i class=\"icon-check\"></i>可订座</a>\n",
       "<a class=\" \" href=\"http://www.dianping.com/hangzhou/ch10/g110m6\" rel=\"nofollow\"><i class=\"icon-check\"></i>可外卖</a>\n",
       "</div>\n",
       "<!-- classify end -->\n",
       "<!-- service -->\n",
       "<div class=\"filt-service\">\n",
       "<ul>\n",
       "<li><a class=\"cur\" data-click-name=\"sort_default_click\" href=\"http://www.dianping.com/hangzhou/ch10/g110\" rel=\"nofollow\">智能</a><em class=\"sep\">|</em></li>\n",
       "<li><a data-click-name=\"sort_review_click\" href=\"http://www.dianping.com/hangzhou/ch10/g110o3\" rel=\"nofollow\">好评<i class=\"icon-arr-down\"></i></a><em class=\"sep\">|</em></li>\n",
       "<li><a data-click-name=\"sort_hot_click\" href=\"http://www.dianping.com/hangzhou/ch10/g110o2\" rel=\"nofollow\">人气<i class=\"icon-arr-down\"></i></a><em class=\"sep\">|</em></li>\n",
       "<li><a data-click-name=\"sort_custom_口味_click\" href=\"http://www.dianping.com/hangzhou/ch10/g110o4\" rel=\"nofollow\">口味<i class=\"icon-arr-down\"></i></a><em class=\"sep\">|</em></li>\n",
       "<li class=\"fs-slt\">\n",
       "<a href=\"##\">其他排序<i class=\"icon-arr-extend\"></i></a>\n",
       "<em class=\"sep\">|</em>\n",
       "<div class=\"slt-list\">\n",
       "<span class=\"tit\">其他排序<i class=\"icon-arr-packup\"></i></span>\n",
       "<a data-click-name=\"sort_other_点评最多_click\" data-order=\"2\" href=\"http://www.dianping.com/hangzhou/ch10/g110o11\" rel=\"nofollow\">点评最多</a>\n",
       "<a data-click-name=\"sort_other_环境最佳_click\" data-order=\"2\" href=\"http://www.dianping.com/hangzhou/ch10/g110o5\" rel=\"nofollow\">环境最佳</a>\n",
       "<a data-click-name=\"sort_other_服务最佳_click\" data-order=\"2\" href=\"http://www.dianping.com/hangzhou/ch10/g110o6\" rel=\"nofollow\">服务最佳</a>\n",
       "<a data-click-name=\"sort_other_预订优先_click\" data-order=\"2\" href=\"http://www.dianping.com/hangzhou/ch10/g110o13\" rel=\"nofollow\">预订优先</a>\n",
       "</div>\n",
       "</li>\n",
       "<li class=\"fs-slt\">\n",
       "<a class=\"fs-price-tit \" href=\"##\"><span class=\"avgprice\"> 人均<i class=\"icon-arr-extend\"></i></span></a>\n",
       "<div class=\"slt-list per-capita\">\n",
       "<span class=\"tit\">人均<i class=\"icon-arr-packup\"></i></span>\n",
       "<a data-click-name=\"sort_avgprice_max_click\" href=\"http://www.dianping.com/hangzhou/ch10/g110o9\" rel=\"nofollow\" title=\"\">人均最高</a>\n",
       "<a data-click-name=\"sort_avgprice_min_click\" href=\"http://www.dianping.com/hangzhou/ch10/g110o8\" rel=\"nofollow\" title=\"\">人均最低</a>\n",
       "<div class=\"ipt-price J_bar-range\">\n",
       "<span class=\"i-box\"><span class=\"icon\">¥</span><input class=\"J_range-min\" type=\"text\" value=\"\"/></span>\n",
       "<span>-</span>\n",
       "<span class=\"i-box\"><span class=\"icon\">¥</span><input class=\"J_range-max\" type=\"text\" value=\"\"/></span>\n",
       "<div class=\"btn-box\">\n",
       "<a class=\"confirm J_range-btn\" data-click-name=\"sort_avgprice_custom_click\" data-url=\"/hangzhou/ch10/g110{0}\" href=\"javascript:void(0);\" title=\"\">确定</a>\n",
       "<a class=\"reset J_range-reset\" href=\"javascript:void(0);\" title=\"\">重置</a>\n",
       "</div>\n",
       "</div>\n",
       "</div>\n",
       "</li>\n",
       "</ul>\n",
       "</div>\n",
       "<!-- service end -->\n",
       "<a class=\"map\" href=\"http://www.dianping.com/search/map/category/3/10/g110\" rel=\"nofollow\" target=\"_blank\"><i class=\"icon-map\"></i></a>\n",
       "</div>\n",
       "<div class=\"shop-list J_shop-list shop-all-list\" id=\"shop-all-list\">\n",
       "<ul>\n",
       "<li class=\"\" data-midas=\"ad_cj%3DaX7A7qtQ5D7mLY6I0g30BcWHUJEuwVrbwEHZvyOfm3YAz8WMMWCL4rjayxchFGXV_pXeLkMJ74gzisFSDgMK2YxXgHYu5fF3lLrwPKqBso-kv_950EPWSDauZG8hIjUrWoUXRa63nA14tjbiAb8jkHqJKr3_ZuQxfXxbsxfgUFD34ldKONTvA8U%26sver%3D2%26ad_v%3D1%26ad_ci%3DaX7A7qtCOIK2OxMI6fv1OvZgOqHfhmtzbyIXm-ap8TKt_sjsqzDbBlHz3XJ9bRez2sIgxD9SrsXf%26adidx%3D1\">\n",
       "<div class=\"pic\">\n",
       "<a data-click-name=\"shop_img_click\" data-midas-extends=\"module=5_ad_kwimg\" data-shopid=\"G8nlYxUWlkwnGUtN\" href=\"http://www.dianping.com/shop/G8nlYxUWlkwnGUtN\" onclick=\"LXAnalytics('moduleClick', 'shoppic')\" target=\"_blank\" title=\"\">\n",
       "<img alt=\"德天肥牛海鲜火锅(城西银泰店)\" data-src=\"https://img.meituan.net/msmerchant/ec1aad5beaebc5d930da35c207c8383e298472.jpg%40340w_255h_1e_1c_1l%7Cwatermark%3D0\" src=\"https://img.meituan.net/msmerchant/ec1aad5beaebc5d930da35c207c8383e298472.jpg%40340w_255h_1e_1c_1l%7Cwatermark%3D0\" title=\"德天肥牛海鲜火锅(城西银泰店)\"/>\n",
       "</a>\n",
       "</div>\n",
       "<div class=\"txt\">\n",
       "<div class=\"tit\">\n",
       "<a data-click-name=\"shop_title_click\" data-hippo-type=\"shop\" data-midas-extends=\"module=5_ad_kwtitle\" data-shopid=\"G8nlYxUWlkwnGUtN\" href=\"http://www.dianping.com/shop/G8nlYxUWlkwnGUtN\" onclick=\"LXAnalytics('moduleClick', 'shopname');document.hippo.ext({cl_i:1,cl_a:40,cl_k:1463748,query_id:'9255603e-3d4b-4427-9263-f999cec46371'}).mv('cl_to_s','G8nlYxUWlkwnGUtN');\" target=\"_blank\" title=\"德天肥牛海鲜火锅(城西银泰店)\">\n",
       "<h4>德天肥牛海鲜火锅(城西银泰店)</h4>\n",
       "</a>\n",
       "<div class=\"promo-icon J_promo_icon\">\n",
       "<a class=\"igroup\" data-click-name=\"shop_group_icon_click\" data-hippo-dealgrp_id=\"0\" data-hippo-dealgrp_type=\"\" data-midas-extends=\"module=5_ad_kwicon1\" data-shopid=\"G8nlYxUWlkwnGUtN\" href=\"http://www.dianping.com/shop/G8nlYxUWlkwnGUtN\" rel=\"nofollow\" target=\"_blank\" title=\"此餐馆有3个团购\">\n",
       "</a>\n",
       "<a class=\"iout \" data-click-name=\"shop_icon_takeaway_click\" data-midas-extends=\"module=5_ad_kwicon5\" data-shopid=\"G8nlYxUWlkwnGUtN\" href=\"http://www.dianping.com/shop/G8nlYxUWlkwnGUtN#waimai\" rel=\"nofollow\" target=\"_blank\" title=\"本店支持在线下单，足不出户，外送到家！\">\n",
       "</a>\n",
       "</div>\n",
       "<a class=\"shop-branch\" data-click-name=\"shop_branch_click\" data-midas-extends=\"module=5_ad_kwbranch\" data-shopid=\"G8nlYxUWlkwnGUtN\" href=\"http://www.dianping.com/brands/bG8nlYxUWlkwnGUtN\" link=\"\" media=\"only screen and (max-width: 640px)\" module=\"list-branch\" onclick=\"LXAnalytics('moduleClick', 'shopbranch')\" rel=\"alternate\" target=\"_blank\">\n",
       "          分店\n",
       "          </a>\n",
       "<a class=\"search-ad\" data-click-name=\"shop_icon_ad_click\" data-midas-extends=\"module=5_ad_kwtg\" data-shopid=\"G8nlYxUWlkwnGUtN\" href=\"http://www.dianping.com/business\" target=\"_blank\">广告</a>\n",
       "</div>\n",
       "<div class=\"comment\">\n",
       "<div class=\"nebula_star\">\n",
       "<div class=\"star_icon\">\n",
       "<span class=\"star star_45 star_sml\"></span>\n",
       "<span class=\"star star_45 star_sml\"></span>\n",
       "<span class=\"star star_45 star_sml\"></span>\n",
       "<span class=\"star star_45 star_sml\"></span>\n",
       "<span class=\"star star_45 star_sml\"></span>\n",
       "</div>\n",
       "<div class=\"star_score score_45 star_score_sml\">4.76</div>\n",
       "</div>\n",
       "<a class=\"review-num\" data-click-name=\"shop_iwant_review_click\" data-midas-extends=\"module=5_ad_kwreview\" data-shopid=\"G8nlYxUWlkwnGUtN\" href=\"http://www.dianping.com/shop/G8nlYxUWlkwnGUtN#comment\" module=\"list-readreview\" onclick=\"LXAnalytics('moduleClick', 'shopreview')\" rel=\"nofollow\" target=\"_blank\">\n",
       "<b><svgmtsi class=\"shopNum\"></svgmtsi><svgmtsi class=\"shopNum\"></svgmtsi><svgmtsi class=\"shopNum\"></svgmtsi><svgmtsi class=\"shopNum\"></svgmtsi></b>\n",
       "条点评</a>\n",
       "<em class=\"sep\">|</em>\n",
       "<a class=\"mean-price\" data-click-name=\"shop_avgprice_click\" data-midas-extends=\"module=5_ad_kwprice\" data-shopid=\"G8nlYxUWlkwnGUtN\" href=\"http://www.dianping.com/shop/G8nlYxUWlkwnGUtN\" onclick=\"LXAnalytics('moduleClick', 'shopprice')\" rel=\"nofollow\" target=\"_blank\">\n",
       "            人均\n",
       "            <b>￥1<svgmtsi class=\"shopNum\"></svgmtsi><svgmtsi class=\"shopNum\"></svgmtsi></b>\n",
       "</a>\n",
       "</div>\n",
       "<div class=\"tag-addr\">\n",
       "<a data-click-name=\"shop_tag_cate_click\" data-midas-extends=\"module=5_ad_kwcat\" data-shopid=\"G8nlYxUWlkwnGUtN\" href=\"http://www.dianping.com/hangzhou/ch10/g34278\"><span class=\"tag\"><svgmtsi class=\"tagName\"></svgmtsi><svgmtsi class=\"tagName\"></svgmtsi><svgmtsi class=\"tagName\"></svgmtsi><svgmtsi class=\"tagName\"></svgmtsi></span></a>\n",
       "<em class=\"sep\">|</em>\n",
       "<a data-click-name=\"shop_tag_region_click\" data-midas-extends=\"module=5_ad_kwregion\" data-shopid=\"G8nlYxUWlkwnGUtN\" href=\"http://www.dianping.com/hangzhou/ch10/r12025\"><span class=\"tag\"><svgmtsi class=\"tagName\"></svgmtsi><svgmtsi class=\"tagName\"></svgmtsi><svgmtsi class=\"tagName\"></svgmtsi><svgmtsi class=\"tagName\"></svgmtsi></span></a>\n",
       "<span class=\"addr\"><svgmtsi class=\"address\"></svgmtsi>潭<svgmtsi class=\"address\"></svgmtsi>430<svgmtsi class=\"address\"></svgmtsi><svgmtsi class=\"address\"></svgmtsi><svgmtsi class=\"address\"></svgmtsi><svgmtsi class=\"address\"></svgmtsi><svgmtsi class=\"address\"></svgmtsi><svgmtsi class=\"address\"></svgmtsi><svgmtsi class=\"address\"></svgmtsi>A<svgmtsi class=\"address\"></svgmtsi>裙<svgmtsi class=\"address\"></svgmtsi>4<svgmtsi class=\"address\"></svgmtsi></span>\n",
       "</div>\n",
       "<div class=\"recommend\">\n",
       "<span>推荐菜：</span>\n",
       "<a class=\"recommend-click\" data-click-name=\"shop_tag_dish_click\" data-shopid=\"G8nlYxUWlkwnGUtN\" href=\"http://www.dianping.com/shop/G8nlYxUWlkwnGUtN/dish102881151\" target=\"_blank\">极佳雪花肥牛</a>\n",
       "<a class=\"recommend-click\" data-click-name=\"shop_tag_dish_click\" data-shopid=\"G8nlYxUWlkwnGUtN\" href=\"http://www.dianping.com/shop/G8nlYxUWlkwnGUtN/dish91634273\" target=\"_blank\">蟹籽鲜虾滑</a>\n",
       "<a class=\"recommend-click\" data-click-name=\"shop_tag_dish_click\" data-shopid=\"G8nlYxUWlkwnGUtN\" href=\"http://www.dianping.com/shop/G8nlYxUWlkwnGUtN/dish87646\" target=\"_blank\">德天一号</a>\n",
       "</div>\n",
       "<span class=\"comment-list\">\n",
       "<span>口味<b><svgmtsi class=\"shopNum\"></svgmtsi>.<svgmtsi class=\"shopNum\"></svgmtsi><svgmtsi class=\"shopNum\"></svgmtsi></b></span>\n",
       "<span>环境<b><svgmtsi class=\"shopNum\"></svgmtsi>.<svgmtsi class=\"shopNum\"></svgmtsi><svgmtsi class=\"shopNum\"></svgmtsi></b></span>\n",
       "<span>服务<b><svgmtsi class=\"shopNum\"></svgmtsi>.<svgmtsi class=\"shopNum\"></svgmtsi><svgmtsi class=\"shopNum\"></svgmtsi></b></span>\n",
       "</span>\n",
       "</div>\n",
       "<div class=\"svr-info\">\n",
       "<a data-click-name=\"shop_info_groupdeal_click\" data-midas-extends=\"module=5_ad_kwdown1\" href=\"http://www.dianping.com/shop/G8nlYxUWlkwnGUtN\" target=\"_blank\" title=\"团购：此餐馆有3个团购\">\n",
       "<span class=\"tit\">团购：</span>此餐馆有3个团购\n",
       "            </a>\n",
       "<a class=\"tuan privilege\" data-click-name=\"shop_info_takeway_click\" data-shopid=\"G8nlYxUWlkwnGUtN\" href=\"http://www.dianping.com/shop/G8nlYxUWlkwnGUtN\" target=\"_blank\" title=\"外送：本店支持在线下单，足不出户，外送到家！\">\n",
       "<span class=\"tit\">外送：</span>本店支持在线下单，足不出户，外送到家！\n",
       "          </a>\n",
       "</div>\n",
       "<div class=\"operate J_operate Hide\">\n",
       "<a class=\"o-favor J_o-favor\" data-click-name=\"shop_favor_click\" data-fav-favortype=\"1\" data-fav-referid=\"G8nlYxUWlkwnGUtN\" data-midas-extends=\"module=5_ad_kwfloat2\" data-name=\"德天肥牛海鲜火锅(城西银泰店)\" data-shopid=\"G8nlYxUWlkwnGUtN\" href=\"javascript:void(0);\" rel=\"nofollow\" title=\"\"><i></i><span>收藏</span></a>\n",
       "<span class=\"line\">|</span>\n",
       "<a class=\"o-map J_o-map\" data-address=\"丰潭路430号丰元国际大厦A座裙楼4楼\" data-click-name=\"shop_map_click\" data-midas-extends=\"module=5_ad_kwfloat3\" data-poi=\"IJAIGCZVFIAURV\" data-shopid=\"G8nlYxUWlkwnGUtN\" data-sname=\"德天肥牛海鲜火锅\" href=\"javascript:void(0);\" rel=\"nofollow\" title=\"\">地图</a>\n",
       "<span class=\"line\">|</span>\n",
       "<a class=\"o-nearby J_o-nearby\" data-click-name=\"shop_nearby_click\" data-midas-extends=\"module=5_ad_kwfloat4\" data-shopid=\"G8nlYxUWlkwnGUtN\" data-sname=\"德天肥牛海鲜火锅\" data-url=\"/search/around/3/0_G8nlYxUWlkwnGUtN{keyword}\" href=\"javascript:void(0);\" rel=\"nofollow\" title=\"\">附近</a>\n",
       "</div>\n",
       "</li>\n",
       "<li class=\"\" data-midas=\"ad_cj%3DZjABiOy_MVy1KNO4TsHh15NMelroWSSvNR9tBVV0If3JiEkvWPb_RsumUQBdWuS4R1T0CtrMSlKK4n-8Gx1PCw8Hdffm0kHwFbRd4ra_p4q7d4DzVSKgrpf8-G58ljasVl_lzKaIcrLROlIx3WSiE33LoQt84OnR4y6SDg61tIu6fNfCT3E-lQg%26sver%3D2%26ad_v%3D1%26ad_ci%3DZjABiOyt7eDlPk44dTHiaqaqkNwzA3HWAIGvI5NBS7JptUgr-0V4zO4mElbgCGINSMsZeKcWXPxfxA%26adidx%3D2\">\n",
       "<div class=\"pic\">\n",
       "<a data-click-name=\"shop_img_click\" data-midas-extends=\"module=5_ad_kwimg\" data-shopid=\"G6mIUkbzG2gxuNaU\" href=\"http://www.dianping.com/shop/G6mIUkbzG2gxuNaU\" onclick=\"LXAnalytics('moduleClick', 'shoppic')\" target=\"_blank\" title=\"\">\n",
       "<img alt=\"铜顺祥老北京炭火锅(五常店)\" data-src=\"https://img.meituan.net/msmerchant/250872c5e333557daca8cd95905c39502810574.jpg%40340w_255h_1e_1c_1l%7Cwatermark%3D0\" src=\"https://img.meituan.net/msmerchant/250872c5e333557daca8cd95905c39502810574.jpg%40340w_255h_1e_1c_1l%7Cwatermark%3D0\" title=\"铜顺祥老北京炭火锅(五常店)\"/>\n",
       "</a>\n",
       "</div>\n",
       "<div class=\"txt\">\n",
       "<div class=\"tit\">\n",
       "<a data-click-name=\"shop_title_click\" data-hippo-type=\"shop\" data-midas-extends=\"module=5_ad_kwtitle\" data-shopid=\"G6mIUkbzG2gxuNaU\" href=\"http://www.dianping.com/shop/G6mIUkbzG2gxuNaU\" onclick=\"LXAnalytics('moduleClick', 'shopname');document.hippo.ext({cl_i:2,cl_a:40,cl_k:26483432,query_id:'9255603e-3d4b-4427-9263-f999cec46371'}).mv('cl_to_s','G6mIUkbzG2gxuNaU');\" target=\"_blank\" title=\"铜顺祥老北京炭火锅(五常店)\">\n",
       "<h4>铜顺祥老北京炭火锅(五常店)</h4>\n",
       "</a>\n",
       "<div class=\"promo-icon J_promo_icon\">\n",
       "<a class=\"igroup\" data-click-name=\"shop_group_icon_click\" data-hippo-dealgrp_id=\"0\" data-hippo-dealgrp_type=\"\" data-midas-extends=\"module=5_ad_kwicon1\" data-shopid=\"G6mIUkbzG2gxuNaU\" href=\"http://www.dianping.com/shop/G6mIUkbzG2gxuNaU\" rel=\"nofollow\" target=\"_blank\" title=\"此餐馆有7个团购\">\n",
       "</a>\n",
       "<a class=\"iout icon-only\" data-click-name=\"shop_icon_takeaway_click\" data-midas-extends=\"module=5_ad_kwicon5\" data-shopid=\"G6mIUkbzG2gxuNaU\" href=\"http://www.dianping.com/shop/G6mIUkbzG2gxuNaU#waimai\" rel=\"nofollow\" target=\"_blank\" title=\"本店支持在线下单，足不出户，外送到家！\">\n",
       "</a>\n",
       "</div>\n",
       "<a class=\"search-ad\" data-click-name=\"shop_icon_ad_click\" data-midas-extends=\"module=5_ad_kwtg\" data-shopid=\"G6mIUkbzG2gxuNaU\" href=\"http://www.dianping.com/business\" target=\"_blank\">广告</a>\n",
       "</div>\n",
       "<div class=\"comment\">\n",
       "<div class=\"nebula_star\">\n",
       "<div class=\"star_icon\">\n",
       "<span class=\"star star_45 star_sml\"></span>\n",
       "<span class=\"star star_45 star_sml\"></span>\n",
       "<span class=\"star star_45 star_sml\"></span>\n",
       "<span class=\"star star_45 star_sml\"></span>\n",
       "<span class=\"star star_45 star_sml\"></span>\n",
       "</div>\n",
       "<div class=\"star_score score_45 star_score_sml\">4.50</div>\n",
       "</div>\n",
       "<a class=\"review-num\" data-click-name=\"shop_iwant_review_click\" data-midas-extends=\"module=5_ad_kwreview\" data-shopid=\"G6mIUkbzG2gxuNaU\" href=\"http://www.dianping.com/shop/G6mIUkbzG2gxuNaU#comment\" module=\"list-readreview\" onclick=\"LXAnalytics('moduleClick', 'shopreview')\" rel=\"nofollow\" target=\"_blank\">\n",
       "<b><svgmtsi class=\"shopNum\"></svgmtsi><svgmtsi class=\"shopNum\"></svgmtsi><svgmtsi class=\"shopNum\"></svgmtsi></b>\n",
       "条点评</a>\n",
       "<em class=\"sep\">|</em>\n",
       "<a class=\"mean-price\" data-click-name=\"shop_avgprice_click\" data-midas-extends=\"module=5_ad_kwprice\" data-shopid=\"G6mIUkbzG2gxuNaU\" href=\"http://www.dianping.com/shop/G6mIUkbzG2gxuNaU\" onclick=\"LXAnalytics('moduleClick', 'shopprice')\" rel=\"nofollow\" target=\"_blank\">\n",
       "            人均\n",
       "            <b>￥1<svgmtsi class=\"shopNum\"></svgmtsi><svgmtsi class=\"shopNum\"></svgmtsi></b>\n",
       "</a>\n",
       "</div>\n",
       "<div class=\"tag-addr\">\n",
       "<a data-click-name=\"shop_tag_cate_click\" data-midas-extends=\"module=5_ad_kwcat\" data-shopid=\"G6mIUkbzG2gxuNaU\" href=\"http://www.dianping.com/hangzhou/ch10/g34279\"><span class=\"tag\">炭<svgmtsi class=\"tagName\"></svgmtsi><svgmtsi class=\"tagName\"></svgmtsi></span></a>\n",
       "<em class=\"sep\">|</em>\n",
       "<a data-click-name=\"shop_tag_region_click\" data-midas-extends=\"module=5_ad_kwregion\" data-shopid=\"G6mIUkbzG2gxuNaU\" href=\"http://www.dianping.com/hangzhou/ch10/r8845\"><span class=\"tag\">余杭<svgmtsi class=\"tagName\"></svgmtsi></span></a>\n",
       "<span class=\"addr\"><svgmtsi class=\"address\"></svgmtsi><svgmtsi class=\"address\"></svgmtsi><svgmtsi class=\"address\"></svgmtsi><svgmtsi class=\"address\"></svgmtsi>169-2<svgmtsi class=\"address\"></svgmtsi><svgmtsi class=\"address\"></svgmtsi><svgmtsi class=\"address\"></svgmtsi><svgmtsi class=\"address\"></svgmtsi><svgmtsi class=\"address\"></svgmtsi><svgmtsi class=\"address\"></svgmtsi><svgmtsi class=\"address\"></svgmtsi><svgmtsi class=\"address\"></svgmtsi><svgmtsi class=\"address\"></svgmtsi></span>\n",
       "</div>\n",
       "<div class=\"recommend\">\n",
       "<span>推荐菜：</span>\n",
       "<a class=\"recommend-click\" data-click-name=\"shop_tag_dish_click\" data-shopid=\"G6mIUkbzG2gxuNaU\" href=\"http://www.dianping.com/shop/G6mIUkbzG2gxuNaU/dish131986195\" target=\"_blank\">一米高钙羊肉</a>\n",
       "<a class=\"recommend-click\" data-click-name=\"shop_tag_dish_click\" data-shopid=\"G6mIUkbzG2gxuNaU\" href=\"http://www.dianping.com/shop/G6mIUkbzG2gxuNaU/dish131946973\" target=\"_blank\">铜顺祥老北京炭火锅</a>\n",
       "<a class=\"recommend-click\" data-click-name=\"shop_tag_dish_click\" data-shopid=\"G6mIUkbzG2gxuNaU\" href=\"http://www.dianping.com/shop/G6mIUkbzG2gxuNaU/dish212442558\" target=\"_blank\">一号肥牛</a>\n",
       "</div>\n",
       "<span class=\"comment-list\">\n",
       "<span>口味<b><svgmtsi class=\"shopNum\"></svgmtsi>.<svgmtsi class=\"shopNum\"></svgmtsi><svgmtsi class=\"shopNum\"></svgmtsi></b></span>\n",
       "<span>环境<b><svgmtsi class=\"shopNum\"></svgmtsi>.<svgmtsi class=\"shopNum\"></svgmtsi><svgmtsi class=\"shopNum\"></svgmtsi></b></span>\n",
       "<span>服务<b><svgmtsi class=\"shopNum\"></svgmtsi>.<svgmtsi class=\"shopNum\"></svgmtsi><svgmtsi class=\"shopNum\"></svgmtsi></b></span>\n",
       "</span>\n",
       "</div>\n",
       "<div class=\"svr-info\">\n",
       "<a data-click-name=\"shop_info_groupdeal_click\" data-midas-extends=\"module=5_ad_kwdown1\" href=\"http://www.dianping.com/shop/G6mIUkbzG2gxuNaU\" target=\"_blank\" title=\"团购：此餐馆有7个团购\">\n",
       "<span class=\"tit\">团购：</span>此餐馆有7个团购\n",
       "            </a>\n",
       "<a class=\"tuan privilege\" data-click-name=\"shop_info_takeway_click\" data-shopid=\"G6mIUkbzG2gxuNaU\" href=\"http://www.dianping.com/shop/G6mIUkbzG2gxuNaU\" target=\"_blank\" title=\"外送：本店支持在线下单，足不出户，外送到家！\">\n",
       "<span class=\"tit\">外送：</span>本店支持在线下单，足不出户，外送到家！\n",
       "          </a>\n",
       "</div>\n",
       "<div class=\"operate J_operate Hide\">\n",
       "<a class=\"o-favor J_o-favor\" data-click-name=\"shop_favor_click\" data-fav-favortype=\"1\" data-fav-referid=\"G6mIUkbzG2gxuNaU\" data-midas-extends=\"module=5_ad_kwfloat2\" data-name=\"铜顺祥老北京炭火锅(五常店)\" data-shopid=\"G6mIUkbzG2gxuNaU\" href=\"javascript:void(0);\" rel=\"nofollow\" title=\"\"><i></i><span>收藏</span></a>\n",
       "<span class=\"line\">|</span>\n",
       "<a class=\"o-map J_o-map\" data-address=\"五常大道169-2号楼达峰科技园对面\" data-click-name=\"shop_map_click\" data-midas-extends=\"module=5_ad_kwfloat3\" data-poi=\"IJACFFZVFEVDRG\" data-shopid=\"G6mIUkbzG2gxuNaU\" data-sname=\"铜顺祥老北京炭火锅\" href=\"javascript:void(0);\" rel=\"nofollow\" title=\"\">地图</a>\n",
       "<span class=\"line\">|</span>\n",
       "<a class=\"o-nearby J_o-nearby\" data-click-name=\"shop_nearby_click\" data-midas-extends=\"module=5_ad_kwfloat4\" data-shopid=\"G6mIUkbzG2gxuNaU\" data-sname=\"铜顺祥老北京炭火锅\" data-url=\"/search/around/3/0_G6mIUkbzG2gxuNaU{keyword}\" href=\"javascript:void(0);\" rel=\"nofollow\" title=\"\">附近</a>\n",
       "</div>\n",
       "</li>\n",
       "<li class=\"\" data-midas=\"ad_cj%3DxruGsQ4I3bU3TuD4nJeCiZOcsiCiwMIgpOaT4On579GexFZXKSIqhCsnK4cHfaX1p7SIBM0yzaLMLNEht39rfaDFIP8-drOSKBK0TrOxyRIU7ywKgQ4Ddn5AZE7fR6NEK5WKqdr7rzjhu7miRQWZtHuNvNj78KajgqMWvtjf2BFvVSE0eh7oFxo%26sver%3D2%26ad_v%3D1%26ad_ci%3DxruGsQ4aAQlnWH14p2eBMyJ4WaJ_mpdZkXhRxi_MhZ4--VdTipGtDg6naNG6M89roBt1Uojo3AgY6Q%26adidx%3D3\">\n",
       "<div class=\"pic\">\n",
       "<a data-click-name=\"shop_img_click\" data-midas-extends=\"module=5_ad_kwimg\" data-shopid=\"G4mSXrPMsR3CXLB4\" href=\"http://www.dianping.com/shop/G4mSXrPMsR3CXLB4\" onclick=\"LXAnalytics('moduleClick', 'shoppic')\" target=\"_blank\" title=\"\">\n",
       "<img alt=\"牛焱火锅·鲜牛肉会挂盘(湖滨银泰in77C区店)\" data-src=\"https://img.meituan.net/msmerchant/275f30f48ff01b4d9a4e9aa007bb18e2145769.jpg%40340w_255h_1e_1c_1l%7Cwatermark%3D0\" src=\"https://img.meituan.net/msmerchant/275f30f48ff01b4d9a4e9aa007bb18e2145769.jpg%40340w_255h_1e_1c_1l%7Cwatermark%3D0\" title=\"牛焱火锅·鲜牛肉会挂盘(湖滨银泰in77C区店)\"/>\n",
       "</a>\n",
       "</div>\n",
       "<div class=\"txt\">\n",
       "<div class=\"tit\">\n",
       "<a data-click-name=\"shop_title_click\" data-hippo-type=\"shop\" data-midas-extends=\"module=5_ad_kwtitle\" data-shopid=\"G4mSXrPMsR3CXLB4\" href=\"http://www.dianping.com/shop/G4mSXrPMsR3CXLB4\" onclick=\"LXAnalytics('moduleClick', 'shopname');document.hippo.ext({cl_i:3,cl_a:40,cl_k:26399021,query_id:'9255603e-3d4b-4427-9263-f999cec46371'}).mv('cl_to_s','G4mSXrPMsR3CXLB4');\" target=\"_blank\" title=\"牛焱火锅·鲜牛肉会挂盘(湖滨银泰in77C区店)\">\n",
       "<h4>牛焱火锅·鲜牛肉会挂盘(湖滨银泰in77C区店)</h4>\n",
       "</a>\n",
       "<div class=\"promo-icon J_promo_icon\">\n",
       "<a class=\"igroup\" data-click-name=\"shop_group_icon_click\" data-hippo-dealgrp_id=\"0\" data-hippo-dealgrp_type=\"\" data-midas-extends=\"module=5_ad_kwicon1\" data-shopid=\"G4mSXrPMsR3CXLB4\" href=\"http://www.dianping.com/shop/G4mSXrPMsR3CXLB4\" rel=\"nofollow\" target=\"_blank\" title=\"此餐馆有3个团购\">\n",
       "</a>\n",
       "<a class=\"ipromote \" data-click-name=\"shop_icon_shortdeal_click\" data-midas-extends=\"module=5_ad_kwicon2\" data-shopid=\"G4mSXrPMsR3CXLB4\" href=\"http://www.dianping.com/shop/G4mSXrPMsR3CXLB4#promo=0\" rel=\"nofollow\" target=\"_blank\" title=\"\"></a>\n",
       "<a class=\"iout \" data-click-name=\"shop_icon_takeaway_click\" data-midas-extends=\"module=5_ad_kwicon5\" data-shopid=\"G4mSXrPMsR3CXLB4\" href=\"http://www.dianping.com/shop/G4mSXrPMsR3CXLB4#waimai\" rel=\"nofollow\" target=\"_blank\" title=\"本店支持在线下单，足不出户，外送到家！\">\n",
       "</a>\n",
       "</div>\n",
       "<a class=\"shop-branch\" data-click-name=\"shop_branch_click\" data-midas-extends=\"module=5_ad_kwbranch\" data-shopid=\"G4mSXrPMsR3CXLB4\" href=\"http://www.dianping.com/brands/bG4mSXrPMsR3CXLB4\" link=\"\" media=\"only screen and (max-width: 640px)\" module=\"list-branch\" onclick=\"LXAnalytics('moduleClick', 'shopbranch')\" rel=\"alternate\" target=\"_blank\">\n",
       "          分店\n",
       "          </a>\n",
       "<a class=\"search-ad\" data-click-name=\"shop_icon_ad_click\" data-midas-extends=\"module=5_ad_kwtg\" data-shopid=\"G4mSXrPMsR3CXLB4\" href=\"http://www.dianping.com/business\" target=\"_blank\">广告</a>\n",
       "</div>\n",
       "<div class=\"comment\">\n",
       "<div class=\"nebula_star\">\n",
       "<div class=\"star_icon\">\n",
       "<span class=\"star star_50 star_sml\"></span>\n",
       "<span class=\"star star_50 star_sml\"></span>\n",
       "<span class=\"star star_50 star_sml\"></span>\n",
       "<span class=\"star star_50 star_sml\"></span>\n",
       "<span class=\"star star_50 star_sml\"></span>\n",
       "</div>\n",
       "<div class=\"star_score score_50 star_score_sml\">4.82</div>\n",
       "</div>\n",
       "<a class=\"review-num\" data-click-name=\"shop_iwant_review_click\" data-midas-extends=\"module=5_ad_kwreview\" data-shopid=\"G4mSXrPMsR3CXLB4\" href=\"http://www.dianping.com/shop/G4mSXrPMsR3CXLB4#comment\" module=\"list-readreview\" onclick=\"LXAnalytics('moduleClick', 'shopreview')\" rel=\"nofollow\" target=\"_blank\">\n",
       "<b><svgmtsi class=\"shopNum\"></svgmtsi><svgmtsi class=\"shopNum\"></svgmtsi><svgmtsi class=\"shopNum\"></svgmtsi><svgmtsi class=\"shopNum\"></svgmtsi></b>\n",
       "条点评</a>\n",
       "<em class=\"sep\">|</em>\n",
       "<a class=\"mean-price\" data-click-name=\"shop_avgprice_click\" data-midas-extends=\"module=5_ad_kwprice\" data-shopid=\"G4mSXrPMsR3CXLB4\" href=\"http://www.dianping.com/shop/G4mSXrPMsR3CXLB4\" onclick=\"LXAnalytics('moduleClick', 'shopprice')\" rel=\"nofollow\" target=\"_blank\">\n",
       "            人均\n",
       "            <b>￥1<svgmtsi class=\"shopNum\"></svgmtsi><svgmtsi class=\"shopNum\"></svgmtsi></b>\n",
       "</a>\n",
       "</div>\n",
       "<div class=\"tag-addr\">\n",
       "<a data-click-name=\"shop_tag_cate_click\" data-midas-extends=\"module=5_ad_kwcat\" data-shopid=\"G4mSXrPMsR3CXLB4\" href=\"http://www.dianping.com/hangzhou/ch10/g32731\"><span class=\"tag\">潮汕<svgmtsi class=\"tagName\"></svgmtsi><svgmtsi class=\"tagName\"></svgmtsi><svgmtsi class=\"tagName\"></svgmtsi><svgmtsi class=\"tagName\"></svgmtsi></span></a>\n",
       "<em class=\"sep\">|</em>\n",
       "<a data-click-name=\"shop_tag_region_click\" data-midas-extends=\"module=5_ad_kwregion\" data-shopid=\"G4mSXrPMsR3CXLB4\" href=\"http://www.dianping.com/hangzhou/ch10/r1677\"><span class=\"tag\"><svgmtsi class=\"tagName\"></svgmtsi><svgmtsi class=\"tagName\"></svgmtsi></span></a>\n",
       "<span class=\"addr\">延<svgmtsi class=\"address\"></svgmtsi><svgmtsi class=\"address\"></svgmtsi>258<svgmtsi class=\"address\"></svgmtsi><svgmtsi class=\"address\"></svgmtsi><svgmtsi class=\"address\"></svgmtsi><svgmtsi class=\"address\"></svgmtsi><svgmtsi class=\"address\"></svgmtsi>in77C2<svgmtsi class=\"address\"></svgmtsi>B1</span>\n",
       "</div>\n",
       "<div class=\"recommend\">\n",
       "<span>推荐菜：</span>\n",
       "<a class=\"recommend-click\" data-click-name=\"shop_tag_dish_click\" data-shopid=\"G4mSXrPMsR3CXLB4\" href=\"http://www.dianping.com/shop/G4mSXrPMsR3CXLB4/dish2626873\" target=\"_blank\">嫩肉</a>\n",
       "<a class=\"recommend-click\" data-click-name=\"shop_tag_dish_click\" data-shopid=\"G4mSXrPMsR3CXLB4\" href=\"http://www.dianping.com/shop/G4mSXrPMsR3CXLB4/dish8159778\" target=\"_blank\">吊龙</a>\n",
       "<a class=\"recommend-click\" data-click-name=\"shop_tag_dish_click\" data-shopid=\"G4mSXrPMsR3CXLB4\" href=\"http://www.dianping.com/shop/G4mSXrPMsR3CXLB4/dish274712\" target=\"_blank\">手打生丸</a>\n",
       "</div>\n",
       "<span class=\"comment-list\">\n",
       "<span>口味<b><svgmtsi class=\"shopNum\"></svgmtsi>.<svgmtsi class=\"shopNum\"></svgmtsi><svgmtsi class=\"shopNum\"></svgmtsi></b></span>\n",
       "<span>环境<b><svgmtsi class=\"shopNum\"></svgmtsi>.<svgmtsi class=\"shopNum\"></svgmtsi><svgmtsi class=\"shopNum\"></svgmtsi></b></span>\n",
       "<span>服务<b><svgmtsi class=\"shopNum\"></svgmtsi>.<svgmtsi class=\"shopNum\"></svgmtsi><svgmtsi class=\"shopNum\"></svgmtsi></b></span>\n",
       "</span>\n",
       "</div>\n",
       "<div class=\"svr-info\">\n",
       "<a data-click-name=\"shop_info_groupdeal_click\" data-midas-extends=\"module=5_ad_kwdown1\" href=\"http://www.dianping.com/shop/G4mSXrPMsR3CXLB4\" target=\"_blank\" title=\"团购：此餐馆有3个团购\">\n",
       "<span class=\"tit\">团购：</span>此餐馆有3个团购\n",
       "            </a>\n",
       "<a class=\"tuan privilege\" data-click-name=\"shop_info_promo_click\" data-midas-extends=\"module=5_ad_kwdown2\" data-shopid=\"G4mSXrPMsR3CXLB4\" href=\"http://www.dianping.com/shop/G4mSXrPMsR3CXLB4#promo=0\" target=\"_blank\" title=\"\">\n",
       "<span class=\"tit\">优惠：</span>此餐馆有优惠券\n",
       "              </a>\n",
       "</div>\n",
       "<div class=\"operate J_operate Hide\">\n",
       "<a class=\"o-favor J_o-favor\" data-click-name=\"shop_favor_click\" data-fav-favortype=\"1\" data-fav-referid=\"G4mSXrPMsR3CXLB4\" data-midas-extends=\"module=5_ad_kwfloat2\" data-name=\"牛焱火锅·鲜牛肉会挂盘(湖滨银泰in77C区店)\" data-shopid=\"G4mSXrPMsR3CXLB4\" href=\"javascript:void(0);\" rel=\"nofollow\" title=\"\"><i></i><span>收藏</span></a>\n",
       "<span class=\"line\">|</span>\n",
       "<a class=\"o-map J_o-map\" data-address=\"延安路258号湖滨银泰in77C2区B1\" data-click-name=\"shop_map_click\" data-midas-extends=\"module=5_ad_kwfloat3\" data-poi=\"IJDCGSZVFIEHWL\" data-shopid=\"G4mSXrPMsR3CXLB4\" data-sname=\"牛焱火锅·鲜牛肉会挂盘\" href=\"javascript:void(0);\" rel=\"nofollow\" title=\"\">地图</a>\n",
       "<span class=\"line\">|</span>\n",
       "<a class=\"o-nearby J_o-nearby\" data-click-name=\"shop_nearby_click\" data-midas-extends=\"module=5_ad_kwfloat4\" data-shopid=\"G4mSXrPMsR3CXLB4\" data-sname=\"牛焱火锅·鲜牛肉会挂盘\" data-url=\"/search/around/3/0_G4mSXrPMsR3CXLB4{keyword}\" href=\"javascript:void(0);\" rel=\"nofollow\" title=\"\">附近</a>\n",
       "</div>\n",
       "</li>\n",
       "<li class=\"\">\n",
       "<div class=\"pic\">\n",
       "<a data-click-name=\"shop_img_click\" data-shopid=\"H5jbyRowDSLIK1Ve\" href=\"http://www.dianping.com/shop/H5jbyRowDSLIK1Ve\" onclick=\"LXAnalytics('moduleClick', 'shoppic')\" rel=\"nofollow\" target=\"_blank\" title=\"\">\n",
       "<img alt=\"柴火人家\" data-src=\"http://qcloud.dpfile.com/pc/FO__eWjIm9d64y3NnPaT3mcXwtnar56bgBcc1c9BYUZFEh9gDnVrGIULq943m8ZxbKcq9vnEaGy3xLEf-_v_oA.jpg\" src=\"http://qcloud.dpfile.com/pc/FO__eWjIm9d64y3NnPaT3mcXwtnar56bgBcc1c9BYUZFEh9gDnVrGIULq943m8ZxbKcq9vnEaGy3xLEf-_v_oA.jpg\" title=\"柴火人家\"/>\n",
       "</a>\n",
       "</div>\n",
       "<div class=\"txt\">\n",
       "<div class=\"tit\">\n",
       "<a data-click-name=\"shop_title_click\" data-hippo-type=\"shop\" data-shopid=\"H5jbyRowDSLIK1Ve\" href=\"http://www.dianping.com/shop/H5jbyRowDSLIK1Ve\" onclick=\"LXAnalytics('moduleClick', 'shopname');document.hippo.ext({cl_i:4,query_id:'9255603e-3d4b-4427-9263-f999cec46371'}).mv('cl_to_s','H5jbyRowDSLIK1Ve');\" target=\"_blank\" title=\"柴火人家\">\n",
       "<h4>柴火人家</h4>\n",
       "</a>\n",
       "<div class=\"promo-icon J_promo_icon\">\n",
       "<a class=\"igroup\" data-click-name=\"shop_group_icon_click\" data-hippo-dealgrp_id=\"0\" data-hippo-dealgrp_type=\"\" data-shopid=\"H5jbyRowDSLIK1Ve\" href=\"http://www.dianping.com/shop/H5jbyRowDSLIK1Ve\" rel=\"nofollow\" target=\"_blank\" title=\"此餐馆有2个团购\">\n",
       "</a>\n",
       "</div>\n",
       "</div>\n",
       "<div class=\"comment\">\n",
       "<div class=\"nebula_star\">\n",
       "<div class=\"star_icon\">\n",
       "<span class=\"star star_50 star_sml\"></span>\n",
       "<span class=\"star star_50 star_sml\"></span>\n",
       "<span class=\"star star_50 star_sml\"></span>\n",
       "<span class=\"star star_50 star_sml\"></span>\n",
       "<span class=\"star star_50 star_sml\"></span>\n",
       "</div>\n",
       "<div class=\"star_score score_50 star_score_sml\">4.86</div>\n",
       "</div>\n",
       "<a class=\"review-num\" data-click-name=\"shop_iwant_review_click\" data-shopid=\"H5jbyRowDSLIK1Ve\" href=\"http://www.dianping.com/shop/H5jbyRowDSLIK1Ve#comment\" module=\"list-readreview\" onclick=\"LXAnalytics('moduleClick', 'shopreview')\" rel=\"nofollow\" target=\"_blank\">\n",
       "<b><svgmtsi class=\"shopNum\"></svgmtsi><svgmtsi class=\"shopNum\"></svgmtsi><svgmtsi class=\"shopNum\"></svgmtsi></b>\n",
       "条点评</a>\n",
       "<em class=\"sep\">|</em>\n",
       "<a class=\"mean-price\" data-click-name=\"shop_avgprice_click\" data-shopid=\"H5jbyRowDSLIK1Ve\" href=\"http://www.dianping.com/shop/H5jbyRowDSLIK1Ve\" onclick=\"LXAnalytics('moduleClick', 'shopprice')\" rel=\"nofollow\" target=\"_blank\">\n",
       "            人均\n",
       "            <b>￥<svgmtsi class=\"shopNum\"></svgmtsi><svgmtsi class=\"shopNum\"></svgmtsi></b>\n",
       "</a>\n",
       "</div>\n",
       "<div class=\"tag-addr\">\n",
       "<a data-click-name=\"shop_tag_cate_click\" data-shopid=\"H5jbyRowDSLIK1Ve\" href=\"http://www.dianping.com/hangzhou/ch10/g34276\"><span class=\"tag\"><svgmtsi class=\"tagName\"></svgmtsi><svgmtsi class=\"tagName\"></svgmtsi><svgmtsi class=\"tagName\"></svgmtsi></span></a>\n",
       "<em class=\"sep\">|</em>\n",
       "<a data-click-name=\"shop_tag_region_click\" data-shopid=\"H5jbyRowDSLIK1Ve\" href=\"http://www.dianping.com/tonglu/ch10/r3931\"><span class=\"tag\">桐庐<svgmtsi class=\"tagName\"></svgmtsi><svgmtsi class=\"tagName\"></svgmtsi><svgmtsi class=\"tagName\"></svgmtsi></span></a>\n",
       "<span class=\"addr\"><svgmtsi class=\"address\"></svgmtsi><svgmtsi class=\"address\"></svgmtsi><svgmtsi class=\"address\"></svgmtsi><svgmtsi class=\"address\"></svgmtsi><svgmtsi class=\"address\"></svgmtsi><svgmtsi class=\"address\"></svgmtsi><svgmtsi class=\"address\"></svgmtsi><svgmtsi class=\"address\"></svgmtsi>396<svgmtsi class=\"address\"></svgmtsi></span>\n",
       "</div>\n",
       "<div class=\"recommend\">\n",
       "<span>推荐菜：</span>\n",
       "<a class=\"recommend-click\" data-click-name=\"shop_tag_dish_click\" data-shopid=\"H5jbyRowDSLIK1Ve\" href=\"http://www.dianping.com/shop/H5jbyRowDSLIK1Ve/dish196029771\" target=\"_blank\">玉米饼</a>\n",
       "<a class=\"recommend-click\" data-click-name=\"shop_tag_dish_click\" data-shopid=\"H5jbyRowDSLIK1Ve\" href=\"http://www.dianping.com/shop/H5jbyRowDSLIK1Ve/dish198221504\" target=\"_blank\">豆腐</a>\n",
       "<a class=\"recommend-click\" data-click-name=\"shop_tag_dish_click\" data-shopid=\"H5jbyRowDSLIK1Ve\" href=\"http://www.dianping.com/shop/H5jbyRowDSLIK1Ve/dish27828135\" target=\"_blank\">柴火包头鱼</a>\n",
       "</div>\n",
       "<span class=\"comment-list\">\n",
       "<span>口味<b><svgmtsi class=\"shopNum\"></svgmtsi>.<svgmtsi class=\"shopNum\"></svgmtsi><svgmtsi class=\"shopNum\"></svgmtsi></b></span>\n",
       "<span>环境<b><svgmtsi class=\"shopNum\"></svgmtsi>.<svgmtsi class=\"shopNum\"></svgmtsi><svgmtsi class=\"shopNum\"></svgmtsi></b></span>\n",
       "<span>服务<b><svgmtsi class=\"shopNum\"></svgmtsi>.<svgmtsi class=\"shopNum\"></svgmtsi><svgmtsi class=\"shopNum\"></svgmtsi></b></span>\n",
       "</span>\n",
       "</div>\n",
       "<div class=\"svr-info\">\n",
       "<a data-click-name=\"shop_info_groupdeal_click\" href=\"http://www.dianping.com/shop/H5jbyRowDSLIK1Ve\" target=\"_blank\" title=\"团购：此餐馆有2个团购\">\n",
       "<span class=\"tit\">团购：</span>此餐馆有2个团购\n",
       "            </a>\n",
       "</div>\n",
       "<div class=\"operate J_operate Hide\">\n",
       "<a class=\"o-favor J_o-favor\" data-click-name=\"shop_favor_click\" data-fav-favortype=\"1\" data-fav-referid=\"H5jbyRowDSLIK1Ve\" data-name=\"柴火人家\" data-shopid=\"H5jbyRowDSLIK1Ve\" href=\"javascript:void(0);\" rel=\"nofollow\" title=\"\"><i></i><span>收藏</span></a>\n",
       "<span class=\"line\">|</span>\n",
       "<a class=\"o-map J_o-map\" data-address=\"城南街道白云源路396号\" data-click-name=\"shop_map_click\" data-poi=\"IJCWRWZVECAAAC\" data-shopid=\"H5jbyRowDSLIK1Ve\" data-sname=\"柴火人家\" href=\"javascript:void(0);\" rel=\"nofollow\" title=\"\">地图</a>\n",
       "<span class=\"line\">|</span>\n",
       "<a class=\"o-nearby J_o-nearby\" data-click-name=\"shop_nearby_click\" data-shopid=\"H5jbyRowDSLIK1Ve\" data-sname=\"柴火人家\" data-url=\"/search/around/871/0_H5jbyRowDSLIK1Ve{keyword}\" href=\"javascript:void(0);\" rel=\"nofollow\" title=\"\">附近</a>\n",
       "</div>\n",
       "</li>\n",
       "<li class=\"\">\n",
       "<div class=\"pic\">\n",
       "<a data-click-name=\"shop_img_click\" data-shopid=\"k5PpF1Zwpn0TTQ86\" href=\"http://www.dianping.com/shop/k5PpF1Zwpn0TTQ86\" onclick=\"LXAnalytics('moduleClick', 'shoppic')\" rel=\"nofollow\" target=\"_blank\" title=\"\">\n",
       "<img alt=\"泰燃HotThai泰式海鲜火锅\" data-src=\"https://img.meituan.net/msmerchant/853e35265b58eba1fc5d9e1c227400c2807950.jpg%40340w_255h_1e_1c_1l%7Cwatermark%3D0\" src=\"https://img.meituan.net/msmerchant/853e35265b58eba1fc5d9e1c227400c2807950.jpg%40340w_255h_1e_1c_1l%7Cwatermark%3D0\" title=\"泰燃HotThai泰式海鲜火锅\"/>\n",
       "</a>\n",
       "</div>\n",
       "<div class=\"txt\">\n",
       "<div class=\"tit\">\n",
       "<a data-click-name=\"shop_title_click\" data-hippo-type=\"shop\" data-shopid=\"k5PpF1Zwpn0TTQ86\" href=\"http://www.dianping.com/shop/k5PpF1Zwpn0TTQ86\" onclick=\"LXAnalytics('moduleClick', 'shopname');document.hippo.ext({cl_i:5,query_id:'9255603e-3d4b-4427-9263-f999cec46371'}).mv('cl_to_s','k5PpF1Zwpn0TTQ86');\" target=\"_blank\" title=\"泰燃HotThai泰式海鲜火锅\">\n",
       "<h4>泰燃HotThai泰式海鲜火锅</h4>\n",
       "</a>\n",
       "<div class=\"promo-icon J_promo_icon\">\n",
       "<a class=\"igroup\" data-click-name=\"shop_group_icon_click\" data-hippo-dealgrp_id=\"0\" data-hippo-dealgrp_type=\"\" data-shopid=\"k5PpF1Zwpn0TTQ86\" href=\"http://www.dianping.com/shop/k5PpF1Zwpn0TTQ86\" rel=\"nofollow\" target=\"_blank\" title=\"此餐馆有5个团购\">\n",
       "</a>\n",
       "</div>\n",
       "</div>\n",
       "<div class=\"comment\">\n",
       "<div class=\"nebula_star\">\n",
       "<div class=\"star_icon\">\n",
       "<span class=\"star star_50 star_sml\"></span>\n",
       "<span class=\"star star_50 star_sml\"></span>\n",
       "<span class=\"star star_50 star_sml\"></span>\n",
       "<span class=\"star star_50 star_sml\"></span>\n",
       "<span class=\"star star_50 star_sml\"></span>\n",
       "</div>\n",
       "<div class=\"star_score score_50 star_score_sml\">4.85</div>\n",
       "</div>\n",
       "<a class=\"review-num\" data-click-name=\"shop_iwant_review_click\" data-shopid=\"k5PpF1Zwpn0TTQ86\" href=\"http://www.dianping.com/shop/k5PpF1Zwpn0TTQ86#comment\" module=\"list-readreview\" onclick=\"LXAnalytics('moduleClick', 'shopreview')\" rel=\"nofollow\" target=\"_blank\">\n",
       "<b><svgmtsi class=\"shopNum\"></svgmtsi><svgmtsi class=\"shopNum\"></svgmtsi><svgmtsi class=\"shopNum\"></svgmtsi><svgmtsi class=\"shopNum\"></svgmtsi></b>\n",
       "条点评</a>\n",
       "<em class=\"sep\">|</em>\n",
       "<a class=\"mean-price\" data-click-name=\"shop_avgprice_click\" data-shopid=\"k5PpF1Zwpn0TTQ86\" href=\"http://www.dianping.com/shop/k5PpF1Zwpn0TTQ86\" onclick=\"LXAnalytics('moduleClick', 'shopprice')\" rel=\"nofollow\" target=\"_blank\">\n",
       "            人均\n",
       "            <b>￥1<svgmtsi class=\"shopNum\"></svgmtsi><svgmtsi class=\"shopNum\"></svgmtsi></b>\n",
       "</a>\n",
       "</div>\n",
       "<div class=\"tag-addr\">\n",
       "<a data-click-name=\"shop_tag_cate_click\" data-shopid=\"k5PpF1Zwpn0TTQ86\" href=\"http://www.dianping.com/hangzhou/ch10/g2823\"><span class=\"tag\"><svgmtsi class=\"tagName\"></svgmtsi><svgmtsi class=\"tagName\"></svgmtsi><svgmtsi class=\"tagName\"></svgmtsi><svgmtsi class=\"tagName\"></svgmtsi></span></a>\n",
       "<em class=\"sep\">|</em>\n",
       "<a data-click-name=\"shop_tag_region_click\" data-shopid=\"k5PpF1Zwpn0TTQ86\" href=\"http://www.dianping.com/hangzhou/ch10/r1670\"><span class=\"tag\"><svgmtsi class=\"tagName\"></svgmtsi><svgmtsi class=\"tagName\"></svgmtsi><svgmtsi class=\"tagName\"></svgmtsi><svgmtsi class=\"tagName\"></svgmtsi><svgmtsi class=\"tagName\"></svgmtsi></span></a>\n",
       "<span class=\"addr\"><svgmtsi class=\"address\"></svgmtsi><svgmtsi class=\"address\"></svgmtsi><svgmtsi class=\"address\"></svgmtsi>9<svgmtsi class=\"address\"></svgmtsi>音<svgmtsi class=\"address\"></svgmtsi><svgmtsi class=\"address\"></svgmtsi><svgmtsi class=\"address\"></svgmtsi>A<svgmtsi class=\"address\"></svgmtsi>3<svgmtsi class=\"address\"></svgmtsi>301</span>\n",
       "</div>\n",
       "<div class=\"recommend\">\n",
       "<span>推荐菜：</span>\n",
       "<a class=\"recommend-click\" data-click-name=\"shop_tag_dish_click\" data-shopid=\"k5PpF1Zwpn0TTQ86\" href=\"http://www.dianping.com/shop/k5PpF1Zwpn0TTQ86/dish218869827\" target=\"_blank\">招牌鸳鸯锅底</a>\n",
       "<a class=\"recommend-click\" data-click-name=\"shop_tag_dish_click\" data-shopid=\"k5PpF1Zwpn0TTQ86\" href=\"http://www.dianping.com/shop/k5PpF1Zwpn0TTQ86/dish219169662\" target=\"_blank\">招牌椰青奶冻</a>\n",
       "<a class=\"recommend-click\" data-click-name=\"shop_tag_dish_click\" data-shopid=\"k5PpF1Zwpn0TTQ86\" href=\"http://www.dianping.com/shop/k5PpF1Zwpn0TTQ86/dish218870122\" target=\"_blank\">泰式肉类三拼</a>\n",
       "</div>\n",
       "<span class=\"comment-list\">\n",
       "<span>口味<b><svgmtsi class=\"shopNum\"></svgmtsi>.<svgmtsi class=\"shopNum\"></svgmtsi><svgmtsi class=\"shopNum\"></svgmtsi></b></span>\n",
       "<span>环境<b><svgmtsi class=\"shopNum\"></svgmtsi>.<svgmtsi class=\"shopNum\"></svgmtsi><svgmtsi class=\"shopNum\"></svgmtsi></b></span>\n",
       "<span>服务<b><svgmtsi class=\"shopNum\"></svgmtsi>.<svgmtsi class=\"shopNum\"></svgmtsi><svgmtsi class=\"shopNum\"></svgmtsi></b></span>\n",
       "</span>\n",
       "</div>\n",
       "<div class=\"svr-info\">\n",
       "<a data-click-name=\"shop_info_groupdeal_click\" href=\"http://www.dianping.com/shop/k5PpF1Zwpn0TTQ86\" target=\"_blank\" title=\"团购：此餐馆有5个团购\">\n",
       "<span class=\"tit\">团购：</span>此餐馆有5个团购\n",
       "            </a>\n",
       "</div>\n",
       "<div class=\"operate J_operate Hide\">\n",
       "<a class=\"o-favor J_o-favor\" data-click-name=\"shop_favor_click\" data-fav-favortype=\"1\" data-fav-referid=\"k5PpF1Zwpn0TTQ86\" data-name=\"泰燃HotThai泰式海鲜火锅\" data-shopid=\"k5PpF1Zwpn0TTQ86\" href=\"javascript:void(0);\" rel=\"nofollow\" title=\"\"><i></i><span>收藏</span></a>\n",
       "<span class=\"line\">|</span>\n",
       "<a class=\"o-map J_o-map\" data-address=\"武林路9号音乐街区A栋3楼301\" data-click-name=\"shop_map_click\" data-poi=\"IJCUWIZVFIFGRN\" data-shopid=\"k5PpF1Zwpn0TTQ86\" data-sname=\"泰燃HotThai泰式海鲜火锅\" href=\"javascript:void(0);\" rel=\"nofollow\" title=\"\">地图</a>\n",
       "<span class=\"line\">|</span>\n",
       "<a class=\"o-nearby J_o-nearby\" data-click-name=\"shop_nearby_click\" data-shopid=\"k5PpF1Zwpn0TTQ86\" data-sname=\"泰燃HotThai泰式海鲜火锅\" data-url=\"/search/around/3/0_k5PpF1Zwpn0TTQ86{keyword}\" href=\"javascript:void(0);\" rel=\"nofollow\" title=\"\">附近</a>\n",
       "</div>\n",
       "</li>\n",
       "<li class=\"\" data-midas=\"productid%3D74%26pctr%3D0.02502647975077881%26ad_cj%3DDufBfx0Bjnjb-bIAWBHIwV_sH18OggmaS9ViNMF5rB99JuzjWOXO0GGy7lOqn1_Xxw-gnyu1U8WtBfKEwZ9zhMZIqJkUSiHkBb6-Ga9x4mhX1O9iD7p3H1iooOmkGbDZdNp7f4oPunLV-wPT7zVhJInBARFBD8fKbnDH2_UxM6XtGI9-%26sver%3D2%26zgsid%3D993509%26ad_ci%3DDufBdxwRgjGTq6oUAB7O0ge8XAFQ1CaBRos2P8tirxp8KuPoT7GVjCf0vwL3hBOOjU6ghQC1Q4H1VPaAzp10htMC-NBzBT7kSfruU-4bsz9a3uxxSeAoWAC2oqvzEt6_A9Uqa9df7yfP_g%26userid%3D0%26bottomfen%3D100%26page_city_id%3D3%26category_id%3D110%26entityplat%3D1%26ad_v%3D2%26pcvr%3D0.002%26adidx%3D6\">\n",
       "<div class=\"pic\">\n",
       "<a data-click-name=\"shop_img_click\" data-midas-extends=\"module=5_ad_kwimg\" data-shopid=\"G3niKSGWIe6WTjN4\" href=\"http://www.dianping.com/shop/G3niKSGWIe6WTjN4\" onclick=\"LXAnalytics('moduleClick', 'shoppic')\" target=\"_blank\" title=\"\">\n",
       "<img alt=\"攀成钢小郡肝串串香(康康谷店)\" data-src=\"https://img.meituan.net/msmerchant/9fea8721e7f8d5387fac24d3aabde0292266737.jpg%40340w_255h_1e_1c_1l%7Cwatermark%3D0\" src=\"https://img.meituan.net/msmerchant/9fea8721e7f8d5387fac24d3aabde0292266737.jpg%40340w_255h_1e_1c_1l%7Cwatermark%3D0\" title=\"攀成钢小郡肝串串香(康康谷店)\"/>\n",
       "</a>\n",
       "</div>\n",
       "<div class=\"txt\">\n",
       "<div class=\"tit\">\n",
       "<a data-click-name=\"shop_title_click\" data-hippo-type=\"shop\" data-midas-extends=\"module=5_ad_kwtitle\" data-shopid=\"G3niKSGWIe6WTjN4\" href=\"http://www.dianping.com/shop/G3niKSGWIe6WTjN4\" onclick=\"LXAnalytics('moduleClick', 'shopname');document.hippo.ext({cl_i:6,cl_a:4,query_id:'9255603e-3d4b-4427-9263-f999cec46371'}).mv('cl_to_s','G3niKSGWIe6WTjN4');\" target=\"_blank\" title=\"攀成钢小郡肝串串香(康康谷店)\">\n",
       "<h4>攀成钢小郡肝串串香(康康谷店)</h4>\n",
       "</a>\n",
       "<div class=\"promo-icon J_promo_icon\">\n",
       "<a class=\"igroup\" data-click-name=\"shop_group_icon_click\" data-hippo-dealgrp_id=\"0\" data-hippo-dealgrp_type=\"\" data-midas-extends=\"module=5_ad_kwicon1\" data-shopid=\"G3niKSGWIe6WTjN4\" href=\"http://www.dianping.com/shop/G3niKSGWIe6WTjN4\" rel=\"nofollow\" target=\"_blank\" title=\"此餐馆有3个团购\">\n",
       "</a>\n",
       "</div>\n",
       "<a class=\"search-ad\" data-click-name=\"shop_icon_ad_click\" data-midas-extends=\"module=5_ad_kwtg\" data-shopid=\"G3niKSGWIe6WTjN4\" href=\"http://www.dianping.com/business\" target=\"_blank\">广告</a>\n",
       "</div>\n",
       "<div class=\"comment\">\n",
       "<div class=\"nebula_star\">\n",
       "<div class=\"star_icon\">\n",
       "<span class=\"star star_45 star_sml\"></span>\n",
       "<span class=\"star star_45 star_sml\"></span>\n",
       "<span class=\"star star_45 star_sml\"></span>\n",
       "<span class=\"star star_45 star_sml\"></span>\n",
       "<span class=\"star star_45 star_sml\"></span>\n",
       "</div>\n",
       "<div class=\"star_score score_45 star_score_sml\">4.53</div>\n",
       "</div>\n",
       "<a class=\"review-num\" data-click-name=\"shop_iwant_review_click\" data-midas-extends=\"module=5_ad_kwreview\" data-shopid=\"G3niKSGWIe6WTjN4\" href=\"http://www.dianping.com/shop/G3niKSGWIe6WTjN4#comment\" module=\"list-readreview\" onclick=\"LXAnalytics('moduleClick', 'shopreview')\" rel=\"nofollow\" target=\"_blank\">\n",
       "<b><svgmtsi class=\"shopNum\"></svgmtsi><svgmtsi class=\"shopNum\"></svgmtsi></b>\n",
       "条点评</a>\n",
       "<em class=\"sep\">|</em>\n",
       "<a class=\"mean-price\" data-click-name=\"shop_avgprice_click\" data-midas-extends=\"module=5_ad_kwprice\" data-shopid=\"G3niKSGWIe6WTjN4\" href=\"http://www.dianping.com/shop/G3niKSGWIe6WTjN4\" onclick=\"LXAnalytics('moduleClick', 'shopprice')\" rel=\"nofollow\" target=\"_blank\">\n",
       "            人均\n",
       "            <b>￥<svgmtsi class=\"shopNum\"></svgmtsi><svgmtsi class=\"shopNum\"></svgmtsi></b>\n",
       "</a>\n",
       "</div>\n",
       "<div class=\"tag-addr\">\n",
       "<a data-click-name=\"shop_tag_cate_click\" data-midas-extends=\"module=5_ad_kwcat\" data-shopid=\"G3niKSGWIe6WTjN4\" href=\"http://www.dianping.com/hangzhou/ch10/g3017\"><span class=\"tag\"><svgmtsi class=\"tagName\"></svgmtsi><svgmtsi class=\"tagName\"></svgmtsi><svgmtsi class=\"tagName\"></svgmtsi></span></a>\n",
       "<em class=\"sep\">|</em>\n",
       "<a data-click-name=\"shop_tag_region_click\" data-midas-extends=\"module=5_ad_kwregion\" data-shopid=\"G3niKSGWIe6WTjN4\" href=\"http://www.dianping.com/hangzhou/ch10/r2093\"><span class=\"tag\"><svgmtsi class=\"tagName\"></svgmtsi><svgmtsi class=\"tagName\"></svgmtsi><svgmtsi class=\"tagName\"></svgmtsi>/<svgmtsi class=\"tagName\"></svgmtsi><svgmtsi class=\"tagName\"></svgmtsi><svgmtsi class=\"tagName\"></svgmtsi></span></a>\n",
       "<span class=\"addr\"><svgmtsi class=\"address\"></svgmtsi>晓<svgmtsi class=\"address\"></svgmtsi><svgmtsi class=\"address\"></svgmtsi>赢<svgmtsi class=\"address\"></svgmtsi><svgmtsi class=\"address\"></svgmtsi><svgmtsi class=\"address\"></svgmtsi>6<svgmtsi class=\"address\"></svgmtsi><svgmtsi class=\"address\"></svgmtsi><svgmtsi class=\"address\"></svgmtsi>301（<svgmtsi class=\"address\"></svgmtsi>竹<svgmtsi class=\"address\"></svgmtsi><svgmtsi class=\"address\"></svgmtsi><svgmtsi class=\"address\"></svgmtsi><svgmtsi class=\"address\"></svgmtsi>）</span>\n",
       "</div>\n",
       "<div class=\"recommend\">\n",
       "<span>推荐菜：</span>\n",
       "<a class=\"recommend-click\" data-click-name=\"shop_tag_dish_click\" data-shopid=\"G3niKSGWIe6WTjN4\" href=\"http://www.dianping.com/shop/G3niKSGWIe6WTjN4/dish358367321\" target=\"_blank\">串串香</a>\n",
       "<a class=\"recommend-click\" data-click-name=\"shop_tag_dish_click\" data-shopid=\"G3niKSGWIe6WTjN4\" href=\"http://www.dianping.com/shop/G3niKSGWIe6WTjN4/dish358045107\" target=\"_blank\">香菜牛肉</a>\n",
       "<a class=\"recommend-click\" data-click-name=\"shop_tag_dish_click\" data-shopid=\"G3niKSGWIe6WTjN4\" href=\"http://www.dianping.com/shop/G3niKSGWIe6WTjN4/dish361257662\" target=\"_blank\">红糖糍粑</a>\n",
       "</div>\n",
       "<span class=\"comment-list\">\n",
       "<span>口味<b><svgmtsi class=\"shopNum\"></svgmtsi>.<svgmtsi class=\"shopNum\"></svgmtsi><svgmtsi class=\"shopNum\"></svgmtsi></b></span>\n",
       "<span>环境<b><svgmtsi class=\"shopNum\"></svgmtsi>.<svgmtsi class=\"shopNum\"></svgmtsi><svgmtsi class=\"shopNum\"></svgmtsi></b></span>\n",
       "<span>服务<b><svgmtsi class=\"shopNum\"></svgmtsi>.<svgmtsi class=\"shopNum\"></svgmtsi>1</b></span>\n",
       "</span>\n",
       "</div>\n",
       "<div class=\"svr-info\">\n",
       "<a data-click-name=\"shop_info_groupdeal_click\" data-midas-extends=\"module=5_ad_kwdown1\" href=\"http://www.dianping.com/shop/G3niKSGWIe6WTjN4\" target=\"_blank\" title=\"团购：此餐馆有3个团购\">\n",
       "<span class=\"tit\">团购：</span>此餐馆有3个团购\n",
       "            </a>\n",
       "</div>\n",
       "<div class=\"operate J_operate Hide\">\n",
       "<a class=\"o-favor J_o-favor\" data-click-name=\"shop_favor_click\" data-fav-favortype=\"1\" data-fav-referid=\"G3niKSGWIe6WTjN4\" data-midas-extends=\"module=5_ad_kwfloat2\" data-name=\"攀成钢小郡肝串串香(康康谷店)\" data-shopid=\"G3niKSGWIe6WTjN4\" href=\"javascript:void(0);\" rel=\"nofollow\" title=\"\"><i></i><span>收藏</span></a>\n",
       "<span class=\"line\">|</span>\n",
       "<a class=\"o-map J_o-map\" data-address=\"春晓路中赢康康谷6幢三楼301（古竹餐厅旁边）\" data-click-name=\"shop_map_click\" data-midas-extends=\"module=5_ad_kwfloat3\" data-poi=\"IJFTFRZVFIBTUS\" data-shopid=\"G3niKSGWIe6WTjN4\" data-sname=\"攀成钢小郡肝串串香\" href=\"javascript:void(0);\" rel=\"nofollow\" title=\"\">地图</a>\n",
       "<span class=\"line\">|</span>\n",
       "<a class=\"o-nearby J_o-nearby\" data-click-name=\"shop_nearby_click\" data-midas-extends=\"module=5_ad_kwfloat4\" data-shopid=\"G3niKSGWIe6WTjN4\" data-sname=\"攀成钢小郡肝串串香\" data-url=\"/search/around/3/0_G3niKSGWIe6WTjN4{keyword}\" href=\"javascript:void(0);\" rel=\"nofollow\" title=\"\">附近</a>\n",
       "</div>\n",
       "</li>\n",
       "<li class=\"\">\n",
       "<div class=\"pic\">\n",
       "<a data-click-name=\"shop_img_click\" data-shopid=\"l9yumftn9eug7jbb\" href=\"http://www.dianping.com/shop/l9yumftn9eug7jbb\" onclick=\"LXAnalytics('moduleClick', 'shoppic')\" rel=\"nofollow\" target=\"_blank\" title=\"\">\n",
       "<img alt=\"满满初牛·不忘初心(国大店)\" data-src=\"https://img.meituan.net/msmerchant/d374c5176c79ae61ed680261958353eb633150.jpg%40340w_255h_1e_1c_1l%7Cwatermark%3D0\" src=\"https://img.meituan.net/msmerchant/d374c5176c79ae61ed680261958353eb633150.jpg%40340w_255h_1e_1c_1l%7Cwatermark%3D0\" title=\"满满初牛·不忘初心(国大店)\"/>\n",
       "</a>\n",
       "</div>\n",
       "<div class=\"txt\">\n",
       "<div class=\"tit\">\n",
       "<a data-click-name=\"shop_title_click\" data-hippo-type=\"shop\" data-shopid=\"l9yumftn9eug7jbb\" href=\"http://www.dianping.com/shop/l9yumftn9eug7jbb\" onclick=\"LXAnalytics('moduleClick', 'shopname');document.hippo.ext({cl_i:7,query_id:'9255603e-3d4b-4427-9263-f999cec46371'}).mv('cl_to_s','l9yumftn9eug7jbb');\" target=\"_blank\" title=\"满满初牛·不忘初心(国大店)\">\n",
       "<h4>满满初牛·不忘初心(国大店)</h4>\n",
       "</a>\n",
       "<div class=\"promo-icon J_promo_icon\">\n",
       "<a class=\"igroup\" data-click-name=\"shop_group_icon_click\" data-hippo-dealgrp_id=\"0\" data-hippo-dealgrp_type=\"\" data-shopid=\"l9yumftn9eug7jbb\" href=\"http://www.dianping.com/shop/l9yumftn9eug7jbb\" rel=\"nofollow\" target=\"_blank\" title=\"此餐馆有4个团购\">\n",
       "</a>\n",
       "<a class=\"ipromote \" data-click-name=\"shop_icon_shortdeal_click\" data-shopid=\"l9yumftn9eug7jbb\" href=\"http://www.dianping.com/shop/l9yumftn9eug7jbb#promo=0\" rel=\"nofollow\" target=\"_blank\" title=\"\"></a>\n",
       "<a class=\"iout \" data-click-name=\"shop_icon_takeaway_click\" data-shopid=\"l9yumftn9eug7jbb\" href=\"http://www.dianping.com/shop/l9yumftn9eug7jbb#waimai\" rel=\"nofollow\" target=\"_blank\" title=\"本店支持在线下单，足不出户，外送到家！\">\n",
       "</a>\n",
       "</div>\n",
       "<a class=\"shop-branch\" data-click-name=\"shop_branch_click\" data-shopid=\"l9yumftn9eug7jbb\" href=\"http://www.dianping.com/brands/bl9yumftn9eug7jbb\" link=\"\" media=\"only screen and (max-width: 640px)\" module=\"list-branch\" onclick=\"LXAnalytics('moduleClick', 'shopbranch')\" rel=\"alternate\" target=\"_blank\">\n",
       "          分店\n",
       "          </a>\n",
       "</div>\n",
       "<div class=\"comment\">\n",
       "<div class=\"nebula_star\">\n",
       "<div class=\"star_icon\">\n",
       "<span class=\"star star_50 star_sml\"></span>\n",
       "<span class=\"star star_50 star_sml\"></span>\n",
       "<span class=\"star star_50 star_sml\"></span>\n",
       "<span class=\"star star_50 star_sml\"></span>\n",
       "<span class=\"star star_50 star_sml\"></span>\n",
       "</div>\n",
       "<div class=\"star_score score_50 star_score_sml\">4.87</div>\n",
       "</div>\n",
       "<a class=\"review-num\" data-click-name=\"shop_iwant_review_click\" data-shopid=\"l9yumftn9eug7jbb\" href=\"http://www.dianping.com/shop/l9yumftn9eug7jbb#comment\" module=\"list-readreview\" onclick=\"LXAnalytics('moduleClick', 'shopreview')\" rel=\"nofollow\" target=\"_blank\">\n",
       "<b>11<svgmtsi class=\"shopNum\"></svgmtsi><svgmtsi class=\"shopNum\"></svgmtsi><svgmtsi class=\"shopNum\"></svgmtsi></b>\n",
       "条点评</a>\n",
       "<em class=\"sep\">|</em>\n",
       "<a class=\"mean-price\" data-click-name=\"shop_avgprice_click\" data-shopid=\"l9yumftn9eug7jbb\" href=\"http://www.dianping.com/shop/l9yumftn9eug7jbb\" onclick=\"LXAnalytics('moduleClick', 'shopprice')\" rel=\"nofollow\" target=\"_blank\">\n",
       "            人均\n",
       "            <b>￥1<svgmtsi class=\"shopNum\"></svgmtsi><svgmtsi class=\"shopNum\"></svgmtsi></b>\n",
       "</a>\n",
       "</div>\n",
       "<div class=\"tag-addr\">\n",
       "<a data-click-name=\"shop_tag_cate_click\" data-shopid=\"l9yumftn9eug7jbb\" href=\"http://www.dianping.com/hangzhou/ch10/g224\"><span class=\"tag\"><svgmtsi class=\"tagName\"></svgmtsi><svgmtsi class=\"tagName\"></svgmtsi><svgmtsi class=\"tagName\"></svgmtsi><svgmtsi class=\"tagName\"></svgmtsi></span></a>\n",
       "<em class=\"sep\">|</em>\n",
       "<a data-click-name=\"shop_tag_region_click\" data-shopid=\"l9yumftn9eug7jbb\" href=\"http://www.dianping.com/hangzhou/ch10/r1669\"><span class=\"tag\"><svgmtsi class=\"tagName\"></svgmtsi><svgmtsi class=\"tagName\"></svgmtsi><svgmtsi class=\"tagName\"></svgmtsi><svgmtsi class=\"tagName\"></svgmtsi></span></a>\n",
       "<span class=\"addr\">延<svgmtsi class=\"address\"></svgmtsi><svgmtsi class=\"address\"></svgmtsi>609<svgmtsi class=\"address\"></svgmtsi><svgmtsi class=\"address\"></svgmtsi><svgmtsi class=\"address\"></svgmtsi><svgmtsi class=\"address\"></svgmtsi><svgmtsi class=\"address\"></svgmtsi><svgmtsi class=\"address\"></svgmtsi><svgmtsi class=\"address\"></svgmtsi>6<svgmtsi class=\"address\"></svgmtsi>607<svgmtsi class=\"address\"></svgmtsi></span>\n",
       "</div>\n",
       "<div class=\"recommend\">\n",
       "<span>推荐菜：</span>\n",
       "<a class=\"recommend-click\" data-click-name=\"shop_tag_dish_click\" data-shopid=\"l9yumftn9eug7jbb\" href=\"http://www.dianping.com/shop/l9yumftn9eug7jbb/dish348588560\" target=\"_blank\">厚切牛排丼饭</a>\n",
       "<a class=\"recommend-click\" data-click-name=\"shop_tag_dish_click\" data-shopid=\"l9yumftn9eug7jbb\" href=\"http://www.dianping.com/shop/l9yumftn9eug7jbb/dish99835231\" target=\"_blank\">温泉蛋</a>\n",
       "<a class=\"recommend-click\" data-click-name=\"shop_tag_dish_click\" data-shopid=\"l9yumftn9eug7jbb\" href=\"http://www.dianping.com/shop/l9yumftn9eug7jbb/dish95779588\" target=\"_blank\">紫苏虾球</a>\n",
       "</div>\n",
       "<span class=\"comment-list\">\n",
       "<span>口味<b><svgmtsi class=\"shopNum\"></svgmtsi>.<svgmtsi class=\"shopNum\"></svgmtsi><svgmtsi class=\"shopNum\"></svgmtsi></b></span>\n",
       "<span>环境<b><svgmtsi class=\"shopNum\"></svgmtsi>.<svgmtsi class=\"shopNum\"></svgmtsi><svgmtsi class=\"shopNum\"></svgmtsi></b></span>\n",
       "<span>服务<b><svgmtsi class=\"shopNum\"></svgmtsi>.<svgmtsi class=\"shopNum\"></svgmtsi><svgmtsi class=\"shopNum\"></svgmtsi></b></span>\n",
       "</span>\n",
       "</div>\n",
       "<div class=\"svr-info\">\n",
       "<a data-click-name=\"shop_info_groupdeal_click\" href=\"http://www.dianping.com/shop/l9yumftn9eug7jbb\" target=\"_blank\" title=\"团购：此餐馆有4个团购\">\n",
       "<span class=\"tit\">团购：</span>此餐馆有4个团购\n",
       "            </a>\n",
       "<a class=\"tuan privilege\" data-click-name=\"shop_info_promo_click\" data-shopid=\"l9yumftn9eug7jbb\" href=\"http://www.dianping.com/shop/l9yumftn9eug7jbb#promo=0\" target=\"_blank\" title=\"\">\n",
       "<span class=\"tit\">优惠：</span>此餐馆有优惠券\n",
       "              </a>\n",
       "</div>\n",
       "<div class=\"operate J_operate Hide\">\n",
       "<a class=\"o-favor J_o-favor\" data-click-name=\"shop_favor_click\" data-fav-favortype=\"1\" data-fav-referid=\"l9yumftn9eug7jbb\" data-name=\"满满初牛·不忘初心(国大店)\" data-shopid=\"l9yumftn9eug7jbb\" href=\"javascript:void(0);\" rel=\"nofollow\" title=\"\"><i></i><span>收藏</span></a>\n",
       "<span class=\"line\">|</span>\n",
       "<a class=\"o-map J_o-map\" data-address=\"延安路609号国大城市广场6楼607号\" data-click-name=\"shop_map_click\" data-poi=\"IJCRREZVFIRHTB\" data-shopid=\"l9yumftn9eug7jbb\" data-sname=\"满满初牛·不忘初心\" href=\"javascript:void(0);\" rel=\"nofollow\" title=\"\">地图</a>\n",
       "<span class=\"line\">|</span>\n",
       "<a class=\"o-nearby J_o-nearby\" data-click-name=\"shop_nearby_click\" data-shopid=\"l9yumftn9eug7jbb\" data-sname=\"满满初牛·不忘初心\" data-url=\"/search/around/3/0_l9yumftn9eug7jbb{keyword}\" href=\"javascript:void(0);\" rel=\"nofollow\" title=\"\">附近</a>\n",
       "</div>\n",
       "</li>\n",
       "<li class=\"\">\n",
       "<div class=\"pic\">\n",
       "<a data-click-name=\"shop_img_click\" data-shopid=\"H2J98vfeloh6IM7p\" href=\"http://www.dianping.com/shop/H2J98vfeloh6IM7p\" onclick=\"LXAnalytics('moduleClick', 'shoppic')\" rel=\"nofollow\" target=\"_blank\" title=\"\">\n",
       "<img alt=\"贤合庄卤味火锅(皇后公园旗舰店)\" data-src=\"https://img.meituan.net/msmerchant/824919ad2448492dd6121eb19916b119310273.jpg%40340w_255h_1e_1c_1l%7Cwatermark%3D0\" src=\"https://img.meituan.net/msmerchant/824919ad2448492dd6121eb19916b119310273.jpg%40340w_255h_1e_1c_1l%7Cwatermark%3D0\" title=\"贤合庄卤味火锅(皇后公园旗舰店)\"/>\n",
       "</a>\n",
       "</div>\n",
       "<div class=\"txt\">\n",
       "<div class=\"tit\">\n",
       "<a data-click-name=\"shop_title_click\" data-hippo-type=\"shop\" data-shopid=\"H2J98vfeloh6IM7p\" href=\"http://www.dianping.com/shop/H2J98vfeloh6IM7p\" onclick=\"LXAnalytics('moduleClick', 'shopname');document.hippo.ext({cl_i:8,query_id:'9255603e-3d4b-4427-9263-f999cec46371'}).mv('cl_to_s','H2J98vfeloh6IM7p');\" target=\"_blank\" title=\"贤合庄卤味火锅(皇后公园旗舰店)\">\n",
       "<h4>贤合庄卤味火锅(皇后公园旗舰店)</h4>\n",
       "</a>\n",
       "<div class=\"promo-icon J_promo_icon\">\n",
       "<a class=\"igroup\" data-click-name=\"shop_group_icon_click\" data-hippo-dealgrp_id=\"0\" data-hippo-dealgrp_type=\"\" data-shopid=\"H2J98vfeloh6IM7p\" href=\"http://www.dianping.com/shop/H2J98vfeloh6IM7p\" rel=\"nofollow\" target=\"_blank\" title=\"此餐馆有2个团购\">\n",
       "</a>\n",
       "<a class=\"ipromote icon-only\" data-click-name=\"shop_icon_shortdeal_click\" data-shopid=\"H2J98vfeloh6IM7p\" href=\"http://www.dianping.com/shop/H2J98vfeloh6IM7p#promo=0\" rel=\"nofollow\" target=\"_blank\" title=\"\"></a>\n",
       "</div>\n",
       "</div>\n",
       "<div class=\"comment\">\n",
       "<div class=\"nebula_star\">\n",
       "<div class=\"star_icon\">\n",
       "<span class=\"star star_45 star_sml\"></span>\n",
       "<span class=\"star star_45 star_sml\"></span>\n",
       "<span class=\"star star_45 star_sml\"></span>\n",
       "<span class=\"star star_45 star_sml\"></span>\n",
       "<span class=\"star star_45 star_sml\"></span>\n",
       "</div>\n",
       "<div class=\"star_score score_45 star_score_sml\">4.52</div>\n",
       "</div>\n",
       "<a class=\"review-num\" data-click-name=\"shop_iwant_review_click\" data-shopid=\"H2J98vfeloh6IM7p\" href=\"http://www.dianping.com/shop/H2J98vfeloh6IM7p#comment\" module=\"list-readreview\" onclick=\"LXAnalytics('moduleClick', 'shopreview')\" rel=\"nofollow\" target=\"_blank\">\n",
       "<b><svgmtsi class=\"shopNum\"></svgmtsi><svgmtsi class=\"shopNum\"></svgmtsi><svgmtsi class=\"shopNum\"></svgmtsi><svgmtsi class=\"shopNum\"></svgmtsi></b>\n",
       "条点评</a>\n",
       "<em class=\"sep\">|</em>\n",
       "<a class=\"mean-price\" data-click-name=\"shop_avgprice_click\" data-shopid=\"H2J98vfeloh6IM7p\" href=\"http://www.dianping.com/shop/H2J98vfeloh6IM7p\" onclick=\"LXAnalytics('moduleClick', 'shopprice')\" rel=\"nofollow\" target=\"_blank\">\n",
       "            人均\n",
       "            <b>￥1<svgmtsi class=\"shopNum\"></svgmtsi>1</b>\n",
       "</a>\n",
       "</div>\n",
       "<div class=\"tag-addr\">\n",
       "<a data-click-name=\"shop_tag_cate_click\" data-shopid=\"H2J98vfeloh6IM7p\" href=\"http://www.dianping.com/hangzhou/ch10/g3023\"><span class=\"tag\"><svgmtsi class=\"tagName\"></svgmtsi><svgmtsi class=\"tagName\"></svgmtsi><svgmtsi class=\"tagName\"></svgmtsi><svgmtsi class=\"tagName\"></svgmtsi></span></a>\n",
       "<em class=\"sep\">|</em>\n",
       "<a data-click-name=\"shop_tag_region_click\" data-shopid=\"H2J98vfeloh6IM7p\" href=\"http://www.dianping.com/hangzhou/ch10/r1669\"><span class=\"tag\"><svgmtsi class=\"tagName\"></svgmtsi><svgmtsi class=\"tagName\"></svgmtsi><svgmtsi class=\"tagName\"></svgmtsi><svgmtsi class=\"tagName\"></svgmtsi></span></a>\n",
       "<span class=\"addr\"><svgmtsi class=\"address\"></svgmtsi><svgmtsi class=\"address\"></svgmtsi><svgmtsi class=\"address\"></svgmtsi>277<svgmtsi class=\"address\"></svgmtsi>皇<svgmtsi class=\"address\"></svgmtsi><svgmtsi class=\"address\"></svgmtsi><svgmtsi class=\"address\"></svgmtsi>9<svgmtsi class=\"address\"></svgmtsi><svgmtsi class=\"address\"></svgmtsi><svgmtsi class=\"address\"></svgmtsi>1<svgmtsi class=\"address\"></svgmtsi>2<svgmtsi class=\"address\"></svgmtsi></span>\n",
       "</div>\n",
       "<div class=\"recommend\">\n",
       "<span>推荐菜：</span>\n",
       "<a class=\"recommend-click\" data-click-name=\"shop_tag_dish_click\" data-shopid=\"H2J98vfeloh6IM7p\" href=\"http://www.dianping.com/shop/H2J98vfeloh6IM7p/dish288142641\" target=\"_blank\">一碗牛杂</a>\n",
       "<a class=\"recommend-click\" data-click-name=\"shop_tag_dish_click\" data-shopid=\"H2J98vfeloh6IM7p\" href=\"http://www.dianping.com/shop/H2J98vfeloh6IM7p/dish288144444\" target=\"_blank\">摇摇鲜酥肉</a>\n",
       "<a class=\"recommend-click\" data-click-name=\"shop_tag_dish_click\" data-shopid=\"H2J98vfeloh6IM7p\" href=\"http://www.dianping.com/shop/H2J98vfeloh6IM7p/dish304604271\" target=\"_blank\">有料锅底</a>\n",
       "</div>\n",
       "<span class=\"comment-list\">\n",
       "<span>口味<b><svgmtsi class=\"shopNum\"></svgmtsi>.<svgmtsi class=\"shopNum\"></svgmtsi><svgmtsi class=\"shopNum\"></svgmtsi></b></span>\n",
       "<span>环境<b><svgmtsi class=\"shopNum\"></svgmtsi>.<svgmtsi class=\"shopNum\"></svgmtsi><svgmtsi class=\"shopNum\"></svgmtsi></b></span>\n",
       "<span>服务<b><svgmtsi class=\"shopNum\"></svgmtsi>.<svgmtsi class=\"shopNum\"></svgmtsi><svgmtsi class=\"shopNum\"></svgmtsi></b></span>\n",
       "</span>\n",
       "</div>\n",
       "<div class=\"svr-info\">\n",
       "<a data-click-name=\"shop_info_groupdeal_click\" href=\"http://www.dianping.com/shop/H2J98vfeloh6IM7p\" target=\"_blank\" title=\"团购：此餐馆有2个团购\">\n",
       "<span class=\"tit\">团购：</span>此餐馆有2个团购\n",
       "            </a>\n",
       "<a class=\"tuan privilege\" data-click-name=\"shop_info_promo_click\" data-shopid=\"H2J98vfeloh6IM7p\" href=\"http://www.dianping.com/shop/H2J98vfeloh6IM7p#promo=0\" target=\"_blank\" title=\"\">\n",
       "<span class=\"tit\">优惠：</span>此餐馆有优惠券\n",
       "              </a>\n",
       "</div>\n",
       "<div class=\"operate J_operate Hide\">\n",
       "<a class=\"o-favor J_o-favor\" data-click-name=\"shop_favor_click\" data-fav-favortype=\"1\" data-fav-referid=\"H2J98vfeloh6IM7p\" data-name=\"贤合庄卤味火锅(皇后公园旗舰店)\" data-shopid=\"H2J98vfeloh6IM7p\" href=\"javascript:void(0);\" rel=\"nofollow\" title=\"\"><i></i><span>收藏</span></a>\n",
       "<span class=\"line\">|</span>\n",
       "<a class=\"o-map J_o-map\" data-address=\"武林路277号皇后公园9幢底商1层2层\" data-click-name=\"shop_map_click\" data-poi=\"IJCSJEZVFIHWVR\" data-shopid=\"H2J98vfeloh6IM7p\" data-sname=\"贤合庄卤味火锅\" href=\"javascript:void(0);\" rel=\"nofollow\" title=\"\">地图</a>\n",
       "<span class=\"line\">|</span>\n",
       "<a class=\"o-nearby J_o-nearby\" data-click-name=\"shop_nearby_click\" data-shopid=\"H2J98vfeloh6IM7p\" data-sname=\"贤合庄卤味火锅\" data-url=\"/search/around/3/0_H2J98vfeloh6IM7p{keyword}\" href=\"javascript:void(0);\" rel=\"nofollow\" title=\"\">附近</a>\n",
       "</div>\n",
       "</li>\n",
       "<li class=\"\">\n",
       "<div class=\"pic\">\n",
       "<a data-click-name=\"shop_img_click\" data-shopid=\"H4CQZoqvOI86Koj3\" href=\"http://www.dianping.com/shop/H4CQZoqvOI86Koj3\" onclick=\"LXAnalytics('moduleClick', 'shoppic')\" rel=\"nofollow\" target=\"_blank\" title=\"\">\n",
       "<img alt=\"乾湖会·海鲜姿造美学餐厅\" data-src=\"http://p0.meituan.net/bbia/183957545_1595388584474.jpeg%40340w_255h_1e_1c_1l%7Cwatermark%3D0\" src=\"http://p0.meituan.net/bbia/183957545_1595388584474.jpeg%40340w_255h_1e_1c_1l%7Cwatermark%3D0\" title=\"乾湖会·海鲜姿造美学餐厅\"/>\n",
       "</a>\n",
       "</div>\n",
       "<div class=\"txt\">\n",
       "<div class=\"tit\">\n",
       "<a data-click-name=\"shop_title_click\" data-hippo-type=\"shop\" data-shopid=\"H4CQZoqvOI86Koj3\" href=\"http://www.dianping.com/shop/H4CQZoqvOI86Koj3\" onclick=\"LXAnalytics('moduleClick', 'shopname');document.hippo.ext({cl_i:9,query_id:'9255603e-3d4b-4427-9263-f999cec46371'}).mv('cl_to_s','H4CQZoqvOI86Koj3');\" target=\"_blank\" title=\"乾湖会·海鲜姿造美学餐厅\">\n",
       "<h4>乾湖会·海鲜姿造美学餐厅</h4>\n",
       "</a>\n",
       "<div class=\"promo-icon J_promo_icon\">\n",
       "<a class=\"igroup\" data-click-name=\"shop_group_icon_click\" data-hippo-dealgrp_id=\"0\" data-hippo-dealgrp_type=\"\" data-shopid=\"H4CQZoqvOI86Koj3\" href=\"http://www.dianping.com/shop/H4CQZoqvOI86Koj3\" rel=\"nofollow\" target=\"_blank\" title=\"此餐馆有4个团购\">\n",
       "</a>\n",
       "<a class=\"iout icon-only\" data-click-name=\"shop_icon_takeaway_click\" data-shopid=\"H4CQZoqvOI86Koj3\" href=\"http://www.dianping.com/shop/H4CQZoqvOI86Koj3#waimai\" rel=\"nofollow\" target=\"_blank\" title=\"本店支持在线下单，足不出户，外送到家！\">\n",
       "</a>\n",
       "</div>\n",
       "</div>\n",
       "<div class=\"comment\">\n",
       "<div class=\"nebula_star\">\n",
       "<div class=\"star_icon\">\n",
       "<span class=\"star star_45 star_sml\"></span>\n",
       "<span class=\"star star_45 star_sml\"></span>\n",
       "<span class=\"star star_45 star_sml\"></span>\n",
       "<span class=\"star star_45 star_sml\"></span>\n",
       "<span class=\"star star_45 star_sml\"></span>\n",
       "</div>\n",
       "<div class=\"star_score score_45 star_score_sml\">4.76</div>\n",
       "</div>\n",
       "<a class=\"review-num\" data-click-name=\"shop_iwant_review_click\" data-shopid=\"H4CQZoqvOI86Koj3\" href=\"http://www.dianping.com/shop/H4CQZoqvOI86Koj3#comment\" module=\"list-readreview\" onclick=\"LXAnalytics('moduleClick', 'shopreview')\" rel=\"nofollow\" target=\"_blank\">\n",
       "<b><svgmtsi class=\"shopNum\"></svgmtsi><svgmtsi class=\"shopNum\"></svgmtsi>1<svgmtsi class=\"shopNum\"></svgmtsi></b>\n",
       "条点评</a>\n",
       "<em class=\"sep\">|</em>\n",
       "<a class=\"mean-price\" data-click-name=\"shop_avgprice_click\" data-shopid=\"H4CQZoqvOI86Koj3\" href=\"http://www.dianping.com/shop/H4CQZoqvOI86Koj3\" onclick=\"LXAnalytics('moduleClick', 'shopprice')\" rel=\"nofollow\" target=\"_blank\">\n",
       "            人均\n",
       "            <b>￥<svgmtsi class=\"shopNum\"></svgmtsi><svgmtsi class=\"shopNum\"></svgmtsi>1</b>\n",
       "</a>\n",
       "</div>\n",
       "<div class=\"tag-addr\">\n",
       "<a data-click-name=\"shop_tag_cate_click\" data-shopid=\"H4CQZoqvOI86Koj3\" href=\"http://www.dianping.com/hangzhou/ch10/g111\"><span class=\"tag\"><svgmtsi class=\"tagName\"></svgmtsi><svgmtsi class=\"tagName\"></svgmtsi><svgmtsi class=\"tagName\"></svgmtsi></span></a>\n",
       "<em class=\"sep\">|</em>\n",
       "<a data-click-name=\"shop_tag_region_click\" data-shopid=\"H4CQZoqvOI86Koj3\" href=\"http://www.dianping.com/hangzhou/ch10/r7947\"><span class=\"tag\">钱<svgmtsi class=\"tagName\"></svgmtsi><svgmtsi class=\"tagName\"></svgmtsi><svgmtsi class=\"tagName\"></svgmtsi></span></a>\n",
       "<span class=\"addr\"><svgmtsi class=\"address\"></svgmtsi>季<svgmtsi class=\"address\"></svgmtsi>55<svgmtsi class=\"address\"></svgmtsi><svgmtsi class=\"address\"></svgmtsi><svgmtsi class=\"address\"></svgmtsi><svgmtsi class=\"address\"></svgmtsi><svgmtsi class=\"address\"></svgmtsi><svgmtsi class=\"address\"></svgmtsi><svgmtsi class=\"address\"></svgmtsi><svgmtsi class=\"address\"></svgmtsi><svgmtsi class=\"address\"></svgmtsi>6<svgmtsi class=\"address\"></svgmtsi></span>\n",
       "</div>\n",
       "<div class=\"recommend\">\n",
       "<span>推荐菜：</span>\n",
       "<a class=\"recommend-click\" data-click-name=\"shop_tag_dish_click\" data-shopid=\"H4CQZoqvOI86Koj3\" href=\"http://www.dianping.com/shop/H4CQZoqvOI86Koj3/dish212461933\" target=\"_blank\">海胆</a>\n",
       "<a class=\"recommend-click\" data-click-name=\"shop_tag_dish_click\" data-shopid=\"H4CQZoqvOI86Koj3\" href=\"http://www.dianping.com/shop/H4CQZoqvOI86Koj3/dish212461267\" target=\"_blank\">鳌虾</a>\n",
       "<a class=\"recommend-click\" data-click-name=\"shop_tag_dish_click\" data-shopid=\"H4CQZoqvOI86Koj3\" href=\"http://www.dianping.com/shop/H4CQZoqvOI86Koj3/dish368474570\" target=\"_blank\">鹅肝炒饭</a>\n",
       "</div>\n",
       "<span class=\"comment-list\">\n",
       "<span>口味<b><svgmtsi class=\"shopNum\"></svgmtsi>.<svgmtsi class=\"shopNum\"></svgmtsi><svgmtsi class=\"shopNum\"></svgmtsi></b></span>\n",
       "<span>环境<b><svgmtsi class=\"shopNum\"></svgmtsi>.<svgmtsi class=\"shopNum\"></svgmtsi><svgmtsi class=\"shopNum\"></svgmtsi></b></span>\n",
       "<span>服务<b><svgmtsi class=\"shopNum\"></svgmtsi>.<svgmtsi class=\"shopNum\"></svgmtsi><svgmtsi class=\"shopNum\"></svgmtsi></b></span>\n",
       "</span>\n",
       "</div>\n",
       "<div class=\"svr-info\">\n",
       "<a data-click-name=\"shop_info_groupdeal_click\" href=\"http://www.dianping.com/shop/H4CQZoqvOI86Koj3\" target=\"_blank\" title=\"团购：此餐馆有4个团购\">\n",
       "<span class=\"tit\">团购：</span>此餐馆有4个团购\n",
       "            </a>\n",
       "<a class=\"tuan privilege\" data-click-name=\"shop_info_takeway_click\" data-shopid=\"H4CQZoqvOI86Koj3\" href=\"http://www.dianping.com/shop/H4CQZoqvOI86Koj3\" target=\"_blank\" title=\"外送：本店支持在线下单，足不出户，外送到家！\">\n",
       "<span class=\"tit\">外送：</span>本店支持在线下单，足不出户，外送到家！\n",
       "          </a>\n",
       "</div>\n",
       "<div class=\"operate J_operate Hide\">\n",
       "<a class=\"o-favor J_o-favor\" data-click-name=\"shop_favor_click\" data-fav-favortype=\"1\" data-fav-referid=\"H4CQZoqvOI86Koj3\" data-name=\"乾湖会·海鲜姿造美学餐厅\" data-shopid=\"H4CQZoqvOI86Koj3\" href=\"javascript:void(0);\" rel=\"nofollow\" title=\"\"><i></i><span>收藏</span></a>\n",
       "<span class=\"line\">|</span>\n",
       "<a class=\"o-map J_o-map\" data-address=\"四季路55号华峰国际商务大厦6楼\" data-click-name=\"shop_map_click\" data-poi=\"IJEIBHZVFJGDCA\" data-shopid=\"H4CQZoqvOI86Koj3\" data-sname=\"乾湖会·海鲜姿造美学餐厅\" href=\"javascript:void(0);\" rel=\"nofollow\" title=\"\">地图</a>\n",
       "<span class=\"line\">|</span>\n",
       "<a class=\"o-nearby J_o-nearby\" data-click-name=\"shop_nearby_click\" data-shopid=\"H4CQZoqvOI86Koj3\" data-sname=\"乾湖会·海鲜姿造美学餐厅\" data-url=\"/search/around/3/0_H4CQZoqvOI86Koj3{keyword}\" href=\"javascript:void(0);\" rel=\"nofollow\" title=\"\">附近</a>\n",
       "</div>\n",
       "</li>\n",
       "<li class=\"\">\n",
       "<div class=\"pic\">\n",
       "<a data-click-name=\"shop_img_click\" data-shopid=\"H5e0HTUpJEK5IK51\" href=\"http://www.dianping.com/shop/H5e0HTUpJEK5IK51\" onclick=\"LXAnalytics('moduleClick', 'shoppic')\" rel=\"nofollow\" target=\"_blank\" title=\"\">\n",
       "<img alt=\"海底捞火锅(富春新天地店)\" data-src=\"https://img.meituan.net/msmerchant/054b5de0ba0b50c18a620cc37482129a45739.jpg%40340w_255h_1e_1c_1l%7Cwatermark%3D0\" src=\"https://img.meituan.net/msmerchant/054b5de0ba0b50c18a620cc37482129a45739.jpg%40340w_255h_1e_1c_1l%7Cwatermark%3D0\" title=\"海底捞火锅(富春新天地店)\"/>\n",
       "</a>\n",
       "</div>\n",
       "<div class=\"txt\">\n",
       "<div class=\"tit\">\n",
       "<a data-click-name=\"shop_title_click\" data-hippo-type=\"shop\" data-shopid=\"H5e0HTUpJEK5IK51\" href=\"http://www.dianping.com/shop/H5e0HTUpJEK5IK51\" onclick=\"LXAnalytics('moduleClick', 'shopname');document.hippo.ext({cl_i:10,query_id:'9255603e-3d4b-4427-9263-f999cec46371'}).mv('cl_to_s','H5e0HTUpJEK5IK51');\" target=\"_blank\" title=\"海底捞火锅(富春新天地店)\">\n",
       "<h4>海底捞火锅(富春新天地店)</h4>\n",
       "</a>\n",
       "<div class=\"promo-icon J_promo_icon\">\n",
       "<a class=\"igroup\" data-click-name=\"shop_group_icon_click\" data-hippo-dealgrp_id=\"0\" data-hippo-dealgrp_type=\"\" data-shopid=\"H5e0HTUpJEK5IK51\" href=\"http://www.dianping.com/shop/H5e0HTUpJEK5IK51\" rel=\"nofollow\" target=\"_blank\" title=\"此餐馆有3个团购\">\n",
       "</a>\n",
       "<a class=\"iout icon-only\" data-click-name=\"shop_icon_takeaway_click\" data-shopid=\"H5e0HTUpJEK5IK51\" href=\"http://www.dianping.com/shop/H5e0HTUpJEK5IK51#waimai\" rel=\"nofollow\" target=\"_blank\" title=\"本店支持在线下单，足不出户，外送到家！\">\n",
       "</a>\n",
       "</div>\n",
       "</div>\n",
       "<div class=\"comment\">\n",
       "<div class=\"nebula_star\">\n",
       "<div class=\"star_icon\">\n",
       "<span class=\"star star_50 star_sml\"></span>\n",
       "<span class=\"star star_50 star_sml\"></span>\n",
       "<span class=\"star star_50 star_sml\"></span>\n",
       "<span class=\"star star_50 star_sml\"></span>\n",
       "<span class=\"star star_50 star_sml\"></span>\n",
       "</div>\n",
       "<div class=\"star_score score_50 star_score_sml\">4.89</div>\n",
       "</div>\n",
       "<a class=\"review-num\" data-click-name=\"shop_iwant_review_click\" data-shopid=\"H5e0HTUpJEK5IK51\" href=\"http://www.dianping.com/shop/H5e0HTUpJEK5IK51#comment\" module=\"list-readreview\" onclick=\"LXAnalytics('moduleClick', 'shopreview')\" rel=\"nofollow\" target=\"_blank\">\n",
       "<b><svgmtsi class=\"shopNum\"></svgmtsi><svgmtsi class=\"shopNum\"></svgmtsi><svgmtsi class=\"shopNum\"></svgmtsi></b>\n",
       "条点评</a>\n",
       "<em class=\"sep\">|</em>\n",
       "<a class=\"mean-price\" data-click-name=\"shop_avgprice_click\" data-shopid=\"H5e0HTUpJEK5IK51\" href=\"http://www.dianping.com/shop/H5e0HTUpJEK5IK51\" onclick=\"LXAnalytics('moduleClick', 'shopprice')\" rel=\"nofollow\" target=\"_blank\">\n",
       "            人均\n",
       "            <b>￥1<svgmtsi class=\"shopNum\"></svgmtsi><svgmtsi class=\"shopNum\"></svgmtsi></b>\n",
       "</a>\n",
       "</div>\n",
       "<div class=\"tag-addr\">\n",
       "<a data-click-name=\"shop_tag_cate_click\" data-shopid=\"H5e0HTUpJEK5IK51\" href=\"http://www.dianping.com/hangzhou/ch10/g3023\"><span class=\"tag\"><svgmtsi class=\"tagName\"></svgmtsi><svgmtsi class=\"tagName\"></svgmtsi><svgmtsi class=\"tagName\"></svgmtsi><svgmtsi class=\"tagName\"></svgmtsi></span></a>\n",
       "<em class=\"sep\">|</em>\n",
       "<a data-click-name=\"shop_tag_region_click\" data-shopid=\"H5e0HTUpJEK5IK51\" href=\"http://www.dianping.com/fuyangfy/ch10/r30446\"><span class=\"tag\"><svgmtsi class=\"tagName\"></svgmtsi><svgmtsi class=\"tagName\"></svgmtsi><svgmtsi class=\"tagName\"></svgmtsi><svgmtsi class=\"tagName\"></svgmtsi><svgmtsi class=\"tagName\"></svgmtsi></span></a>\n",
       "<span class=\"addr\"><svgmtsi class=\"address\"></svgmtsi><svgmtsi class=\"address\"></svgmtsi><svgmtsi class=\"address\"></svgmtsi>28<svgmtsi class=\"address\"></svgmtsi>201<svgmtsi class=\"address\"></svgmtsi><svgmtsi class=\"address\"></svgmtsi><svgmtsi class=\"address\"></svgmtsi><svgmtsi class=\"address\"></svgmtsi><svgmtsi class=\"address\"></svgmtsi><svgmtsi class=\"address\"></svgmtsi>3F8-9-10-11<svgmtsi class=\"address\"></svgmtsi></span>\n",
       "</div>\n",
       "<div class=\"recommend\">\n",
       "<span>推荐菜：</span>\n",
       "<a class=\"recommend-click\" data-click-name=\"shop_tag_dish_click\" data-shopid=\"H5e0HTUpJEK5IK51\" href=\"http://www.dianping.com/shop/H5e0HTUpJEK5IK51/dish346121589\" target=\"_blank\">番茄锅底</a>\n",
       "<a class=\"recommend-click\" data-click-name=\"shop_tag_dish_click\" data-shopid=\"H5e0HTUpJEK5IK51\" href=\"http://www.dianping.com/shop/H5e0HTUpJEK5IK51/dish262745545\" target=\"_blank\">招牌虾滑</a>\n",
       "<a class=\"recommend-click\" data-click-name=\"shop_tag_dish_click\" data-shopid=\"H5e0HTUpJEK5IK51\" href=\"http://www.dianping.com/shop/H5e0HTUpJEK5IK51/dish262745526\" target=\"_blank\">捞派毛肚</a>\n",
       "</div>\n",
       "<span class=\"comment-list\">\n",
       "<span>口味<b><svgmtsi class=\"shopNum\"></svgmtsi>.<svgmtsi class=\"shopNum\"></svgmtsi><svgmtsi class=\"shopNum\"></svgmtsi></b></span>\n",
       "<span>环境<b><svgmtsi class=\"shopNum\"></svgmtsi>.<svgmtsi class=\"shopNum\"></svgmtsi><svgmtsi class=\"shopNum\"></svgmtsi></b></span>\n",
       "<span>服务<b><svgmtsi class=\"shopNum\"></svgmtsi>.<svgmtsi class=\"shopNum\"></svgmtsi><svgmtsi class=\"shopNum\"></svgmtsi></b></span>\n",
       "</span>\n",
       "</div>\n",
       "<div class=\"svr-info\">\n",
       "<a data-click-name=\"shop_info_groupdeal_click\" href=\"http://www.dianping.com/shop/H5e0HTUpJEK5IK51\" target=\"_blank\" title=\"团购：此餐馆有3个团购\">\n",
       "<span class=\"tit\">团购：</span>此餐馆有3个团购\n",
       "            </a>\n",
       "<a class=\"tuan privilege\" data-click-name=\"shop_info_takeway_click\" data-shopid=\"H5e0HTUpJEK5IK51\" href=\"http://www.dianping.com/shop/H5e0HTUpJEK5IK51\" target=\"_blank\" title=\"外送：本店支持在线下单，足不出户，外送到家！\">\n",
       "<span class=\"tit\">外送：</span>本店支持在线下单，足不出户，外送到家！\n",
       "          </a>\n",
       "</div>\n",
       "<div class=\"operate J_operate Hide\">\n",
       "<a class=\"o-favor J_o-favor\" data-click-name=\"shop_favor_click\" data-fav-favortype=\"1\" data-fav-referid=\"H5e0HTUpJEK5IK51\" data-name=\"海底捞火锅(富春新天地店)\" data-shopid=\"H5e0HTUpJEK5IK51\" href=\"javascript:void(0);\" rel=\"nofollow\" title=\"\"><i></i><span>收藏</span></a>\n",
       "<span class=\"line\">|</span>\n",
       "<a class=\"o-map J_o-map\" data-address=\"北环路28号201室富春新天地3F8-9-10-11铺\" data-click-name=\"shop_map_click\" data-poi=\"IJCATEZVEVIAIB\" data-shopid=\"H5e0HTUpJEK5IK51\" data-sname=\"海底捞火锅\" href=\"javascript:void(0);\" rel=\"nofollow\" title=\"\">地图</a>\n",
       "<span class=\"line\">|</span>\n",
       "<a class=\"o-nearby J_o-nearby\" data-click-name=\"shop_nearby_click\" data-shopid=\"H5e0HTUpJEK5IK51\" data-sname=\"海底捞火锅\" data-url=\"/search/around/869/0_H5e0HTUpJEK5IK51{keyword}\" href=\"javascript:void(0);\" rel=\"nofollow\" title=\"\">附近</a>\n",
       "</div>\n",
       "</li>\n",
       "<li class=\"\" data-midas=\"productid%3D74%26pctr%3D0.03346904512067157%26ad_cj%3DOCcaIKm6sl4G7Orm85RUxUJgYffsJUzCVeQpfwkaFvknq3UyvD338-YfdHxW7CJhTRuHFQFgdR3iIMUz-lumRLsQiH8mQ7RbMESCZQojCbSNI4naepRGqEyfY6naKsJPaVSYF_c4zIRkWHrtv7RwmF-WP8Qc-dv3XTFXkSD4A_O9Zg%26sver%3D2%26ad_ci%3DOCcaKKiqvhdOvvLyq5tS2hU1IKq6c2PZWLp5dw0DFPwqpHks6mCisKNELiBd_GU1GRmMFTd9aEm3K8Yx_FSiTaVa1SgAT6hLaAbDA1ZyDL6PJY3KOctM8ULIZu2Ud7UvHUTCQfAyg4RrBA%26userid%3D0%26bottomfen%3D100%26page_city_id%3D3%26category_id%3D110%26entityplat%3D1%26ad_v%3D2%26pcvr%3D0.002%26adidx%3D11\">\n",
       "<div class=\"pic\">\n",
       "<a data-click-name=\"shop_img_click\" data-midas-extends=\"module=5_ad_kwimg\" data-shopid=\"k98N3NRgl9UNH8yN\" href=\"http://www.dianping.com/shop/k98N3NRgl9UNH8yN\" onclick=\"LXAnalytics('moduleClick', 'shoppic')\" target=\"_blank\" title=\"\">\n",
       "<img alt=\"贤合庄卤味火锅(滨江宝龙店)\" data-src=\"https://img.meituan.net/msmerchant/01e5223bb94fd64079331958954cf8ed297895.jpg%40340w_255h_1e_1c_1l%7Cwatermark%3D0\" src=\"https://img.meituan.net/msmerchant/01e5223bb94fd64079331958954cf8ed297895.jpg%40340w_255h_1e_1c_1l%7Cwatermark%3D0\" title=\"贤合庄卤味火锅(滨江宝龙店)\"/>\n",
       "</a>\n",
       "</div>\n",
       "<div class=\"txt\">\n",
       "<div class=\"tit\">\n",
       "<a data-click-name=\"shop_title_click\" data-hippo-type=\"shop\" data-midas-extends=\"module=5_ad_kwtitle\" data-shopid=\"k98N3NRgl9UNH8yN\" href=\"http://www.dianping.com/shop/k98N3NRgl9UNH8yN\" onclick=\"LXAnalytics('moduleClick', 'shopname');document.hippo.ext({cl_i:11,cl_a:4,query_id:'9255603e-3d4b-4427-9263-f999cec46371'}).mv('cl_to_s','k98N3NRgl9UNH8yN');\" target=\"_blank\" title=\"贤合庄卤味火锅(滨江宝龙店)\">\n",
       "<h4>贤合庄卤味火锅(滨江宝龙店)</h4>\n",
       "</a>\n",
       "<div class=\"promo-icon J_promo_icon\">\n",
       "<a class=\"igroup\" data-click-name=\"shop_group_icon_click\" data-hippo-dealgrp_id=\"0\" data-hippo-dealgrp_type=\"\" data-midas-extends=\"module=5_ad_kwicon1\" data-shopid=\"k98N3NRgl9UNH8yN\" href=\"http://www.dianping.com/shop/k98N3NRgl9UNH8yN\" rel=\"nofollow\" target=\"_blank\" title=\"此餐馆有1个团购\">\n",
       "</a>\n",
       "<a class=\"ipromote icon-only\" data-click-name=\"shop_icon_shortdeal_click\" data-midas-extends=\"module=5_ad_kwicon2\" data-shopid=\"k98N3NRgl9UNH8yN\" href=\"http://www.dianping.com/shop/k98N3NRgl9UNH8yN#promo=0\" rel=\"nofollow\" target=\"_blank\" title=\"\"></a>\n",
       "</div>\n",
       "<a class=\"search-ad\" data-click-name=\"shop_icon_ad_click\" data-midas-extends=\"module=5_ad_kwtg\" data-shopid=\"k98N3NRgl9UNH8yN\" href=\"http://www.dianping.com/business\" target=\"_blank\">广告</a>\n",
       "</div>\n",
       "<div class=\"comment\">\n",
       "<div class=\"nebula_star\">\n",
       "<div class=\"star_icon\">\n",
       "<span class=\"star star_40 star_sml\"></span>\n",
       "<span class=\"star star_40 star_sml\"></span>\n",
       "<span class=\"star star_40 star_sml\"></span>\n",
       "<span class=\"star star_40 star_sml\"></span>\n",
       "<span class=\"star star_40 star_sml\"></span>\n",
       "</div>\n",
       "<div class=\"star_score score_40 star_score_sml\">4.05</div>\n",
       "</div>\n",
       "<a class=\"review-num\" data-click-name=\"shop_iwant_review_click\" data-midas-extends=\"module=5_ad_kwreview\" data-shopid=\"k98N3NRgl9UNH8yN\" href=\"http://www.dianping.com/shop/k98N3NRgl9UNH8yN#comment\" module=\"list-readreview\" onclick=\"LXAnalytics('moduleClick', 'shopreview')\" rel=\"nofollow\" target=\"_blank\">\n",
       "<b><svgmtsi class=\"shopNum\"></svgmtsi><svgmtsi class=\"shopNum\"></svgmtsi><svgmtsi class=\"shopNum\"></svgmtsi></b>\n",
       "条点评</a>\n",
       "<em class=\"sep\">|</em>\n",
       "<a class=\"mean-price\" data-click-name=\"shop_avgprice_click\" data-midas-extends=\"module=5_ad_kwprice\" data-shopid=\"k98N3NRgl9UNH8yN\" href=\"http://www.dianping.com/shop/k98N3NRgl9UNH8yN\" onclick=\"LXAnalytics('moduleClick', 'shopprice')\" rel=\"nofollow\" target=\"_blank\">\n",
       "            人均\n",
       "            <b>￥11<svgmtsi class=\"shopNum\"></svgmtsi></b>\n",
       "</a>\n",
       "</div>\n",
       "<div class=\"tag-addr\">\n",
       "<a data-click-name=\"shop_tag_cate_click\" data-midas-extends=\"module=5_ad_kwcat\" data-shopid=\"k98N3NRgl9UNH8yN\" href=\"http://www.dianping.com/hangzhou/ch10/g3023\"><span class=\"tag\"><svgmtsi class=\"tagName\"></svgmtsi><svgmtsi class=\"tagName\"></svgmtsi><svgmtsi class=\"tagName\"></svgmtsi><svgmtsi class=\"tagName\"></svgmtsi></span></a>\n",
       "<em class=\"sep\">|</em>\n",
       "<a data-click-name=\"shop_tag_region_click\" data-midas-extends=\"module=5_ad_kwregion\" data-shopid=\"k98N3NRgl9UNH8yN\" href=\"http://www.dianping.com/hangzhou/ch10/r70530\"><span class=\"tag\"><svgmtsi class=\"tagName\"></svgmtsi><svgmtsi class=\"tagName\"></svgmtsi><svgmtsi class=\"tagName\"></svgmtsi><svgmtsi class=\"tagName\"></svgmtsi><svgmtsi class=\"tagName\"></svgmtsi></span></a>\n",
       "<span class=\"addr\"><svgmtsi class=\"address\"></svgmtsi><svgmtsi class=\"address\"></svgmtsi><svgmtsi class=\"address\"></svgmtsi>3867<svgmtsi class=\"address\"></svgmtsi><svgmtsi class=\"address\"></svgmtsi><svgmtsi class=\"address\"></svgmtsi><svgmtsi class=\"address\"></svgmtsi><svgmtsi class=\"address\"></svgmtsi>5<svgmtsi class=\"address\"></svgmtsi>空<svgmtsi class=\"address\"></svgmtsi><svgmtsi class=\"address\"></svgmtsi><svgmtsi class=\"address\"></svgmtsi>（<svgmtsi class=\"address\"></svgmtsi>扶梯<svgmtsi class=\"address\"></svgmtsi><svgmtsi class=\"address\"></svgmtsi>、观<svgmtsi class=\"address\"></svgmtsi><svgmtsi class=\"address\"></svgmtsi>梯右转80<svgmtsi class=\"address\"></svgmtsi>）</span>\n",
       "</div>\n",
       "<div class=\"recommend\">\n",
       "<span>推荐菜：</span>\n",
       "<a class=\"recommend-click\" data-click-name=\"shop_tag_dish_click\" data-shopid=\"k98N3NRgl9UNH8yN\" href=\"http://www.dianping.com/shop/k98N3NRgl9UNH8yN/dish368600725\" target=\"_blank\">一碗牛杂</a>\n",
       "<a class=\"recommend-click\" data-click-name=\"shop_tag_dish_click\" data-shopid=\"k98N3NRgl9UNH8yN\" href=\"http://www.dianping.com/shop/k98N3NRgl9UNH8yN/dish368600933\" target=\"_blank\">手工鲜虾滑</a>\n",
       "<a class=\"recommend-click\" data-click-name=\"shop_tag_dish_click\" data-shopid=\"k98N3NRgl9UNH8yN\" href=\"http://www.dianping.com/shop/k98N3NRgl9UNH8yN/dish370019973\" target=\"_blank\">冰粉</a>\n",
       "</div>\n",
       "<span class=\"comment-list\">\n",
       "<span>口味<b><svgmtsi class=\"shopNum\"></svgmtsi>.<svgmtsi class=\"shopNum\"></svgmtsi>1</b></span>\n",
       "<span>环境<b><svgmtsi class=\"shopNum\"></svgmtsi>.<svgmtsi class=\"shopNum\"></svgmtsi><svgmtsi class=\"shopNum\"></svgmtsi></b></span>\n",
       "<span>服务<b><svgmtsi class=\"shopNum\"></svgmtsi>.<svgmtsi class=\"shopNum\"></svgmtsi></b></span>\n",
       "</span>\n",
       "</div>\n",
       "<div class=\"svr-info\">\n",
       "<a data-click-name=\"shop_info_groupdeal_click\" data-midas-extends=\"module=5_ad_kwdown1\" href=\"http://www.dianping.com/shop/k98N3NRgl9UNH8yN\" target=\"_blank\" title=\"团购：此餐馆有1个团购\">\n",
       "<span class=\"tit\">团购：</span>此餐馆有1个团购\n",
       "            </a>\n",
       "<a class=\"tuan privilege\" data-click-name=\"shop_info_promo_click\" data-midas-extends=\"module=5_ad_kwdown2\" data-shopid=\"k98N3NRgl9UNH8yN\" href=\"http://www.dianping.com/shop/k98N3NRgl9UNH8yN#promo=0\" target=\"_blank\" title=\"\">\n",
       "<span class=\"tit\">优惠：</span>此餐馆有优惠券\n",
       "              </a>\n",
       "</div>\n",
       "<div class=\"operate J_operate Hide\">\n",
       "<a class=\"o-favor J_o-favor\" data-click-name=\"shop_favor_click\" data-fav-favortype=\"1\" data-fav-referid=\"k98N3NRgl9UNH8yN\" data-midas-extends=\"module=5_ad_kwfloat2\" data-name=\"贤合庄卤味火锅(滨江宝龙店)\" data-shopid=\"k98N3NRgl9UNH8yN\" href=\"javascript:void(0);\" rel=\"nofollow\" title=\"\"><i></i><span>收藏</span></a>\n",
       "<span class=\"line\">|</span>\n",
       "<a class=\"o-map J_o-map\" data-address=\"滨盛路3867号宝龙商场5楼空中花园（近扶梯出口、观光直梯右转80米）\" data-click-name=\"shop_map_click\" data-midas-extends=\"module=5_ad_kwfloat3\" data-poi=\"IJETBSZVFGTVAW\" data-shopid=\"k98N3NRgl9UNH8yN\" data-sname=\"贤合庄卤味火锅\" href=\"javascript:void(0);\" rel=\"nofollow\" title=\"\">地图</a>\n",
       "<span class=\"line\">|</span>\n",
       "<a class=\"o-nearby J_o-nearby\" data-click-name=\"shop_nearby_click\" data-midas-extends=\"module=5_ad_kwfloat4\" data-shopid=\"k98N3NRgl9UNH8yN\" data-sname=\"贤合庄卤味火锅\" data-url=\"/search/around/3/0_k98N3NRgl9UNH8yN{keyword}\" href=\"javascript:void(0);\" rel=\"nofollow\" title=\"\">附近</a>\n",
       "</div>\n",
       "</li>\n",
       "<li class=\"\">\n",
       "<div class=\"pic\">\n",
       "<a data-click-name=\"shop_img_click\" data-shopid=\"G1tOX11GiJA9fDGm\" href=\"http://www.dianping.com/shop/G1tOX11GiJA9fDGm\" onclick=\"LXAnalytics('moduleClick', 'shoppic')\" rel=\"nofollow\" target=\"_blank\" title=\"\">\n",
       "<img alt=\"老房火锅•港式打边炉\" data-src=\"https://img.meituan.net/msmerchant/021f35932a8170643a13197ec32ae7e61027251.jpg%40340w_255h_1e_1c_1l%7Cwatermark%3D0\" src=\"https://img.meituan.net/msmerchant/021f35932a8170643a13197ec32ae7e61027251.jpg%40340w_255h_1e_1c_1l%7Cwatermark%3D0\" title=\"老房火锅•港式打边炉\"/>\n",
       "</a>\n",
       "</div>\n",
       "<div class=\"txt\">\n",
       "<div class=\"tit\">\n",
       "<a data-click-name=\"shop_title_click\" data-hippo-type=\"shop\" data-shopid=\"G1tOX11GiJA9fDGm\" href=\"http://www.dianping.com/shop/G1tOX11GiJA9fDGm\" onclick=\"LXAnalytics('moduleClick', 'shopname');document.hippo.ext({cl_i:12,query_id:'9255603e-3d4b-4427-9263-f999cec46371'}).mv('cl_to_s','G1tOX11GiJA9fDGm');\" target=\"_blank\" title=\"老房火锅•港式打边炉\">\n",
       "<h4>老房火锅•港式打边炉</h4>\n",
       "</a>\n",
       "<div class=\"promo-icon J_promo_icon\">\n",
       "<a class=\"igroup\" data-click-name=\"shop_group_icon_click\" data-hippo-dealgrp_id=\"0\" data-hippo-dealgrp_type=\"\" data-shopid=\"G1tOX11GiJA9fDGm\" href=\"http://www.dianping.com/shop/G1tOX11GiJA9fDGm\" rel=\"nofollow\" target=\"_blank\" title=\"此餐馆有3个团购\">\n",
       "</a>\n",
       "<a class=\"ipromote icon-only\" data-click-name=\"shop_icon_shortdeal_click\" data-shopid=\"G1tOX11GiJA9fDGm\" href=\"http://www.dianping.com/shop/G1tOX11GiJA9fDGm#promo=0\" rel=\"nofollow\" target=\"_blank\" title=\"\"></a>\n",
       "</div>\n",
       "</div>\n",
       "<div class=\"comment\">\n",
       "<div class=\"nebula_star\">\n",
       "<div class=\"star_icon\">\n",
       "<span class=\"star star_50 star_sml\"></span>\n",
       "<span class=\"star star_50 star_sml\"></span>\n",
       "<span class=\"star star_50 star_sml\"></span>\n",
       "<span class=\"star star_50 star_sml\"></span>\n",
       "<span class=\"star star_50 star_sml\"></span>\n",
       "</div>\n",
       "<div class=\"star_score score_50 star_score_sml\">4.86</div>\n",
       "</div>\n",
       "<a class=\"review-num\" data-click-name=\"shop_iwant_review_click\" data-shopid=\"G1tOX11GiJA9fDGm\" href=\"http://www.dianping.com/shop/G1tOX11GiJA9fDGm#comment\" module=\"list-readreview\" onclick=\"LXAnalytics('moduleClick', 'shopreview')\" rel=\"nofollow\" target=\"_blank\">\n",
       "<b><svgmtsi class=\"shopNum\"></svgmtsi>1<svgmtsi class=\"shopNum\"></svgmtsi></b>\n",
       "条点评</a>\n",
       "<em class=\"sep\">|</em>\n",
       "<a class=\"mean-price\" data-click-name=\"shop_avgprice_click\" data-shopid=\"G1tOX11GiJA9fDGm\" href=\"http://www.dianping.com/shop/G1tOX11GiJA9fDGm\" onclick=\"LXAnalytics('moduleClick', 'shopprice')\" rel=\"nofollow\" target=\"_blank\">\n",
       "            人均\n",
       "            <b>￥<svgmtsi class=\"shopNum\"></svgmtsi>1<svgmtsi class=\"shopNum\"></svgmtsi></b>\n",
       "</a>\n",
       "</div>\n",
       "<div class=\"tag-addr\">\n",
       "<a data-click-name=\"shop_tag_cate_click\" data-shopid=\"G1tOX11GiJA9fDGm\" href=\"http://www.dianping.com/hangzhou/ch10/g34063\"><span class=\"tag\"><svgmtsi class=\"tagName\"></svgmtsi><svgmtsi class=\"tagName\"></svgmtsi>炉/<svgmtsi class=\"tagName\"></svgmtsi><svgmtsi class=\"tagName\"></svgmtsi><svgmtsi class=\"tagName\"></svgmtsi><svgmtsi class=\"tagName\"></svgmtsi></span></a>\n",
       "<em class=\"sep\">|</em>\n",
       "<a data-click-name=\"shop_tag_region_click\" data-shopid=\"G1tOX11GiJA9fDGm\" href=\"http://www.dianping.com/hangzhou/ch10/r1981\"><span class=\"tag\"><svgmtsi class=\"tagName\"></svgmtsi><svgmtsi class=\"tagName\"></svgmtsi><svgmtsi class=\"tagName\"></svgmtsi><svgmtsi class=\"tagName\"></svgmtsi>/<svgmtsi class=\"tagName\"></svgmtsi><svgmtsi class=\"tagName\"></svgmtsi></span></a>\n",
       "<span class=\"addr\"><svgmtsi class=\"address\"></svgmtsi><svgmtsi class=\"address\"></svgmtsi><svgmtsi class=\"address\"></svgmtsi>5<svgmtsi class=\"address\"></svgmtsi></span>\n",
       "</div>\n",
       "<div class=\"recommend\">\n",
       "<span>推荐菜：</span>\n",
       "<a class=\"recommend-click\" data-click-name=\"shop_tag_dish_click\" data-shopid=\"G1tOX11GiJA9fDGm\" href=\"http://www.dianping.com/shop/G1tOX11GiJA9fDGm/dish265231815\" target=\"_blank\">港式花胶鸡锅</a>\n",
       "<a class=\"recommend-click\" data-click-name=\"shop_tag_dish_click\" data-shopid=\"G1tOX11GiJA9fDGm\" href=\"http://www.dianping.com/shop/G1tOX11GiJA9fDGm/dish265235233\" target=\"_blank\">玫瑰手打芝士虾滑</a>\n",
       "<a class=\"recommend-click\" data-click-name=\"shop_tag_dish_click\" data-shopid=\"G1tOX11GiJA9fDGm\" href=\"http://www.dianping.com/shop/G1tOX11GiJA9fDGm/dish374003843\" target=\"_blank\">M9和牛骰子肉</a>\n",
       "</div>\n",
       "<span class=\"comment-list\">\n",
       "<span>口味<b><svgmtsi class=\"shopNum\"></svgmtsi>.<svgmtsi class=\"shopNum\"></svgmtsi><svgmtsi class=\"shopNum\"></svgmtsi></b></span>\n",
       "<span>环境<b><svgmtsi class=\"shopNum\"></svgmtsi>.<svgmtsi class=\"shopNum\"></svgmtsi><svgmtsi class=\"shopNum\"></svgmtsi></b></span>\n",
       "<span>服务<b><svgmtsi class=\"shopNum\"></svgmtsi>.<svgmtsi class=\"shopNum\"></svgmtsi>1</b></span>\n",
       "</span>\n",
       "</div>\n",
       "<div class=\"svr-info\">\n",
       "<a data-click-name=\"shop_info_groupdeal_click\" href=\"http://www.dianping.com/shop/G1tOX11GiJA9fDGm\" target=\"_blank\" title=\"团购：此餐馆有3个团购\">\n",
       "<span class=\"tit\">团购：</span>此餐馆有3个团购\n",
       "            </a>\n",
       "<a class=\"tuan privilege\" data-click-name=\"shop_info_promo_click\" data-shopid=\"G1tOX11GiJA9fDGm\" href=\"http://www.dianping.com/shop/G1tOX11GiJA9fDGm#promo=0\" target=\"_blank\" title=\"\">\n",
       "<span class=\"tit\">优惠：</span>此餐馆有优惠券\n",
       "              </a>\n",
       "</div>\n",
       "<div class=\"operate J_operate Hide\">\n",
       "<a class=\"o-favor J_o-favor\" data-click-name=\"shop_favor_click\" data-fav-favortype=\"1\" data-fav-referid=\"G1tOX11GiJA9fDGm\" data-name=\"老房火锅•港式打边炉\" data-shopid=\"G1tOX11GiJA9fDGm\" href=\"javascript:void(0);\" rel=\"nofollow\" title=\"\"><i></i><span>收藏</span></a>\n",
       "<span class=\"line\">|</span>\n",
       "<a class=\"o-map J_o-map\" data-address=\"黄龙路5号\" data-click-name=\"shop_map_click\" data-poi=\"IJCAJBZVFIADGQ\" data-shopid=\"G1tOX11GiJA9fDGm\" data-sname=\"老房火锅•港式打边炉\" href=\"javascript:void(0);\" rel=\"nofollow\" title=\"\">地图</a>\n",
       "<span class=\"line\">|</span>\n",
       "<a class=\"o-nearby J_o-nearby\" data-click-name=\"shop_nearby_click\" data-shopid=\"G1tOX11GiJA9fDGm\" data-sname=\"老房火锅•港式打边炉\" data-url=\"/search/around/3/0_G1tOX11GiJA9fDGm{keyword}\" href=\"javascript:void(0);\" rel=\"nofollow\" title=\"\">附近</a>\n",
       "</div>\n",
       "</li>\n",
       "<li class=\"\">\n",
       "<div class=\"pic\">\n",
       "<a data-click-name=\"shop_img_click\" data-shopid=\"G9UypglW8uMorsE2\" href=\"http://www.dianping.com/shop/G9UypglW8uMorsE2\" onclick=\"LXAnalytics('moduleClick', 'shoppic')\" rel=\"nofollow\" target=\"_blank\" title=\"\">\n",
       "<img alt=\"九府羊·鲜羊火锅·烤串(新华路店)\" data-src=\"http://p1.meituan.net/bbia/189037565_1579969097477.jpeg%40340w_255h_1e_1c_1l%7Cwatermark%3D0\" src=\"http://p1.meituan.net/bbia/189037565_1579969097477.jpeg%40340w_255h_1e_1c_1l%7Cwatermark%3D0\" title=\"九府羊·鲜羊火锅·烤串(新华路店)\"/>\n",
       "</a>\n",
       "</div>\n",
       "<div class=\"txt\">\n",
       "<div class=\"tit\">\n",
       "<a data-click-name=\"shop_title_click\" data-hippo-type=\"shop\" data-shopid=\"G9UypglW8uMorsE2\" href=\"http://www.dianping.com/shop/G9UypglW8uMorsE2\" onclick=\"LXAnalytics('moduleClick', 'shopname');document.hippo.ext({cl_i:13,query_id:'9255603e-3d4b-4427-9263-f999cec46371'}).mv('cl_to_s','G9UypglW8uMorsE2');\" target=\"_blank\" title=\"九府羊·鲜羊火锅·烤串(新华路店)\">\n",
       "<h4>九府羊·鲜羊火锅·烤串(新华路店)</h4>\n",
       "</a>\n",
       "<div class=\"promo-icon J_promo_icon\">\n",
       "<a class=\"igroup\" data-click-name=\"shop_group_icon_click\" data-hippo-dealgrp_id=\"0\" data-hippo-dealgrp_type=\"\" data-shopid=\"G9UypglW8uMorsE2\" href=\"http://www.dianping.com/shop/G9UypglW8uMorsE2\" rel=\"nofollow\" target=\"_blank\" title=\"此餐馆有4个团购\">\n",
       "</a>\n",
       "<a class=\"iout icon-only\" data-click-name=\"shop_icon_takeaway_click\" data-shopid=\"G9UypglW8uMorsE2\" href=\"http://www.dianping.com/shop/G9UypglW8uMorsE2#waimai\" rel=\"nofollow\" target=\"_blank\" title=\"本店支持在线下单，足不出户，外送到家！\">\n",
       "</a>\n",
       "</div>\n",
       "</div>\n",
       "<div class=\"comment\">\n",
       "<div class=\"nebula_star\">\n",
       "<div class=\"star_icon\">\n",
       "<span class=\"star star_50 star_sml\"></span>\n",
       "<span class=\"star star_50 star_sml\"></span>\n",
       "<span class=\"star star_50 star_sml\"></span>\n",
       "<span class=\"star star_50 star_sml\"></span>\n",
       "<span class=\"star star_50 star_sml\"></span>\n",
       "</div>\n",
       "<div class=\"star_score score_50 star_score_sml\">4.83</div>\n",
       "</div>\n",
       "<a class=\"review-num\" data-click-name=\"shop_iwant_review_click\" data-shopid=\"G9UypglW8uMorsE2\" href=\"http://www.dianping.com/shop/G9UypglW8uMorsE2#comment\" module=\"list-readreview\" onclick=\"LXAnalytics('moduleClick', 'shopreview')\" rel=\"nofollow\" target=\"_blank\">\n",
       "<b>1<svgmtsi class=\"shopNum\"></svgmtsi><svgmtsi class=\"shopNum\"></svgmtsi><svgmtsi class=\"shopNum\"></svgmtsi></b>\n",
       "条点评</a>\n",
       "<em class=\"sep\">|</em>\n",
       "<a class=\"mean-price\" data-click-name=\"shop_avgprice_click\" data-shopid=\"G9UypglW8uMorsE2\" href=\"http://www.dianping.com/shop/G9UypglW8uMorsE2\" onclick=\"LXAnalytics('moduleClick', 'shopprice')\" rel=\"nofollow\" target=\"_blank\">\n",
       "            人均\n",
       "            <b>￥11<svgmtsi class=\"shopNum\"></svgmtsi></b>\n",
       "</a>\n",
       "</div>\n",
       "<div class=\"tag-addr\">\n",
       "<a data-click-name=\"shop_tag_cate_click\" data-shopid=\"G9UypglW8uMorsE2\" href=\"http://www.dianping.com/hangzhou/ch10/g508\"><span class=\"tag\"><svgmtsi class=\"tagName\"></svgmtsi><svgmtsi class=\"tagName\"></svgmtsi><svgmtsi class=\"tagName\"></svgmtsi><svgmtsi class=\"tagName\"></svgmtsi></span></a>\n",
       "<em class=\"sep\">|</em>\n",
       "<a data-click-name=\"shop_tag_region_click\" data-shopid=\"G9UypglW8uMorsE2\" href=\"http://www.dianping.com/hangzhou/ch10/r1679\"><span class=\"tag\"><svgmtsi class=\"tagName\"></svgmtsi><svgmtsi class=\"tagName\"></svgmtsi><svgmtsi class=\"tagName\"></svgmtsi><svgmtsi class=\"tagName\"></svgmtsi><svgmtsi class=\"tagName\"></svgmtsi></span></a>\n",
       "<span class=\"addr\"><svgmtsi class=\"address\"></svgmtsi><svgmtsi class=\"address\"></svgmtsi><svgmtsi class=\"address\"></svgmtsi>5<svgmtsi class=\"address\"></svgmtsi>4<svgmtsi class=\"address\"></svgmtsi></span>\n",
       "</div>\n",
       "<div class=\"recommend\">\n",
       "<span>推荐菜：</span>\n",
       "<a class=\"recommend-click\" data-click-name=\"shop_tag_dish_click\" data-shopid=\"G9UypglW8uMorsE2\" href=\"http://www.dianping.com/shop/G9UypglW8uMorsE2/dish220938984\" target=\"_blank\">烤羊肉串</a>\n",
       "<a class=\"recommend-click\" data-click-name=\"shop_tag_dish_click\" data-shopid=\"G9UypglW8uMorsE2\" href=\"http://www.dianping.com/shop/G9UypglW8uMorsE2/dish223037962\" target=\"_blank\">招牌羊肉炒饭</a>\n",
       "<a class=\"recommend-click\" data-click-name=\"shop_tag_dish_click\" data-shopid=\"G9UypglW8uMorsE2\" href=\"http://www.dianping.com/shop/G9UypglW8uMorsE2/dish222922846\" target=\"_blank\">潮汕炸豆腐皮</a>\n",
       "</div>\n",
       "<span class=\"comment-list\">\n",
       "<span>口味<b><svgmtsi class=\"shopNum\"></svgmtsi>.<svgmtsi class=\"shopNum\"></svgmtsi><svgmtsi class=\"shopNum\"></svgmtsi></b></span>\n",
       "<span>环境<b><svgmtsi class=\"shopNum\"></svgmtsi>.<svgmtsi class=\"shopNum\"></svgmtsi><svgmtsi class=\"shopNum\"></svgmtsi></b></span>\n",
       "<span>服务<b><svgmtsi class=\"shopNum\"></svgmtsi>.<svgmtsi class=\"shopNum\"></svgmtsi><svgmtsi class=\"shopNum\"></svgmtsi></b></span>\n",
       "</span>\n",
       "</div>\n",
       "<div class=\"svr-info\">\n",
       "<a data-click-name=\"shop_info_groupdeal_click\" href=\"http://www.dianping.com/shop/G9UypglW8uMorsE2\" target=\"_blank\" title=\"团购：此餐馆有4个团购\">\n",
       "<span class=\"tit\">团购：</span>此餐馆有4个团购\n",
       "            </a>\n",
       "<a class=\"tuan privilege\" data-click-name=\"shop_info_takeway_click\" data-shopid=\"G9UypglW8uMorsE2\" href=\"http://www.dianping.com/shop/G9UypglW8uMorsE2\" target=\"_blank\" title=\"外送：本店支持在线下单，足不出户，外送到家！\">\n",
       "<span class=\"tit\">外送：</span>本店支持在线下单，足不出户，外送到家！\n",
       "          </a>\n",
       "</div>\n",
       "<div class=\"operate J_operate Hide\">\n",
       "<a class=\"o-favor J_o-favor\" data-click-name=\"shop_favor_click\" data-fav-favortype=\"1\" data-fav-referid=\"G9UypglW8uMorsE2\" data-name=\"九府羊·鲜羊火锅·烤串(新华路店)\" data-shopid=\"G9UypglW8uMorsE2\" href=\"javascript:void(0);\" rel=\"nofollow\" title=\"\"><i></i><span>收藏</span></a>\n",
       "<span class=\"line\">|</span>\n",
       "<a class=\"o-map J_o-map\" data-address=\"新华路5号4楼\" data-click-name=\"shop_map_click\" data-poi=\"IJDEEWZVFISRCO\" data-shopid=\"G9UypglW8uMorsE2\" data-sname=\"九府羊·鲜羊火锅·烤串\" href=\"javascript:void(0);\" rel=\"nofollow\" title=\"\">地图</a>\n",
       "<span class=\"line\">|</span>\n",
       "<a class=\"o-nearby J_o-nearby\" data-click-name=\"shop_nearby_click\" data-shopid=\"G9UypglW8uMorsE2\" data-sname=\"九府羊·鲜羊火锅·烤串\" data-url=\"/search/around/3/0_G9UypglW8uMorsE2{keyword}\" href=\"javascript:void(0);\" rel=\"nofollow\" title=\"\">附近</a>\n",
       "</div>\n",
       "</li>\n",
       "<li class=\"\">\n",
       "<div class=\"pic\">\n",
       "<a data-click-name=\"shop_img_click\" data-shopid=\"EoWc6c9tZlOdpjgy\" href=\"http://www.dianping.com/shop/EoWc6c9tZlOdpjgy\" onclick=\"LXAnalytics('moduleClick', 'shoppic')\" rel=\"nofollow\" target=\"_blank\" title=\"\">\n",
       "<img alt=\"深夜江湖·烧烤涮锅 小龙虾0元吃(文一路总店)\" data-src=\"https://img.meituan.net/msmerchant/96d9d4ce8e2ca38d819515da9550d1bf498587.jpg%40340w_255h_1e_1c_1l%7Cwatermark%3D0\" src=\"https://img.meituan.net/msmerchant/96d9d4ce8e2ca38d819515da9550d1bf498587.jpg%40340w_255h_1e_1c_1l%7Cwatermark%3D0\" title=\"深夜江湖·烧烤涮锅 小龙虾0元吃(文一路总店)\"/>\n",
       "</a>\n",
       "</div>\n",
       "<div class=\"txt\">\n",
       "<div class=\"tit\">\n",
       "<a data-click-name=\"shop_title_click\" data-hippo-type=\"shop\" data-shopid=\"EoWc6c9tZlOdpjgy\" href=\"http://www.dianping.com/shop/EoWc6c9tZlOdpjgy\" onclick=\"LXAnalytics('moduleClick', 'shopname');document.hippo.ext({cl_i:14,query_id:'9255603e-3d4b-4427-9263-f999cec46371'}).mv('cl_to_s','EoWc6c9tZlOdpjgy');\" target=\"_blank\" title=\"深夜江湖·烧烤涮锅 小龙虾0元吃(文一路总店)\">\n",
       "<h4>深夜江湖·烧烤涮锅 小龙虾0元吃(文一路总店)</h4>\n",
       "</a>\n",
       "<div class=\"promo-icon J_promo_icon\">\n",
       "<a class=\"igroup\" data-click-name=\"shop_group_icon_click\" data-hippo-dealgrp_id=\"0\" data-hippo-dealgrp_type=\"\" data-shopid=\"EoWc6c9tZlOdpjgy\" href=\"http://www.dianping.com/shop/EoWc6c9tZlOdpjgy\" rel=\"nofollow\" target=\"_blank\" title=\"此餐馆有1个团购\">\n",
       "</a>\n",
       "<a class=\"ipromote icon-only\" data-click-name=\"shop_icon_shortdeal_click\" data-shopid=\"EoWc6c9tZlOdpjgy\" href=\"http://www.dianping.com/shop/EoWc6c9tZlOdpjgy#promo=0\" rel=\"nofollow\" target=\"_blank\" title=\"\"></a>\n",
       "<a class=\"iout icon-only\" data-click-name=\"shop_icon_takeaway_click\" data-shopid=\"EoWc6c9tZlOdpjgy\" href=\"http://www.dianping.com/shop/EoWc6c9tZlOdpjgy#waimai\" rel=\"nofollow\" target=\"_blank\" title=\"本店支持在线下单，足不出户，外送到家！\">\n",
       "</a>\n",
       "</div>\n",
       "</div>\n",
       "<div class=\"comment\">\n",
       "<div class=\"nebula_star\">\n",
       "<div class=\"star_icon\">\n",
       "<span class=\"star star_45 star_sml\"></span>\n",
       "<span class=\"star star_45 star_sml\"></span>\n",
       "<span class=\"star star_45 star_sml\"></span>\n",
       "<span class=\"star star_45 star_sml\"></span>\n",
       "<span class=\"star star_45 star_sml\"></span>\n",
       "</div>\n",
       "<div class=\"star_score score_45 star_score_sml\">4.76</div>\n",
       "</div>\n",
       "<a class=\"review-num\" data-click-name=\"shop_iwant_review_click\" data-shopid=\"EoWc6c9tZlOdpjgy\" href=\"http://www.dianping.com/shop/EoWc6c9tZlOdpjgy#comment\" module=\"list-readreview\" onclick=\"LXAnalytics('moduleClick', 'shopreview')\" rel=\"nofollow\" target=\"_blank\">\n",
       "<b><svgmtsi class=\"shopNum\"></svgmtsi><svgmtsi class=\"shopNum\"></svgmtsi><svgmtsi class=\"shopNum\"></svgmtsi></b>\n",
       "条点评</a>\n",
       "<em class=\"sep\">|</em>\n",
       "<a class=\"mean-price\" data-click-name=\"shop_avgprice_click\" data-shopid=\"EoWc6c9tZlOdpjgy\" href=\"http://www.dianping.com/shop/EoWc6c9tZlOdpjgy\" onclick=\"LXAnalytics('moduleClick', 'shopprice')\" rel=\"nofollow\" target=\"_blank\">\n",
       "            人均\n",
       "            <b>￥11<svgmtsi class=\"shopNum\"></svgmtsi></b>\n",
       "</a>\n",
       "</div>\n",
       "<div class=\"tag-addr\">\n",
       "<a data-click-name=\"shop_tag_cate_click\" data-shopid=\"EoWc6c9tZlOdpjgy\" href=\"http://www.dianping.com/hangzhou/ch10/g4449\"><span class=\"tag\"><svgmtsi class=\"tagName\"></svgmtsi><svgmtsi class=\"tagName\"></svgmtsi></span></a>\n",
       "<em class=\"sep\">|</em>\n",
       "<a data-click-name=\"shop_tag_region_click\" data-shopid=\"EoWc6c9tZlOdpjgy\" href=\"http://www.dianping.com/hangzhou/ch10/r1982\"><span class=\"tag\"><svgmtsi class=\"tagName\"></svgmtsi><svgmtsi class=\"tagName\"></svgmtsi><svgmtsi class=\"tagName\"></svgmtsi><svgmtsi class=\"tagName\"></svgmtsi><svgmtsi class=\"tagName\"></svgmtsi></span></a>\n",
       "<span class=\"addr\"><svgmtsi class=\"address\"></svgmtsi><svgmtsi class=\"address\"></svgmtsi><svgmtsi class=\"address\"></svgmtsi>300<svgmtsi class=\"address\"></svgmtsi></span>\n",
       "</div>\n",
       "<div class=\"recommend\">\n",
       "<span>推荐菜：</span>\n",
       "<a class=\"recommend-click\" data-click-name=\"shop_tag_dish_click\" data-shopid=\"EoWc6c9tZlOdpjgy\" href=\"http://www.dianping.com/shop/EoWc6c9tZlOdpjgy/dish363634520\" target=\"_blank\">悠悠一载羊（10串）</a>\n",
       "<a class=\"recommend-click\" data-click-name=\"shop_tag_dish_click\" data-shopid=\"EoWc6c9tZlOdpjgy\" href=\"http://www.dianping.com/shop/EoWc6c9tZlOdpjgy/dish261056008\" target=\"_blank\">老北京滋补涮锅锅底</a>\n",
       "<a class=\"recommend-click\" data-click-name=\"shop_tag_dish_click\" data-shopid=\"EoWc6c9tZlOdpjgy\" href=\"http://www.dianping.com/shop/EoWc6c9tZlOdpjgy/dish245551340\" target=\"_blank\">炭烤小黄鱼</a>\n",
       "</div>\n",
       "<span class=\"comment-list\">\n",
       "<span>口味<b><svgmtsi class=\"shopNum\"></svgmtsi>.<svgmtsi class=\"shopNum\"></svgmtsi><svgmtsi class=\"shopNum\"></svgmtsi></b></span>\n",
       "<span>环境<b><svgmtsi class=\"shopNum\"></svgmtsi>.<svgmtsi class=\"shopNum\"></svgmtsi>1</b></span>\n",
       "<span>服务<b><svgmtsi class=\"shopNum\"></svgmtsi>.<svgmtsi class=\"shopNum\"></svgmtsi><svgmtsi class=\"shopNum\"></svgmtsi></b></span>\n",
       "</span>\n",
       "</div>\n",
       "<div class=\"svr-info\">\n",
       "<a data-click-name=\"shop_info_groupdeal_click\" href=\"http://www.dianping.com/shop/EoWc6c9tZlOdpjgy\" target=\"_blank\" title=\"团购：此餐馆有1个团购\">\n",
       "<span class=\"tit\">团购：</span>此餐馆有1个团购\n",
       "            </a>\n",
       "<a class=\"tuan privilege\" data-click-name=\"shop_info_promo_click\" data-shopid=\"EoWc6c9tZlOdpjgy\" href=\"http://www.dianping.com/shop/EoWc6c9tZlOdpjgy#promo=0\" target=\"_blank\" title=\"\">\n",
       "<span class=\"tit\">优惠：</span>此餐馆有优惠券\n",
       "              </a>\n",
       "</div>\n",
       "<div class=\"operate J_operate Hide\">\n",
       "<a class=\"o-favor J_o-favor\" data-click-name=\"shop_favor_click\" data-fav-favortype=\"1\" data-fav-referid=\"EoWc6c9tZlOdpjgy\" data-name=\"深夜江湖·烧烤涮锅 小龙虾0元吃(文一路总店)\" data-shopid=\"EoWc6c9tZlOdpjgy\" href=\"javascript:void(0);\" rel=\"nofollow\" title=\"\"><i></i><span>收藏</span></a>\n",
       "<span class=\"line\">|</span>\n",
       "<a class=\"o-map J_o-map\" data-address=\"文一路300号\" data-click-name=\"shop_map_click\" data-poi=\"IJBDIAZVFIBJWU\" data-shopid=\"EoWc6c9tZlOdpjgy\" data-sname=\"深夜江湖·烧烤涮锅 小龙虾0元吃\" href=\"javascript:void(0);\" rel=\"nofollow\" title=\"\">地图</a>\n",
       "<span class=\"line\">|</span>\n",
       "<a class=\"o-nearby J_o-nearby\" data-click-name=\"shop_nearby_click\" data-shopid=\"EoWc6c9tZlOdpjgy\" data-sname=\"深夜江湖·烧烤涮锅 小龙虾0元吃\" data-url=\"/search/around/3/0_EoWc6c9tZlOdpjgy{keyword}\" href=\"javascript:void(0);\" rel=\"nofollow\" title=\"\">附近</a>\n",
       "</div>\n",
       "</li>\n",
       "<li class=\"\">\n",
       "<div class=\"pic\">\n",
       "<a data-click-name=\"shop_img_click\" data-shopid=\"G3uvoYy0wpSlxXBi\" href=\"http://www.dianping.com/shop/G3uvoYy0wpSlxXBi\" onclick=\"LXAnalytics('moduleClick', 'shoppic')\" rel=\"nofollow\" target=\"_blank\" title=\"\">\n",
       "<img alt=\"犇牛-跷脚  全牛火锅(湖滨店)\" data-src=\"https://img.meituan.net/msmerchant/0b41f55e3d0a5148c39c17d183746e7b127576.jpg%40340w_255h_1e_1c_1l%7Cwatermark%3D0\" src=\"https://img.meituan.net/msmerchant/0b41f55e3d0a5148c39c17d183746e7b127576.jpg%40340w_255h_1e_1c_1l%7Cwatermark%3D0\" title=\"犇牛-跷脚  全牛火锅(湖滨店)\"/>\n",
       "</a>\n",
       "</div>\n",
       "<div class=\"txt\">\n",
       "<div class=\"tit\">\n",
       "<a data-click-name=\"shop_title_click\" data-hippo-type=\"shop\" data-shopid=\"G3uvoYy0wpSlxXBi\" href=\"http://www.dianping.com/shop/G3uvoYy0wpSlxXBi\" onclick=\"LXAnalytics('moduleClick', 'shopname');document.hippo.ext({cl_i:15,query_id:'9255603e-3d4b-4427-9263-f999cec46371'}).mv('cl_to_s','G3uvoYy0wpSlxXBi');\" target=\"_blank\" title=\"犇牛-跷脚  全牛火锅(湖滨店)\">\n",
       "<h4>犇牛-跷脚  全牛火锅(湖滨店)</h4>\n",
       "</a>\n",
       "<div class=\"promo-icon J_promo_icon\">\n",
       "<a class=\"igroup\" data-click-name=\"shop_group_icon_click\" data-hippo-dealgrp_id=\"0\" data-hippo-dealgrp_type=\"\" data-shopid=\"G3uvoYy0wpSlxXBi\" href=\"http://www.dianping.com/shop/G3uvoYy0wpSlxXBi\" rel=\"nofollow\" target=\"_blank\" title=\"此餐馆有4个团购\">\n",
       "</a>\n",
       "<a class=\"ipromote icon-only\" data-click-name=\"shop_icon_shortdeal_click\" data-shopid=\"G3uvoYy0wpSlxXBi\" href=\"http://www.dianping.com/shop/G3uvoYy0wpSlxXBi#promo=0\" rel=\"nofollow\" target=\"_blank\" title=\"\"></a>\n",
       "</div>\n",
       "</div>\n",
       "<div class=\"comment\">\n",
       "<div class=\"nebula_star\">\n",
       "<div class=\"star_icon\">\n",
       "<span class=\"star star_45 star_sml\"></span>\n",
       "<span class=\"star star_45 star_sml\"></span>\n",
       "<span class=\"star star_45 star_sml\"></span>\n",
       "<span class=\"star star_45 star_sml\"></span>\n",
       "<span class=\"star star_45 star_sml\"></span>\n",
       "</div>\n",
       "<div class=\"star_score score_45 star_score_sml\">4.65</div>\n",
       "</div>\n",
       "<a class=\"review-num\" data-click-name=\"shop_iwant_review_click\" data-shopid=\"G3uvoYy0wpSlxXBi\" href=\"http://www.dianping.com/shop/G3uvoYy0wpSlxXBi#comment\" module=\"list-readreview\" onclick=\"LXAnalytics('moduleClick', 'shopreview')\" rel=\"nofollow\" target=\"_blank\">\n",
       "<b><svgmtsi class=\"shopNum\"></svgmtsi><svgmtsi class=\"shopNum\"></svgmtsi>1</b>\n",
       "条点评</a>\n",
       "<em class=\"sep\">|</em>\n",
       "<a class=\"mean-price\" data-click-name=\"shop_avgprice_click\" data-shopid=\"G3uvoYy0wpSlxXBi\" href=\"http://www.dianping.com/shop/G3uvoYy0wpSlxXBi\" onclick=\"LXAnalytics('moduleClick', 'shopprice')\" rel=\"nofollow\" target=\"_blank\">\n",
       "            人均\n",
       "            <b>￥<svgmtsi class=\"shopNum\"></svgmtsi><svgmtsi class=\"shopNum\"></svgmtsi></b>\n",
       "</a>\n",
       "</div>\n",
       "<div class=\"tag-addr\">\n",
       "<a data-click-name=\"shop_tag_cate_click\" data-shopid=\"G3uvoYy0wpSlxXBi\" href=\"http://www.dianping.com/hangzhou/ch10/g208\"><span class=\"tag\"><svgmtsi class=\"tagName\"></svgmtsi><svgmtsi class=\"tagName\"></svgmtsi><svgmtsi class=\"tagName\"></svgmtsi><svgmtsi class=\"tagName\"></svgmtsi><svgmtsi class=\"tagName\"></svgmtsi></span></a>\n",
       "<em class=\"sep\">|</em>\n",
       "<a data-click-name=\"shop_tag_region_click\" data-shopid=\"G3uvoYy0wpSlxXBi\" href=\"http://www.dianping.com/hangzhou/ch10/r1677\"><span class=\"tag\"><svgmtsi class=\"tagName\"></svgmtsi><svgmtsi class=\"tagName\"></svgmtsi></span></a>\n",
       "<span class=\"addr\">延<svgmtsi class=\"address\"></svgmtsi><svgmtsi class=\"address\"></svgmtsi>245<svgmtsi class=\"address\"></svgmtsi><svgmtsi class=\"address\"></svgmtsi><svgmtsi class=\"address\"></svgmtsi><svgmtsi class=\"address\"></svgmtsi><svgmtsi class=\"address\"></svgmtsi>B<svgmtsi class=\"address\"></svgmtsi><svgmtsi class=\"address\"></svgmtsi><svgmtsi class=\"address\"></svgmtsi><svgmtsi class=\"address\"></svgmtsi><svgmtsi class=\"address\"></svgmtsi>（<svgmtsi class=\"address\"></svgmtsi><svgmtsi class=\"address\"></svgmtsi>翔<svgmtsi class=\"address\"></svgmtsi><svgmtsi class=\"address\"></svgmtsi><svgmtsi class=\"address\"></svgmtsi><svgmtsi class=\"address\"></svgmtsi>）</span>\n",
       "</div>\n",
       "<div class=\"recommend\">\n",
       "<span>推荐菜：</span>\n",
       "<a class=\"recommend-click\" data-click-name=\"shop_tag_dish_click\" data-shopid=\"G3uvoYy0wpSlxXBi\" href=\"http://www.dianping.com/shop/G3uvoYy0wpSlxXBi/dish318673929\" target=\"_blank\">九秒牛肉</a>\n",
       "<a class=\"recommend-click\" data-click-name=\"shop_tag_dish_click\" data-shopid=\"G3uvoYy0wpSlxXBi\" href=\"http://www.dianping.com/shop/G3uvoYy0wpSlxXBi/dish318702682\" target=\"_blank\">三味牛肉</a>\n",
       "<a class=\"recommend-click\" data-click-name=\"shop_tag_dish_click\" data-shopid=\"G3uvoYy0wpSlxXBi\" href=\"http://www.dianping.com/shop/G3uvoYy0wpSlxXBi/dish323570347\" target=\"_blank\">四季草本原汤锅</a>\n",
       "</div>\n",
       "<span class=\"comment-list\">\n",
       "<span>口味<b><svgmtsi class=\"shopNum\"></svgmtsi>.<svgmtsi class=\"shopNum\"></svgmtsi><svgmtsi class=\"shopNum\"></svgmtsi></b></span>\n",
       "<span>环境<b><svgmtsi class=\"shopNum\"></svgmtsi>.<svgmtsi class=\"shopNum\"></svgmtsi><svgmtsi class=\"shopNum\"></svgmtsi></b></span>\n",
       "<span>服务<b><svgmtsi class=\"shopNum\"></svgmtsi>.<svgmtsi class=\"shopNum\"></svgmtsi><svgmtsi class=\"shopNum\"></svgmtsi></b></span>\n",
       "</span>\n",
       "</div>\n",
       "<div class=\"svr-info\">\n",
       "<a data-click-name=\"shop_info_groupdeal_click\" href=\"http://www.dianping.com/shop/G3uvoYy0wpSlxXBi\" target=\"_blank\" title=\"团购：此餐馆有4个团购\">\n",
       "<span class=\"tit\">团购：</span>此餐馆有4个团购\n",
       "            </a>\n",
       "<a class=\"tuan privilege\" data-click-name=\"shop_info_promo_click\" data-shopid=\"G3uvoYy0wpSlxXBi\" href=\"http://www.dianping.com/shop/G3uvoYy0wpSlxXBi#promo=0\" target=\"_blank\" title=\"\">\n",
       "<span class=\"tit\">优惠：</span>此餐馆有优惠券\n",
       "              </a>\n",
       "</div>\n",
       "<div class=\"operate J_operate Hide\">\n",
       "<a class=\"o-favor J_o-favor\" data-click-name=\"shop_favor_click\" data-fav-favortype=\"1\" data-fav-referid=\"G3uvoYy0wpSlxXBi\" data-name=\"犇牛-跷脚  全牛火锅(湖滨店)\" data-shopid=\"G3uvoYy0wpSlxXBi\" href=\"javascript:void(0);\" rel=\"nofollow\" title=\"\"><i></i><span>收藏</span></a>\n",
       "<span class=\"line\">|</span>\n",
       "<a class=\"o-map J_o-map\" data-address=\"延安路245号湖滨银泰B区小广场内（近龙翔里小吃街）\" data-click-name=\"shop_map_click\" data-poi=\"IJDAVGZVFIFBRN\" data-shopid=\"G3uvoYy0wpSlxXBi\" data-sname=\"犇牛-跷脚  全牛火锅\" href=\"javascript:void(0);\" rel=\"nofollow\" title=\"\">地图</a>\n",
       "<span class=\"line\">|</span>\n",
       "<a class=\"o-nearby J_o-nearby\" data-click-name=\"shop_nearby_click\" data-shopid=\"G3uvoYy0wpSlxXBi\" data-sname=\"犇牛-跷脚  全牛火锅\" data-url=\"/search/around/3/0_G3uvoYy0wpSlxXBi{keyword}\" href=\"javascript:void(0);\" rel=\"nofollow\" title=\"\">附近</a>\n",
       "</div>\n",
       "</li>\n",
       "</ul>\n",
       "</div>\n",
       "</div>\n",
       "<div class=\"page\">\n",
       "<a class=\"cur\">1</a>\n",
       "<a class=\"PageLink\" data-ga-page=\"2\" href=\"http://www.dianping.com/hangzhou/ch10/g110p2?cpt=G8nlYxUWlkwnGUtN%2CG4mSXrPMsR3CXLB4%2CG6mIUkbzG2gxuNaU\" title=\"2\">2</a>\n",
       "<a class=\"PageLink\" data-ga-page=\"3\" href=\"http://www.dianping.com/hangzhou/ch10/g110p3?cpt=G8nlYxUWlkwnGUtN%2CG4mSXrPMsR3CXLB4%2CG6mIUkbzG2gxuNaU\" title=\"3\">3</a>\n",
       "<a class=\"PageLink\" data-ga-page=\"4\" href=\"http://www.dianping.com/hangzhou/ch10/g110p4?cpt=G8nlYxUWlkwnGUtN%2CG4mSXrPMsR3CXLB4%2CG6mIUkbzG2gxuNaU\" title=\"4\">4</a>\n",
       "<a class=\"PageLink\" data-ga-page=\"5\" href=\"http://www.dianping.com/hangzhou/ch10/g110p5?cpt=G8nlYxUWlkwnGUtN%2CG4mSXrPMsR3CXLB4%2CG6mIUkbzG2gxuNaU\" title=\"5\">5</a>\n",
       "<a class=\"PageLink\" data-ga-page=\"6\" href=\"http://www.dianping.com/hangzhou/ch10/g110p6?cpt=G8nlYxUWlkwnGUtN%2CG4mSXrPMsR3CXLB4%2CG6mIUkbzG2gxuNaU\" title=\"6\">6</a>\n",
       "<a class=\"PageLink\" data-ga-page=\"7\" href=\"http://www.dianping.com/hangzhou/ch10/g110p7?cpt=G8nlYxUWlkwnGUtN%2CG4mSXrPMsR3CXLB4%2CG6mIUkbzG2gxuNaU\" title=\"7\">7</a>\n",
       "<a class=\"PageLink\" data-ga-page=\"8\" href=\"http://www.dianping.com/hangzhou/ch10/g110p8?cpt=G8nlYxUWlkwnGUtN%2CG4mSXrPMsR3CXLB4%2CG6mIUkbzG2gxuNaU\" title=\"8\">8</a>\n",
       "<a class=\"PageLink\" data-ga-page=\"9\" href=\"http://www.dianping.com/hangzhou/ch10/g110p9?cpt=G8nlYxUWlkwnGUtN%2CG4mSXrPMsR3CXLB4%2CG6mIUkbzG2gxuNaU\" title=\"9\">9</a>\n",
       "<span class=\"PageMore\">...</span>\n",
       "<a class=\"PageLink\" data-ga-page=\"50\" href=\"http://www.dianping.com/hangzhou/ch10/g110p50?cpt=G8nlYxUWlkwnGUtN%2CG4mSXrPMsR3CXLB4%2CG6mIUkbzG2gxuNaU\" title=\"50\">50</a>\n",
       "<a class=\"next\" data-ga-page=\"2\" href=\"http://www.dianping.com/hangzhou/ch10/g110p2?cpt=G8nlYxUWlkwnGUtN%2CG4mSXrPMsR3CXLB4%2CG6mIUkbzG2gxuNaU\" title=\"下一页\">下一页</a>\n",
       "</div>\n",
       "<div class=\"sear-result no-result\">\n",
       "<h4>商户没有被收录？</h4>\n",
       "<div class=\"other-way\">\n",
       "<a class=\"\" href=\"http://www.dianping.com/addshop/3_?k=\" id=\"popMbox\">添加商户</a>\n",
       "</div>\n",
       "<div class=\"evaluation J_evaluation\">\n",
       "    您对搜索结果：<a class=\"y J_good choice\" href=\"javascript:void(0);\" rel=\"nofollow\"><i></i>满意</a><a class=\"n J_no choice\" href=\"javascript:void(0);\" rel=\"nofollow\"><i></i>不满</a>\n",
       "<div class=\"y-result y-first J_sucTip Hide\"><i></i>非常感谢对大众点评的支持</div>\n",
       "<div class=\"y-result y-second Hide J_sucTip\"><i></i>请勿重复提交</div>\n",
       "<div class=\"no-box msg-box J_user-advice Hide\">\n",
       "<h4>遇到什么问题？</h4>\n",
       "<i class=\"close\" data-click-name=\"nobox_quit_click\"></i>\n",
       "<div class=\"\" data-click-name=\"nobox_textarea_click\">\n",
       "<textarea>请输入...</textarea>\n",
       "</div>\n",
       "<div class=\"btn\">\n",
       "<a class=\"del\" data-click-name=\"nobox_cancel_click\" href=\"javascript:void(0);\">取消</a>\n",
       "<a class=\"save\" data-click-name=\"nobox_confirm_click\" href=\"javascript:void(0);\">提交</a>\n",
       "</div>\n",
       "</div>\n",
       "</div>\n",
       "</div>\n",
       "<section class=\"foot-links\">\n",
       "<!--品牌馆新增底部内链-->\n",
       "<!--全国大全-->\n",
       "<!--同城推荐-->\n",
       "<dl class=\"linksItem\">\n",
       "<dt class=\"b-left\">\n",
       "<p>杭州火锅介绍:</p>\n",
       "</dt>\n",
       "<dd class=\"b-right\">\n",
       "<p>大众点评杭州火锅频道为您提供杭州火锅排行榜等相关信息，为您提供最全的杭州火锅相关信息，找火锅就上大众点评\n",
       "                    </p>\n",
       "</dd>\n",
       "</dl>\n",
       "<!--城市推荐菜-->\n",
       "<!--城市美食-->\n",
       "<!--生活导航-->\n",
       "<!--热门城市-->\n",
       "<!--品牌馆新增底部内链-->\n",
       "<!--全国大全-->\n",
       "<!--同城推荐-->\n",
       "<dl class=\"linksItem J-city-link\">\n",
       "<dt class=\"b-left\">\n",
       "<p>杭州火锅大全:</p>\n",
       "</dt>\n",
       "<dd class=\"b-right\">\n",
       "<ul class=\"characters J-city-char\">\n",
       "<li><span>A</span></li>\n",
       "<li><span>B</span></li>\n",
       "<li><span>C</span></li>\n",
       "<li><span>D</span></li>\n",
       "<li><span>F</span></li>\n",
       "<li><span>G</span></li>\n",
       "<li><span>H</span></li>\n",
       "<li><span>J</span></li>\n",
       "<li><span>K</span></li>\n",
       "<li><span>L</span></li>\n",
       "<li><span>M</span></li>\n",
       "<li><span>N</span></li>\n",
       "<li><span>P</span></li>\n",
       "<li><span>Q</span></li>\n",
       "<li><span>R</span></li>\n",
       "<li><span>S</span></li>\n",
       "<li><span>T</span></li>\n",
       "<li><span>W</span></li>\n",
       "<li><span>X</span></li>\n",
       "<li><span>Y</span></li>\n",
       "<li><span>Z</span></li>\n",
       "</ul>\n",
       "<div class=\"content city-content\">\n",
       "<ul class=\"char-content J-city-content\">\n",
       "<li><a data-click-name=\"footer_nav_col_click\" href=\"http://www.dianping.com/hangzhou/ch10/g110r81436\" target=\"_blank\">杭州奥体博览中心火锅</a></li>\n",
       "</ul>\n",
       "<ul class=\"char-content J-city-content\">\n",
       "<li><a data-click-name=\"footer_nav_col_click\" href=\"http://www.dianping.com/hangzhou/ch10/g110r6448\" target=\"_blank\">杭州北干火锅</a></li>\n",
       "<li><a data-click-name=\"footer_nav_col_click\" href=\"http://www.dianping.com/hangzhou/ch10/g110r23900\" target=\"_blank\">杭州半山火锅</a></li>\n",
       "<li><a data-click-name=\"footer_nav_col_click\" href=\"http://www.dianping.com/hangzhou/ch10/g110r27059\" target=\"_blank\">杭州北景园火锅</a></li>\n",
       "<li><a data-click-name=\"footer_nav_col_click\" href=\"http://www.dianping.com/hangzhou/ch10/g110r70530\" target=\"_blank\">杭州滨江宝龙城火锅</a></li>\n",
       "<li><a data-click-name=\"footer_nav_col_click\" href=\"http://www.dianping.com/hangzhou/ch10/g110r82936\" target=\"_blank\">杭州滨江天街火锅</a></li>\n",
       "<li><a data-click-name=\"footer_nav_col_click\" href=\"http://www.dianping.com/hangzhou/ch10/g110r85791\" target=\"_blank\">杭州北大桥/大悦城火锅</a></li>\n",
       "<li><a data-click-name=\"footer_nav_col_click\" href=\"http://www.dianping.com/hangzhou/ch10/g110r87441\" target=\"_blank\">杭州宝龙城市广场火锅</a></li>\n",
       "</ul>\n",
       "<ul class=\"char-content J-city-content\">\n",
       "<li><a data-click-name=\"footer_nav_col_click\" href=\"http://www.dianping.com/hangzhou/ch10/g110r1666\" target=\"_blank\">杭州城站火车站火锅</a></li>\n",
       "<li><a data-click-name=\"footer_nav_col_click\" href=\"http://www.dianping.com/hangzhou/ch10/g110r1671\" target=\"_blank\">杭州城东火锅</a></li>\n",
       "<li><a data-click-name=\"footer_nav_col_click\" href=\"http://www.dianping.com/hangzhou/ch10/g110r1678\" target=\"_blank\">杭州朝晖地区火锅</a></li>\n",
       "<li><a data-click-name=\"footer_nav_col_click\" href=\"http://www.dianping.com/hangzhou/ch10/g110r6447\" target=\"_blank\">杭州城厢火锅</a></li>\n",
       "<li><a data-click-name=\"footer_nav_col_click\" href=\"http://www.dianping.com/hangzhou/ch10/g110r7334\" target=\"_blank\">杭州彩虹城火锅</a></li>\n",
       "<li><a data-click-name=\"footer_nav_col_click\" href=\"http://www.dianping.com/hangzhou/ch10/g110r12025\" target=\"_blank\">杭州城西银泰火锅</a></li>\n",
       "<li><a data-click-name=\"footer_nav_col_click\" href=\"http://www.dianping.com/hangzhou/ch10/g110r27143\" target=\"_blank\">杭州仓前羊锅村火锅</a></li>\n",
       "<li><a data-click-name=\"footer_nav_col_click\" href=\"http://www.dianping.com/hangzhou/ch10/g110r67237\" target=\"_blank\">杭州崇贤火锅</a></li>\n",
       "</ul>\n",
       "<ul class=\"char-content J-city-content\">\n",
       "<li><a data-click-name=\"footer_nav_col_click\" href=\"http://www.dianping.com/hangzhou/ch10/g110r1980\" target=\"_blank\">杭州大关火锅</a></li>\n",
       "<li><a data-click-name=\"footer_nav_col_click\" href=\"http://www.dianping.com/hangzhou/ch10/g110r23901\" target=\"_blank\">杭州德胜路沿线火锅</a></li>\n",
       "<li><a data-click-name=\"footer_nav_col_click\" href=\"http://www.dianping.com/hangzhou/ch10/g110r23904\" target=\"_blank\">杭州丁桥火锅</a></li>\n",
       "<li><a data-click-name=\"footer_nav_col_click\" href=\"http://www.dianping.com/hangzhou/ch10/g110r85008\" target=\"_blank\">杭州大江东火锅</a></li>\n",
       "<li><a data-click-name=\"footer_nav_col_click\" href=\"http://www.dianping.com/hangzhou/ch10/g110r87436\" target=\"_blank\">杭州D32天阳购物中心火锅</a></li>\n",
       "</ul>\n",
       "<ul class=\"char-content J-city-content\">\n",
       "<li><a data-click-name=\"footer_nav_col_click\" href=\"http://www.dianping.com/hangzhou/ch10/g110r1670\" target=\"_blank\">杭州凤起路沿线火锅</a></li>\n",
       "<li><a data-click-name=\"footer_nav_col_click\" href=\"http://www.dianping.com/hangzhou/ch10/g110r23896\" target=\"_blank\">杭州复兴路沿线火锅</a></li>\n",
       "</ul>\n",
       "<ul class=\"char-content J-city-content\">\n",
       "<li><a data-click-name=\"footer_nav_col_click\" href=\"http://www.dianping.com/hangzhou/ch10/g110r1982\" target=\"_blank\">杭州高新文教区火锅</a></li>\n",
       "<li><a data-click-name=\"footer_nav_col_click\" href=\"http://www.dianping.com/hangzhou/ch10/g110r1983\" target=\"_blank\">杭州古墩路沿线火锅</a></li>\n",
       "<li><a data-click-name=\"footer_nav_col_click\" href=\"http://www.dianping.com/hangzhou/ch10/g110r2082\" target=\"_blank\">杭州拱宸桥/上塘火锅</a></li>\n",
       "<li><a data-click-name=\"footer_nav_col_click\" href=\"http://www.dianping.com/hangzhou/ch10/g110r23907\" target=\"_blank\">杭州艮山路沿线火锅</a></li>\n",
       "<li><a data-click-name=\"footer_nav_col_click\" href=\"http://www.dianping.com/hangzhou/ch10/g110r23923\" target=\"_blank\">杭州瓜沥镇火锅</a></li>\n",
       "<li><a data-click-name=\"footer_nav_col_click\" href=\"http://www.dianping.com/hangzhou/ch10/g110r87454\" target=\"_blank\">杭州高教园火锅</a></li>\n",
       "</ul>\n",
       "<ul class=\"char-content J-city-content\">\n",
       "<li><a data-click-name=\"footer_nav_col_click\" href=\"http://www.dianping.com/hangzhou/ch10/g110r1668\" target=\"_blank\">杭州湖墅南路火锅</a></li>\n",
       "<li><a data-click-name=\"footer_nav_col_click\" href=\"http://www.dianping.com/hangzhou/ch10/g110r1677\" target=\"_blank\">杭州湖滨火锅</a></li>\n",
       "<li><a data-click-name=\"footer_nav_col_click\" href=\"http://www.dianping.com/hangzhou/ch10/g110r70514\" target=\"_blank\">杭州和平广场火锅</a></li>\n",
       "<li><a data-click-name=\"footer_nav_col_click\" href=\"http://www.dianping.com/hangzhou/ch10/g110r87453\" target=\"_blank\">杭州鸿兴城巧克力公馆火锅</a></li>\n",
       "<li><a data-click-name=\"footer_nav_col_click\" href=\"http://www.dianping.com/hangzhou/ch10/g110r87469\" target=\"_blank\">杭州和达东东城火锅</a></li>\n",
       "<li><a data-click-name=\"footer_nav_col_click\" href=\"http://www.dianping.com/hangzhou/ch10/g110r87475\" target=\"_blank\">杭州花木城火锅</a></li>\n",
       "<li><a data-click-name=\"footer_nav_col_click\" href=\"http://www.dianping.com/hangzhou/ch10/g110r87496\" target=\"_blank\">杭州华元西溪欢乐城火锅</a></li>\n",
       "<li><a data-click-name=\"footer_nav_col_click\" href=\"http://www.dianping.com/hangzhou/ch10/g110r67186\" target=\"_blank\">杭州海创园火锅</a></li>\n",
       "</ul>\n",
       "<ul class=\"char-content J-city-content\">\n",
       "<li><a data-click-name=\"footer_nav_col_click\" href=\"http://www.dianping.com/hangzhou/ch10/g110r23895\" target=\"_blank\">杭州解放路沿线火锅</a></li>\n",
       "<li><a data-click-name=\"footer_nav_col_click\" href=\"http://www.dianping.com/hangzhou/ch10/g110r23898\" target=\"_blank\">杭州建国路沿线火锅</a></li>\n",
       "<li><a data-click-name=\"footer_nav_col_click\" href=\"http://www.dianping.com/hangzhou/ch10/g110r23905\" target=\"_blank\">杭州九堡火锅</a></li>\n",
       "<li><a data-click-name=\"footer_nav_col_click\" href=\"http://www.dianping.com/hangzhou/ch10/g110r87446\" target=\"_blank\">杭州加州阳光火锅</a></li>\n",
       "<li><a data-click-name=\"footer_nav_col_click\" href=\"http://www.dianping.com/hangzhou/ch10/g110r87461\" target=\"_blank\">杭州金桥街火锅</a></li>\n",
       "<li><a data-click-name=\"footer_nav_col_click\" href=\"http://www.dianping.com/hangzhou/ch10/g110r87494\" target=\"_blank\">杭州君临广场火锅</a></li>\n",
       "</ul>\n",
       "<ul class=\"char-content J-city-content\">\n",
       "<li><a data-click-name=\"footer_nav_col_click\" href=\"http://www.dianping.com/hangzhou/ch10/g110r2093\" target=\"_blank\">杭州开发区/高教园火锅</a></li>\n",
       "</ul>\n",
       "<ul class=\"char-content J-city-content\">\n",
       "<li><a data-click-name=\"footer_nav_col_click\" href=\"http://www.dianping.com/hangzhou/ch10/g110r1984\" target=\"_blank\">杭州龙井/虎跑火锅</a></li>\n",
       "<li><a data-click-name=\"footer_nav_col_click\" href=\"http://www.dianping.com/hangzhou/ch10/g110r23910\" target=\"_blank\">杭州灵隐火锅</a></li>\n",
       "<li><a data-click-name=\"footer_nav_col_click\" href=\"http://www.dianping.com/hangzhou/ch10/g110r23914\" target=\"_blank\">杭州垃圾街火锅</a></li>\n",
       "<li><a data-click-name=\"footer_nav_col_click\" href=\"http://www.dianping.com/hangzhou/ch10/g110r23915\" target=\"_blank\">杭州临平火锅</a></li>\n",
       "<li><a data-click-name=\"footer_nav_col_click\" href=\"http://www.dianping.com/hangzhou/ch10/g110r23917\" target=\"_blank\">杭州老余杭火锅</a></li>\n",
       "<li><a data-click-name=\"footer_nav_col_click\" href=\"http://www.dianping.com/hangzhou/ch10/g110r23924\" target=\"_blank\">杭州临浦火锅</a></li>\n",
       "<li><a data-click-name=\"footer_nav_col_click\" href=\"http://www.dianping.com/hangzhou/ch10/g110r87460\" target=\"_blank\">杭州灵山风景区火锅</a></li>\n",
       "<li><a data-click-name=\"footer_nav_col_click\" href=\"http://www.dianping.com/hangzhou/ch10/g110r87490\" target=\"_blank\">杭州临平万宝城购物中心火锅</a></li>\n",
       "<li><a data-click-name=\"footer_nav_col_click\" href=\"http://www.dianping.com/hangzhou/ch10/g110r87491\" target=\"_blank\">杭州乐慧购物中心火锅</a></li>\n",
       "<li><a data-click-name=\"footer_nav_col_click\" href=\"http://www.dianping.com/hangzhou/ch10/g110r87499\" target=\"_blank\">杭州临平华元欢乐城购物中心火锅</a></li>\n",
       "<li><a data-click-name=\"footer_nav_col_click\" href=\"http://www.dianping.com/hangzhou/ch10/g110r89519\" target=\"_blank\">杭州蓝钻天城购物中心火锅</a></li>\n",
       "<li><a data-click-name=\"footer_nav_col_click\" href=\"http://www.dianping.com/hangzhou/ch10/g110r67178\" target=\"_blank\">杭州良渚火锅</a></li>\n",
       "</ul>\n",
       "<ul class=\"char-content J-city-content\">\n",
       "<li><a data-click-name=\"footer_nav_col_click\" href=\"http://www.dianping.com/hangzhou/ch10/g110r28562\" target=\"_blank\">杭州摩立方火锅</a></li>\n",
       "</ul>\n",
       "<ul class=\"char-content J-city-content\">\n",
       "<li><a data-click-name=\"footer_nav_col_click\" href=\"http://www.dianping.com/hangzhou/ch10/g110r1979\" target=\"_blank\">杭州南山路火锅</a></li>\n",
       "</ul>\n",
       "<ul class=\"char-content J-city-content\">\n",
       "<li><a data-click-name=\"footer_nav_col_click\" href=\"http://www.dianping.com/hangzhou/ch10/g110r23894\" target=\"_blank\">杭州平海路火锅</a></li>\n",
       "</ul>\n",
       "<ul class=\"char-content J-city-content\">\n",
       "<li><a data-click-name=\"footer_nav_col_click\" href=\"http://www.dianping.com/hangzhou/ch10/g110r1679\" target=\"_blank\">杭州庆春路沿线火锅</a></li>\n",
       "<li><a data-click-name=\"footer_nav_col_click\" href=\"http://www.dianping.com/hangzhou/ch10/g110r7947\" target=\"_blank\">杭州钱江新城火锅</a></li>\n",
       "<li><a data-click-name=\"footer_nav_col_click\" href=\"http://www.dianping.com/hangzhou/ch10/g110r64985\" target=\"_blank\">杭州乔司火锅</a></li>\n",
       "<li><a data-click-name=\"footer_nav_col_click\" href=\"http://www.dianping.com/hangzhou/ch10/g110r70603\" target=\"_blank\">杭州钱江世纪城火锅</a></li>\n",
       "</ul>\n",
       "<ul class=\"char-content J-city-content\">\n",
       "<li><a data-click-name=\"footer_nav_col_click\" href=\"http://www.dianping.com/hangzhou/ch10/g110r83342\" target=\"_blank\">杭州仁和园区火锅</a></li>\n",
       "</ul>\n",
       "<ul class=\"char-content J-city-content\">\n",
       "<li><a data-click-name=\"footer_nav_col_click\" href=\"http://www.dianping.com/hangzhou/ch10/g110r23902\" target=\"_blank\">杭州石祥路/沈半路沿线火锅</a></li>\n",
       "<li><a data-click-name=\"footer_nav_col_click\" href=\"http://www.dianping.com/hangzhou/ch10/g110r23903\" target=\"_blank\">杭州四季青火锅</a></li>\n",
       "<li><a data-click-name=\"footer_nav_col_click\" href=\"http://www.dianping.com/hangzhou/ch10/g110r23912\" target=\"_blank\">杭州三墩镇火锅</a></li>\n",
       "<li><a data-click-name=\"footer_nav_col_click\" href=\"http://www.dianping.com/hangzhou/ch10/g110r23919\" target=\"_blank\">杭州市心北路火锅</a></li>\n",
       "<li><a data-click-name=\"footer_nav_col_click\" href=\"http://www.dianping.com/hangzhou/ch10/g110r23920\" target=\"_blank\">杭州市心南路火锅</a></li>\n",
       "<li><a data-click-name=\"footer_nav_col_click\" href=\"http://www.dianping.com/hangzhou/ch10/g110r87416\" target=\"_blank\">杭州首尔印象火锅</a></li>\n",
       "<li><a data-click-name=\"footer_nav_col_click\" href=\"http://www.dianping.com/hangzhou/ch10/g110r87430\" target=\"_blank\">杭州宋城火锅</a></li>\n",
       "<li><a data-click-name=\"footer_nav_col_click\" href=\"http://www.dianping.com/hangzhou/ch10/g110r87452\" target=\"_blank\">杭州所前镇火锅</a></li>\n",
       "<li><a data-click-name=\"footer_nav_col_click\" href=\"http://www.dianping.com/hangzhou/ch10/g110r87472\" target=\"_blank\">杭州蜀山街道火锅</a></li>\n",
       "<li><a data-click-name=\"footer_nav_col_click\" href=\"http://www.dianping.com/hangzhou/ch10/g110r87488\" target=\"_blank\">杭州上亿广场火锅</a></li>\n",
       "<li><a data-click-name=\"footer_nav_col_click\" href=\"http://www.dianping.com/hangzhou/ch10/g110r89800\" target=\"_blank\">杭州四季青/钱江新城火锅</a></li>\n",
       "<li><a data-click-name=\"footer_nav_col_click\" href=\"http://www.dianping.com/hangzhou/ch10/g110r65231\" target=\"_blank\">杭州水晶城火锅</a></li>\n",
       "</ul>\n",
       "<ul class=\"char-content J-city-content\">\n",
       "<li><a data-click-name=\"footer_nav_col_click\" href=\"http://www.dianping.com/hangzhou/ch10/g110r23906\" target=\"_blank\">杭州天城路沿线火锅</a></li>\n",
       "<li><a data-click-name=\"footer_nav_col_click\" href=\"http://www.dianping.com/hangzhou/ch10/g110r23916\" target=\"_blank\">杭州塘栖火锅</a></li>\n",
       "<li><a data-click-name=\"footer_nav_col_click\" href=\"http://www.dianping.com/hangzhou/ch10/g110r23921\" target=\"_blank\">杭州通惠路沿线火锅</a></li>\n",
       "<li><a data-click-name=\"footer_nav_col_click\" href=\"http://www.dianping.com/hangzhou/ch10/g110r65212\" target=\"_blank\">杭州天虹购物中心火锅</a></li>\n",
       "<li><a data-click-name=\"footer_nav_col_click\" href=\"http://www.dianping.com/hangzhou/ch10/g110r70118\" target=\"_blank\">杭州天阳亲子广场（钱江新城）火锅</a></li>\n",
       "</ul>\n",
       "<ul class=\"char-content J-city-content\">\n",
       "<li><a data-click-name=\"footer_nav_col_click\" href=\"http://www.dianping.com/hangzhou/ch10/g110r1665\" target=\"_blank\">杭州吴山广场/河坊街火锅</a></li>\n",
       "<li><a data-click-name=\"footer_nav_col_click\" href=\"http://www.dianping.com/hangzhou/ch10/g110r1669\" target=\"_blank\">杭州武林广场火锅</a></li>\n",
       "<li><a data-click-name=\"footer_nav_col_click\" href=\"http://www.dianping.com/hangzhou/ch10/g110r23918\" target=\"_blank\">杭州闻堰火锅</a></li>\n",
       "<li><a data-click-name=\"footer_nav_col_click\" href=\"http://www.dianping.com/hangzhou/ch10/g110r24140\" target=\"_blank\">杭州万泰城火锅</a></li>\n",
       "<li><a data-click-name=\"footer_nav_col_click\" href=\"http://www.dianping.com/hangzhou/ch10/g110r28237\" target=\"_blank\">杭州万达广场火锅</a></li>\n",
       "<li><a data-click-name=\"footer_nav_col_click\" href=\"http://www.dianping.com/hangzhou/ch10/g110r85512\" target=\"_blank\">杭州万象汇火锅</a></li>\n",
       "</ul>\n",
       "<ul class=\"char-content J-city-content\">\n",
       "<li><a data-click-name=\"footer_nav_col_click\" href=\"http://www.dianping.com/hangzhou/ch10/g110r1981\" target=\"_blank\">杭州西湖北线/黄龙火锅</a></li>\n",
       "<li><a data-click-name=\"footer_nav_col_click\" href=\"http://www.dianping.com/hangzhou/ch10/g110r2083\" target=\"_blank\">杭州下沙火锅</a></li>\n",
       "<li><a data-click-name=\"footer_nav_col_click\" href=\"http://www.dianping.com/hangzhou/ch10/g110r7948\" target=\"_blank\">杭州萧山机场火锅</a></li>\n",
       "<li><a data-click-name=\"footer_nav_col_click\" href=\"http://www.dianping.com/hangzhou/ch10/g110r12183\" target=\"_blank\">杭州西溪火锅</a></li>\n",
       "<li><a data-click-name=\"footer_nav_col_click\" href=\"http://www.dianping.com/hangzhou/ch10/g110r23899\" target=\"_blank\">杭州信义坊火锅</a></li>\n",
       "<li><a data-click-name=\"footer_nav_col_click\" href=\"http://www.dianping.com/hangzhou/ch10/g110r23908\" target=\"_blank\">杭州新塘路/秋涛路沿线火锅</a></li>\n",
       "<li><a data-click-name=\"footer_nav_col_click\" href=\"http://www.dianping.com/hangzhou/ch10/g110r23913\" target=\"_blank\">杭州星光大道火锅</a></li>\n",
       "<li><a data-click-name=\"footer_nav_col_click\" href=\"http://www.dianping.com/hangzhou/ch10/g110r23922\" target=\"_blank\">杭州湘湖火锅</a></li>\n",
       "<li><a data-click-name=\"footer_nav_col_click\" href=\"http://www.dianping.com/hangzhou/ch10/g110r27142\" target=\"_blank\">杭州西溪印象城火锅</a></li>\n",
       "<li><a data-click-name=\"footer_nav_col_click\" href=\"http://www.dianping.com/hangzhou/ch10/g110r27949\" target=\"_blank\">杭州西田城火锅</a></li>\n",
       "<li><a data-click-name=\"footer_nav_col_click\" href=\"http://www.dianping.com/hangzhou/ch10/g110r30189\" target=\"_blank\">杭州西湖文化广场火锅</a></li>\n",
       "<li><a data-click-name=\"footer_nav_col_click\" href=\"http://www.dianping.com/hangzhou/ch10/g110r30190\" target=\"_blank\">杭州西湖银泰火锅</a></li>\n",
       "<li><a data-click-name=\"footer_nav_col_click\" href=\"http://www.dianping.com/hangzhou/ch10/g110r30882\" target=\"_blank\">杭州小和山火锅</a></li>\n",
       "<li><a data-click-name=\"footer_nav_col_click\" href=\"http://www.dianping.com/hangzhou/ch10/g110r70521\" target=\"_blank\">杭州西联广场火锅</a></li>\n",
       "<li><a data-click-name=\"footer_nav_col_click\" href=\"http://www.dianping.com/hangzhou/ch10/g110r70536\" target=\"_blank\">杭州西城广场火锅</a></li>\n",
       "<li><a data-click-name=\"footer_nav_col_click\" href=\"http://www.dianping.com/hangzhou/ch10/g110r81433\" target=\"_blank\">杭州新天地火锅</a></li>\n",
       "<li><a data-click-name=\"footer_nav_col_click\" href=\"http://www.dianping.com/hangzhou/ch10/g110r81701\" target=\"_blank\">杭州新天地G193广场火锅</a></li>\n",
       "<li><a data-click-name=\"footer_nav_col_click\" href=\"http://www.dianping.com/hangzhou/ch10/g110r85000\" target=\"_blank\">杭州西溪银泰城火锅</a></li>\n",
       "<li><a data-click-name=\"footer_nav_col_click\" href=\"http://www.dianping.com/hangzhou/ch10/g110r87444\" target=\"_blank\">杭州新农都火锅</a></li>\n",
       "<li><a data-click-name=\"footer_nav_col_click\" href=\"http://www.dianping.com/hangzhou/ch10/g110r87445\" target=\"_blank\">杭州萧山高教园火锅</a></li>\n",
       "<li><a data-click-name=\"footer_nav_col_click\" href=\"http://www.dianping.com/hangzhou/ch10/g110r87500\" target=\"_blank\">杭州星桥火锅</a></li>\n",
       "<li><a data-click-name=\"footer_nav_col_click\" href=\"http://www.dianping.com/hangzhou/ch10/g110r87501\" target=\"_blank\">杭州闲林火锅</a></li>\n",
       "<li><a data-click-name=\"footer_nav_col_click\" href=\"http://www.dianping.com/hangzhou/ch10/g110r70159\" target=\"_blank\">杭州祥符街火锅</a></li>\n",
       "</ul>\n",
       "<ul class=\"char-content J-city-content\">\n",
       "<li><a data-click-name=\"footer_nav_col_click\" href=\"http://www.dianping.com/hangzhou/ch10/g110r7946\" target=\"_blank\">杭州运河上街火锅</a></li>\n",
       "<li><a data-click-name=\"footer_nav_col_click\" href=\"http://www.dianping.com/hangzhou/ch10/g110r23897\" target=\"_blank\">杭州延安路沿线火锅</a></li>\n",
       "<li><a data-click-name=\"footer_nav_col_click\" href=\"http://www.dianping.com/hangzhou/ch10/g110r25449\" target=\"_blank\">杭州义蓬火锅</a></li>\n",
       "<li><a data-click-name=\"footer_nav_col_click\" href=\"http://www.dianping.com/hangzhou/ch10/g110r28561\" target=\"_blank\">杭州银隆百货火锅</a></li>\n",
       "<li><a data-click-name=\"footer_nav_col_click\" href=\"http://www.dianping.com/hangzhou/ch10/g110r28563\" target=\"_blank\">杭州义蓬购物中心火锅</a></li>\n",
       "<li><a data-click-name=\"footer_nav_col_click\" href=\"http://www.dianping.com/hangzhou/ch10/g110r87474\" target=\"_blank\">杭州衙前火锅</a></li>\n",
       "<li><a data-click-name=\"footer_nav_col_click\" href=\"http://www.dianping.com/hangzhou/ch10/g110r87493\" target=\"_blank\">杭州余之城购物中心火锅</a></li>\n",
       "<li><a data-click-name=\"footer_nav_col_click\" href=\"http://www.dianping.com/hangzhou/ch10/g110r67052\" target=\"_blank\">杭州永旺梦乐城火锅</a></li>\n",
       "<li><a data-click-name=\"footer_nav_col_click\" href=\"http://www.dianping.com/hangzhou/ch10/g110r70121\" target=\"_blank\">杭州涌金广场火锅</a></li>\n",
       "</ul>\n",
       "<ul class=\"char-content J-city-content\">\n",
       "<li><a data-click-name=\"footer_nav_col_click\" href=\"http://www.dianping.com/hangzhou/ch10/g110r23911\" target=\"_blank\">杭州转塘火锅</a></li>\n",
       "<li><a data-click-name=\"footer_nav_col_click\" href=\"http://www.dianping.com/hangzhou/ch10/g110r28238\" target=\"_blank\">杭州中大银泰火锅</a></li>\n",
       "</ul>\n",
       "</div>\n",
       "</dd>\n",
       "<p class=\"moreover J-moreover\">更多</p>\n",
       "</dl>\n",
       "<!--城市推荐菜-->\n",
       "<!--城市美食-->\n",
       "<!--生活导航-->\n",
       "<!--热门城市-->\n",
       "<!--品牌馆新增底部内链-->\n",
       "<!--全国大全-->\n",
       "<!--同城推荐-->\n",
       "<dl class=\"linksItem J-country-link\">\n",
       "<dt class=\"b-left\">\n",
       "<p>火锅排行榜:</p>\n",
       "</dt>\n",
       "<dd class=\"b-right \">\n",
       "<ul class=\"characters J-country-char\">\n",
       "<li><span>B</span></li>\n",
       "<li><span>C</span></li>\n",
       "<li><span>D</span></li>\n",
       "<li><span>F</span></li>\n",
       "<li><span>G</span></li>\n",
       "<li><span>H</span></li>\n",
       "<li><span>J</span></li>\n",
       "<li><span>K</span></li>\n",
       "<li><span>L</span></li>\n",
       "<li><span>M</span></li>\n",
       "<li><span>N</span></li>\n",
       "<li><span>P</span></li>\n",
       "<li><span>Q</span></li>\n",
       "<li><span>S</span></li>\n",
       "<li><span>T</span></li>\n",
       "<li><span>W</span></li>\n",
       "<li><span>X</span></li>\n",
       "<li><span>Y</span></li>\n",
       "<li><span>Z</span></li>\n",
       "</ul>\n",
       "<div class=\"content country-content\">\n",
       "<ul class=\"char-content J-country-content \">\n",
       "<li><a data-click-name=\"footer_nav_city_click\" href=\"http://www.dianping.com/baoji/ch10/g110\" starget=\"_blank\">宝鸡火锅</a></li>\n",
       "<li><a data-click-name=\"footer_nav_city_click\" href=\"http://www.dianping.com/baotou/ch10/g110\" starget=\"_blank\">包头火锅</a></li>\n",
       "<li><a data-click-name=\"footer_nav_city_click\" href=\"http://www.dianping.com/beijing/ch10/g110\" starget=\"_blank\">北京火锅</a></li>\n",
       "</ul>\n",
       "<ul class=\"char-content J-country-content \">\n",
       "<li><a data-click-name=\"footer_nav_city_click\" href=\"http://www.dianping.com/changzhou/ch10/g110\" starget=\"_blank\">常州火锅</a></li>\n",
       "<li><a data-click-name=\"footer_nav_city_click\" href=\"http://www.dianping.com/chengdu/ch10/g110\" starget=\"_blank\">成都火锅</a></li>\n",
       "<li><a data-click-name=\"footer_nav_city_click\" href=\"http://www.dianping.com/cangzhou/ch10/g110\" starget=\"_blank\">沧州火锅</a></li>\n",
       "<li><a data-click-name=\"footer_nav_city_click\" href=\"http://www.dianping.com/changchun/ch10/g110\" starget=\"_blank\">长春火锅</a></li>\n",
       "<li><a data-click-name=\"footer_nav_city_click\" href=\"http://www.dianping.com/changsha/ch10/g110\" starget=\"_blank\">长沙火锅</a></li>\n",
       "</ul>\n",
       "<ul class=\"char-content J-country-content \">\n",
       "<li><a data-click-name=\"footer_nav_city_click\" href=\"http://www.dianping.com/daqing/ch10/g110\" starget=\"_blank\">大庆火锅</a></li>\n",
       "<li><a data-click-name=\"footer_nav_city_click\" href=\"http://www.dianping.com/dalian/ch10/g110\" starget=\"_blank\">大连火锅</a></li>\n",
       "<li><a data-click-name=\"footer_nav_city_click\" href=\"http://www.dianping.com/datong/ch10/g110\" starget=\"_blank\">大同火锅</a></li>\n",
       "<li><a data-click-name=\"footer_nav_city_click\" href=\"http://www.dianping.com/deyang/ch10/g110\" starget=\"_blank\">德阳火锅</a></li>\n",
       "<li><a data-click-name=\"footer_nav_city_click\" href=\"http://www.dianping.com/dazu/ch10/g110\" starget=\"_blank\">大足区火锅</a></li>\n",
       "<li><a data-click-name=\"footer_nav_city_click\" href=\"http://www.dianping.com/dongguan/ch10/g110\" starget=\"_blank\">东莞火锅</a></li>\n",
       "<li><a data-click-name=\"footer_nav_city_click\" href=\"http://www.dianping.com/dalishi/ch10/g110\" starget=\"_blank\">大理市火锅</a></li>\n",
       "<li><a data-click-name=\"footer_nav_city_click\" href=\"http://www.dianping.com/dazhou/ch10/g110\" starget=\"_blank\">达州火锅</a></li>\n",
       "</ul>\n",
       "<ul class=\"char-content J-country-content \">\n",
       "<li><a data-click-name=\"footer_nav_city_click\" href=\"http://www.dianping.com/foshan/ch10/g110\" starget=\"_blank\">佛山火锅</a></li>\n",
       "<li><a data-click-name=\"footer_nav_city_click\" href=\"http://www.dianping.com/fuzhou/ch10/g110\" starget=\"_blank\">福州火锅</a></li>\n",
       "<li><a data-click-name=\"footer_nav_city_click\" href=\"http://www.dianping.com/fuling/ch10/g110\" starget=\"_blank\">涪陵区火锅</a></li>\n",
       "</ul>\n",
       "<ul class=\"char-content J-country-content \">\n",
       "<li><a data-click-name=\"footer_nav_city_click\" href=\"http://www.dianping.com/guilin/ch10/g110\" starget=\"_blank\">桂林火锅</a></li>\n",
       "<li><a data-click-name=\"footer_nav_city_click\" href=\"http://www.dianping.com/guangyuan/ch10/g110\" starget=\"_blank\">广元火锅</a></li>\n",
       "<li><a data-click-name=\"footer_nav_city_click\" href=\"http://www.dianping.com/guiyang/ch10/g110\" starget=\"_blank\">贵阳火锅</a></li>\n",
       "<li><a data-click-name=\"footer_nav_city_click\" href=\"http://www.dianping.com/guangzhou/ch10/g110\" starget=\"_blank\">广州火锅</a></li>\n",
       "</ul>\n",
       "<ul class=\"char-content J-country-content \">\n",
       "<li><a data-click-name=\"footer_nav_city_click\" href=\"http://www.dianping.com/hangzhou/ch10/g110\" starget=\"_blank\">杭州火锅</a></li>\n",
       "<li><a data-click-name=\"footer_nav_city_click\" href=\"http://www.dianping.com/huaian/ch10/g110\" starget=\"_blank\">淮安火锅</a></li>\n",
       "<li><a data-click-name=\"footer_nav_city_click\" href=\"http://www.dianping.com/handan/ch10/g110\" starget=\"_blank\">邯郸火锅</a></li>\n",
       "<li><a data-click-name=\"footer_nav_city_click\" href=\"http://www.dianping.com/hechuan/ch10/g110\" starget=\"_blank\">合川区火锅</a></li>\n",
       "<li><a data-click-name=\"footer_nav_city_click\" href=\"http://www.dianping.com/hefei/ch10/g110\" starget=\"_blank\">合肥火锅</a></li>\n",
       "<li><a data-click-name=\"footer_nav_city_click\" href=\"http://www.dianping.com/heze/ch10/g110\" starget=\"_blank\">菏泽火锅</a></li>\n",
       "<li><a data-click-name=\"footer_nav_city_click\" href=\"http://www.dianping.com/huhehaote/ch10/g110\" starget=\"_blank\">呼和浩特火锅</a></li>\n",
       "<li><a data-click-name=\"footer_nav_city_click\" href=\"http://www.dianping.com/huizhou/ch10/g110\" starget=\"_blank\">惠州火锅</a></li>\n",
       "<li><a data-click-name=\"footer_nav_city_click\" href=\"http://www.dianping.com/haikou/ch10/g110\" starget=\"_blank\">海口火锅</a></li>\n",
       "<li><a data-click-name=\"footer_nav_city_click\" href=\"http://www.dianping.com/haerbin/ch10/g110\" starget=\"_blank\">哈尔滨火锅</a></li>\n",
       "</ul>\n",
       "<ul class=\"char-content J-country-content \">\n",
       "<li><a data-click-name=\"footer_nav_city_click\" href=\"http://www.dianping.com/jinan/ch10/g110\" starget=\"_blank\">济南火锅</a></li>\n",
       "<li><a data-click-name=\"footer_nav_city_click\" href=\"http://www.dianping.com/jinjiang/ch10/g110\" starget=\"_blank\">晋江火锅</a></li>\n",
       "<li><a data-click-name=\"footer_nav_city_click\" href=\"http://www.dianping.com/jilin/ch10/g110\" starget=\"_blank\">吉林火锅</a></li>\n",
       "<li><a data-click-name=\"footer_nav_city_click\" href=\"http://www.dianping.com/jianyou/ch10/g110\" starget=\"_blank\">江油市火锅</a></li>\n",
       "<li><a data-click-name=\"footer_nav_city_click\" href=\"http://www.dianping.com/jiangjin/ch10/g110\" starget=\"_blank\">江津区火锅</a></li>\n",
       "</ul>\n",
       "<ul class=\"char-content J-country-content \">\n",
       "<li><a data-click-name=\"footer_nav_city_click\" href=\"http://www.dianping.com/kunshan/ch10/g110\" starget=\"_blank\">昆山火锅</a></li>\n",
       "<li><a data-click-name=\"footer_nav_city_click\" href=\"http://www.dianping.com/kunming/ch10/g110\" starget=\"_blank\">昆明火锅</a></li>\n",
       "</ul>\n",
       "<ul class=\"char-content J-country-content \">\n",
       "<li><a data-click-name=\"footer_nav_city_click\" href=\"http://www.dianping.com/linyi/ch10/g110\" starget=\"_blank\">临沂火锅</a></li>\n",
       "<li><a data-click-name=\"footer_nav_city_click\" href=\"http://www.dianping.com/luoyang/ch10/g110\" starget=\"_blank\">洛阳火锅</a></li>\n",
       "<li><a data-click-name=\"footer_nav_city_click\" href=\"http://www.dianping.com/lijiang/ch10/g110\" starget=\"_blank\">丽江火锅</a></li>\n",
       "<li><a data-click-name=\"footer_nav_city_click\" href=\"http://www.dianping.com/liaocheng/ch10/g110\" starget=\"_blank\">聊城火锅</a></li>\n",
       "<li><a data-click-name=\"footer_nav_city_click\" href=\"http://www.dianping.com/liupanshui/ch10/g110\" starget=\"_blank\">六盘水火锅</a></li>\n",
       "<li><a data-click-name=\"footer_nav_city_click\" href=\"http://www.dianping.com/luzhou/ch10/g110\" starget=\"_blank\">泸州火锅</a></li>\n",
       "<li><a data-click-name=\"footer_nav_city_click\" href=\"http://www.dianping.com/leshan/ch10/g110\" starget=\"_blank\">乐山火锅</a></li>\n",
       "<li><a data-click-name=\"footer_nav_city_click\" href=\"http://www.dianping.com/lanzhou/ch10/g110\" starget=\"_blank\">兰州火锅</a></li>\n",
       "</ul>\n",
       "<ul class=\"char-content J-country-content \">\n",
       "<li><a data-click-name=\"footer_nav_city_click\" href=\"http://www.dianping.com/mianyang/ch10/g110\" starget=\"_blank\">绵阳火锅</a></li>\n",
       "</ul>\n",
       "<ul class=\"char-content J-country-content \">\n",
       "<li><a data-click-name=\"footer_nav_city_click\" href=\"http://www.dianping.com/nanjing/ch10/g110\" starget=\"_blank\">南京火锅</a></li>\n",
       "<li><a data-click-name=\"footer_nav_city_click\" href=\"http://www.dianping.com/nanning/ch10/g110\" starget=\"_blank\">南宁火锅</a></li>\n",
       "<li><a data-click-name=\"footer_nav_city_click\" href=\"http://www.dianping.com/ningbo/ch10/g110\" starget=\"_blank\">宁波火锅</a></li>\n",
       "<li><a data-click-name=\"footer_nav_city_click\" href=\"http://www.dianping.com/nanchong/ch10/g110\" starget=\"_blank\">南充火锅</a></li>\n",
       "<li><a data-click-name=\"footer_nav_city_click\" href=\"http://www.dianping.com/nanchang/ch10/g110\" starget=\"_blank\">南昌火锅</a></li>\n",
       "</ul>\n",
       "<ul class=\"char-content J-country-content \">\n",
       "<li><a data-click-name=\"footer_nav_city_click\" href=\"http://www.dianping.com/pixian/ch10/g110\" starget=\"_blank\">郫都区火锅</a></li>\n",
       "</ul>\n",
       "<ul class=\"char-content J-country-content \">\n",
       "<li><a data-click-name=\"footer_nav_city_click\" href=\"http://www.dianping.com/qujing/ch10/g110\" starget=\"_blank\">曲靖火锅</a></li>\n",
       "<li><a data-click-name=\"footer_nav_city_click\" href=\"http://www.dianping.com/qijian/ch10/g110\" starget=\"_blank\">綦江区火锅</a></li>\n",
       "<li><a data-click-name=\"footer_nav_city_click\" href=\"http://www.dianping.com/qingdao/ch10/g110\" starget=\"_blank\">青岛火锅</a></li>\n",
       "<li><a data-click-name=\"footer_nav_city_click\" href=\"http://www.dianping.com/quanzhou/ch10/g110\" starget=\"_blank\">泉州火锅</a></li>\n",
       "</ul>\n",
       "<ul class=\"char-content J-country-content \">\n",
       "<li><a data-click-name=\"footer_nav_city_click\" href=\"http://www.dianping.com/shuangliu/ch10/g110\" starget=\"_blank\">双流区火锅</a></li>\n",
       "<li><a data-click-name=\"footer_nav_city_click\" href=\"http://www.dianping.com/xiamen/ch10/g110\" starget=\"_blank\">厦门火锅</a></li>\n",
       "<li><a data-click-name=\"footer_nav_city_click\" href=\"http://www.dianping.com/shijiazhuang/ch10/g110\" starget=\"_blank\">石家庄火锅</a></li>\n",
       "<li><a data-click-name=\"footer_nav_city_click\" href=\"http://www.dianping.com/shantou/ch10/g110\" starget=\"_blank\">汕头火锅</a></li>\n",
       "<li><a data-click-name=\"footer_nav_city_click\" href=\"http://www.dianping.com/suzhou/ch10/g110\" starget=\"_blank\">苏州火锅</a></li>\n",
       "<li><a data-click-name=\"footer_nav_city_click\" href=\"http://www.dianping.com/shenzhen/ch10/g110\" starget=\"_blank\">深圳火锅</a></li>\n",
       "<li><a data-click-name=\"footer_nav_city_click\" href=\"http://www.dianping.com/suining/ch10/g110\" starget=\"_blank\">遂宁火锅</a></li>\n",
       "<li><a data-click-name=\"footer_nav_city_click\" href=\"http://www.dianping.com/shanghai/ch10/g110\" starget=\"_blank\">上海火锅</a></li>\n",
       "<li><a data-click-name=\"footer_nav_city_click\" href=\"http://www.dianping.com/shunde/ch10/g110\" starget=\"_blank\">顺德区火锅</a></li>\n",
       "<li><a data-click-name=\"footer_nav_city_click\" href=\"http://www.dianping.com/shenyang/ch10/g110\" starget=\"_blank\">沈阳火锅</a></li>\n",
       "</ul>\n",
       "<ul class=\"char-content J-country-content \">\n",
       "<li><a data-click-name=\"footer_nav_city_click\" href=\"http://www.dianping.com/tangshan/ch10/g110\" starget=\"_blank\">唐山火锅</a></li>\n",
       "<li><a data-click-name=\"footer_nav_city_click\" href=\"http://www.dianping.com/taiyuan/ch10/g110\" starget=\"_blank\">太原火锅</a></li>\n",
       "<li><a data-click-name=\"footer_nav_city_click\" href=\"http://www.dianping.com/tianjin/ch10/g110\" starget=\"_blank\">天津火锅</a></li>\n",
       "</ul>\n",
       "<ul class=\"char-content J-country-content \">\n",
       "<li><a data-click-name=\"footer_nav_city_click\" href=\"http://www.dianping.com/weifang/ch10/g110\" starget=\"_blank\">潍坊火锅</a></li>\n",
       "<li><a data-click-name=\"footer_nav_city_click\" href=\"http://www.dianping.com/wanzhou/ch10/g110\" starget=\"_blank\">万州区火锅</a></li>\n",
       "<li><a data-click-name=\"footer_nav_city_click\" href=\"http://www.dianping.com/wuxi/ch10/g110\" starget=\"_blank\">无锡火锅</a></li>\n",
       "<li><a data-click-name=\"footer_nav_city_click\" href=\"http://www.dianping.com/wuhan/ch10/g110\" starget=\"_blank\">武汉火锅</a></li>\n",
       "<li><a data-click-name=\"footer_nav_city_click\" href=\"http://www.dianping.com/wulumuqi/ch10/g110\" starget=\"_blank\">乌鲁木齐火锅</a></li>\n",
       "<li><a data-click-name=\"footer_nav_city_click\" href=\"http://www.dianping.com/wenzhou/ch10/g110\" starget=\"_blank\">温州火锅</a></li>\n",
       "<li><a data-click-name=\"footer_nav_city_click\" href=\"http://www.dianping.com/wenjiang/ch10/g110\" starget=\"_blank\">温江区火锅</a></li>\n",
       "</ul>\n",
       "<ul class=\"char-content J-country-content \">\n",
       "<li><a data-click-name=\"footer_nav_city_click\" href=\"http://www.dianping.com/xinxiang/ch10/g110\" starget=\"_blank\">新乡火锅</a></li>\n",
       "<li><a data-click-name=\"footer_nav_city_click\" href=\"http://www.dianping.com/xingtai/ch10/g110\" starget=\"_blank\">邢台火锅</a></li>\n",
       "<li><a data-click-name=\"footer_nav_city_click\" href=\"http://www.dianping.com/xining/ch10/g110\" starget=\"_blank\">西宁火锅</a></li>\n",
       "<li><a data-click-name=\"footer_nav_city_click\" href=\"http://www.dianping.com/xindu/ch10/g110\" starget=\"_blank\">新都区火锅</a></li>\n",
       "<li><a data-click-name=\"footer_nav_city_click\" href=\"http://www.dianping.com/xuzhou/ch10/g110\" starget=\"_blank\">徐州火锅</a></li>\n",
       "<li><a data-click-name=\"footer_nav_city_click\" href=\"http://www.dianping.com/xian/ch10/g110\" starget=\"_blank\">西安火锅</a></li>\n",
       "<li><a data-click-name=\"footer_nav_city_click\" href=\"http://www.dianping.com/xingyi/ch10/g110\" starget=\"_blank\">兴义市火锅</a></li>\n",
       "<li><a data-click-name=\"footer_nav_city_click\" href=\"http://www.dianping.com/xianyang/ch10/g110\" starget=\"_blank\">咸阳火锅</a></li>\n",
       "</ul>\n",
       "<ul class=\"char-content J-country-content \">\n",
       "<li><a data-click-name=\"footer_nav_city_click\" href=\"http://www.dianping.com/yuncheng/ch10/g110\" starget=\"_blank\">运城火锅</a></li>\n",
       "<li><a data-click-name=\"footer_nav_city_click\" href=\"http://www.dianping.com/yantai/ch10/g110\" starget=\"_blank\">烟台火锅</a></li>\n",
       "<li><a data-click-name=\"footer_nav_city_click\" href=\"http://www.dianping.com/yongchuan/ch10/g110\" starget=\"_blank\">永川区火锅</a></li>\n",
       "<li><a data-click-name=\"footer_nav_city_click\" href=\"http://www.dianping.com/yinchuan/ch10/g110\" starget=\"_blank\">银川火锅</a></li>\n",
       "</ul>\n",
       "<ul class=\"char-content J-country-content \">\n",
       "<li><a data-click-name=\"footer_nav_city_click\" href=\"http://www.dianping.com/zhongshan/ch10/g110\" starget=\"_blank\">中山火锅</a></li>\n",
       "<li><a data-click-name=\"footer_nav_city_click\" href=\"http://www.dianping.com/chongqing/ch10/g110\" starget=\"_blank\">重庆火锅</a></li>\n",
       "<li><a data-click-name=\"footer_nav_city_click\" href=\"http://www.dianping.com/zunyi/ch10/g110\" starget=\"_blank\">遵义火锅</a></li>\n",
       "<li><a data-click-name=\"footer_nav_city_click\" href=\"http://www.dianping.com/zhuhai/ch10/g110\" starget=\"_blank\">珠海火锅</a></li>\n",
       "<li><a data-click-name=\"footer_nav_city_click\" href=\"http://www.dianping.com/zibo/ch10/g110\" starget=\"_blank\">淄博火锅</a></li>\n",
       "<li><a data-click-name=\"footer_nav_city_click\" href=\"http://www.dianping.com/zhengzhou/ch10/g110\" starget=\"_blank\">郑州火锅</a></li>\n",
       "</ul>\n",
       "</div>\n",
       "</dd>\n",
       "<p class=\"moreover J-moreover\">更多</p>\n",
       "</dl>\n",
       "<!--城市推荐菜-->\n",
       "<!--城市美食-->\n",
       "<!--生活导航-->\n",
       "<!--热门城市-->\n",
       "<!--品牌馆新增底部内链-->\n",
       "<!--全国大全-->\n",
       "<!--同城推荐-->\n",
       "<!--城市推荐菜-->\n",
       "<!--城市美食-->\n",
       "<dl class=\"linksItem J-city-allfood\">\n",
       "<dt class=\"b-left\">\n",
       "<p>杭州美食:</p>\n",
       "</dt>\n",
       "<dd class=\"b-right\">\n",
       "<ul class=\"b-ul char-content\">\n",
       "<li>\n",
       "<a data-click-name=\"footer_nav_click\" href=\"/hangzhou/ch10/g112\" target=\"_blank\">杭州小吃</a>\n",
       "</li>\n",
       "<li>\n",
       "<a data-click-name=\"footer_nav_click\" href=\"/hangzhou/ch10/g132\" target=\"_blank\">杭州咖啡厅</a>\n",
       "</li>\n",
       "<li>\n",
       "<a data-click-name=\"footer_nav_click\" href=\"/hangzhou/ch10/g111\" target=\"_blank\">杭州自助餐</a>\n",
       "</li>\n",
       "<li>\n",
       "<a data-click-name=\"footer_nav_click\" href=\"/hangzhou/ch10/g117\" target=\"_blank\">杭州面包甜点</a>\n",
       "</li>\n",
       "<li>\n",
       "<a data-click-name=\"footer_nav_click\" href=\"/hangzhou/ch10/g133\" target=\"_blank\">杭州酒吧</a>\n",
       "</li>\n",
       "<li>\n",
       "<a data-click-name=\"footer_nav_click\" href=\"/hangzhou/ch10/g215\" target=\"_blank\">杭州面馆</a>\n",
       "</li>\n",
       "<li>\n",
       "<a data-click-name=\"footer_nav_click\" href=\"/hangzhou/ch10/g110\" target=\"_blank\">杭州火锅</a>\n",
       "</li>\n",
       "<li>\n",
       "<a data-click-name=\"footer_nav_click\" href=\"/hangzhou/ch10/g116\" target=\"_blank\">杭州西餐</a>\n",
       "</li>\n",
       "<li>\n",
       "<a data-click-name=\"footer_nav_click\" href=\"/hangzhou/ch10/g113\" target=\"_blank\">杭州日本料理</a>\n",
       "</li>\n",
       "<li>\n",
       "<a data-click-name=\"footer_nav_click\" href=\"/hangzhou/ch10/g508\" target=\"_blank\">杭州烧烤烤串</a>\n",
       "</li>\n",
       "<li>\n",
       "<a data-click-name=\"footer_nav_click\" href=\"/hangzhou/ch10/g134\" target=\"_blank\">杭州茶馆</a>\n",
       "</li>\n",
       "<li>\n",
       "<a data-click-name=\"footer_nav_click\" href=\"/hangzhou/ch10/g114\" target=\"_blank\">杭州韩国料理</a>\n",
       "</li>\n",
       "<li>\n",
       "<a data-click-name=\"footer_nav_click\" href=\"/hangzhou/ch10/g219\" target=\"_blank\">杭州小龙虾</a>\n",
       "</li>\n",
       "<li>\n",
       "<a data-click-name=\"footer_nav_click\" href=\"/hangzhou/ch10/g250\" target=\"_blank\">杭州创意菜</a>\n",
       "</li>\n",
       "<li>\n",
       "<a data-click-name=\"footer_nav_click\" href=\"/hangzhou/ch10/g251\" target=\"_blank\">杭州江河湖海鲜</a>\n",
       "</li>\n",
       "<li>\n",
       "<a data-click-name=\"footer_nav_click\" href=\"/hangzhou/ch10/g2714\" target=\"_blank\">杭州水果生鲜</a>\n",
       "</li>\n",
       "<li>\n",
       "<a data-click-name=\"footer_nav_click\" href=\"/hangzhou/ch10/g34236\" target=\"_blank\">杭州饮品店</a>\n",
       "</li>\n",
       "<li>\n",
       "<a data-click-name=\"footer_nav_click\" href=\"/hangzhou/ch10/g33759\" target=\"_blank\">杭州食品保健</a>\n",
       "</li>\n",
       "<li>\n",
       "<a data-click-name=\"footer_nav_click\" href=\"/hangzhou/ch10/g25474\" target=\"_blank\">杭州农家菜</a>\n",
       "</li>\n",
       "<li>\n",
       "<a data-click-name=\"footer_nav_click\" href=\"/hangzhou/ch10/g1338\" target=\"_blank\">杭州私房菜</a>\n",
       "</li>\n",
       "<li>\n",
       "<a data-click-name=\"footer_nav_click\" href=\"/hangzhou/ch10/g34303\" target=\"_blank\">杭州烤肉</a>\n",
       "</li>\n",
       "<li>\n",
       "<a data-click-name=\"footer_nav_click\" href=\"/hangzhou/ch10/g103\" target=\"_blank\">杭州粤菜</a>\n",
       "</li>\n",
       "<li>\n",
       "<a data-click-name=\"footer_nav_click\" href=\"/hangzhou/ch10/g102\" target=\"_blank\">杭州川菜</a>\n",
       "</li>\n",
       "<li>\n",
       "<a data-click-name=\"footer_nav_click\" href=\"/hangzhou/ch10/g101\" target=\"_blank\">杭州本帮江浙菜</a>\n",
       "</li>\n",
       "<li>\n",
       "<a data-click-name=\"footer_nav_click\" href=\"/hangzhou/ch10/g106\" target=\"_blank\">杭州东北菜</a>\n",
       "</li>\n",
       "<li>\n",
       "<a data-click-name=\"footer_nav_click\" href=\"/hangzhou/ch10/g34284\" target=\"_blank\">杭州特色菜</a>\n",
       "</li>\n",
       "<li>\n",
       "<a data-click-name=\"footer_nav_click\" href=\"/hangzhou/ch10/g104\" target=\"_blank\">杭州湘菜</a>\n",
       "</li>\n",
       "<li>\n",
       "<a data-click-name=\"footer_nav_click\" href=\"/hangzhou/ch10/g1783\" target=\"_blank\">杭州家常菜</a>\n",
       "</li>\n",
       "<li>\n",
       "<a data-click-name=\"footer_nav_click\" href=\"/hangzhou/ch10/g26482\" target=\"_blank\">杭州徽菜</a>\n",
       "</li>\n",
       "<li>\n",
       "<a data-click-name=\"footer_nav_click\" href=\"/hangzhou/ch10/g311\" target=\"_blank\">杭州北京菜</a>\n",
       "</li>\n",
       "<li>\n",
       "<a data-click-name=\"footer_nav_click\" href=\"/hangzhou/ch10/g247\" target=\"_blank\">杭州江西菜</a>\n",
       "</li>\n",
       "<li>\n",
       "<a data-click-name=\"footer_nav_click\" href=\"/hangzhou/ch10/g34055\" target=\"_blank\">杭州早茶</a>\n",
       "</li>\n",
       "<li>\n",
       "<a data-click-name=\"footer_nav_click\" href=\"/hangzhou/ch10/g26481\" target=\"_blank\">杭州西北菜</a>\n",
       "</li>\n",
       "<li>\n",
       "<a data-click-name=\"footer_nav_click\" href=\"/hangzhou/ch10/g3243\" target=\"_blank\">杭州新疆菜</a>\n",
       "</li>\n",
       "<li>\n",
       "<a data-click-name=\"footer_nav_click\" href=\"/hangzhou/ch10/g115\" target=\"_blank\">杭州东南亚菜</a>\n",
       "</li>\n",
       "<li>\n",
       "<a data-click-name=\"footer_nav_click\" href=\"/hangzhou/ch10/g6743\" target=\"_blank\">杭州云贵菜</a>\n",
       "</li>\n",
       "<li>\n",
       "<a data-click-name=\"footer_nav_click\" href=\"/hangzhou/ch10/g107\" target=\"_blank\">杭州台湾菜</a>\n",
       "</li>\n",
       "<li>\n",
       "<a data-click-name=\"footer_nav_click\" href=\"/hangzhou/ch10/g34059\" target=\"_blank\">杭州福建菜</a>\n",
       "</li>\n",
       "<li>\n",
       "<a data-click-name=\"footer_nav_click\" href=\"/hangzhou/ch10/g234\" target=\"_blank\">杭州中东菜</a>\n",
       "</li>\n",
       "<li>\n",
       "<a data-click-name=\"footer_nav_click\" href=\"/hangzhou/ch10/g34014\" target=\"_blank\">杭州下午茶</a>\n",
       "</li>\n",
       "<li>\n",
       "<a data-click-name=\"footer_nav_click\" href=\"/hangzhou/ch10/g118\" target=\"_blank\">杭州其他美食</a>\n",
       "</li>\n",
       "</ul>\n",
       "</dd>\n",
       "<p class=\"moreover J-moreover showhide\" style=\"visibility: visible;\">更多</p>\n",
       "</dl>\n",
       "<!--生活导航-->\n",
       "<!--热门城市-->\n",
       "<!--品牌馆新增底部内链-->\n",
       "<!--全国大全-->\n",
       "<!--同城推荐-->\n",
       "<!--城市推荐菜-->\n",
       "<!--城市美食-->\n",
       "<!--生活导航-->\n",
       "<dl class=\"linksItem J-city-other\">\n",
       "<dt class=\"b-left\">\n",
       "<p>杭州生活导航:</p>\n",
       "</dt>\n",
       "<dd class=\"b-right\">\n",
       "<ul class=\"b-ul char-content\">\n",
       "<li>\n",
       "<a data-click-name=\"footer_nav_click\" href=\"http://www.dianping.com/hangzhou/ch10\" target=\"_blank\">杭州美食</a>\n",
       "</li>\n",
       "<li>\n",
       "<a data-click-name=\"footer_nav_click\" href=\"http://www.dianping.com/hangzhou/ch25\" target=\"_blank\">杭州电影演出赛事</a>\n",
       "</li>\n",
       "<li>\n",
       "<a data-click-name=\"footer_nav_click\" href=\"http://www.dianping.com/hangzhou/ch30\" target=\"_blank\">杭州休闲娱乐</a>\n",
       "</li>\n",
       "<li>\n",
       "<a data-click-name=\"footer_nav_click\" href=\"http://www.dianping.com/hangzhou/ch60\" target=\"_blank\">杭州酒店</a>\n",
       "</li>\n",
       "<li>\n",
       "<a data-click-name=\"footer_nav_click\" href=\"http://www.dianping.com/hangzhou/ch50\" target=\"_blank\">杭州丽人</a>\n",
       "</li>\n",
       "<li>\n",
       "<a data-click-name=\"footer_nav_click\" href=\"http://www.dianping.com/hangzhou/ch15\" target=\"_blank\">杭州K歌</a>\n",
       "</li>\n",
       "<li>\n",
       "<a data-click-name=\"footer_nav_click\" href=\"http://www.dianping.com/hangzhou/ch45\" target=\"_blank\">杭州运动健身</a>\n",
       "</li>\n",
       "<li>\n",
       "<a data-click-name=\"footer_nav_click\" href=\"http://www.dianping.com/hangzhou/ch35\" target=\"_blank\">杭州周边游</a>\n",
       "</li>\n",
       "<li>\n",
       "<a data-click-name=\"footer_nav_click\" href=\"http://www.dianping.com/hangzhou/ch70\" target=\"_blank\">杭州亲子</a>\n",
       "</li>\n",
       "<li>\n",
       "<a data-click-name=\"footer_nav_click\" href=\"http://www.dianping.com/hangzhou/ch55\" target=\"_blank\">杭州结婚</a>\n",
       "</li>\n",
       "<li>\n",
       "<a data-click-name=\"footer_nav_click\" href=\"http://www.dianping.com/hangzhou/ch20\" target=\"_blank\">杭州购物</a>\n",
       "</li>\n",
       "<li>\n",
       "<a data-click-name=\"footer_nav_click\" href=\"http://www.dianping.com/hangzhou/ch95\" target=\"_blank\">杭州宠物</a>\n",
       "</li>\n",
       "<li>\n",
       "<a data-click-name=\"footer_nav_click\" href=\"http://www.dianping.com/hangzhou/ch80\" target=\"_blank\">杭州生活服务</a>\n",
       "</li>\n",
       "<li>\n",
       "<a data-click-name=\"footer_nav_click\" href=\"http://www.dianping.com/hangzhou/ch75\" target=\"_blank\">杭州学习培训</a>\n",
       "</li>\n",
       "<li>\n",
       "<a data-click-name=\"footer_nav_click\" href=\"http://www.dianping.com/hangzhou/ch65\" target=\"_blank\">杭州爱车</a>\n",
       "</li>\n",
       "<li>\n",
       "<a data-click-name=\"footer_nav_click\" href=\"http://www.dianping.com/hangzhou/ch85\" target=\"_blank\">杭州医疗健康</a>\n",
       "</li>\n",
       "<li>\n",
       "<a data-click-name=\"footer_nav_click\" href=\"http://www.dianping.com/hangzhou/ch90\" target=\"_blank\">杭州家居</a>\n",
       "</li>\n",
       "<li>\n",
       "<a data-click-name=\"footer_nav_click\" href=\"http://www.dianping.com/hangzhou/ch40\" target=\"_blank\">杭州宴会</a>\n",
       "</li>\n",
       "<li>\n",
       "<a data-click-name=\"footer_nav_click\" href=\"http://www.dianping.com/hangzhou/ch33954\" target=\"_blank\">杭州榛果民宿</a>\n",
       "</li>\n",
       "<li>\n",
       "<a data-click-name=\"footer_nav_click\" href=\"http://www.dianping.com/hangzhou/ch34259\" target=\"_blank\">杭州交通枢纽</a>\n",
       "</li>\n",
       "</ul>\n",
       "</dd>\n",
       "<p class=\"moreover J-moreover showhide\" style=\"visibility: hidden;\">更多</p>\n",
       "</dl>\n",
       "<!--热门城市-->\n",
       "<!--品牌馆新增底部内链-->\n",
       "<!--全国大全-->\n",
       "<!--同城推荐-->\n",
       "<!--城市推荐菜-->\n",
       "<!--城市美食-->\n",
       "<!--生活导航-->\n",
       "<!--热门城市-->\n",
       "<dl class=\"linksItem J-city-hot\">\n",
       "<dt class=\"b-left\">\n",
       "<p>火锅 - 热门城市:</p>\n",
       "</dt>\n",
       "<dd class=\"b-right\">\n",
       "<ul class=\"b-ul char-content\">\n",
       "<li>\n",
       "<a data-click-name=\"footer_nav_click\" href=\"http://www.dianping.com/beijing/ch10/g110\" target=\"_blank\">北京火锅</a>\n",
       "</li>\n",
       "<li>\n",
       "<a data-click-name=\"footer_nav_click\" href=\"http://www.dianping.com/shanghai/ch10/g110\" target=\"_blank\">上海火锅</a>\n",
       "</li>\n",
       "<li>\n",
       "<a data-click-name=\"footer_nav_click\" href=\"http://www.dianping.com/guangzhou/ch10/g110\" target=\"_blank\">广州火锅</a>\n",
       "</li>\n",
       "<li>\n",
       "<a data-click-name=\"footer_nav_click\" href=\"http://www.dianping.com/shenzhen/ch10/g110\" target=\"_blank\">深圳火锅</a>\n",
       "</li>\n",
       "<li>\n",
       "<a data-click-name=\"footer_nav_click\" href=\"http://www.dianping.com/tianjin/ch10/g110\" target=\"_blank\">天津火锅</a>\n",
       "</li>\n",
       "<li>\n",
       "<a data-click-name=\"footer_nav_click\" href=\"http://www.dianping.com/hangzhou/ch10/g110\" target=\"_blank\">杭州火锅</a>\n",
       "</li>\n",
       "<li>\n",
       "<a data-click-name=\"footer_nav_click\" href=\"http://www.dianping.com/nanjing/ch10/g110\" target=\"_blank\">南京火锅</a>\n",
       "</li>\n",
       "<li>\n",
       "<a data-click-name=\"footer_nav_click\" href=\"http://www.dianping.com/jinan/ch10/g110\" target=\"_blank\">济南火锅</a>\n",
       "</li>\n",
       "<li>\n",
       "<a data-click-name=\"footer_nav_click\" href=\"http://www.dianping.com/chongqing/ch10/g110\" target=\"_blank\">重庆火锅</a>\n",
       "</li>\n",
       "<li>\n",
       "<a data-click-name=\"footer_nav_click\" href=\"http://www.dianping.com/qingdao/ch10/g110\" target=\"_blank\">青岛火锅</a>\n",
       "</li>\n",
       "<li>\n",
       "<a data-click-name=\"footer_nav_click\" href=\"http://www.dianping.com/dalian/ch10/g110\" target=\"_blank\">大连火锅</a>\n",
       "</li>\n",
       "<li>\n",
       "<a data-click-name=\"footer_nav_click\" href=\"http://www.dianping.com/ningbo/ch10/g110\" target=\"_blank\">宁波火锅</a>\n",
       "</li>\n",
       "<li>\n",
       "<a data-click-name=\"footer_nav_click\" href=\"http://www.dianping.com/xiamen/ch10/g110\" target=\"_blank\">厦门火锅</a>\n",
       "</li>\n",
       "</ul>\n",
       "</dd>\n",
       "<p class=\"moreover J-moreover showhide\" style=\"visibility: visible;\">更多</p>\n",
       "</dl>\n",
       "</section>\n",
       "<div class=\"J_mkt-group-1\"></div>\n",
       "</div>\n",
       "<div class=\"aside\">\n",
       "<div class=\"J_mkt-group-2\"></div>\n",
       "<div class=\"J_aside-qrcode\"></div>\n",
       "<div class=\"J_midas-3\"></div>\n",
       "<div class=\"J_mkt-group-3\"></div>\n",
       "</div>\n",
       "</div>\n",
       "<div class=\"seolist seolist-static\">\n",
       "<ul>\n",
       "        相关榜单：<a class=\"packup-seo-icon\" href=\"javascript:;\" id=\"seo-mylist-expand\">\n",
       "<i class=\"packup-seo\"></i>\n",
       "</a>\n",
       "<li><a href=\"http://www.dianping.com/mylist/1394063\" target=\"_blank\" title=\"杭州市心广场附近吃火锅的餐馆\">杭州市心广场...</a></li>\n",
       "<li><a href=\"http://www.dianping.com/mylist/1394531\" target=\"_blank\" title=\"杭州市民中心附近吃火锅的餐馆\">杭州市民中心...</a></li>\n",
       "<li><a href=\"http://www.dianping.com/mylist/1392232\" target=\"_blank\" title=\"杭州上城区附近吃火锅的餐馆\">杭州上城区附...</a></li>\n",
       "<li><a href=\"http://www.dianping.com/mylist/1392661\" target=\"_blank\" title=\"杭州城站火车站附近吃火锅的餐馆\">杭州城站火车...</a></li>\n",
       "<li><a href=\"http://www.dianping.com/mylist/1394549\" target=\"_blank\" title=\"杭州二轻大厦附近吃火锅的餐馆\">杭州二轻大厦...</a></li>\n",
       "<li><a href=\"http://www.dianping.com/mylist/1390176\" target=\"_blank\" title=\"【杭州】钱江业余学校美食,附近好吃的\">【杭州】钱江...</a></li>\n",
       "<li><a href=\"http://www.dianping.com/mylist/1392280\" target=\"_blank\" title=\"杭州下城区附近吃火锅的餐馆\">杭州下城区附...</a></li>\n",
       "<li><a href=\"http://www.dianping.com/mylist/1393896\" target=\"_blank\" title=\"杭州涌金广场附近吃火锅的餐馆\">杭州涌金广场...</a></li>\n",
       "<li><a href=\"http://www.dianping.com/mylist/1662616\" target=\"_blank\" title=\"杭州西湖文化广场美食,附近好吃的\">杭州西湖文化...</a></li>\n",
       "<li><a href=\"http://www.dianping.com/mylist/1392180\" target=\"_blank\" title=\"杭州西湖区附近吃火锅的餐馆\">杭州西湖区附...</a></li>\n",
       "<li><a href=\"http://www.dianping.com/mylist/1389766\" target=\"_blank\" title=\"【杭州】小星星幼托园美食,附近好吃的\">【杭州】小星...</a></li>\n",
       "<li><a href=\"http://www.dianping.com/mylist/1390893\" target=\"_blank\" title=\"【杭州】如家快捷酒店(湖墅南路信义坊店)美食,附近好吃的\">【杭州】如家...</a></li>\n",
       "<li><a href=\"http://www.dianping.com/mylist/1393922\" target=\"_blank\" title=\"杭州杭州城站附近吃火锅的餐馆\">杭州杭州城站...</a></li>\n",
       "<li><a href=\"http://www.dianping.com/mylist/1194450\" target=\"_blank\" title=\"杭州城站火车站足浴足疗按摩排行\">杭州城站火车...</a></li>\n",
       "<li><a href=\"http://www.dianping.com/mylist/1194516\" target=\"_blank\" title=\"杭州湖墅南路游乐游艺排行\">杭州湖墅南路...</a></li>\n",
       "<li><a href=\"http://www.dianping.com/mylist/1194581\" target=\"_blank\" title=\"杭州武林广场电影院排行\">杭州武林广场...</a></li>\n",
       "<li><a href=\"http://www.dianping.com/mylist/1194583\" target=\"_blank\" title=\"杭州武林广场景点/郊游排行\">杭州武林广场...</a></li>\n",
       "<li><a href=\"http://www.dianping.com/mylist/1194585\" target=\"_blank\" title=\"杭州武林广场足浴足疗按摩排行\">杭州武林广场...</a></li>\n",
       "<li><a href=\"http://www.dianping.com/mylist/1194646\" target=\"_blank\" title=\"杭州凤起路沿线KTV排行\">杭州凤起路沿...</a></li>\n",
       "<li><a href=\"http://www.dianping.com/mylist/1194714\" target=\"_blank\" title=\"杭州城东KTV排行\">杭州城东KT...</a></li>\n",
       "</ul>\n",
       "</div>\n",
       "<a class=\"to-top J_to-top Hide\" href=\"#top\"><i></i></a>\n",
       "</div>\n",
       "<div class=\"footer-container\"><div class=\"channel-footer\" id=\"channel-footer\"> <p class=\"links\"> <a href=\"https://about.meituan.com\" rel=\"nofollow\" target=\"_blank\">关于我们</a>| <a href=\"https://dpapp-appeal.meituan.com/#/shopCreditRegulationPC\" rel=\"nofollow\" target=\"_blank\">商户诚信公约</a>| <a href=\"https://rules-center.meituan.com/?from=dianpingPC\" rel=\"nofollow\" target=\"_blank\">规则中心</a>| <a href=\"https://about.meituan.com/news/report\" rel=\"nofollow\" target=\"_blank\">媒体报道</a>| <a href=\"https://e.dianping.com/claimcpc/page/index?source=dp\" rel=\"nofollow\" target=\"_blank\">商户入驻</a>| <a href=\"//www.dianping.com/business/\" rel=\"nofollow\" target=\"_blank\">推广服务</a>| <a href=\"https://join.dianping.com/\" rel=\"nofollow\" target=\"_blank\">人才招聘</a>| <span class=\"links-container\"> <a class=\"ext-links\" href=\"javascript:void(0);\" rel=\"nofollow\">最新咨询</a>| </span> <a href=\"https://about.meituan.com/contact?source=dp\" rel=\"nofollow\" target=\"_blank\">联系我们</a>| <a href=\"http://www.dianping.com/app/download\" target=\"_blank\">应用下载</a> </p> <div class=\"ext-container Hide\"> <div class=\"link-items Hide\"> <a href=\"//www.dianping.com/discovery/\" target=\"_blank\"><span>资讯评论精选</span></a> </div> </div> <p class=\"rights\"> <span style=\"margin-right:10px;\">©2003-2020 dianping.com, All Rights Reserved.</span> <span>本站发布的所有内容，未经许可，不得转载，详见 <a class=\"G\" href=\"https://rules-center.meituan.com/rules-detail/69\" rel=\"nofollow\">《知识产权声明》</a>。 </span> </p> </div> <script> var _hmt = _hmt || []; (function() { var hm = document.createElement(\"script\"); hm.src = \"https://hm.baidu.com/hm.js?602b80cf8079ae6591966cc70a3940e7\"; var s = document.getElementsByTagName(\"script\")[0]; s.parentNode.insertBefore(hm, s); })(); </script> <script> (function(){var h=navigator.userAgent;var i=navigator.appName;var b=i.indexOf(\"Microsoft Internet Explorer\")!==-1;if(!b){return false}var d=/MSIE (\\d+).0/g;var e=d.exec(h);if(e&&e.length&&e[1]<9){var j='<div class=\"browser-overlay\"></div><div id=\"browser-ie-con\" class=\"browser-ie-con\"><div id=\"browser-close\" class=\"close\">×</div><div class=\"browser-download chrome\"><a href=\"//www.google.cn/chrome/browser/desktop/index.html?utm_dp\" target=\"_black\" title=\"chrome\"></a></div><div class=\"browser-download firefox\"><a href=\"//www.firefox.com.cn/download/?utm_dp\" target=\"_black\" title=\"firefox\"></a></div></div>';var f=document.createElement(\"div\");f.id=\"browser-update-ie\";f.className=\"browser-update-ie\";f.innerHTML=j;document.body.appendChild(f);var a=document.documentElement.clientWidth||document.body.clientWidth;var c=document.getElementById(\"browser-ie-con\").offsetWidth;var g=(a-c)/2;document.getElementById(\"browser-ie-con\").style.left=g+\"px\";document.getElementById(\"browser-close\").attachEvent(\"onclick\",function(){document.getElementById(\"browser-update-ie\").style.display=\"none\"},false)}})(); </script></div>\n",
       "<script id=\"neuron-js\" src=\"//www.dpfile.com/mod/neuron/7.1.4/neuron.js\"></script><script>neuron.config({path: \"//www.dpfile.com/mod\", loaded:[\"app-midas@0.6.12\",\"app-midas@0.6.12/js/mkt.js\",\"app-main-search@1.3.0\",\"pic-monitor@0.1.3\",\"cookie@0.2.0\",\"css-shop-tag@1.0.1\",\"map-iframe-dp@0.1.1\",\"main-authbox@1.0.9\",\"css-rating@1.0.2\",\"midas-log@0.0.3\",\"request@0.2.8\",\"css-shop-tag@0.1.3\",\"tpl@0.2.1\",\"switch@0.1.0\",\"hippo@1.2.28\",\"placeholder@0.1.1\",\"easy-login@0.4.41\",\"cookie@0.1.2\",\"mbox@1.0.4\",\"request@1.0.8\",\"mix@1.0.1\",\"fx@2.0.0\",\"attributes@1.4.1\",\"asset@1.0.2\",\"class@2.0.5\",\"lang@1.0.1\",\"hexrgb@0.0.1\",\"jquery@1.9.2\",\"underscore@1.5.3\",\"events@1.0.5\",\"clone@0.1.13\",\"util@1.0.5\",\"json@1.0.1\"], graph:{\"1\":[\"0.1.3\"],\"3\":[\"1.9.2\"],\"6\":[\"1.0.1\"],\"5\":[\"1.0.5\",{\"json@~1.0.0\":6}],\"4\":[\"1.0.5\",{\"util@~1.0.0\":5}],\"7\":[\"0.0.1\"],\"8\":[\"1.0.1\"],\"2\":[\"2.0.0\",{\"jquery@~1.9.2\":3,\"events@~1.0.5\":4,\"hexrgb@~0.0.1\":7,\"lang@~1.0.0\":8,\"util@~1.0.4\":5}],\"9\":[\"1.2.28\"],\"10\":[\"0.0.3\",{\"jquery@^1.9.2\":3}],\"12\":[\"1.0.2\"],\"14\":[\"0.1.13\",{\"util@~1.0.2\":5}],\"15\":[\"1.5.3\"],\"13\":[\"2.0.5\",{\"clone@~0.1.11\":14,\"events@~1.0.0\":4,\"underscore@~1.5.2\":15,\"util@~1.0.0\":5}],\"11\":[\"0.2.8\",{\"json@~1.0.0\":6,\"lang@~1.0.0\":8,\"asset@~1.0.0\":12,\"class@~2.0.0\":13}],\"17\":[\"1.4.1\",{\"clone@~0.1.11\":14,\"util@~1.0.0\":5}],\"18\":[\"1.0.1\"],\"16\":[\"0.1.0\",{\"jquery@~1.9.2\":3,\"fx@~2.0.0\":2,\"events@~1.0.5\":4,\"attributes@~1.4.0\":17,\"clone@~0.1.12\":14,\"mix@~1.0.1\":18,\"underscore@~1.5.3\":15,\"util@~1.0.4\":5}],\"19\":[\"0.2.1\"],\"0\":[\"0.6.12\",{\"css-shop-tag@~0.1.0\":1,\"fx@^2.0.0\":2,\"hippo@~1.2.2\":9,\"jquery@~1.9.2\":3,\"json@~1.0.1\":6,\"midas-log@~0.0.0\":10,\"request@~0.2.4\":11,\"switch@~0.1.0\":16,\"tpl@~0.2.1\":19}],\"21\":[\"0.2.0\"],\"22\":[\"1.0.2\"],\"23\":[\"1.0.1\"],\"25\":[\"0.1.2\"],\"26\":[\"1.0.4\",{\"class@~2.0.5\":13,\"jquery@~1.9.2\":3,\"lang@~1.0.0\":8}],\"27\":[\"1.0.8\",{\"class@~2.0.0\":13,\"asset@~1.0.0\":12,\"json@~1.0.0\":6,\"lang@~1.0.0\":8}],\"28\":[\"0.4.41\"],\"29\":[\"0.1.1\",{\"jquery@~1.9.2\":3}],\"24\":[\"1.0.9\",{\"jquery@~1.9.2\":3,\"cookie@~0.1.0\":25,\"mbox@~1.0.1\":26,\"request@~1.0.7\":27,\"easy-login@~0.4.39\":28,\"placeholder@~0.1.1\":29}],\"30\":[\"0.1.1\",{\"jquery@~1.9.2\":3}],\"20\":[\"1.3.0\",{\"class@^2.0.5\":13,\"cookie@~0.2.0\":21,\"css-rating@^1.0.0\":22,\"css-shop-tag@^1.0.1\":23,\"hippo@^1.2.28\":9,\"jquery@~1.9.2\":3,\"main-authbox@^1.0.0\":24,\"map-iframe-dp@~0.1.0\":30,\"mbox@^1.0.0\":26,\"request@~0.2.0\":11,\"tpl@~0.2.1\":19}],\"31\":[\"0.1.3\"],\"_\":{\"app-midas@*\":0,\"app-main-search@*\":20,\"pic-monitor@*\":31}}})</script>\n",
       "<script async=\"\" src=\"//www.dpfile.com/mod/app-midas/0.6.12/app-midas.js\"></script>\n",
       "<script async=\"\" src=\"//www.dpfile.com/mod/app-midas/0.6.12/js/mkt.js\"></script>\n",
       "<script async=\"\" src=\"//www.dpfile.com/mod/app-main-search/1.3.0/app-main-search.js\"></script>\n",
       "<script async=\"\" src=\"//www.dpfile.com/mod/pic-monitor/0.1.3/pic-monitor.js\"></script>\n",
       "<script async=\"\" src=\"//www.dpfile.com/mod/cookie/0.2.0/cookie.js\"></script>\n",
       "<script async=\"\" src=\"//www.dpfile.com/mod/css-shop-tag/1.0.1/css-shop-tag.js\"></script>\n",
       "<script async=\"\" src=\"//www.dpfile.com/mod/map-iframe-dp/0.1.1/map-iframe-dp.js\"></script>\n",
       "<script async=\"\" src=\"//www.dpfile.com/mod/main-authbox/1.0.9/main-authbox.js\"></script>\n",
       "<script async=\"\" src=\"//www.dpfile.com/mod/css-rating/1.0.2/css-rating.js\"></script>\n",
       "<script async=\"\" src=\"//www.dpfile.com/mod/midas-log/0.0.3/midas-log.js\"></script>\n",
       "<script async=\"\" src=\"//www.dpfile.com/mod/request/0.2.8/request.js\"></script>\n",
       "<script async=\"\" src=\"//www.dpfile.com/mod/css-shop-tag/0.1.3/css-shop-tag.js\"></script>\n",
       "<script async=\"\" src=\"//www.dpfile.com/mod/tpl/0.2.1/tpl.js\"></script>\n",
       "<script async=\"\" src=\"//www.dpfile.com/mod/switch/0.1.0/switch.js\"></script>\n",
       "<script async=\"\" src=\"//www.dpfile.com/mod/hippo/1.2.28/hippo.js\"></script>\n",
       "<script async=\"\" src=\"//www.dpfile.com/mod/placeholder/0.1.1/placeholder.js\"></script>\n",
       "<script async=\"\" src=\"//www.dpfile.com/mod/easy-login/0.4.41/easy-login.js\"></script>\n",
       "<script async=\"\" src=\"//www.dpfile.com/mod/cookie/0.1.2/cookie.js\"></script>\n",
       "<script async=\"\" src=\"//www.dpfile.com/mod/mbox/1.0.4/mbox.js\"></script>\n",
       "<script async=\"\" src=\"//www.dpfile.com/mod/request/1.0.8/request.js\"></script>\n",
       "<script async=\"\" src=\"//www.dpfile.com/mod/mix/1.0.1/mix.js\"></script>\n",
       "<script async=\"\" src=\"//www.dpfile.com/mod/fx/2.0.0/fx.js\"></script>\n",
       "<script async=\"\" src=\"//www.dpfile.com/mod/attributes/1.4.1/attributes.js\"></script>\n",
       "<script async=\"\" src=\"//www.dpfile.com/mod/asset/1.0.2/asset.js\"></script>\n",
       "<script async=\"\" src=\"//www.dpfile.com/mod/class/2.0.5/class.js\"></script>\n",
       "<script async=\"\" src=\"//www.dpfile.com/mod/lang/1.0.1/lang.js\"></script>\n",
       "<script async=\"\" src=\"//www.dpfile.com/mod/hexrgb/0.0.1/hexrgb.js\"></script>\n",
       "<script async=\"\" src=\"//www.dpfile.com/mod/jquery/1.9.2/jquery.js\"></script>\n",
       "<script async=\"\" src=\"//www.dpfile.com/mod/underscore/1.5.3/underscore.js\"></script>\n",
       "<script async=\"\" src=\"//www.dpfile.com/mod/events/1.0.5/events.js\"></script>\n",
       "<script async=\"\" src=\"//www.dpfile.com/mod/clone/0.1.13/clone.js\"></script>\n",
       "<script async=\"\" src=\"//www.dpfile.com/mod/util/1.0.5/util.js\"></script>\n",
       "<script async=\"\" src=\"//www.dpfile.com/mod/json/1.0.1/json.js\"></script>\n",
       "<script>facade({entry:\"app-midas\", data: {\n",
       "        query: {\n",
       "            userId: 0,\n",
       "            userip: '115.223.91.221',\n",
       "            cityId: 3,\n",
       "            keyword: '',\n",
       "            regionId: 0,\n",
       "            channelId: 10,\n",
       "            categoryId: 110,\n",
       "            pageId: 1,\n",
       "            cookieid: '',\n",
       "            multiregionIds: '',\n",
       "            adShops: [\"G8nlYxUWlkwnGUtN\",\"G4mSXrPMsR3CXLB4\",\"G6mIUkbzG2gxuNaU\",],\n",
       "            notAdShops: [  \"H5jbyRowDSLIK1Ve\",  \"k5PpF1Zwpn0TTQ86\",  \"G3niKSGWIe6WTjN4\",  \"l9yumftn9eug7jbb\",  \"H2J98vfeloh6IM7p\",  \"H4CQZoqvOI86Koj3\",  \"H5e0HTUpJEK5IK51\",  \"k98N3NRgl9UNH8yN\",  \"G1tOX11GiJA9fDGm\",  \"G9UypglW8uMorsE2\",  \"EoWc6c9tZlOdpjgy\",  \"G3uvoYy0wpSlxXBi\", ],\n",
       "        },\n",
       "        server: '/searchads/ajax/suggestads'\n",
       "    }});\n",
       "facade({entry:\"app-midas/js/mkt.js\", data: {\n",
       "        query: {\n",
       "            pageId: 1,\n",
       "            cityId: 3,\n",
       "            shopType: 10,\n",
       "            categoryId: 110,\n",
       "            regionId: 0,\n",
       "            keyword: ''\n",
       "        },\n",
       "        server: '/mkt/ajax/getNewItems'\n",
       "    }});\n",
       "facade({entry:\"app-main-search\", data: {\n",
       "        cityId: 3,\n",
       "        shopIDs: [ \"G8nlYxUWlkwnGUtN\",\"G4mSXrPMsR3CXLB4\",\"G6mIUkbzG2gxuNaU\",\"H5jbyRowDSLIK1Ve\",\"k5PpF1Zwpn0TTQ86\",\"G3niKSGWIe6WTjN4\",\"l9yumftn9eug7jbb\",\"H2J98vfeloh6IM7p\",\"H4CQZoqvOI86Koj3\",\"H5e0HTUpJEK5IK51\",\"k98N3NRgl9UNH8yN\",\"G1tOX11GiJA9fDGm\",\"G9UypglW8uMorsE2\",\"EoWc6c9tZlOdpjgy\",\"G3uvoYy0wpSlxXBi\",]\n",
       "    }});\n",
       "facade({entry:\"pic-monitor\", data: {\n",
       "        pageType: 'search-list',\n",
       "        selector: '.shop-list .pic img'\n",
       "    }});\n",
       "</script></body>\n",
       "</html>"
      ]
     },
     "execution_count": 7,
     "metadata": {},
     "output_type": "execute_result"
    }
   ],
   "source": [
    "soup"
   ]
  },
  {
   "cell_type": "code",
   "execution_count": 27,
   "metadata": {},
   "outputs": [],
   "source": [
    "css_url = \"http:\"+soup.find_all(\"link\", {\"rel\": \"stylesheet\", \"type\": \"text/css\"})[1][\"href\"]"
   ]
  },
  {
   "cell_type": "code",
   "execution_count": 31,
   "metadata": {},
   "outputs": [],
   "source": [
    "css_r = requests.get(css_url, headers = _headers)\n",
    "css_soup = BeautifulSoup(css_r.text, \"lxml\")"
   ]
  },
  {
   "cell_type": "code",
   "execution_count": 139,
   "metadata": {},
   "outputs": [],
   "source": [
    "fonts_url = {}\n",
    "for i in str(css_soup).split(\"@font-face\")[1:]:\n",
    "    name = i[re.search(\" \\..*{\",i).start()+2 : re.search(\" \\..*{\",i).end()-1]\n",
    "    url = \"http:\" + re.search(\"//.*woff\", i.split(\" \")[2]).group()\n",
    "    fonts_url[name] = url"
   ]
  },
  {
   "cell_type": "code",
   "execution_count": 140,
   "metadata": {},
   "outputs": [
    {
     "data": {
      "text/plain": [
       "{'reviewTag': 'http://s3plus.meituan.net/v1/mss_73a511b8f91f43d0bdae92584ea6330b/font/69427f49.woff',\n",
       " 'shopNum': 'http://s3plus.meituan.net/v1/mss_73a511b8f91f43d0bdae92584ea6330b/font/2529067a.woff',\n",
       " 'address': 'http://s3plus.meituan.net/v1/mss_73a511b8f91f43d0bdae92584ea6330b/font/beaeed9f.woff',\n",
       " 'tagName': 'http://s3plus.meituan.net/v1/mss_73a511b8f91f43d0bdae92584ea6330b/font/beaeed9f.woff'}"
      ]
     },
     "execution_count": 140,
     "metadata": {},
     "output_type": "execute_result"
    }
   ],
   "source": [
    "fonts_url"
   ]
  },
  {
   "cell_type": "code",
   "execution_count": 84,
   "metadata": {},
   "outputs": [
    {
     "data": {
      "text/plain": [
       "'reviewTag'"
      ]
     },
     "execution_count": 84,
     "metadata": {},
     "output_type": "execute_result"
    }
   ],
   "source": [
    "shopNum_woff_url = fonts_url[\"shopNum\"]\n",
    "reviewTag_woff_url = fonts_url[\"reviewTag\"]\n",
    "tagName_woff_url = fonts_url[\"tagName\"]\n",
    "adderss_woff_url = fonts_url[\"address\"]"
   ]
  },
  {
   "cell_type": "markdown",
   "metadata": {},
   "source": [
    "#伪装成浏览器用的？\n",
    "_cookie = ''\n",
    "for cookie in  r.cookies:\n",
    "    _cookie += \"%s=%s;\"%(cookie.name, cookie.value)\n",
    "\n",
    "_headers.update({\"Cookie\": _cookie})"
   ]
  },
  {
   "cell_type": "code",
   "execution_count": 45,
   "metadata": {},
   "outputs": [
    {
     "ename": "NameError",
     "evalue": "name 'shopNum_woff_url' is not defined",
     "output_type": "error",
     "traceback": [
      "\u001b[1;31m---------------------------------------------------------------------------\u001b[0m",
      "\u001b[1;31mNameError\u001b[0m                                 Traceback (most recent call last)",
      "\u001b[1;32m<ipython-input-45-44b26f09e4a4>\u001b[0m in \u001b[0;36m<module>\u001b[1;34m\u001b[0m\n\u001b[0;32m     22\u001b[0m \u001b[1;33m\u001b[0m\u001b[0m\n\u001b[0;32m     23\u001b[0m \u001b[1;31m#读取文件进font\u001b[0m\u001b[1;33m\u001b[0m\u001b[1;33m\u001b[0m\u001b[1;33m\u001b[0m\u001b[0m\n\u001b[1;32m---> 24\u001b[1;33m \u001b[0mshopNum_font\u001b[0m \u001b[1;33m=\u001b[0m \u001b[0mTTFont\u001b[0m\u001b[1;33m(\u001b[0m\u001b[1;34m\"./\"\u001b[0m \u001b[1;33m+\u001b[0m \u001b[0mshopNum_woff_url\u001b[0m\u001b[1;33m.\u001b[0m\u001b[0msplit\u001b[0m\u001b[1;33m(\u001b[0m\u001b[1;34m\"/\"\u001b[0m\u001b[1;33m)\u001b[0m\u001b[1;33m[\u001b[0m\u001b[1;33m-\u001b[0m\u001b[1;36m1\u001b[0m\u001b[1;33m]\u001b[0m\u001b[1;33m)\u001b[0m\u001b[1;33m\u001b[0m\u001b[1;33m\u001b[0m\u001b[0m\n\u001b[0m\u001b[0;32m     25\u001b[0m \u001b[0mreviewTag_font\u001b[0m \u001b[1;33m=\u001b[0m \u001b[0mTTFont\u001b[0m\u001b[1;33m(\u001b[0m\u001b[1;34m\"./\"\u001b[0m \u001b[1;33m+\u001b[0m \u001b[0mreviewTag_woff_url\u001b[0m\u001b[1;33m.\u001b[0m\u001b[0msplit\u001b[0m\u001b[1;33m(\u001b[0m\u001b[1;34m\"/\"\u001b[0m\u001b[1;33m)\u001b[0m\u001b[1;33m[\u001b[0m\u001b[1;33m-\u001b[0m\u001b[1;36m1\u001b[0m\u001b[1;33m]\u001b[0m\u001b[1;33m)\u001b[0m\u001b[1;33m\u001b[0m\u001b[1;33m\u001b[0m\u001b[0m\n\u001b[0;32m     26\u001b[0m \u001b[0mtagName_font\u001b[0m \u001b[1;33m=\u001b[0m \u001b[0mTTFont\u001b[0m\u001b[1;33m(\u001b[0m\u001b[1;34m\"./\"\u001b[0m \u001b[1;33m+\u001b[0m \u001b[0mtagName_woff_url\u001b[0m\u001b[1;33m.\u001b[0m\u001b[0msplit\u001b[0m\u001b[1;33m(\u001b[0m\u001b[1;34m\"/\"\u001b[0m\u001b[1;33m)\u001b[0m\u001b[1;33m[\u001b[0m\u001b[1;33m-\u001b[0m\u001b[1;36m1\u001b[0m\u001b[1;33m]\u001b[0m\u001b[1;33m)\u001b[0m\u001b[1;33m\u001b[0m\u001b[1;33m\u001b[0m\u001b[0m\n",
      "\u001b[1;31mNameError\u001b[0m: name 'shopNum_woff_url' is not defined"
     ]
    }
   ],
   "source": [
    "# 读取字体文件\n",
    "from fontTools.ttLib import TTFont\n",
    "# 用fontTools+reportlab将每一个编码对应的字都写出来导出成png（fontTools官网上说fontTools+reportlab是专门用来把字体文件写成PNG的\n",
    "from reportlab.graphics.shapes import Path\n",
    "from reportlab.lib import colors\n",
    "from reportlab.graphics.shapes import Drawing, Group\n",
    "from reportlab.graphics import renderPM\n",
    "from fontTools.pens.reportLabPen import ReportLabPen\n",
    "# 基于tesseract-OCR的光学文字识别\n",
    "import pytesseract\n",
    "from PIL import Image\n",
    "# 看进度\n",
    "import time\n",
    "import progressbar\n",
    "import os\n",
    "\n",
    "# 清空文件夹\n",
    "import shutil\n",
    "\n",
    "see_progress = progressbar.progressbar #看进度\n",
    "\n",
    "#读取文件进font\n",
    "shopNum_font = TTFont(\"./\" + shopNum_woff_url.split(\"/\")[-1])\n",
    "reviewTag_font = TTFont(\"./\" + reviewTag_woff_url.split(\"/\")[-1])\n",
    "tagName_font = TTFont(\"./\" + tagName_woff_url.split(\"/\")[-1])\n",
    "address_font = TTFont(\"./\" + adderss_woff_url.split(\"/\")[-1])\n",
    "# font.saveXML('./081396d4.xml')"
   ]
  },
  {
   "cell_type": "code",
   "execution_count": 4,
   "metadata": {},
   "outputs": [
    {
     "data": {
      "text/plain": [
       "'numbers_font_name = [\"unie0eb\",\"unif18a\",\"unie27e\",\"unif42a\",\"unif330\",\"unie78e\",\"unieb8c\",\"unif4f8\",\"unie6b2\",\"unied49\"]\\nfor i in numbers_font_name:\\n    font_namelist.remove(i)'"
      ]
     },
     "execution_count": 4,
     "metadata": {},
     "output_type": "execute_result"
    }
   ],
   "source": [
    "# 获得所有有用的编码 有两个无意义 有10个是数字\n",
    "shopNum_namelist = shopNum_font.getGlyphOrder()[2:12]\n",
    "reviewTag_namelist = reviewTag_font.getGlyphOrder()[12:]\n",
    "tagName_namelist = tagName_font.getGlyphOrder()[12:]\n",
    "address_namelist = address_font.getGlyphOrder()[12:]\n",
    "'''numbers_font_name = [\"unie0eb\",\"unif18a\",\"unie27e\",\"unif42a\",\"unif330\",\"unie78e\",\"unieb8c\",\"unif4f8\",\"unie6b2\",\"unied49\"]\n",
    "for i in numbers_font_name:\n",
    "    font_namelist.remove(i)'''"
   ]
  },
  {
   "cell_type": "markdown",
   "metadata": {},
   "source": [
    "# 用fontTools+reportlab将每一个编码对应的字都写出来导出成png（fontTools官网上说fontTools+reportlab是专门用来把字体文件写成PNG的\n",
    "for font_name in see_progress(font_namelist):\n",
    "    pen = ReportLabPen(font.getGlyphSet(), Path(fillColor=colors.black, strokeWidth=0.001))\n",
    "    font.getGlyphSet()[font_name].draw(pen)\n",
    "    w, h=font.getGlyphSet()[font_name].width/20, font.getGlyphSet()[font_name].width/20\n",
    "\n",
    "    x = Group(pen.path)\n",
    "    x.scale(0.05,0.05)\n",
    "    x.translate(0, 150)\n",
    "\n",
    "    d = Drawing(w, h)\n",
    "    d.add(x)\n",
    "\n",
    "    renderPM.drawToFile(d, \"./DianPing_font_5/{}.jpg\".format(font_name), fmt=\"jpg\")\n"
   ]
  },
  {
   "cell_type": "code",
   "execution_count": 5,
   "metadata": {},
   "outputs": [],
   "source": [
    "def new_file(path):\n",
    "    if os.path.exists(path):\n",
    "        shutil.rmtree(path)\n",
    "        os.makedirs(path)\n",
    "    else:\n",
    "        os.makedirs(path)"
   ]
  },
  {
   "cell_type": "code",
   "execution_count": 6,
   "metadata": {},
   "outputs": [],
   "source": [
    "def drawnum2file(numbers_font_namelist, font, path):\n",
    "    number = 0\n",
    "    new_file(path)\n",
    "    for font_name in see_progress(numbers_font_namelist):\n",
    "        pen = ReportLabPen(font.getGlyphSet(), Path(fillColor=colors.black, strokeWidth=0.001))\n",
    "        font.getGlyphSet()[font_name].draw(pen)\n",
    "        w, h=font.getGlyphSet()[font_name].width/2, font.getGlyphSet()[font_name].width/2\n",
    "        offsetX = number%5\n",
    "        offsetY = number//5\n",
    "        _num = Group(pen.path)\n",
    "        _num.scale(0.05,0.05)\n",
    "        _num.translate(1000*offsetX, 4000-1000*offsetY)\n",
    "        \n",
    "        if(number==0):\n",
    "            d = Drawing(w, h)\n",
    "        d.add(_num)\n",
    "        \n",
    "        number+=1\n",
    "        if(font_name==numbers_font_namelist[-1]):\n",
    "            renderPM.drawToFile(d, path + \"/{}.jpg\".format(font_name), fmt=\"jpg\")"
   ]
  },
  {
   "cell_type": "code",
   "execution_count": 8,
   "metadata": {},
   "outputs": [
    {
     "name": "stderr",
     "output_type": "stream",
     "text": [
      "100% (10 of 10) |########################| Elapsed Time: 0:00:00 Time:  0:00:00\n"
     ]
    }
   ],
   "source": [
    "shopNum_path = \"./DianPing_shopNum_font\"\n",
    "drawnum2file(shopNum_namelist, shopNum_font, shopNum_path)"
   ]
  },
  {
   "cell_type": "code",
   "execution_count": 9,
   "metadata": {},
   "outputs": [],
   "source": [
    "# 将每二十个字写进一个图片 看看准确率会不会高\n",
    "def draw2file(font_namelist, font, path):\n",
    "    number = 0\n",
    "    new_file(path)\n",
    "    for font_name in see_progress(font_namelist):\n",
    "        pen = ReportLabPen(font.getGlyphSet(), Path(fillColor=colors.black, strokeWidth=0.001))\n",
    "        font.getGlyphSet()[font_name].draw(pen)\n",
    "        w, h = font.getGlyphSet()[font_name].width/2, font.getGlyphSet()[font_name].width/2\n",
    "        offsetX = number%5\n",
    "        offsetY = number//5\n",
    "        _word = Group(pen.path)\n",
    "        _word.scale(0.05,0.05)\n",
    "        _word.translate(1100*offsetX+1000, 8000-2000*offsetY)\n",
    "        \n",
    "        if(number==0):\n",
    "            d = Drawing(w, h)\n",
    "        d.add(_word)\n",
    "        \n",
    "        number+=1\n",
    "        if(number==20 or font_name==font_namelist[-1]):\n",
    "            renderPM.drawToFile(d, path + \"/{}.jpg\".format(font_name), fmt=\"jpg\")\n",
    "            number=0\n",
    "        "
   ]
  },
  {
   "cell_type": "code",
   "execution_count": 10,
   "metadata": {},
   "outputs": [
    {
     "name": "stderr",
     "output_type": "stream",
     "text": [
      "100% (591 of 591) |######################| Elapsed Time: 0:00:01 Time:  0:00:01\n",
      "100% (591 of 591) |######################| Elapsed Time: 0:00:01 Time:  0:00:01\n",
      "100% (591 of 591) |######################| Elapsed Time: 0:00:01 Time:  0:00:01\n"
     ]
    }
   ],
   "source": [
    "reviewTag_path = \"./DianPing_reviewTag_font\"\n",
    "draw2file(reviewTag_namelist, reviewTag_font, reviewTag_path)\n",
    "tagName_path = \"./DianPing_tagName_font\"\n",
    "draw2file(tagName_namelist, tagName_font, tagName_path)\n",
    "address_path = \"./DianPing_addres_font\"\n",
    "draw2file(address_namelist, address_font, address_path)"
   ]
  },
  {
   "cell_type": "code",
   "execution_count": 11,
   "metadata": {},
   "outputs": [],
   "source": [
    "# 识别文件夹中所有的图片 基于tesseract-OCR的光学文字识别\n",
    "def reco_file(url):\n",
    "    recognition = {}\n",
    "    pytesseract.pytesseract.tesseract_cmd = r'C:\\Program Files\\Tesseract-OCR\\tesseract.exe' #1 如果这句话不加 他就会说在path里找不到tesseract\n",
    "    for image_name in see_progress(os.listdir(url)):\n",
    "        image = Image.open(url+\"/\"+image_name)\n",
    "        word = pytesseract.image_to_string(image, lang=\"chi_sim\", config='--psm 6') # psm 8代表Treat the image as a single word #psm6 Assume a single uniform block of text.\n",
    "        recognition[image_name.split(\".\")[0]] = word\n",
    "    return recognition"
   ]
  },
  {
   "cell_type": "code",
   "execution_count": 12,
   "metadata": {},
   "outputs": [],
   "source": [
    "def confirm_reco(_recognition, font_list):\n",
    "    counter=0\n",
    "    for key in _recognition.keys():\n",
    "        counter+=len(_recognition[key].replace(\" \",\"\").replace(\"\\n\",\"\"))\n",
    "    if(counter!=len(font_list)):\n",
    "        print(\"OCR文字识别出现错误 识别结果数量与原数量不同\") # 这里放到Pycharm里应该是一个中断代码\n",
    "    else:\n",
    "        print(\"字体识别完成 数量一致\")"
   ]
  },
  {
   "cell_type": "code",
   "execution_count": 13,
   "metadata": {},
   "outputs": [
    {
     "name": "stderr",
     "output_type": "stream",
     "text": [
      "100% (1 of 1) |##########################| Elapsed Time: 0:00:01 Time:  0:00:01\n"
     ]
    },
    {
     "name": "stdout",
     "output_type": "stream",
     "text": [
      "字体识别完成 数量一致\n"
     ]
    }
   ],
   "source": [
    "shopNum_recognition = reco_file(shopNum_path)\n",
    "confirm_reco(shopNum_recognition, shopNum_namelist)"
   ]
  },
  {
   "cell_type": "code",
   "execution_count": 14,
   "metadata": {},
   "outputs": [],
   "source": [
    "def get_unie2word(_recognition, font_namelist):\n",
    "    unie2word = {}\n",
    "    words = []\n",
    "    number = 0\n",
    "    for font_name in font_namelist:\n",
    "        if(font_name in _recognition.keys()):\n",
    "            words+=re.split(\" |\\n\", _recognition[font_name])\n",
    "    for font_name in font_namelist:\n",
    "        unie2word[font_name] = words[number]\n",
    "        number+=1\n",
    "    return unie2word"
   ]
  },
  {
   "cell_type": "code",
   "execution_count": 15,
   "metadata": {},
   "outputs": [],
   "source": [
    "shopNum_unie2word = get_unie2word(shopNum_recognition, shopNum_namelist)"
   ]
  },
  {
   "cell_type": "code",
   "execution_count": 16,
   "metadata": {},
   "outputs": [
    {
     "name": "stderr",
     "output_type": "stream",
     "text": [
      "100% (30 of 30) |########################| Elapsed Time: 0:00:39 Time:  0:00:39\n",
      "N/A% (0 of 30) |                         | Elapsed Time: 0:00:00 ETA:  --:--:--"
     ]
    },
    {
     "name": "stdout",
     "output_type": "stream",
     "text": [
      "字体识别完成 数量一致\n"
     ]
    },
    {
     "name": "stderr",
     "output_type": "stream",
     "text": [
      "100% (30 of 30) |########################| Elapsed Time: 0:00:38 Time:  0:00:38\n",
      "N/A% (0 of 30) |                         | Elapsed Time: 0:00:00 ETA:  --:--:--"
     ]
    },
    {
     "name": "stdout",
     "output_type": "stream",
     "text": [
      "字体识别完成 数量一致\n"
     ]
    },
    {
     "name": "stderr",
     "output_type": "stream",
     "text": [
      "100% (30 of 30) |########################| Elapsed Time: 0:00:39 Time:  0:00:39\n"
     ]
    },
    {
     "name": "stdout",
     "output_type": "stream",
     "text": [
      "字体识别完成 数量一致\n"
     ]
    }
   ],
   "source": [
    "reviewTag_recognition = reco_file(reviewTag_path)\n",
    "confirm_reco(reviewTag_recognition, reviewTag_namelist)\n",
    "\n",
    "tagName_recognition = reco_file(tagName_path)\n",
    "confirm_reco(tagName_recognition, tagName_namelist)\n",
    "\n",
    "address_recognition = reco_file(address_path)\n",
    "confirm_reco(address_recognition, address_namelist)"
   ]
  },
  {
   "cell_type": "code",
   "execution_count": 17,
   "metadata": {},
   "outputs": [],
   "source": [
    "reviewTag_unie2word = get_unie2word(reviewTag_recognition, reviewTag_namelist)\n",
    "tagName_unie2word = get_unie2word(tagName_recognition, tagName_namelist)\n",
    "address_unie2word = get_unie2word(address_recognition, address_namelist)"
   ]
  },
  {
   "cell_type": "markdown",
   "metadata": {},
   "source": [
    "#找到所有的店shops,取出第一个shop\n",
    "shop_list = soup.find_all(\"div\", class_=\"shop-list J_shop-list shop-all-list\")[0]\n",
    "shops = shop_list.find_all(\"li\")\n",
    "shop = shops[0]\n",
    "print(shop.prettify())"
   ]
  },
  {
   "cell_type": "code",
   "execution_count": 44,
   "metadata": {},
   "outputs": [],
   "source": [
    "#判断是否是广告\n",
    "def judge_adv(_shop):\n",
    "    if(_shop.has_attr(\"data-midas\")):\n",
    "        return(\"广告\")\n",
    "    else:\n",
    "        return(\"None\")"
   ]
  },
  {
   "cell_type": "code",
   "execution_count": 135,
   "metadata": {},
   "outputs": [],
   "source": [
    "def get_shop_info(shop):\n",
    "    isadv = judge_adv(shop)\n",
    "    #print(isadv)\n",
    "    shop_detail = shop.find(\"div\", class_=\"txt\")\n",
    "    shop_name = shop_detail.find(\"div\", class_=\"tit\").a.h4.text\n",
    "    #print(shop_name)\n",
    "    comment = shop_detail.find(\"div\", class_=\"comment\").find(\"div\", class_=\"nebula_star\")\n",
    "    if(comment==None): # 会存在comment没有的情况\n",
    "        comment = \"\"\n",
    "    else:\n",
    "        comment = comment.text\n",
    "        comment = comment.strip(\"\\n\")\n",
    "    #print(comment)\n",
    "    review_num = shop_detail.find(\"div\", class_=\"comment\").find(\"a\", class_=\"review-num\").text\n",
    "    review_num = review_num.replace(\"\\n\",\" \").strip(\" \")\n",
    "    #print(review_num)\n",
    "    mean_price = shop_detail.find(\"div\", class_=\"comment\").find(\"a\", class_=\"mean-price\").text\n",
    "    mean_price = mean_price.replace(\" \", \"\").replace(\"\\n\", \" \").strip(\" \")\n",
    "    #print(mean_price)\n",
    "    comment_list = shop_detail.find(\"span\", class_=\"comment-list\")\n",
    "    if(comment_list==None): # 会存在comment_list没有的情况\n",
    "        comment_list = \"\"\n",
    "    else:\n",
    "        comment_list = comment_list.text\n",
    "        comment_list = comment_list.replace(\"\\n\",\" \").strip(\" \")\n",
    "    #print(comment_list)\n",
    "\n",
    "    shop_tag = shop_detail.find(\"div\", class_=\"tag-addr\").find(\"a\", {\"data-click-name\": \"shop_tag_cate_click\"}).text\n",
    "    #print(shop_tag)\n",
    "    shop_region = shop_detail.find(\"div\", class_=\"tag-addr\").find(\"a\", {\"data-click-name\": \"shop_tag_region_click\"}).text\n",
    "    #print(shop_region)\n",
    "    shop_addr = shop_detail.find(\"div\", class_=\"tag-addr\").find(\"span\", class_=\"addr\").text\n",
    "    #print(shop_addr)\n",
    "    recommend = shop_detail.find(\"div\", class_=\"recommend\")\n",
    "    if(recommend==None): # 会存在recommend没有的情况\n",
    "        recommend = \"\"\n",
    "    else:\n",
    "        recommend = recommend.text\n",
    "        recommend = recommend.replace(\"\\n\",\" \").strip(\" \")\n",
    "    #print(recommend)\n",
    "    return[isadv, shop_name, comment, review_num, mean_price, comment_list, shop_tag, shop_region, shop_addr, recommend]"
   ]
  },
  {
   "cell_type": "code",
   "execution_count": 27,
   "metadata": {},
   "outputs": [],
   "source": [
    "def get_shopNum_decode(_info):\n",
    "    result = \"\"\n",
    "    for _text in _info: \n",
    "        if((\"uni\" + str(_text.encode('unicode_escape')).lstrip(\"b'\\\\\\\\u\").rstrip(\"'\")) in shopNum_unie2word.keys()):\n",
    "            result += shopNum_unie2word[\"uni\" + str(_text.encode('unicode_escape')).lstrip(\"b'\\\\\\\\u\").rstrip(\"'\")]\n",
    "        else:\n",
    "            result += _text\n",
    "    return result"
   ]
  },
  {
   "cell_type": "code",
   "execution_count": 28,
   "metadata": {},
   "outputs": [],
   "source": [
    "def get_reviewTag_decode(_info):\n",
    "    result = \"\"\n",
    "    for _text in _info: \n",
    "        if((\"uni\" + str(_text.encode('unicode_escape')).lstrip(\"b'\\\\\\\\u\").rstrip(\"'\")) in reviewTag_unie2word.keys()):\n",
    "            result += reviewTag_unie2word[\"uni\" + str(_text.encode('unicode_escape')).lstrip(\"b'\\\\\\\\u\").rstrip(\"'\")]\n",
    "        else:\n",
    "            result += _text\n",
    "    return result"
   ]
  },
  {
   "cell_type": "code",
   "execution_count": 29,
   "metadata": {},
   "outputs": [],
   "source": [
    "def get_tagName_decode(_info):\n",
    "    result = \"\"\n",
    "    for _text in _info: \n",
    "        if((\"uni\" + str(_text.encode('unicode_escape')).lstrip(\"b'\\\\\\\\u\").rstrip(\"'\")) in tagName_unie2word.keys()):\n",
    "            result += tagName_unie2word[\"uni\" + str(_text.encode('unicode_escape')).lstrip(\"b'\\\\\\\\u\").rstrip(\"'\")]\n",
    "        else:\n",
    "            result += _text\n",
    "    return result"
   ]
  },
  {
   "cell_type": "code",
   "execution_count": 30,
   "metadata": {},
   "outputs": [],
   "source": [
    "def get_address_decode(_info):\n",
    "    result = \"\"\n",
    "    for _text in _info: \n",
    "        if((\"uni\" + str(_text.encode('unicode_escape')).lstrip(\"b'\\\\\\\\u\").rstrip(\"'\")) in address_unie2word.keys()):\n",
    "            result += address_unie2word[\"uni\" + str(_text.encode('unicode_escape')).lstrip(\"b'\\\\\\\\u\").rstrip(\"'\")]\n",
    "        else:\n",
    "            result += _text\n",
    "    return result"
   ]
  },
  {
   "cell_type": "code",
   "execution_count": 121,
   "metadata": {},
   "outputs": [],
   "source": [
    "def all_info_decode(shop_info):\n",
    "    result = shop_info[:3]\n",
    "    title=\"\"\n",
    "    for text in shop_info[1]: # 去掉店面里面的大· 因为写不进excel\n",
    "        if(text!='\\u2022'):\n",
    "            title+=text\n",
    "        else:\n",
    "            text=\" \"\n",
    "            title+=text\n",
    "    result[1]=title\n",
    "\n",
    "    for info in shop_info[3:6]:\n",
    "        result.append(get_shopNum_decode(info))\n",
    "    for info in shop_info[6:8]:\n",
    "        result.append(get_tagName_decode(info))\n",
    "    result.append(get_address_decode(shop_info[8]))\n",
    "    address=\"\"\n",
    "    for text in result[8]:\n",
    "        if(text!='\\U0001f449' and text!='\\xa0'): # 去掉地址里的手指头 因为写不进excel\n",
    "            address+=text\n",
    "        else:\n",
    "            text=\" \"\n",
    "            address+=text\n",
    "    result[8]=address\n",
    "    result.append(shop_info[-1])\n",
    "    return result"
   ]
  },
  {
   "cell_type": "code",
   "execution_count": 136,
   "metadata": {},
   "outputs": [
    {
     "data": {
      "text/plain": [
       "['None',\n",
       " '留下来筒骨砂锅火锅(北景园店)',\n",
       " '',\n",
       " '1772 条点评',\n",
       " '人均 ￥83',\n",
       " '',\n",
       " '砂锅',\n",
       " '北景园',\n",
       " '东新路966号',\n",
       " '推荐菜： 招牌鲜虾滑 筒骨煲 豆黄金鲜腐竹']"
      ]
     },
     "execution_count": 136,
     "metadata": {},
     "output_type": "execute_result"
    }
   ],
   "source": [
    "shop_info = get_shop_info(shop)\n",
    "all_info_decode(shop_info)"
   ]
  },
  {
   "cell_type": "code",
   "execution_count": 2,
   "metadata": {},
   "outputs": [],
   "source": [
    "_headers = { \"User-Agent\": \"Mozilla/5.0 (Windows NT 10.0; Win64; x64) AppleWebKit/537.36 (KHTML, like Gecko) Chrome/83.0.4103.116 Safari/537.36\" }\n",
    "def get_web(url):\n",
    "    r = requests.get(url, headers = _headers)\n",
    "    soup = BeautifulSoup(r.text, \"lxml\")\n",
    "    while soup.title.text==\"验证中心\":\n",
    "        r = requests.get(url, headers = _headers)\n",
    "        soup = BeautifulSoup(r.text, \"lxml\")\n",
    "    return soup"
   ]
  },
  {
   "cell_type": "code",
   "execution_count": 138,
   "metadata": {},
   "outputs": [
    {
     "name": "stderr",
     "output_type": "stream",
     "text": [
      "100% (50 of 50) |########################| Elapsed Time: 0:00:33 Time:  0:00:33\n"
     ]
    }
   ],
   "source": [
    "# 把杭州所有的火锅都放入excel\n",
    "\n",
    "f = open(\"./Hangzhou_hotpot.csv\", \"w\", newline=\"\") # 不加上newline=“” 每次写一行都会空一行\n",
    "csv_writer = csv.writer(f)\n",
    "csv_writer.writerow([\"Adv\", \"Title\", \"Star_score\", \"Review_num\", \"Mean_price\", \"Comment_list\", \"Tag\", \"Region\", \"Address\", \"Recommend\"])\n",
    "for i in see_progress(range(50)):\n",
    "    url = \"http://www.dianping.com/hangzhou/ch10/g110p{}?cpt=G8nlYxUWlkwnGUtN%2CG4mSXrPMsR3CXLB4%2CG6mIUkbzG2gxuNaU\".format(i+1)\n",
    "    soup = get_web(url)\n",
    "    shop_list = soup.find_all(\"div\", class_=\"shop-list J_shop-list shop-all-list\")[0]\n",
    "    shops = shop_list.find_all(\"li\")\n",
    "    for shop in shops:\n",
    "        shop_info = get_shop_info(shop)\n",
    "        all_info = all_info_decode(shop_info)\n",
    "        csv_writer.writerow(all_info)\n",
    "f.close()"
   ]
  },
  {
   "cell_type": "markdown",
   "metadata": {},
   "source": [
    "# ------------------------------------------OVER------------------------------------------------"
   ]
  },
  {
   "cell_type": "code",
   "execution_count": 118,
   "metadata": {},
   "outputs": [
    {
     "data": {
      "text/plain": [
       "'\\xa0'"
      ]
     },
     "execution_count": 118,
     "metadata": {},
     "output_type": "execute_result"
    }
   ],
   "source": [
    "'\\xa0'"
   ]
  },
  {
   "cell_type": "code",
   "execution_count": 119,
   "metadata": {},
   "outputs": [
    {
     "name": "stdout",
     "output_type": "stream",
     "text": [
      " \n"
     ]
    }
   ],
   "source": [
    "print('\\xa0')"
   ]
  },
  {
   "cell_type": "code",
   "execution_count": 54,
   "metadata": {},
   "outputs": [],
   "source": [
    "f = open(\"./DianPing_Scrap.csv\", \"w\")\n",
    "csv_writer = csv.writer(f)\n",
    "csv_writer.writerow([\"Adv\", \"Title\", \"Star_score\", \"Review_num\", \"Mean_price\", \"Comment_list\", \"Tag\", \"Region\", \"Address\", \"Recommend\"])\n",
    "for shop in shops:\n",
    "    shop_info = get_shop_info(shop)\n",
    "    all_info = all_info_decode(shop_info)\n",
    "    csv_writer.writerow(all_info)\n",
    "f.close()"
   ]
  },
  {
   "cell_type": "code",
   "execution_count": null,
   "metadata": {},
   "outputs": [],
   "source": []
  },
  {
   "cell_type": "code",
   "execution_count": 74,
   "metadata": {},
   "outputs": [],
   "source": [
    "# 百度OCR API识别\n",
    "from aip import AipOcr\n",
    "import base64\n",
    "\n",
    "\"\"\" 你的 APPID AK SK \"\"\"\n",
    "APP_ID = \"21372998\"\n",
    "API_KEY = \"3vpobr8zXyYxvxqscMFPB8h5\"\n",
    "SECRET_KEY = \"8HGtsbGVXPSv4h7KCQgP6VI42kRPHlj6\"\n",
    "\n",
    "client = AipOcr(APP_ID, API_KEY, SECRET_KEY)\n",
    "\n",
    "def get_file_content(filePath):\n",
    "    with open(filePath, \"rb\") as fp:\n",
    "        return fp.read()\n",
    "        #return base64.b64encode(fp.read()) # 百度的要Base64编码的图片\n",
    "\n",
    "def baidu_OCR(image_path):\n",
    "    image = get_file_content(image_path)\n",
    "    word = client.basicGeneral(image)\n",
    "    word_results = word[\"words_result\"]\n",
    "    return word_results"
   ]
  },
  {
   "cell_type": "code",
   "execution_count": 77,
   "metadata": {},
   "outputs": [
    {
     "name": "stderr",
     "output_type": "stream",
     "text": [
      "\r",
      "N/A% (0 of 30) |                         | Elapsed Time: 0:00:00 ETA:  --:--:--"
     ]
    },
    {
     "name": "stdout",
     "output_type": "stream",
     "text": [
      "unie069.jpg\n"
     ]
    },
    {
     "name": "stderr",
     "output_type": "stream",
     "text": [
      "\r",
      "  3% (1 of 30) |                         | Elapsed Time: 0:00:03 ETA:   0:01:30"
     ]
    },
    {
     "name": "stdout",
     "output_type": "stream",
     "text": [
      "[{'words': '吉苑康鞋里'}, {'words': '果嫩酱八连'}, {'words': '窗十肉卖又'}, {'words': '桌代锦羊泰'}]\n",
      "unie14a.jpg\n"
     ]
    },
    {
     "name": "stderr",
     "output_type": "stream",
     "text": [
      "\r",
      "  6% (2 of 30) |#                        | Elapsed Time: 0:00:06 ETA:   0:01:38"
     ]
    },
    {
     "name": "stdout",
     "output_type": "stream",
     "text": [
      "[{'words': '利附出比性'}, {'words': '司前尔直童'}, {'words': '景济店贸维'}, {'words': '整贝发号口'}]\n",
      "unie242.jpg\n"
     ]
    },
    {
     "name": "stderr",
     "output_type": "stream",
     "text": [
      "\r",
      " 10% (3 of 30) |##                       | Elapsed Time: 0:00:09 ETA:   0:01:18"
     ]
    },
    {
     "name": "stdout",
     "output_type": "stream",
     "text": [
      "[{'words': '红杂好梅酸'}, {'words': '给鸿步关松'}, {'words': '斜处板同以'}, {'words': '度林田份清'}]\n",
      "unie300.jpg\n"
     ]
    },
    {
     "name": "stderr",
     "output_type": "stream",
     "text": [
      "\r",
      " 13% (4 of 30) |###                      | Elapsed Time: 0:00:11 ETA:   0:00:57"
     ]
    },
    {
     "name": "stdout",
     "output_type": "stream",
     "text": [
      "[{'words': '宝正东看汤'}, {'words': '啊放民棒世'}, {'words': '广千完洲凤'}, {'words': '线跟杨味云'}]\n",
      "unie3e9.jpg\n"
     ]
    },
    {
     "name": "stderr",
     "output_type": "stream",
     "text": [
      "\r",
      " 16% (5 of 30) |####                     | Elapsed Time: 0:00:12 ETA:   0:00:34"
     ]
    },
    {
     "name": "stdout",
     "output_type": "stream",
     "text": [
      "[{'words': '配峰豆石就'}, {'words': '办高莲料內'}, {'words': '京技这福串'}, {'words': '段品明虹吃'}]\n",
      "unie4f4.jpg\n"
     ]
    },
    {
     "name": "stderr",
     "output_type": "stream",
     "text": [
      "\r",
      " 20% (6 of 30) |#####                    | Elapsed Time: 0:00:13 ETA:   0:00:34"
     ]
    },
    {
     "name": "stdout",
     "output_type": "stream",
     "text": [
      "[{'words': '际块过村着'}, {'words': '儿龙朋因町'}, {'words': '堂行且物保'}, {'words': '解光期加然'}]\n",
      "unie5b3.jpg\n"
     ]
    },
    {
     "name": "stderr",
     "output_type": "stream",
     "text": [
      "\r",
      " 23% (7 of 30) |#####                    | Elapsed Time: 0:00:17 ETA:   0:01:23"
     ]
    },
    {
     "name": "stdout",
     "output_type": "stream",
     "text": [
      "[{'words': '横专王安为'}, {'words': '风诚房级副'}, {'words': '说每鑫般岭'}, {'words': '到江联银客'}]\n",
      "unie699.jpg\n"
     ]
    },
    {
     "name": "stderr",
     "output_type": "stream",
     "text": [
      "\r",
      " 26% (8 of 30) |######                   | Elapsed Time: 0:00:20 ETA:   0:01:15"
     ]
    },
    {
     "name": "stdout",
     "output_type": "stream",
     "text": [
      "[{'words': '街宁北兰凯'}, {'words': '健富情友经'}, {'words': '小实找下斯'}, {'words': '手山泉其家'}]\n",
      "unie756.jpg\n"
     ]
    },
    {
     "name": "stderr",
     "output_type": "stream",
     "text": [
      "\r",
      " 30% (9 of 30) |#######                  | Elapsed Time: 0:00:23 ETA:   0:00:53"
     ]
    },
    {
     "name": "stdout",
     "output_type": "stream",
     "text": [
      "[{'words': '沙酒片动珠'}, {'words': '错你盛乡虾'}, {'words': '油精迎姐特'}, {'words': '弄旁元沿'}]\n",
      "unie823.jpg\n"
     ]
    },
    {
     "name": "stderr",
     "output_type": "stream",
     "text": [
      "\r",
      " 33% (10 of 30) |########                | Elapsed Time: 0:00:25 ETA:   0:00:42"
     ]
    },
    {
     "name": "stdout",
     "output_type": "stream",
     "text": [
      "[{'words': '工更钢限不'}, {'words': '国坊型底差'}, {'words': '白平局寓进'}, {'words': '哈吧子喜兴'}]\n",
      "unie8de.jpg\n"
     ]
    },
    {
     "name": "stderr",
     "output_type": "stream",
     "text": [
      "\r",
      " 36% (11 of 30) |########                | Elapsed Time: 0:00:29 ETA:   0:01:09"
     ]
    },
    {
     "name": "stdout",
     "output_type": "stream",
     "text": [
      "[{'words': '重卫作服起'}, {'words': '市生让喝拉'}, {'words': '对港只年区'}, {'words': '超女容教第'}]\n",
      "unie980.jpg\n"
     ]
    },
    {
     "name": "stderr",
     "output_type": "stream",
     "text": [
      "\r",
      " 40% (12 of 30) |#########               | Elapsed Time: 0:00:33 ETA:   0:01:23"
     ]
    },
    {
     "name": "stdout",
     "output_type": "stream",
     "text": [
      "[{'words': '后于社大具'}, {'words': '值甲但修商'}, {'words': '快谷尝地丁'}, {'words': '色种边星推'}]\n",
      "uniea6c.jpg\n"
     ]
    },
    {
     "name": "stderr",
     "output_type": "stream",
     "text": [
      "\r",
      " 43% (13 of 30) |##########              | Elapsed Time: 0:00:36 ETA:   0:00:43"
     ]
    },
    {
     "name": "stdout",
     "output_type": "stream",
     "text": [
      "[{'words': '会七纪城美'}, {'words': '微宏笑春么'}, {'words': '拍还话海荐'}, {'words': '双是午适牌'}]\n",
      "unieaf8.jpg\n"
     ]
    },
    {
     "name": "stderr",
     "output_type": "stream",
     "text": [
      "\r",
      " 46% (14 of 30) |###########             | Elapsed Time: 0:00:39 ETA:   0:00:49"
     ]
    },
    {
     "name": "stdout",
     "output_type": "stream",
     "text": [
      "[{'words': '算和感幢要'}, {'words': '育养艺乐万'}, {'words': '洗刚四的食'}, {'words': '丽境点货'}]\n",
      "uniebdf.jpg\n"
     ]
    },
    {
     "name": "stderr",
     "output_type": "stream",
     "text": [
      "\r",
      " 50% (15 of 30) |############            | Elapsed Time: 0:00:44 ETA:   0:01:20"
     ]
    },
    {
     "name": "stdout",
     "output_type": "stream",
     "text": [
      "[{'words': '位车啦汽宾'}, {'words': '能向柳茶式'}, {'words': '餐调接去事'}, {'words': '得惠管甜西'}]\n",
      "uniece5.jpg\n"
     ]
    },
    {
     "name": "stderr",
     "output_type": "stream",
     "text": [
      "\r",
      " 53% (16 of 30) |############            | Elapsed Time: 0:00:49 ETA:   0:00:57"
     ]
    },
    {
     "name": "stdout",
     "output_type": "stream",
     "text": [
      "[{'words': '秀三热座原'}, {'words': '庆设祥烫佳'}, {'words': '老达文水外'}, {'words': '最多有带楼'}]\n",
      "uniedd0.jpg\n"
     ]
    },
    {
     "name": "stderr",
     "output_type": "stream",
     "text": [
      "\r",
      " 56% (17 of 30) |#############           | Elapsed Time: 0:00:59 ETA:   0:02:14"
     ]
    },
    {
     "name": "stdout",
     "output_type": "stream",
     "text": [
      "[{'words': '觉成想讯辣'}, {'words': '试很便交力'}, {'words': '而氏常己满'}, {'words': '厨什合定分'}]\n",
      "unief1d.jpg\n"
     ]
    },
    {
     "name": "stderr",
     "output_type": "stream",
     "text": [
      "\r",
      " 60% (18 of 30) |##############          | Elapsed Time: 0:01:02 ETA:   0:00:39"
     ]
    },
    {
     "name": "stdout",
     "output_type": "stream",
     "text": [
      "[{'words': '们造几建鸭'}, {'words': '足排阿团'}, {'words': '真饰农体集'}, {'words': '包来锅昌省'}]\n",
      "unieff1.jpg\n"
     ]
    },
    {
     "name": "stderr",
     "output_type": "stream",
     "text": [
      "\r",
      " 63% (19 of 30) |###############         | Elapsed Time: 0:01:04 ETA:   0:00:24"
     ]
    },
    {
     "name": "stdout",
     "output_type": "stream",
     "text": [
      "[{'words': '顺字烤打青'}, {'words': '别木路米回'}, {'words': '买计都运次'}, {'words': '彩赞单知铺'}]\n",
      "unif0fb.jpg\n"
     ]
    },
    {
     "name": "stderr",
     "output_type": "stream",
     "text": [
      "\r",
      " 66% (20 of 30) |################        | Elapsed Time: 0:01:07 ETA:   0:00:26"
     ]
    },
    {
     "name": "stdout",
     "output_type": "stream",
     "text": [
      "[{'words': '总等永信糕'}, {'words': '通两津电'}, {'words': '医园训全金'}, {'words': '周化溪务浦'}]\n",
      "unif1a2.jpg\n"
     ]
    },
    {
     "name": "stderr",
     "output_type": "stream",
     "text": [
      "\r",
      " 70% (21 of 30) |################        | Elapsed Time: 0:01:10 ETA:   0:00:29"
     ]
    },
    {
     "name": "stdout",
     "output_type": "stream",
     "text": [
      "[{'words': '五日菜朝轩'}, {'words': '机桂布室在'}, {'words': '层欢术屋幼'}, {'words': '入滨人近奶'}]\n",
      "unif27c.jpg\n"
     ]
    },
    {
     "name": "stderr",
     "output_type": "stream",
     "text": [
      "\r",
      " 73% (22 of 30) |#################       | Elapsed Time: 0:01:12 ETA:   0:00:20"
     ]
    },
    {
     "name": "stdout",
     "output_type": "stream",
     "text": [
      "[{'words': '张少岛些评'}, {'words': '新塔丰助产'}, {'words': '做庄气学政'}, {'words': '缘旅票侧非'}]\n",
      "unif373.jpg\n"
     ]
    },
    {
     "name": "stderr",
     "output_type": "stream",
     "text": [
      "\r",
      " 76% (23 of 30) |##################      | Elapsed Time: 0:01:14 ETA:   0:00:12"
     ]
    },
    {
     "name": "stdout",
     "output_type": "stream",
     "text": [
      "[{'words': '公本隆理也'}, {'words': '才当汇蛋院'}, {'words': '厅皮汉镇鸡'}, {'words': '衣馆德爱晚'}]\n",
      "unif437.jpg\n"
     ]
    },
    {
     "name": "stderr",
     "output_type": "stream",
     "text": [
      "\r",
      " 80% (24 of 30) |###################     | Elapsed Time: 0:01:16 ETA:   0:00:10"
     ]
    },
    {
     "name": "stdout",
     "output_type": "stream",
     "text": [
      "[{'words': '活心鲜源所'}, {'words': '了荣百府振'}, {'words': '县像格影桥'}, {'words': '那长麻湾头'}]\n",
      "unif4e4.jpg\n"
     ]
    },
    {
     "name": "stderr",
     "output_type": "stream",
     "text": [
      "\r",
      " 83% (25 of 30) |####################    | Elapsed Time: 0:01:17 ETA:   0:00:07"
     ]
    },
    {
     "name": "stdout",
     "output_type": "stream",
     "text": [
      "[{'words': '站厂道如马'}, {'words': '可材九开药'}, {'words': '南粉烧我之'}, {'words': '临武校停自'}]\n",
      "unif5c9.jpg\n"
     ]
    },
    {
     "name": "stderr",
     "output_type": "stream",
     "text": [
      "\r",
      " 86% (26 of 30) |####################    | Elapsed Time: 0:01:19 ETA:   0:00:09"
     ]
    },
    {
     "name": "stdout",
     "output_type": "stream",
     "text": [
      "[{'words': '恒尚态走环'}, {'words': '网妆售价没'}, {'words': '嘉挺中科强'}, {'words': '他师名无用'}]\n",
      "unif698.jpg\n"
     ]
    },
    {
     "name": "stderr",
     "output_type": "stream",
     "text": [
      "\r",
      " 90% (27 of 30) |#####################   | Elapsed Time: 0:01:21 ETA:   0:00:05"
     ]
    },
    {
     "name": "stdout",
     "output_type": "stream",
     "text": [
      "[{'words': '牛制鱼面央'}, {'words': '队州业部与'}, {'words': '销现香铁阳'}, {'words': '博间再巷场'}]\n",
      "unif767.jpg\n"
     ]
    },
    {
     "name": "stderr",
     "output_type": "stream",
     "text": [
      "\r",
      " 93% (28 of 30) |######################  | Elapsed Time: 0:01:25 ETA:   0:00:07"
     ]
    },
    {
     "name": "stdout",
     "output_type": "stream",
     "text": [
      "[{'words': '岗购方六厦'}, {'words': '天时样陵叉'}, {'words': '员置饭意玉'}, {'words': '较主紫塘装'}]\n",
      "unif864.jpg\n"
     ]
    },
    {
     "name": "stderr",
     "output_type": "stream",
     "text": [
      "\r",
      " 96% (29 of 30) |####################### | Elapsed Time: 0:01:27 ETA:   0:00:02"
     ]
    },
    {
     "name": "stdout",
     "output_type": "stream",
     "text": [
      "[{'words': '居花器培瑞'}, {'words': '台栋记上量'}, {'words': '角烟选提华'}, {'words': '古营黄个雅'}]\n",
      "unif8f3.jpg\n"
     ]
    },
    {
     "name": "stderr",
     "output_type": "stream",
     "text": [
      "100% (30 of 30) |########################| Elapsed Time: 0:01:35 Time:  0:01:35\n"
     ]
    },
    {
     "name": "stdout",
     "output_type": "stream",
     "text": [
      "[{'words': '胜'}, {'words': '井火旗候费'}, {'words': '湖批太饼河'}]\n"
     ]
    }
   ],
   "source": [
    "uni2word_2 = {}\n",
    "for font_name in see_progress(os.listdir(r\"./DianPing_font_6\")):\n",
    "    print(font_name)\n",
    "    word_result = baidu_OCR(\"./DianPing_font_6/\"+font_name)\n",
    "    print(word_result)\n",
    "    uni2word_2[\"font_name\"] = word_result"
   ]
  },
  {
   "cell_type": "code",
   "execution_count": 160,
   "metadata": {},
   "outputs": [
    {
     "name": "stderr",
     "output_type": "stream",
     "text": [
      "\r",
      "N/A% (0 of 591) |                        | Elapsed Time: 0:00:00 ETA:  --:--:--"
     ]
    },
    {
     "name": "stdout",
     "output_type": "stream",
     "text": [
      "unie00f\n"
     ]
    },
    {
     "name": "stderr",
     "output_type": "stream",
     "text": [
      "\r",
      "  0% (1 of 591) |                        | Elapsed Time: 0:00:02 ETA:   0:20:39"
     ]
    },
    {
     "name": "stdout",
     "output_type": "stream",
     "text": [
      "[{'words': '桌'}]\n",
      "unie017\n"
     ]
    },
    {
     "name": "stderr",
     "output_type": "stream",
     "text": [
      "\r",
      "  0% (2 of 591) |                        | Elapsed Time: 0:00:04 ETA:   0:23:26"
     ]
    },
    {
     "name": "stdout",
     "output_type": "stream",
     "text": [
      "[{'words': '代'}]\n",
      "unie01b\n"
     ]
    },
    {
     "name": "stderr",
     "output_type": "stream",
     "text": [
      "\r",
      "  0% (3 of 591) |                        | Elapsed Time: 0:00:08 ETA:   0:36:09"
     ]
    },
    {
     "name": "stdout",
     "output_type": "stream",
     "text": [
      "[{'words': '锦'}]\n",
      "unie025\n"
     ]
    },
    {
     "name": "stderr",
     "output_type": "stream",
     "text": [
      "\r",
      "  0% (4 of 591) |                        | Elapsed Time: 0:00:09 ETA:   0:24:24"
     ]
    },
    {
     "name": "stdout",
     "output_type": "stream",
     "text": [
      "[{'words': '羊'}]\n",
      "unie028\n"
     ]
    },
    {
     "name": "stderr",
     "output_type": "stream",
     "text": [
      "\r",
      "  0% (5 of 591) |                        | Elapsed Time: 0:00:11 ETA:   0:21:21"
     ]
    },
    {
     "name": "stdout",
     "output_type": "stream",
     "text": [
      "[{'words': '泰'}]\n",
      "unie029\n"
     ]
    },
    {
     "name": "stderr",
     "output_type": "stream",
     "text": [
      "\r",
      "  1% (6 of 591) |                        | Elapsed Time: 0:00:13 ETA:   0:17:47"
     ]
    },
    {
     "name": "stdout",
     "output_type": "stream",
     "text": [
      "[]\n",
      "unie031\n"
     ]
    },
    {
     "name": "stderr",
     "output_type": "stream",
     "text": [
      "\r",
      "  1% (7 of 591) |                        | Elapsed Time: 0:00:15 ETA:   0:19:39"
     ]
    },
    {
     "name": "stdout",
     "output_type": "stream",
     "text": [
      "[{'words': '十'}]\n",
      "unie032\n"
     ]
    },
    {
     "name": "stderr",
     "output_type": "stream",
     "text": [
      "\r",
      "  1% (8 of 591) |                        | Elapsed Time: 0:00:16 ETA:   0:16:27"
     ]
    },
    {
     "name": "stdout",
     "output_type": "stream",
     "text": [
      "[{'words': '肉'}]\n",
      "unie034\n"
     ]
    },
    {
     "name": "stderr",
     "output_type": "stream",
     "text": [
      "\r",
      "  1% (9 of 591) |                        | Elapsed Time: 0:00:18 ETA:   0:15:37"
     ]
    },
    {
     "name": "stdout",
     "output_type": "stream",
     "text": [
      "[{'words': '卖'}]\n",
      "unie036\n"
     ]
    },
    {
     "name": "stderr",
     "output_type": "stream",
     "text": [
      "\r",
      "  1% (10 of 591) |                       | Elapsed Time: 0:00:23 ETA:   0:49:14"
     ]
    },
    {
     "name": "stdout",
     "output_type": "stream",
     "text": [
      "[{'words': '又'}]\n",
      "unie046\n"
     ]
    },
    {
     "name": "stderr",
     "output_type": "stream",
     "text": [
      "\r",
      "  1% (11 of 591) |                       | Elapsed Time: 0:00:28 ETA:   0:47:39"
     ]
    },
    {
     "name": "stdout",
     "output_type": "stream",
     "text": [
      "[{'words': '果'}]\n",
      "unie04e\n"
     ]
    },
    {
     "name": "stderr",
     "output_type": "stream",
     "text": [
      "\r",
      "  2% (12 of 591) |                       | Elapsed Time: 0:00:29 ETA:   0:31:01"
     ]
    },
    {
     "name": "stdout",
     "output_type": "stream",
     "text": [
      "[{'words': '嫩'}]\n",
      "unie053\n"
     ]
    },
    {
     "name": "stderr",
     "output_type": "stream",
     "text": [
      "\r",
      "  2% (13 of 591) |                       | Elapsed Time: 0:00:32 ETA:   0:21:25"
     ]
    },
    {
     "name": "stdout",
     "output_type": "stream",
     "text": [
      "[{'words': '妆酉'}]\n",
      "unie058\n"
     ]
    },
    {
     "name": "stderr",
     "output_type": "stream",
     "text": [
      "\r",
      "  2% (14 of 591) |                       | Elapsed Time: 0:00:34 ETA:   0:24:20"
     ]
    },
    {
     "name": "stdout",
     "output_type": "stream",
     "text": [
      "[{'words': '八'}]\n",
      "unie05b\n"
     ]
    },
    {
     "name": "stderr",
     "output_type": "stream",
     "text": [
      "\r",
      "  2% (15 of 591) |                       | Elapsed Time: 0:00:37 ETA:   0:26:48"
     ]
    },
    {
     "name": "stdout",
     "output_type": "stream",
     "text": [
      "[{'words': '连'}]\n",
      "unie05c\n"
     ]
    },
    {
     "name": "stderr",
     "output_type": "stream",
     "text": [
      "\r",
      "  2% (16 of 591) |                       | Elapsed Time: 0:00:38 ETA:   0:19:38"
     ]
    },
    {
     "name": "stdout",
     "output_type": "stream",
     "text": [
      "[{'words': '吉'}]\n",
      "unie05e\n"
     ]
    },
    {
     "name": "stderr",
     "output_type": "stream",
     "text": [
      "\r",
      "  2% (17 of 591) |                       | Elapsed Time: 0:00:40 ETA:   0:13:29"
     ]
    },
    {
     "name": "stdout",
     "output_type": "stream",
     "text": [
      "[{'words': '苑'}]\n",
      "unie062\n"
     ]
    },
    {
     "name": "stderr",
     "output_type": "stream",
     "text": [
      "\r",
      "  3% (18 of 591) |                       | Elapsed Time: 0:00:42 ETA:   0:21:49"
     ]
    },
    {
     "name": "stdout",
     "output_type": "stream",
     "text": [
      "[{'words': '康'}]\n",
      "unie067\n"
     ]
    },
    {
     "name": "stderr",
     "output_type": "stream",
     "text": [
      "\r",
      "  3% (19 of 591) |                       | Elapsed Time: 0:00:44 ETA:   0:20:00"
     ]
    },
    {
     "name": "stdout",
     "output_type": "stream",
     "text": [
      "[{'words': '鞋'}]\n",
      "unie069\n"
     ]
    },
    {
     "name": "stderr",
     "output_type": "stream",
     "text": [
      "\r",
      "  3% (20 of 591) |                       | Elapsed Time: 0:00:47 ETA:   0:28:36"
     ]
    },
    {
     "name": "stdout",
     "output_type": "stream",
     "text": [
      "[{'words': '里'}]\n",
      "unie072\n"
     ]
    },
    {
     "name": "stderr",
     "output_type": "stream",
     "text": [
      "\r",
      "  3% (21 of 591) |                       | Elapsed Time: 0:00:49 ETA:   0:22:10"
     ]
    },
    {
     "name": "stdout",
     "output_type": "stream",
     "text": [
      "[{'words': '束攵'}]\n",
      "unie08a\n"
     ]
    },
    {
     "name": "stderr",
     "output_type": "stream",
     "text": [
      "\r",
      "  3% (22 of 591) |                       | Elapsed Time: 0:00:50 ETA:   0:15:04"
     ]
    },
    {
     "name": "stdout",
     "output_type": "stream",
     "text": [
      "[{'words': '贝'}]\n",
      "unie090\n"
     ]
    },
    {
     "name": "stderr",
     "output_type": "stream",
     "text": [
      "\r",
      "  3% (23 of 591) |                       | Elapsed Time: 0:00:52 ETA:   0:13:56"
     ]
    },
    {
     "name": "stdout",
     "output_type": "stream",
     "text": [
      "[{'words': '发'}]\n",
      "unie091\n"
     ]
    },
    {
     "name": "stderr",
     "output_type": "stream",
     "text": [
      "\r",
      "  4% (24 of 591) |                       | Elapsed Time: 0:00:53 ETA:   0:13:35"
     ]
    },
    {
     "name": "stdout",
     "output_type": "stream",
     "text": [
      "[{'words': '号'}]\n",
      "unie092\n"
     ]
    },
    {
     "name": "stderr",
     "output_type": "stream",
     "text": [
      "\r",
      "  4% (25 of 591) |                       | Elapsed Time: 0:00:55 ETA:   0:13:03"
     ]
    },
    {
     "name": "stdout",
     "output_type": "stream",
     "text": [
      "[{'words': '口'}]\n",
      "unie09d\n"
     ]
    },
    {
     "name": "stderr",
     "output_type": "stream",
     "text": [
      "\r",
      "  4% (26 of 591) |#                      | Elapsed Time: 0:00:57 ETA:   0:25:42"
     ]
    },
    {
     "name": "stdout",
     "output_type": "stream",
     "text": [
      "[{'words': '景'}]\n",
      "unie0a0\n"
     ]
    },
    {
     "name": "stderr",
     "output_type": "stream",
     "text": [
      "\r",
      "  4% (27 of 591) |#                      | Elapsed Time: 0:00:59 ETA:   0:19:07"
     ]
    },
    {
     "name": "stdout",
     "output_type": "stream",
     "text": [
      "[{'words': 'N文'}]\n",
      "unie0a6\n"
     ]
    },
    {
     "name": "stderr",
     "output_type": "stream",
     "text": [
      "\r",
      "  4% (28 of 591) |#                      | Elapsed Time: 0:01:01 ETA:   0:16:53"
     ]
    },
    {
     "name": "stdout",
     "output_type": "stream",
     "text": [
      "[{'words': '店'}]\n",
      "unie0ab\n"
     ]
    },
    {
     "name": "stderr",
     "output_type": "stream",
     "text": [
      "\r",
      "  4% (29 of 591) |#                      | Elapsed Time: 0:01:03 ETA:   0:15:08"
     ]
    },
    {
     "name": "stdout",
     "output_type": "stream",
     "text": [
      "[]\n",
      "unie0ae\n"
     ]
    },
    {
     "name": "stderr",
     "output_type": "stream",
     "text": [
      "\r",
      "  5% (30 of 591) |#                      | Elapsed Time: 0:01:04 ETA:   0:15:24"
     ]
    },
    {
     "name": "stdout",
     "output_type": "stream",
     "text": [
      "[{'words': '维'}]\n",
      "unie0bb\n"
     ]
    },
    {
     "name": "stderr",
     "output_type": "stream",
     "text": [
      "\r",
      "  5% (31 of 591) |#                      | Elapsed Time: 0:01:06 ETA:   0:14:54"
     ]
    },
    {
     "name": "stdout",
     "output_type": "stream",
     "text": [
      "[{'words': '司'}]\n",
      "unie0ef\n"
     ]
    },
    {
     "name": "stderr",
     "output_type": "stream",
     "text": [
      "\r",
      "  5% (32 of 591) |#                      | Elapsed Time: 0:01:08 ETA:   0:19:16"
     ]
    },
    {
     "name": "stdout",
     "output_type": "stream",
     "text": [
      "[{'words': '刊'}]\n",
      "unie0f7\n"
     ]
    },
    {
     "name": "stderr",
     "output_type": "stream",
     "text": [
      "\r",
      "  5% (33 of 591) |#                      | Elapsed Time: 0:01:10 ETA:   0:18:36"
     ]
    },
    {
     "name": "stdout",
     "output_type": "stream",
     "text": [
      "[{'words': '尔'}]\n",
      "unie10f\n"
     ]
    },
    {
     "name": "stderr",
     "output_type": "stream",
     "text": [
      "\r",
      "  5% (34 of 591) |#                      | Elapsed Time: 0:01:12 ETA:   0:17:41"
     ]
    },
    {
     "name": "stdout",
     "output_type": "stream",
     "text": [
      "[{'words': '直'}]\n",
      "unie11c\n"
     ]
    },
    {
     "name": "stderr",
     "output_type": "stream",
     "text": [
      "\r",
      "  5% (35 of 591) |#                      | Elapsed Time: 0:01:14 ETA:   0:21:12"
     ]
    },
    {
     "name": "stdout",
     "output_type": "stream",
     "text": [
      "[]\n",
      "unie11e\n"
     ]
    },
    {
     "name": "stderr",
     "output_type": "stream",
     "text": [
      "\r",
      "  6% (36 of 591) |#                      | Elapsed Time: 0:01:16 ETA:   0:19:45"
     ]
    },
    {
     "name": "stdout",
     "output_type": "stream",
     "text": [
      "[{'words': '利'}]\n",
      "unie121\n"
     ]
    },
    {
     "name": "stderr",
     "output_type": "stream",
     "text": [
      "\r",
      "  6% (37 of 591) |#                      | Elapsed Time: 0:01:18 ETA:   0:17:41"
     ]
    },
    {
     "name": "stdout",
     "output_type": "stream",
     "text": [
      "[{'words': '附'}]\n",
      "unie131\n"
     ]
    },
    {
     "name": "stderr",
     "output_type": "stream",
     "text": [
      "\r",
      "  6% (38 of 591) |#                      | Elapsed Time: 0:01:20 ETA:   0:18:29"
     ]
    },
    {
     "name": "stdout",
     "output_type": "stream",
     "text": [
      "[{'words': '出'}]\n",
      "unie13c\n"
     ]
    },
    {
     "name": "stderr",
     "output_type": "stream",
     "text": [
      "\r",
      "  6% (39 of 591) |#                      | Elapsed Time: 0:01:21 ETA:   0:16:28"
     ]
    },
    {
     "name": "stdout",
     "output_type": "stream",
     "text": [
      "[{'words': '比'}]\n",
      "unie14a\n"
     ]
    },
    {
     "name": "stderr",
     "output_type": "stream",
     "text": [
      "\r",
      "  6% (40 of 591) |#                      | Elapsed Time: 0:01:25 ETA:   0:32:30"
     ]
    },
    {
     "name": "stdout",
     "output_type": "stream",
     "text": [
      "[{'words': '性'}]\n",
      "unie16a\n"
     ]
    },
    {
     "name": "stderr",
     "output_type": "stream",
     "text": [
      "\r",
      "  6% (41 of 591) |#                      | Elapsed Time: 0:01:27 ETA:   0:19:07"
     ]
    },
    {
     "name": "stdout",
     "output_type": "stream",
     "text": [
      "[{'words': '度'}]\n",
      "unie16f\n"
     ]
    },
    {
     "name": "stderr",
     "output_type": "stream",
     "text": [
      "\r",
      "  7% (42 of 591) |#                      | Elapsed Time: 0:01:30 ETA:   0:28:00"
     ]
    },
    {
     "name": "stdout",
     "output_type": "stream",
     "text": [
      "[{'words': '林'}]\n",
      "unie172\n"
     ]
    },
    {
     "name": "stderr",
     "output_type": "stream",
     "text": [
      "\r",
      "  7% (43 of 591) |#                      | Elapsed Time: 0:01:35 ETA:   0:48:17"
     ]
    },
    {
     "name": "stdout",
     "output_type": "stream",
     "text": [
      "[{'words': '田'}]\n",
      "unie176\n"
     ]
    },
    {
     "name": "stderr",
     "output_type": "stream",
     "text": [
      "\r",
      "  7% (44 of 591) |#                      | Elapsed Time: 0:01:40 ETA:   0:46:51"
     ]
    },
    {
     "name": "stdout",
     "output_type": "stream",
     "text": [
      "[{'words': '份'}]\n",
      "unie18f\n"
     ]
    },
    {
     "name": "stderr",
     "output_type": "stream",
     "text": [
      "\r",
      "  7% (45 of 591) |#                      | Elapsed Time: 0:01:42 ETA:   0:18:37"
     ]
    },
    {
     "name": "stdout",
     "output_type": "stream",
     "text": [
      "[{'words': '清'}]\n",
      "unie198\n"
     ]
    },
    {
     "name": "stderr",
     "output_type": "stream",
     "text": [
      "\r",
      "  7% (46 of 591) |#                      | Elapsed Time: 0:01:44 ETA:   0:16:37"
     ]
    },
    {
     "name": "stdout",
     "output_type": "stream",
     "text": [
      "[{'words': '斜'}]\n",
      "unie1a1\n"
     ]
    },
    {
     "name": "stderr",
     "output_type": "stream",
     "text": [
      "\r",
      "  7% (47 of 591) |#                      | Elapsed Time: 0:01:46 ETA:   0:15:03"
     ]
    },
    {
     "name": "stdout",
     "output_type": "stream",
     "text": [
      "[{'words': '处'}]\n",
      "unie1b1\n"
     ]
    },
    {
     "name": "stderr",
     "output_type": "stream",
     "text": [
      "\r",
      "  8% (48 of 591) |#                      | Elapsed Time: 0:01:47 ETA:   0:15:19"
     ]
    },
    {
     "name": "stdout",
     "output_type": "stream",
     "text": [
      "[{'words': '板'}]\n",
      "unie1b6\n"
     ]
    },
    {
     "name": "stderr",
     "output_type": "stream",
     "text": [
      "\r",
      "  8% (49 of 591) |#                      | Elapsed Time: 0:01:51 ETA:   0:30:09"
     ]
    },
    {
     "name": "stdout",
     "output_type": "stream",
     "text": [
      "[{'words': '同'}]\n",
      "unie1be\n"
     ]
    },
    {
     "name": "stderr",
     "output_type": "stream",
     "text": [
      "\r",
      "  8% (50 of 591) |#                      | Elapsed Time: 0:01:53 ETA:   0:23:41"
     ]
    },
    {
     "name": "stdout",
     "output_type": "stream",
     "text": [
      "[{'words': '以'}]\n",
      "unie1ca\n"
     ]
    },
    {
     "name": "stderr",
     "output_type": "stream",
     "text": [
      "\r",
      "  8% (51 of 591) |#                      | Elapsed Time: 0:01:55 ETA:   0:19:25"
     ]
    },
    {
     "name": "stdout",
     "output_type": "stream",
     "text": [
      "[{'words': '给'}]\n",
      "unie1cd\n"
     ]
    },
    {
     "name": "stderr",
     "output_type": "stream",
     "text": [
      "\r",
      "  8% (52 of 591) |##                     | Elapsed Time: 0:01:57 ETA:   0:21:10"
     ]
    },
    {
     "name": "stdout",
     "output_type": "stream",
     "text": [
      "[]\n",
      "unie1ec\n"
     ]
    },
    {
     "name": "stderr",
     "output_type": "stream",
     "text": [
      "\r",
      "  8% (53 of 591) |##                     | Elapsed Time: 0:02:01 ETA:   0:32:55"
     ]
    },
    {
     "name": "stdout",
     "output_type": "stream",
     "text": [
      "[{'words': '步'}]\n",
      "unie1f0\n"
     ]
    },
    {
     "name": "stderr",
     "output_type": "stream",
     "text": [
      "\r",
      "  9% (54 of 591) |##                     | Elapsed Time: 0:02:03 ETA:   0:24:48"
     ]
    },
    {
     "name": "stdout",
     "output_type": "stream",
     "text": [
      "[{'words': '关'}]\n",
      "unie1fb\n"
     ]
    },
    {
     "name": "stderr",
     "output_type": "stream",
     "text": [
      "\r",
      "  9% (55 of 591) |##                     | Elapsed Time: 0:02:06 ETA:   0:24:57"
     ]
    },
    {
     "name": "stdout",
     "output_type": "stream",
     "text": [
      "[{'words': '松'}]\n",
      "unie200\n"
     ]
    },
    {
     "name": "stderr",
     "output_type": "stream",
     "text": [
      "\r",
      "  9% (56 of 591) |##                     | Elapsed Time: 0:02:09 ETA:   0:28:49"
     ]
    },
    {
     "name": "stdout",
     "output_type": "stream",
     "text": [
      "[{'words': '红'}]\n",
      "unie230\n"
     ]
    },
    {
     "name": "stderr",
     "output_type": "stream",
     "text": [
      "\r",
      "  9% (57 of 591) |##                     | Elapsed Time: 0:02:11 ETA:   0:18:24"
     ]
    },
    {
     "name": "stdout",
     "output_type": "stream",
     "text": [
      "[{'words': '东'}]\n",
      "unie237\n"
     ]
    },
    {
     "name": "stderr",
     "output_type": "stream",
     "text": [
      "\r",
      "  9% (58 of 591) |##                     | Elapsed Time: 0:02:12 ETA:   0:16:12"
     ]
    },
    {
     "name": "stdout",
     "output_type": "stream",
     "text": [
      "[{'words': '好'}]\n",
      "unie23d\n"
     ]
    },
    {
     "name": "stderr",
     "output_type": "stream",
     "text": [
      "\r",
      "  9% (59 of 591) |##                     | Elapsed Time: 0:02:14 ETA:   0:14:07"
     ]
    },
    {
     "name": "stdout",
     "output_type": "stream",
     "text": [
      "[{'words': '梅'}]\n",
      "unie242\n"
     ]
    },
    {
     "name": "stderr",
     "output_type": "stream",
     "text": [
      "\r",
      " 10% (60 of 591) |##                     | Elapsed Time: 0:02:16 ETA:   0:15:00"
     ]
    },
    {
     "name": "stdout",
     "output_type": "stream",
     "text": [
      "[{'words': '酸'}]\n",
      "unie244\n"
     ]
    },
    {
     "name": "stderr",
     "output_type": "stream",
     "text": [
      "\r",
      " 10% (61 of 591) |##                     | Elapsed Time: 0:02:18 ETA:   0:18:46"
     ]
    },
    {
     "name": "stdout",
     "output_type": "stream",
     "text": [
      "[{'words': '线'}]\n",
      "unie25a\n"
     ]
    },
    {
     "name": "stderr",
     "output_type": "stream",
     "text": [
      "\r",
      " 10% (62 of 591) |##                     | Elapsed Time: 0:02:20 ETA:   0:17:47"
     ]
    },
    {
     "name": "stdout",
     "output_type": "stream",
     "text": [
      "[{'words': '跟'}]\n",
      "unie25f\n"
     ]
    },
    {
     "name": "stderr",
     "output_type": "stream",
     "text": [
      "\r",
      " 10% (63 of 591) |##                     | Elapsed Time: 0:02:22 ETA:   0:17:06"
     ]
    },
    {
     "name": "stdout",
     "output_type": "stream",
     "text": [
      "[{'words': '杨'}]\n",
      "unie261\n"
     ]
    },
    {
     "name": "stderr",
     "output_type": "stream",
     "text": [
      "\r",
      " 10% (64 of 591) |##                     | Elapsed Time: 0:02:24 ETA:   0:22:06"
     ]
    },
    {
     "name": "stdout",
     "output_type": "stream",
     "text": [
      "[{'words': '味'}]\n",
      "unie26e\n"
     ]
    },
    {
     "name": "stderr",
     "output_type": "stream",
     "text": [
      "\r",
      " 10% (65 of 591) |##                     | Elapsed Time: 0:02:26 ETA:   0:18:34"
     ]
    },
    {
     "name": "stdout",
     "output_type": "stream",
     "text": [
      "[]\n",
      "unie272\n"
     ]
    },
    {
     "name": "stderr",
     "output_type": "stream",
     "text": [
      "\r",
      " 11% (66 of 591) |##                     | Elapsed Time: 0:02:27 ETA:   0:13:26"
     ]
    },
    {
     "name": "stdout",
     "output_type": "stream",
     "text": [
      "[{'words': '广'}]\n",
      "unie293\n"
     ]
    },
    {
     "name": "stderr",
     "output_type": "stream",
     "text": [
      "\r",
      " 11% (67 of 591) |##                     | Elapsed Time: 0:02:29 ETA:   0:12:46"
     ]
    },
    {
     "name": "stdout",
     "output_type": "stream",
     "text": [
      "[{'words': '干'}]\n",
      "unie298\n"
     ]
    },
    {
     "name": "stderr",
     "output_type": "stream",
     "text": [
      "\r",
      " 11% (68 of 591) |##                     | Elapsed Time: 0:02:31 ETA:   0:15:33"
     ]
    },
    {
     "name": "stdout",
     "output_type": "stream",
     "text": [
      "[{'words': '完'}]\n",
      "unie29a\n"
     ]
    },
    {
     "name": "stderr",
     "output_type": "stream",
     "text": [
      "\r",
      " 11% (69 of 591) |##                     | Elapsed Time: 0:02:33 ETA:   0:15:12"
     ]
    },
    {
     "name": "stdout",
     "output_type": "stream",
     "text": [
      "[]\n",
      "unie29d\n"
     ]
    },
    {
     "name": "stderr",
     "output_type": "stream",
     "text": [
      "\r",
      " 11% (70 of 591) |##                     | Elapsed Time: 0:02:34 ETA:   0:15:05"
     ]
    },
    {
     "name": "stdout",
     "output_type": "stream",
     "text": [
      "[{'words': '凤'}]\n",
      "unie2b8\n"
     ]
    },
    {
     "name": "stderr",
     "output_type": "stream",
     "text": [
      "\r",
      " 12% (71 of 591) |##                     | Elapsed Time: 0:02:36 ETA:   0:16:25"
     ]
    },
    {
     "name": "stdout",
     "output_type": "stream",
     "text": [
      "[{'words': '啊'}]\n",
      "unie2bb\n"
     ]
    },
    {
     "name": "stderr",
     "output_type": "stream",
     "text": [
      "\r",
      " 12% (72 of 591) |##                     | Elapsed Time: 0:02:38 ETA:   0:17:36"
     ]
    },
    {
     "name": "stdout",
     "output_type": "stream",
     "text": [
      "[{'words': '放'}]\n",
      "unie2c5\n"
     ]
    },
    {
     "name": "stderr",
     "output_type": "stream",
     "text": [
      "\r",
      " 12% (73 of 591) |##                     | Elapsed Time: 0:02:40 ETA:   0:16:50"
     ]
    },
    {
     "name": "stdout",
     "output_type": "stream",
     "text": [
      "[{'words': '民'}]\n",
      "unie2cf\n"
     ]
    },
    {
     "name": "stderr",
     "output_type": "stream",
     "text": [
      "\r",
      " 12% (74 of 591) |##                     | Elapsed Time: 0:02:42 ETA:   0:17:37"
     ]
    },
    {
     "name": "stdout",
     "output_type": "stream",
     "text": [
      "[{'words': '棒'}]\n",
      "unie2d7\n"
     ]
    },
    {
     "name": "stderr",
     "output_type": "stream",
     "text": [
      "\r",
      " 12% (75 of 591) |##                     | Elapsed Time: 0:02:44 ETA:   0:14:17"
     ]
    },
    {
     "name": "stdout",
     "output_type": "stream",
     "text": [
      "[{'words': '世'}]\n",
      "unie2da\n"
     ]
    },
    {
     "name": "stderr",
     "output_type": "stream",
     "text": [
      "\r",
      " 12% (76 of 591) |##                     | Elapsed Time: 0:02:45 ETA:   0:11:20"
     ]
    },
    {
     "name": "stdout",
     "output_type": "stream",
     "text": [
      "[{'words': '宝'}]\n",
      "unie2dd\n"
     ]
    },
    {
     "name": "stderr",
     "output_type": "stream",
     "text": [
      "\r",
      " 13% (77 of 591) |##                     | Elapsed Time: 0:02:48 ETA:   0:30:05"
     ]
    },
    {
     "name": "stdout",
     "output_type": "stream",
     "text": [
      "[{'words': '正'}]\n",
      "unie2e1\n"
     ]
    },
    {
     "name": "stderr",
     "output_type": "stream",
     "text": [
      "\r",
      " 13% (78 of 591) |###                    | Elapsed Time: 0:02:50 ETA:   0:22:43"
     ]
    },
    {
     "name": "stdout",
     "output_type": "stream",
     "text": [
      "[{'words': '东'}]\n",
      "unie2f0\n"
     ]
    },
    {
     "name": "stderr",
     "output_type": "stream",
     "text": [
      "\r",
      " 13% (79 of 591) |###                    | Elapsed Time: 0:02:53 ETA:   0:23:00"
     ]
    },
    {
     "name": "stdout",
     "output_type": "stream",
     "text": [
      "[{'words': '看'}]\n",
      "unie300\n"
     ]
    },
    {
     "name": "stderr",
     "output_type": "stream",
     "text": [
      "\r",
      " 13% (80 of 591) |###                    | Elapsed Time: 0:02:55 ETA:   0:17:07"
     ]
    },
    {
     "name": "stdout",
     "output_type": "stream",
     "text": [
      "[{'words': '汤'}]\n",
      "unie30e\n"
     ]
    },
    {
     "name": "stderr",
     "output_type": "stream",
     "text": [
      "\r",
      " 13% (81 of 591) |###                    | Elapsed Time: 0:02:57 ETA:   0:15:39"
     ]
    },
    {
     "name": "stdout",
     "output_type": "stream",
     "text": [
      "[{'words': '段'}]\n",
      "unie312\n"
     ]
    },
    {
     "name": "stderr",
     "output_type": "stream",
     "text": [
      "\r",
      " 13% (82 of 591) |###                    | Elapsed Time: 0:02:58 ETA:   0:14:43"
     ]
    },
    {
     "name": "stdout",
     "output_type": "stream",
     "text": [
      "[{'words': '品'}]\n",
      "unie319\n"
     ]
    },
    {
     "name": "stderr",
     "output_type": "stream",
     "text": [
      "\r",
      " 14% (83 of 591) |###                    | Elapsed Time: 0:03:00 ETA:   0:15:03"
     ]
    },
    {
     "name": "stdout",
     "output_type": "stream",
     "text": [
      "[{'words': '明'}]\n",
      "unie326\n"
     ]
    },
    {
     "name": "stderr",
     "output_type": "stream",
     "text": [
      "\r",
      " 14% (84 of 591) |###                    | Elapsed Time: 0:03:03 ETA:   0:27:33"
     ]
    },
    {
     "name": "stdout",
     "output_type": "stream",
     "text": [
      "[{'words': '虹'}]\n",
      "unie329\n"
     ]
    },
    {
     "name": "stderr",
     "output_type": "stream",
     "text": [
      "\r",
      " 14% (85 of 591) |###                    | Elapsed Time: 0:03:06 ETA:   0:23:44"
     ]
    },
    {
     "name": "stdout",
     "output_type": "stream",
     "text": [
      "[{'words': '吃'}]\n",
      "unie32e\n"
     ]
    },
    {
     "name": "stderr",
     "output_type": "stream",
     "text": [
      "\r",
      " 14% (86 of 591) |###                    | Elapsed Time: 0:03:08 ETA:   0:18:52"
     ]
    },
    {
     "name": "stdout",
     "output_type": "stream",
     "text": [
      "[{'words': '京'}]\n",
      "unie348\n"
     ]
    },
    {
     "name": "stderr",
     "output_type": "stream",
     "text": [
      "\r",
      " 14% (87 of 591) |###                    | Elapsed Time: 0:03:09 ETA:   0:13:43"
     ]
    },
    {
     "name": "stdout",
     "output_type": "stream",
     "text": [
      "[{'words': '技'}]\n",
      "unie352\n"
     ]
    },
    {
     "name": "stderr",
     "output_type": "stream",
     "text": [
      "\r",
      " 14% (88 of 591) |###                    | Elapsed Time: 0:03:12 ETA:   0:24:42"
     ]
    },
    {
     "name": "stdout",
     "output_type": "stream",
     "text": [
      "[{'words': '这'}]\n",
      "unie371\n"
     ]
    },
    {
     "name": "stderr",
     "output_type": "stream",
     "text": [
      "\r",
      " 15% (89 of 591) |###                    | Elapsed Time: 0:03:15 ETA:   0:24:07"
     ]
    },
    {
     "name": "stdout",
     "output_type": "stream",
     "text": [
      "[{'words': '福'}]\n",
      "unie37b\n"
     ]
    },
    {
     "name": "stderr",
     "output_type": "stream",
     "text": [
      "\r",
      " 15% (90 of 591) |###                    | Elapsed Time: 0:03:18 ETA:   0:23:06"
     ]
    },
    {
     "name": "stdout",
     "output_type": "stream",
     "text": [
      "[{'words': '串'}]\n",
      "unie392\n"
     ]
    },
    {
     "name": "stderr",
     "output_type": "stream",
     "text": [
      "\r",
      " 15% (91 of 591) |###                    | Elapsed Time: 0:03:20 ETA:   0:18:58"
     ]
    },
    {
     "name": "stdout",
     "output_type": "stream",
     "text": [
      "[{'words': '办'}]\n",
      "unie39e\n"
     ]
    },
    {
     "name": "stderr",
     "output_type": "stream",
     "text": [
      "\r",
      " 15% (92 of 591) |###                    | Elapsed Time: 0:03:22 ETA:   0:14:56"
     ]
    },
    {
     "name": "stdout",
     "output_type": "stream",
     "text": [
      "[]\n",
      "unie3a7\n"
     ]
    },
    {
     "name": "stderr",
     "output_type": "stream",
     "text": [
      "\r",
      " 15% (93 of 591) |###                    | Elapsed Time: 0:03:24 ETA:   0:15:26"
     ]
    },
    {
     "name": "stdout",
     "output_type": "stream",
     "text": [
      "[{'words': '连'}]\n",
      "unie3a8\n"
     ]
    },
    {
     "name": "stderr",
     "output_type": "stream",
     "text": [
      "\r",
      " 15% (94 of 591) |###                    | Elapsed Time: 0:03:25 ETA:   0:13:13"
     ]
    },
    {
     "name": "stdout",
     "output_type": "stream",
     "text": [
      "[{'words': '料'}]\n",
      "unie3af\n"
     ]
    },
    {
     "name": "stderr",
     "output_type": "stream",
     "text": [
      "\r",
      " 16% (95 of 591) |###                    | Elapsed Time: 0:03:27 ETA:   0:20:00"
     ]
    },
    {
     "name": "stdout",
     "output_type": "stream",
     "text": [
      "[{'words': '内'}]\n",
      "unie3c6\n"
     ]
    },
    {
     "name": "stderr",
     "output_type": "stream",
     "text": [
      "\r",
      " 16% (96 of 591) |###                    | Elapsed Time: 0:03:31 ETA:   0:30:23"
     ]
    },
    {
     "name": "stdout",
     "output_type": "stream",
     "text": [
      "[{'words': '配'}]\n",
      "unie3d7\n"
     ]
    },
    {
     "name": "stderr",
     "output_type": "stream",
     "text": [
      "\r",
      " 16% (97 of 591) |###                    | Elapsed Time: 0:03:36 ETA:   0:38:41"
     ]
    },
    {
     "name": "stdout",
     "output_type": "stream",
     "text": [
      "[{'words': '峰'}]\n",
      "unie3e3\n"
     ]
    },
    {
     "name": "stderr",
     "output_type": "stream",
     "text": [
      "\r",
      " 16% (98 of 591) |###                    | Elapsed Time: 0:03:38 ETA:   0:16:39"
     ]
    },
    {
     "name": "stdout",
     "output_type": "stream",
     "text": [
      "[]\n",
      "unie3e5\n"
     ]
    },
    {
     "name": "stderr",
     "output_type": "stream",
     "text": [
      "\r",
      " 16% (99 of 591) |###                    | Elapsed Time: 0:03:40 ETA:   0:15:57"
     ]
    },
    {
     "name": "stdout",
     "output_type": "stream",
     "text": [
      "[{'words': '石'}]\n",
      "unie3e9\n"
     ]
    },
    {
     "name": "stderr",
     "output_type": "stream",
     "text": [
      "\r",
      " 16% (100 of 591) |###                   | Elapsed Time: 0:03:41 ETA:   0:14:29"
     ]
    },
    {
     "name": "stdout",
     "output_type": "stream",
     "text": [
      "[{'words': '就'}]\n",
      "unie3f1\n"
     ]
    },
    {
     "name": "stderr",
     "output_type": "stream",
     "text": [
      "\r",
      " 17% (101 of 591) |###                   | Elapsed Time: 0:03:44 ETA:   0:20:07"
     ]
    },
    {
     "name": "stdout",
     "output_type": "stream",
     "text": [
      "[{'words': '解'}]\n",
      "unie3f9\n"
     ]
    },
    {
     "name": "stderr",
     "output_type": "stream",
     "text": [
      "\r",
      " 17% (102 of 591) |###                   | Elapsed Time: 0:03:46 ETA:   0:19:31"
     ]
    },
    {
     "name": "stdout",
     "output_type": "stream",
     "text": [
      "[{'words': '光'}]\n",
      "unie423\n"
     ]
    },
    {
     "name": "stderr",
     "output_type": "stream",
     "text": [
      "\r",
      " 17% (103 of 591) |###                   | Elapsed Time: 0:03:49 ETA:   0:20:55"
     ]
    },
    {
     "name": "stdout",
     "output_type": "stream",
     "text": [
      "[{'words': '期'}]\n",
      "unie433\n"
     ]
    },
    {
     "name": "stderr",
     "output_type": "stream",
     "text": [
      "\r",
      " 17% (104 of 591) |###                   | Elapsed Time: 0:03:50 ETA:   0:16:53"
     ]
    },
    {
     "name": "stdout",
     "output_type": "stream",
     "text": [
      "[{'words': '加'}]\n",
      "unie441\n"
     ]
    },
    {
     "name": "stderr",
     "output_type": "stream",
     "text": [
      "\r",
      " 17% (105 of 591) |###                   | Elapsed Time: 0:03:52 ETA:   0:13:04"
     ]
    },
    {
     "name": "stdout",
     "output_type": "stream",
     "text": [
      "[]\n",
      "unie459\n"
     ]
    },
    {
     "name": "stderr",
     "output_type": "stream",
     "text": [
      "\r",
      " 17% (106 of 591) |###                   | Elapsed Time: 0:03:54 ETA:   0:14:06"
     ]
    },
    {
     "name": "stdout",
     "output_type": "stream",
     "text": [
      "[{'words': '堂'}]\n",
      "unie45b\n"
     ]
    },
    {
     "name": "stderr",
     "output_type": "stream",
     "text": [
      "\r",
      " 18% (107 of 591) |###                   | Elapsed Time: 0:03:59 ETA:   0:44:22"
     ]
    },
    {
     "name": "stdout",
     "output_type": "stream",
     "text": [
      "[{'words': '行'}]\n",
      "unie45d\n"
     ]
    },
    {
     "name": "stderr",
     "output_type": "stream",
     "text": [
      "\r",
      " 18% (108 of 591) |####                  | Elapsed Time: 0:04:02 ETA:   0:19:12"
     ]
    },
    {
     "name": "stdout",
     "output_type": "stream",
     "text": [
      "[{'words': '且'}]\n",
      "unie47c\n"
     ]
    },
    {
     "name": "stderr",
     "output_type": "stream",
     "text": [
      "\r",
      " 18% (109 of 591) |####                  | Elapsed Time: 0:04:03 ETA:   0:16:41"
     ]
    },
    {
     "name": "stdout",
     "output_type": "stream",
     "text": [
      "[{'words': '物'}]\n",
      "unie487\n"
     ]
    },
    {
     "name": "stderr",
     "output_type": "stream",
     "text": [
      "\r",
      " 18% (110 of 591) |####                  | Elapsed Time: 0:04:05 ETA:   0:16:15"
     ]
    },
    {
     "name": "stdout",
     "output_type": "stream",
     "text": [
      "[{'words': '保'}]\n",
      "unie493\n"
     ]
    },
    {
     "name": "stderr",
     "output_type": "stream",
     "text": [
      "\r",
      " 18% (111 of 591) |####                  | Elapsed Time: 0:04:11 ETA:   0:48:12"
     ]
    },
    {
     "name": "stdout",
     "output_type": "stream",
     "text": [
      "[{'words': '儿'}]\n",
      "unie495\n"
     ]
    },
    {
     "name": "stderr",
     "output_type": "stream",
     "text": [
      "\r",
      " 18% (112 of 591) |####                  | Elapsed Time: 0:04:14 ETA:   0:20:45"
     ]
    },
    {
     "name": "stdout",
     "output_type": "stream",
     "text": [
      "[{'words': '龙'}]\n",
      "unie4a1\n"
     ]
    },
    {
     "name": "stderr",
     "output_type": "stream",
     "text": [
      "\r",
      " 19% (113 of 591) |####                  | Elapsed Time: 0:04:16 ETA:   0:16:29"
     ]
    },
    {
     "name": "stdout",
     "output_type": "stream",
     "text": [
      "[{'words': '朋'}]\n",
      "unie4a4\n"
     ]
    },
    {
     "name": "stderr",
     "output_type": "stream",
     "text": [
      "\r",
      " 19% (114 of 591) |####                  | Elapsed Time: 0:04:19 ETA:   0:26:33"
     ]
    },
    {
     "name": "stdout",
     "output_type": "stream",
     "text": [
      "[{'words': '因'}]\n",
      "unie4a9\n"
     ]
    },
    {
     "name": "stderr",
     "output_type": "stream",
     "text": [
      "\r",
      " 19% (115 of 591) |####                  | Elapsed Time: 0:04:20 ETA:   0:19:17"
     ]
    },
    {
     "name": "stdout",
     "output_type": "stream",
     "text": [
      "[{'words': '出'}]\n",
      "unie4c6\n"
     ]
    },
    {
     "name": "stderr",
     "output_type": "stream",
     "text": [
      "\r",
      " 19% (116 of 591) |####                  | Elapsed Time: 0:04:22 ETA:   0:12:19"
     ]
    },
    {
     "name": "stdout",
     "output_type": "stream",
     "text": [
      "[{'words': '际'}]\n",
      "unie4ca\n"
     ]
    },
    {
     "name": "stderr",
     "output_type": "stream",
     "text": [
      "\r",
      " 19% (117 of 591) |####                  | Elapsed Time: 0:04:24 ETA:   0:13:53"
     ]
    },
    {
     "name": "stdout",
     "output_type": "stream",
     "text": [
      "[{'words': '块'}]\n",
      "unie4ce\n"
     ]
    },
    {
     "name": "stderr",
     "output_type": "stream",
     "text": [
      "\r",
      " 19% (118 of 591) |####                  | Elapsed Time: 0:04:27 ETA:   0:25:56"
     ]
    },
    {
     "name": "stdout",
     "output_type": "stream",
     "text": [
      "[{'words': '过'}]\n",
      "unie4da\n"
     ]
    },
    {
     "name": "stderr",
     "output_type": "stream",
     "text": [
      "\r",
      " 20% (119 of 591) |####                  | Elapsed Time: 0:04:29 ETA:   0:16:03"
     ]
    },
    {
     "name": "stdout",
     "output_type": "stream",
     "text": [
      "[]\n",
      "unie4f4\n"
     ]
    },
    {
     "name": "stderr",
     "output_type": "stream",
     "text": [
      "\r",
      " 20% (120 of 591) |####                  | Elapsed Time: 0:04:31 ETA:   0:14:07"
     ]
    },
    {
     "name": "stdout",
     "output_type": "stream",
     "text": [
      "[{'words': '着'}]\n",
      "unie50b\n"
     ]
    },
    {
     "name": "stderr",
     "output_type": "stream",
     "text": [
      "\r",
      " 20% (121 of 591) |####                  | Elapsed Time: 0:04:33 ETA:   0:12:26"
     ]
    },
    {
     "name": "stdout",
     "output_type": "stream",
     "text": [
      "[{'words': '到'}]\n",
      "unie51b\n"
     ]
    },
    {
     "name": "stderr",
     "output_type": "stream",
     "text": [
      "\r",
      " 20% (122 of 591) |####                  | Elapsed Time: 0:04:34 ETA:   0:11:47"
     ]
    },
    {
     "name": "stdout",
     "output_type": "stream",
     "text": [
      "[{'words': '江'}]\n",
      "unie51c\n"
     ]
    },
    {
     "name": "stderr",
     "output_type": "stream",
     "text": [
      "\r",
      " 20% (123 of 591) |####                  | Elapsed Time: 0:04:36 ETA:   0:13:09"
     ]
    },
    {
     "name": "stdout",
     "output_type": "stream",
     "text": [
      "[{'words': '联'}]\n",
      "unie51d\n"
     ]
    },
    {
     "name": "stderr",
     "output_type": "stream",
     "text": [
      "\r",
      " 20% (124 of 591) |####                  | Elapsed Time: 0:04:38 ETA:   0:18:43"
     ]
    },
    {
     "name": "stdout",
     "output_type": "stream",
     "text": [
      "[{'words': '银'}]\n",
      "unie53e\n"
     ]
    },
    {
     "name": "stderr",
     "output_type": "stream",
     "text": [
      "\r",
      " 21% (125 of 591) |####                  | Elapsed Time: 0:04:41 ETA:   0:20:14"
     ]
    },
    {
     "name": "stdout",
     "output_type": "stream",
     "text": [
      "[{'words': '安'}]\n",
      "unie53f\n"
     ]
    },
    {
     "name": "stderr",
     "output_type": "stream",
     "text": [
      "\r",
      " 21% (126 of 591) |####                  | Elapsed Time: 0:04:43 ETA:   0:17:01"
     ]
    },
    {
     "name": "stdout",
     "output_type": "stream",
     "text": [
      "[{'words': '说'}]\n",
      "unie547\n"
     ]
    },
    {
     "name": "stderr",
     "output_type": "stream",
     "text": [
      "\r",
      " 21% (127 of 591) |####                  | Elapsed Time: 0:04:46 ETA:   0:24:10"
     ]
    },
    {
     "name": "stdout",
     "output_type": "stream",
     "text": [
      "[{'words': '每'}]\n",
      "unie559\n"
     ]
    },
    {
     "name": "stderr",
     "output_type": "stream",
     "text": [
      "\r",
      " 21% (128 of 591) |####                  | Elapsed Time: 0:04:56 ETA:   1:19:45"
     ]
    },
    {
     "name": "stdout",
     "output_type": "stream",
     "text": [
      "[{'words': '鑫'}]\n",
      "unie55b\n"
     ]
    },
    {
     "name": "stderr",
     "output_type": "stream",
     "text": [
      "\r",
      " 21% (129 of 591) |####                  | Elapsed Time: 0:04:58 ETA:   0:47:27"
     ]
    },
    {
     "name": "stdout",
     "output_type": "stream",
     "text": [
      "[{'words': '般'}]\n",
      "unie567\n"
     ]
    },
    {
     "name": "stderr",
     "output_type": "stream",
     "text": [
      "\r",
      " 21% (130 of 591) |####                  | Elapsed Time: 0:05:00 ETA:   0:14:16"
     ]
    },
    {
     "name": "stdout",
     "output_type": "stream",
     "text": [
      "[{'words': '岭'}]\n",
      "unie56d\n"
     ]
    },
    {
     "name": "stderr",
     "output_type": "stream",
     "text": [
      "\r",
      " 22% (131 of 591) |####                  | Elapsed Time: 0:05:02 ETA:   0:13:02"
     ]
    },
    {
     "name": "stdout",
     "output_type": "stream",
     "text": [
      "[{'words': '风'}]\n",
      "unie56e\n"
     ]
    },
    {
     "name": "stderr",
     "output_type": "stream",
     "text": [
      "\r",
      " 22% (132 of 591) |####                  | Elapsed Time: 0:05:03 ETA:   0:12:42"
     ]
    },
    {
     "name": "stdout",
     "output_type": "stream",
     "text": [
      "[{'words': '诚'}]\n",
      "unie581\n"
     ]
    },
    {
     "name": "stderr",
     "output_type": "stream",
     "text": [
      "\r",
      " 22% (133 of 591) |####                  | Elapsed Time: 0:05:05 ETA:   0:13:46"
     ]
    },
    {
     "name": "stdout",
     "output_type": "stream",
     "text": [
      "[{'words': '房'}]\n",
      "unie588\n"
     ]
    },
    {
     "name": "stderr",
     "output_type": "stream",
     "text": [
      "\r",
      " 22% (134 of 591) |####                  | Elapsed Time: 0:05:07 ETA:   0:14:45"
     ]
    },
    {
     "name": "stdout",
     "output_type": "stream",
     "text": [
      "[{'words': '级'}]\n",
      "unie592\n"
     ]
    },
    {
     "name": "stderr",
     "output_type": "stream",
     "text": [
      "\r",
      " 22% (135 of 591) |#####                 | Elapsed Time: 0:05:09 ETA:   0:16:49"
     ]
    },
    {
     "name": "stdout",
     "output_type": "stream",
     "text": [
      "[{'words': '田'}]\n",
      "unie595\n"
     ]
    },
    {
     "name": "stderr",
     "output_type": "stream",
     "text": [
      "\r",
      " 23% (136 of 591) |#####                 | Elapsed Time: 0:05:11 ETA:   0:14:46"
     ]
    },
    {
     "name": "stdout",
     "output_type": "stream",
     "text": [
      "[{'words': '横'}]\n",
      "unie598\n"
     ]
    },
    {
     "name": "stderr",
     "output_type": "stream",
     "text": [
      "\r",
      " 23% (137 of 591) |#####                 | Elapsed Time: 0:05:13 ETA:   0:17:54"
     ]
    },
    {
     "name": "stdout",
     "output_type": "stream",
     "text": [
      "[{'words': '专'}]\n",
      "unie59c\n"
     ]
    },
    {
     "name": "stderr",
     "output_type": "stream",
     "text": [
      "\r",
      " 23% (138 of 591) |#####                 | Elapsed Time: 0:05:15 ETA:   0:15:01"
     ]
    },
    {
     "name": "stdout",
     "output_type": "stream",
     "text": [
      "[{'words': '王'}]\n",
      "unie5af\n"
     ]
    },
    {
     "name": "stderr",
     "output_type": "stream",
     "text": [
      "\r",
      " 23% (139 of 591) |#####                 | Elapsed Time: 0:05:18 ETA:   0:25:26"
     ]
    },
    {
     "name": "stdout",
     "output_type": "stream",
     "text": [
      "[{'words': '安'}]\n",
      "unie5b3\n"
     ]
    },
    {
     "name": "stderr",
     "output_type": "stream",
     "text": [
      "\r",
      " 23% (140 of 591) |#####                 | Elapsed Time: 0:05:22 ETA:   0:26:30"
     ]
    },
    {
     "name": "stdout",
     "output_type": "stream",
     "text": [
      "[{'words': '为'}]\n",
      "unie5b9\n"
     ]
    },
    {
     "name": "stderr",
     "output_type": "stream",
     "text": [
      "\r",
      " 23% (141 of 591) |#####                 | Elapsed Time: 0:05:24 ETA:   0:20:15"
     ]
    },
    {
     "name": "stdout",
     "output_type": "stream",
     "text": [
      "[{'words': '手'}]\n",
      "unie5c2\n"
     ]
    },
    {
     "name": "stderr",
     "output_type": "stream",
     "text": [
      "\r",
      " 24% (142 of 591) |#####                 | Elapsed Time: 0:05:31 ETA:   0:55:09"
     ]
    },
    {
     "name": "stdout",
     "output_type": "stream",
     "text": [
      "[{'words': '山'}]\n",
      "unie5cc\n"
     ]
    },
    {
     "name": "stderr",
     "output_type": "stream",
     "text": [
      "\r",
      " 24% (143 of 591) |#####                 | Elapsed Time: 0:05:34 ETA:   0:18:29"
     ]
    },
    {
     "name": "stdout",
     "output_type": "stream",
     "text": [
      "[{'words': '泉'}]\n",
      "unie5d3\n"
     ]
    },
    {
     "name": "stderr",
     "output_type": "stream",
     "text": [
      "\r",
      " 24% (144 of 591) |#####                 | Elapsed Time: 0:05:36 ETA:   0:21:44"
     ]
    },
    {
     "name": "stdout",
     "output_type": "stream",
     "text": [
      "[{'words': '其'}]\n",
      "unie5e4\n"
     ]
    },
    {
     "name": "stderr",
     "output_type": "stream",
     "text": [
      "\r",
      " 24% (145 of 591) |#####                 | Elapsed Time: 0:05:40 ETA:   0:28:36"
     ]
    },
    {
     "name": "stdout",
     "output_type": "stream",
     "text": [
      "[{'words': '家'}]\n",
      "unie5ef\n"
     ]
    },
    {
     "name": "stderr",
     "output_type": "stream",
     "text": [
      "\r",
      " 24% (146 of 591) |#####                 | Elapsed Time: 0:05:42 ETA:   0:20:15"
     ]
    },
    {
     "name": "stdout",
     "output_type": "stream",
     "text": [
      "[{'words': '小'}]\n",
      "unie5f4\n"
     ]
    },
    {
     "name": "stderr",
     "output_type": "stream",
     "text": [
      "\r",
      " 24% (147 of 591) |#####                 | Elapsed Time: 0:05:44 ETA:   0:13:19"
     ]
    },
    {
     "name": "stdout",
     "output_type": "stream",
     "text": [
      "[{'words': '实'}]\n",
      "unie5f5\n"
     ]
    },
    {
     "name": "stderr",
     "output_type": "stream",
     "text": [
      "\r",
      " 25% (148 of 591) |#####                 | Elapsed Time: 0:05:46 ETA:   0:15:22"
     ]
    },
    {
     "name": "stdout",
     "output_type": "stream",
     "text": [
      "[{'words': '找'}]\n",
      "unie5fd\n"
     ]
    },
    {
     "name": "stderr",
     "output_type": "stream",
     "text": [
      "\r",
      " 25% (149 of 591) |#####                 | Elapsed Time: 0:05:47 ETA:   0:12:53"
     ]
    },
    {
     "name": "stdout",
     "output_type": "stream",
     "text": [
      "[{'words': '下'}]\n",
      "unie614\n"
     ]
    },
    {
     "name": "stderr",
     "output_type": "stream",
     "text": [
      "\r",
      " 25% (150 of 591) |#####                 | Elapsed Time: 0:05:49 ETA:   0:11:29"
     ]
    },
    {
     "name": "stdout",
     "output_type": "stream",
     "text": [
      "[{'words': '斯'}]\n",
      "unie616\n"
     ]
    },
    {
     "name": "stderr",
     "output_type": "stream",
     "text": [
      "\r",
      " 25% (151 of 591) |#####                 | Elapsed Time: 0:05:51 ETA:   0:12:09"
     ]
    },
    {
     "name": "stdout",
     "output_type": "stream",
     "text": [
      "[{'words': '健'}]\n",
      "unie618\n"
     ]
    },
    {
     "name": "stderr",
     "output_type": "stream",
     "text": [
      "\r",
      " 25% (152 of 591) |#####                 | Elapsed Time: 0:05:54 ETA:   0:25:47"
     ]
    },
    {
     "name": "stdout",
     "output_type": "stream",
     "text": [
      "[{'words': '富田'}]\n",
      "unie62a\n"
     ]
    },
    {
     "name": "stderr",
     "output_type": "stream",
     "text": [
      "\r",
      " 25% (153 of 591) |#####                 | Elapsed Time: 0:05:57 ETA:   0:19:41"
     ]
    },
    {
     "name": "stdout",
     "output_type": "stream",
     "text": [
      "[{'words': '情'}]\n",
      "unie639\n"
     ]
    },
    {
     "name": "stderr",
     "output_type": "stream",
     "text": [
      "\r",
      " 26% (154 of 591) |#####                 | Elapsed Time: 0:05:58 ETA:   0:15:03"
     ]
    },
    {
     "name": "stdout",
     "output_type": "stream",
     "text": [
      "[{'words': '友'}]\n",
      "unie63e\n"
     ]
    },
    {
     "name": "stderr",
     "output_type": "stream",
     "text": [
      "\r",
      " 26% (155 of 591) |#####                 | Elapsed Time: 0:06:02 ETA:   0:23:43"
     ]
    },
    {
     "name": "stdout",
     "output_type": "stream",
     "text": [
      "[{'words': '经'}]\n",
      "unie65a\n"
     ]
    },
    {
     "name": "stderr",
     "output_type": "stream",
     "text": [
      "\r",
      " 26% (156 of 591) |#####                 | Elapsed Time: 0:06:04 ETA:   0:16:07"
     ]
    },
    {
     "name": "stdout",
     "output_type": "stream",
     "text": [
      "[{'words': '街'}]\n",
      "unie660\n"
     ]
    },
    {
     "name": "stderr",
     "output_type": "stream",
     "text": [
      "\r",
      " 26% (157 of 591) |#####                 | Elapsed Time: 0:06:06 ETA:   0:14:08"
     ]
    },
    {
     "name": "stdout",
     "output_type": "stream",
     "text": [
      "[{'words': '宁'}]\n",
      "unie672\n"
     ]
    },
    {
     "name": "stderr",
     "output_type": "stream",
     "text": [
      "\r",
      " 26% (158 of 591) |#####                 | Elapsed Time: 0:06:08 ETA:   0:15:02"
     ]
    },
    {
     "name": "stdout",
     "output_type": "stream",
     "text": [
      "[{'words': '北'}]\n",
      "unie683\n"
     ]
    },
    {
     "name": "stderr",
     "output_type": "stream",
     "text": [
      "\r",
      " 26% (159 of 591) |#####                 | Elapsed Time: 0:06:09 ETA:   0:14:01"
     ]
    },
    {
     "name": "stdout",
     "output_type": "stream",
     "text": [
      "[]\n",
      "unie699\n"
     ]
    },
    {
     "name": "stderr",
     "output_type": "stream",
     "text": [
      "\r",
      " 27% (160 of 591) |#####                 | Elapsed Time: 0:06:11 ETA:   0:10:36"
     ]
    },
    {
     "name": "stdout",
     "output_type": "stream",
     "text": [
      "[]\n",
      "unie6a1\n"
     ]
    },
    {
     "name": "stderr",
     "output_type": "stream",
     "text": [
      "\r",
      " 27% (161 of 591) |#####                 | Elapsed Time: 0:06:12 ETA:   0:07:30"
     ]
    },
    {
     "name": "stdout",
     "output_type": "stream",
     "text": [
      "[]\n",
      "unie6a6\n"
     ]
    },
    {
     "name": "stderr",
     "output_type": "stream",
     "text": [
      "\r",
      " 27% (162 of 591) |######                | Elapsed Time: 0:06:14 ETA:   0:14:53"
     ]
    },
    {
     "name": "stdout",
     "output_type": "stream",
     "text": [
      "[{'words': '弄'}]\n",
      "unie6ab\n"
     ]
    },
    {
     "name": "stderr",
     "output_type": "stream",
     "text": [
      "\r",
      " 27% (163 of 591) |######                | Elapsed Time: 0:06:16 ETA:   0:17:16"
     ]
    },
    {
     "name": "stdout",
     "output_type": "stream",
     "text": [
      "[{'words': '旁'}]\n",
      "unie6af\n"
     ]
    },
    {
     "name": "stderr",
     "output_type": "stream",
     "text": [
      "\r",
      " 27% (164 of 591) |######                | Elapsed Time: 0:06:18 ETA:   0:15:24"
     ]
    },
    {
     "name": "stdout",
     "output_type": "stream",
     "text": [
      "[{'words': '元'}]\n",
      "unie6bb\n"
     ]
    },
    {
     "name": "stderr",
     "output_type": "stream",
     "text": [
      "\r",
      " 27% (165 of 591) |######                | Elapsed Time: 0:06:22 ETA:   0:30:19"
     ]
    },
    {
     "name": "stdout",
     "output_type": "stream",
     "text": [
      "[{'words': '沿'}]\n",
      "unie6be\n"
     ]
    },
    {
     "name": "stderr",
     "output_type": "stream",
     "text": [
      "\r",
      " 28% (166 of 591) |######                | Elapsed Time: 0:06:25 ETA:   0:21:52"
     ]
    },
    {
     "name": "stdout",
     "output_type": "stream",
     "text": [
      "[{'words': '油'}]\n",
      "unie6d4\n"
     ]
    },
    {
     "name": "stderr",
     "output_type": "stream",
     "text": [
      "\r",
      " 28% (167 of 591) |######                | Elapsed Time: 0:06:31 ETA:   0:38:37"
     ]
    },
    {
     "name": "stdout",
     "output_type": "stream",
     "text": [
      "[]\n",
      "unie6d6\n"
     ]
    },
    {
     "name": "stderr",
     "output_type": "stream",
     "text": [
      "\r",
      " 28% (168 of 591) |######                | Elapsed Time: 0:06:37 ETA:   0:40:11"
     ]
    },
    {
     "name": "stdout",
     "output_type": "stream",
     "text": [
      "[{'words': '迎'}]\n",
      "unie6d9\n"
     ]
    },
    {
     "name": "stderr",
     "output_type": "stream",
     "text": [
      "\r",
      " 28% (169 of 591) |######                | Elapsed Time: 0:06:40 ETA:   0:23:24"
     ]
    },
    {
     "name": "stdout",
     "output_type": "stream",
     "text": [
      "[{'words': '姐'}]\n",
      "unie6e3\n"
     ]
    },
    {
     "name": "stderr",
     "output_type": "stream",
     "text": [
      "\r",
      " 28% (170 of 591) |######                | Elapsed Time: 0:06:41 ETA:   0:16:34"
     ]
    },
    {
     "name": "stdout",
     "output_type": "stream",
     "text": [
      "[{'words': '特'}]\n",
      "unie6e6\n"
     ]
    },
    {
     "name": "stderr",
     "output_type": "stream",
     "text": [
      "\r",
      " 28% (171 of 591) |######                | Elapsed Time: 0:06:43 ETA:   0:09:48"
     ]
    },
    {
     "name": "stdout",
     "output_type": "stream",
     "text": [
      "[{'words': '错'}]\n",
      "unie6e7\n"
     ]
    },
    {
     "name": "stderr",
     "output_type": "stream",
     "text": [
      "\r",
      " 29% (172 of 591) |######                | Elapsed Time: 0:06:45 ETA:   0:17:32"
     ]
    },
    {
     "name": "stdout",
     "output_type": "stream",
     "text": [
      "[{'words': '你'}]\n",
      "unie6e9\n"
     ]
    },
    {
     "name": "stderr",
     "output_type": "stream",
     "text": [
      "\r",
      " 29% (173 of 591) |######                | Elapsed Time: 0:06:47 ETA:   0:15:11"
     ]
    },
    {
     "name": "stdout",
     "output_type": "stream",
     "text": [
      "[{'words': '盛'}]\n",
      "unie700\n"
     ]
    },
    {
     "name": "stderr",
     "output_type": "stream",
     "text": [
      "\r",
      " 29% (174 of 591) |######                | Elapsed Time: 0:06:50 ETA:   0:17:42"
     ]
    },
    {
     "name": "stdout",
     "output_type": "stream",
     "text": [
      "[{'words': '乡'}]\n",
      "unie70b\n"
     ]
    },
    {
     "name": "stderr",
     "output_type": "stream",
     "text": [
      "\r",
      " 29% (175 of 591) |######                | Elapsed Time: 0:06:56 ETA:   0:40:27"
     ]
    },
    {
     "name": "stdout",
     "output_type": "stream",
     "text": [
      "[{'words': '虾'}]\n",
      "unie711\n"
     ]
    },
    {
     "name": "stderr",
     "output_type": "stream",
     "text": [
      "\r",
      " 29% (176 of 591) |######                | Elapsed Time: 0:06:59 ETA:   0:25:21"
     ]
    },
    {
     "name": "stdout",
     "output_type": "stream",
     "text": [
      "[{'words': '沙'}]\n",
      "unie722\n"
     ]
    },
    {
     "name": "stderr",
     "output_type": "stream",
     "text": [
      "\r",
      " 29% (177 of 591) |######                | Elapsed Time: 0:07:04 ETA:   0:30:52"
     ]
    },
    {
     "name": "stdout",
     "output_type": "stream",
     "text": [
      "[{'words': '酒'}]\n",
      "unie736\n"
     ]
    },
    {
     "name": "stderr",
     "output_type": "stream",
     "text": [
      "\r",
      " 30% (178 of 591) |######                | Elapsed Time: 0:07:09 ETA:   0:33:32"
     ]
    },
    {
     "name": "stdout",
     "output_type": "stream",
     "text": [
      "[{'words': '片'}]\n",
      "unie738\n"
     ]
    },
    {
     "name": "stderr",
     "output_type": "stream",
     "text": [
      "\r",
      " 30% (179 of 591) |######                | Elapsed Time: 0:07:12 ETA:   0:19:40"
     ]
    },
    {
     "name": "stdout",
     "output_type": "stream",
     "text": [
      "[]\n",
      "unie756\n"
     ]
    },
    {
     "name": "stderr",
     "output_type": "stream",
     "text": [
      "\r",
      " 30% (180 of 591) |######                | Elapsed Time: 0:07:16 ETA:   0:26:59"
     ]
    },
    {
     "name": "stdout",
     "output_type": "stream",
     "text": [
      "[{'words': '珠'}]\n",
      "unie763\n"
     ]
    },
    {
     "name": "stderr",
     "output_type": "stream",
     "text": [
      "\r",
      " 30% (181 of 591) |######                | Elapsed Time: 0:07:19 ETA:   0:25:35"
     ]
    },
    {
     "name": "stdout",
     "output_type": "stream",
     "text": [
      "[{'words': '哈'}]\n",
      "unie76b\n"
     ]
    },
    {
     "name": "stderr",
     "output_type": "stream",
     "text": [
      "\r",
      " 30% (182 of 591) |######                | Elapsed Time: 0:07:22 ETA:   0:17:29"
     ]
    },
    {
     "name": "stdout",
     "output_type": "stream",
     "text": [
      "[{'words': '吧'}]\n",
      "unie76e\n"
     ]
    },
    {
     "name": "stderr",
     "output_type": "stream",
     "text": [
      "\r",
      " 30% (183 of 591) |######                | Elapsed Time: 0:07:24 ETA:   0:16:57"
     ]
    },
    {
     "name": "stdout",
     "output_type": "stream",
     "text": [
      "[{'words': '子'}]\n",
      "unie77a\n"
     ]
    },
    {
     "name": "stderr",
     "output_type": "stream",
     "text": [
      "\r",
      " 31% (184 of 591) |######                | Elapsed Time: 0:07:34 ETA:   1:08:04"
     ]
    },
    {
     "name": "stdout",
     "output_type": "stream",
     "text": [
      "[]\n",
      "unie788\n"
     ]
    },
    {
     "name": "stderr",
     "output_type": "stream",
     "text": [
      "\r",
      " 31% (185 of 591) |######                | Elapsed Time: 0:07:40 ETA:   0:39:10"
     ]
    },
    {
     "name": "stdout",
     "output_type": "stream",
     "text": [
      "[]\n",
      "unie7b3\n"
     ]
    },
    {
     "name": "stderr",
     "output_type": "stream",
     "text": [
      "\r",
      " 31% (186 of 591) |######                | Elapsed Time: 0:07:44 ETA:   0:27:37"
     ]
    },
    {
     "name": "stdout",
     "output_type": "stream",
     "text": [
      "[{'words': '白'}]\n",
      "unie7bc\n"
     ]
    },
    {
     "name": "stderr",
     "output_type": "stream",
     "text": [
      "\r",
      " 31% (187 of 591) |######                | Elapsed Time: 0:07:47 ETA:   0:15:11"
     ]
    },
    {
     "name": "stdout",
     "output_type": "stream",
     "text": [
      "[{'words': '平'}]\n",
      "unie7c6\n"
     ]
    },
    {
     "name": "stderr",
     "output_type": "stream",
     "text": [
      "\r",
      " 31% (188 of 591) |######                | Elapsed Time: 0:07:51 ETA:   0:30:05"
     ]
    },
    {
     "name": "stdout",
     "output_type": "stream",
     "text": [
      "[{'words': '局'}]\n",
      "unie7cd\n"
     ]
    },
    {
     "name": "stderr",
     "output_type": "stream",
     "text": [
      "\r",
      " 31% (189 of 591) |#######               | Elapsed Time: 0:07:55 ETA:   0:27:30"
     ]
    },
    {
     "name": "stdout",
     "output_type": "stream",
     "text": [
      "[{'words': '禺'}]\n",
      "unie7d4\n"
     ]
    },
    {
     "name": "stderr",
     "output_type": "stream",
     "text": [
      "\r",
      " 32% (190 of 591) |#######               | Elapsed Time: 0:07:58 ETA:   0:22:06"
     ]
    },
    {
     "name": "stdout",
     "output_type": "stream",
     "text": [
      "[{'words': '进'}]\n",
      "unie7d5\n"
     ]
    },
    {
     "name": "stderr",
     "output_type": "stream",
     "text": [
      "\r",
      " 32% (191 of 591) |#######               | Elapsed Time: 0:08:02 ETA:   0:22:35"
     ]
    },
    {
     "name": "stdout",
     "output_type": "stream",
     "text": [
      "[{'words': '国'}]\n",
      "unie7d8\n"
     ]
    },
    {
     "name": "stderr",
     "output_type": "stream",
     "text": [
      "\r",
      " 32% (192 of 591) |#######               | Elapsed Time: 0:08:05 ETA:   0:24:33"
     ]
    },
    {
     "name": "stdout",
     "output_type": "stream",
     "text": [
      "[{'words': '坊'}]\n",
      "unie7e4\n"
     ]
    },
    {
     "name": "stderr",
     "output_type": "stream",
     "text": [
      "\r",
      " 32% (193 of 591) |#######               | Elapsed Time: 0:08:10 ETA:   0:28:09"
     ]
    },
    {
     "name": "stdout",
     "output_type": "stream",
     "text": [
      "[{'words': '型'}]\n",
      "unie7eb\n"
     ]
    },
    {
     "name": "stderr",
     "output_type": "stream",
     "text": [
      "\r",
      " 32% (194 of 591) |#######               | Elapsed Time: 0:08:12 ETA:   0:13:47"
     ]
    },
    {
     "name": "stdout",
     "output_type": "stream",
     "text": [
      "[{'words': '底'}]\n",
      "unie7ed\n"
     ]
    },
    {
     "name": "stderr",
     "output_type": "stream",
     "text": [
      "\r",
      " 32% (195 of 591) |#######               | Elapsed Time: 0:08:15 ETA:   0:18:02"
     ]
    },
    {
     "name": "stdout",
     "output_type": "stream",
     "text": [
      "[{'words': '差'}]\n",
      "unie7f2\n"
     ]
    },
    {
     "name": "stderr",
     "output_type": "stream",
     "text": [
      "\r",
      " 33% (196 of 591) |#######               | Elapsed Time: 0:08:18 ETA:   0:25:09"
     ]
    },
    {
     "name": "stdout",
     "output_type": "stream",
     "text": [
      "[{'words': '工'}]\n",
      "unie811\n"
     ]
    },
    {
     "name": "stderr",
     "output_type": "stream",
     "text": [
      "\r",
      " 33% (197 of 591) |#######               | Elapsed Time: 0:08:23 ETA:   0:32:13"
     ]
    },
    {
     "name": "stdout",
     "output_type": "stream",
     "text": [
      "[{'words': '更'}]\n",
      "unie81e\n"
     ]
    },
    {
     "name": "stderr",
     "output_type": "stream",
     "text": [
      "\r",
      " 33% (198 of 591) |#######               | Elapsed Time: 0:08:27 ETA:   0:22:33"
     ]
    },
    {
     "name": "stdout",
     "output_type": "stream",
     "text": [
      "[{'words': '钢'}]\n",
      "unie821\n"
     ]
    },
    {
     "name": "stderr",
     "output_type": "stream",
     "text": [
      "\r",
      " 33% (199 of 591) |#######               | Elapsed Time: 0:08:33 ETA:   0:40:21"
     ]
    },
    {
     "name": "stdout",
     "output_type": "stream",
     "text": [
      "[{'words': '限'}]\n",
      "unie823\n"
     ]
    },
    {
     "name": "stderr",
     "output_type": "stream",
     "text": [
      "\r",
      " 33% (200 of 591) |#######               | Elapsed Time: 0:08:37 ETA:   0:24:16"
     ]
    },
    {
     "name": "stdout",
     "output_type": "stream",
     "text": [
      "[{'words': '不'}]\n",
      "unie828\n"
     ]
    },
    {
     "name": "stderr",
     "output_type": "stream",
     "text": [
      "\r",
      " 34% (201 of 591) |#######               | Elapsed Time: 0:08:41 ETA:   0:31:09"
     ]
    },
    {
     "name": "stdout",
     "output_type": "stream",
     "text": [
      "[{'words': '超'}]\n",
      "unie82f\n"
     ]
    },
    {
     "name": "stderr",
     "output_type": "stream",
     "text": [
      "\r",
      " 34% (202 of 591) |#######               | Elapsed Time: 0:08:43 ETA:   0:13:13"
     ]
    },
    {
     "name": "stdout",
     "output_type": "stream",
     "text": [
      "[{'words': '女'}]\n",
      "unie836\n"
     ]
    },
    {
     "name": "stderr",
     "output_type": "stream",
     "text": [
      "\r",
      " 34% (203 of 591) |#######               | Elapsed Time: 0:08:46 ETA:   0:14:45"
     ]
    },
    {
     "name": "stdout",
     "output_type": "stream",
     "text": [
      "[{'words': '容'}]\n",
      "unie84e\n"
     ]
    },
    {
     "name": "stderr",
     "output_type": "stream",
     "text": [
      "\r",
      " 34% (204 of 591) |#######               | Elapsed Time: 0:08:48 ETA:   0:14:59"
     ]
    },
    {
     "name": "stdout",
     "output_type": "stream",
     "text": [
      "[{'words': '教'}]\n",
      "unie850\n"
     ]
    },
    {
     "name": "stderr",
     "output_type": "stream",
     "text": [
      "\r",
      " 34% (205 of 591) |#######               | Elapsed Time: 0:08:52 ETA:   0:25:59"
     ]
    },
    {
     "name": "stdout",
     "output_type": "stream",
     "text": [
      "[]\n",
      "unie85a\n"
     ]
    },
    {
     "name": "stderr",
     "output_type": "stream",
     "text": [
      "\r",
      " 34% (206 of 591) |#######               | Elapsed Time: 0:08:56 ETA:   0:23:23"
     ]
    },
    {
     "name": "stdout",
     "output_type": "stream",
     "text": [
      "[{'words': '对'}]\n",
      "unie864\n"
     ]
    },
    {
     "name": "stderr",
     "output_type": "stream",
     "text": [
      "\r",
      " 35% (207 of 591) |#######               | Elapsed Time: 0:08:58 ETA:   0:13:11"
     ]
    },
    {
     "name": "stdout",
     "output_type": "stream",
     "text": [
      "[{'words': '港巷'}]\n",
      "unie865\n"
     ]
    },
    {
     "name": "stderr",
     "output_type": "stream",
     "text": [
      "\r",
      " 35% (208 of 591) |#######               | Elapsed Time: 0:09:00 ETA:   0:14:56"
     ]
    },
    {
     "name": "stdout",
     "output_type": "stream",
     "text": [
      "[{'words': '只'}]\n",
      "unie86a\n"
     ]
    },
    {
     "name": "stderr",
     "output_type": "stream",
     "text": [
      "\r",
      " 35% (209 of 591) |#######               | Elapsed Time: 0:09:01 ETA:   0:11:16"
     ]
    },
    {
     "name": "stdout",
     "output_type": "stream",
     "text": [
      "[{'words': '年'}]\n",
      "unie871\n"
     ]
    },
    {
     "name": "stderr",
     "output_type": "stream",
     "text": [
      "\r",
      " 35% (210 of 591) |#######               | Elapsed Time: 0:09:03 ETA:   0:09:00"
     ]
    },
    {
     "name": "stdout",
     "output_type": "stream",
     "text": [
      "[]\n",
      "unie876\n"
     ]
    },
    {
     "name": "stderr",
     "output_type": "stream",
     "text": [
      "\r",
      " 35% (211 of 591) |#######               | Elapsed Time: 0:09:09 ETA:   0:37:16"
     ]
    },
    {
     "name": "stdout",
     "output_type": "stream",
     "text": [
      "[{'words': '市'}]\n",
      "unie877\n"
     ]
    },
    {
     "name": "stderr",
     "output_type": "stream",
     "text": [
      "\r",
      " 35% (212 of 591) |#######               | Elapsed Time: 0:09:13 ETA:   0:25:22"
     ]
    },
    {
     "name": "stdout",
     "output_type": "stream",
     "text": [
      "[{'words': '生'}]\n",
      "unie881\n"
     ]
    },
    {
     "name": "stderr",
     "output_type": "stream",
     "text": [
      "\r",
      " 36% (213 of 591) |#######               | Elapsed Time: 0:09:16 ETA:   0:17:17"
     ]
    },
    {
     "name": "stdout",
     "output_type": "stream",
     "text": [
      "[{'words': '让'}]\n",
      "unie8a1\n"
     ]
    },
    {
     "name": "stderr",
     "output_type": "stream",
     "text": [
      "\r",
      " 36% (214 of 591) |#######               | Elapsed Time: 0:09:19 ETA:   0:21:11"
     ]
    },
    {
     "name": "stdout",
     "output_type": "stream",
     "text": [
      "[{'words': '喝'}]\n",
      "unie8a5\n"
     ]
    },
    {
     "name": "stderr",
     "output_type": "stream",
     "text": [
      "\r",
      " 36% (215 of 591) |########              | Elapsed Time: 0:09:28 ETA:   0:58:54"
     ]
    },
    {
     "name": "stdout",
     "output_type": "stream",
     "text": [
      "[{'words': '拉'}]\n",
      "unie8ab\n"
     ]
    },
    {
     "name": "stderr",
     "output_type": "stream",
     "text": [
      "\r",
      " 36% (216 of 591) |########              | Elapsed Time: 0:09:33 ETA:   0:30:18"
     ]
    },
    {
     "name": "stdout",
     "output_type": "stream",
     "text": [
      "[{'words': '重'}]\n",
      "unie8b0\n"
     ]
    },
    {
     "name": "stderr",
     "output_type": "stream",
     "text": [
      "\r",
      " 36% (217 of 591) |########              | Elapsed Time: 0:09:36 ETA:   0:15:03"
     ]
    },
    {
     "name": "stdout",
     "output_type": "stream",
     "text": [
      "[{'words': '卫'}]\n",
      "unie8bb\n"
     ]
    },
    {
     "name": "stderr",
     "output_type": "stream",
     "text": [
      "\r",
      " 36% (218 of 591) |########              | Elapsed Time: 0:09:38 ETA:   0:15:09"
     ]
    },
    {
     "name": "stdout",
     "output_type": "stream",
     "text": [
      "[{'words': '作'}]\n",
      "unie8d9\n"
     ]
    },
    {
     "name": "stderr",
     "output_type": "stream",
     "text": [
      "\r",
      " 37% (219 of 591) |########              | Elapsed Time: 0:09:45 ETA:   0:45:01"
     ]
    },
    {
     "name": "stdout",
     "output_type": "stream",
     "text": [
      "[{'words': '服'}]\n",
      "unie8de\n"
     ]
    },
    {
     "name": "stderr",
     "output_type": "stream",
     "text": [
      "\r",
      " 37% (220 of 591) |########              | Elapsed Time: 0:09:50 ETA:   0:29:19"
     ]
    },
    {
     "name": "stdout",
     "output_type": "stream",
     "text": [
      "[{'words': '起'}]\n",
      "unie8f0\n"
     ]
    },
    {
     "name": "stderr",
     "output_type": "stream",
     "text": [
      "\r",
      " 37% (221 of 591) |########              | Elapsed Time: 0:09:54 ETA:   0:23:07"
     ]
    },
    {
     "name": "stdout",
     "output_type": "stream",
     "text": [
      "[{'words': '色'}]\n",
      "unie8f5\n"
     ]
    },
    {
     "name": "stderr",
     "output_type": "stream",
     "text": [
      "\r",
      " 37% (222 of 591) |########              | Elapsed Time: 0:10:12 ETA:   1:51:05"
     ]
    },
    {
     "name": "stdout",
     "output_type": "stream",
     "text": [
      "[{'words': '种'}]\n",
      "unie8f8\n"
     ]
    },
    {
     "name": "stderr",
     "output_type": "stream",
     "text": [
      "\r",
      " 37% (223 of 591) |########              | Elapsed Time: 0:10:15 ETA:   0:20:17"
     ]
    },
    {
     "name": "stdout",
     "output_type": "stream",
     "text": [
      "[{'words': '边'}]\n",
      "unie907\n"
     ]
    },
    {
     "name": "stderr",
     "output_type": "stream",
     "text": [
      "\r",
      " 37% (224 of 591) |########              | Elapsed Time: 0:10:18 ETA:   0:18:59"
     ]
    },
    {
     "name": "stdout",
     "output_type": "stream",
     "text": [
      "[{'words': '星'}]\n",
      "unie90d\n"
     ]
    },
    {
     "name": "stderr",
     "output_type": "stream",
     "text": [
      "\r",
      " 38% (225 of 591) |########              | Elapsed Time: 0:10:21 ETA:   0:18:57"
     ]
    },
    {
     "name": "stdout",
     "output_type": "stream",
     "text": [
      "[{'words': '推'}]\n",
      "unie90f\n"
     ]
    },
    {
     "name": "stderr",
     "output_type": "stream",
     "text": [
      "\r",
      " 38% (226 of 591) |########              | Elapsed Time: 0:10:25 ETA:   0:20:04"
     ]
    },
    {
     "name": "stdout",
     "output_type": "stream",
     "text": [
      "[{'words': '快'}]\n",
      "unie915\n"
     ]
    },
    {
     "name": "stderr",
     "output_type": "stream",
     "text": [
      "\r",
      " 38% (227 of 591) |########              | Elapsed Time: 0:10:27 ETA:   0:15:59"
     ]
    },
    {
     "name": "stdout",
     "output_type": "stream",
     "text": [
      "[{'words': '合'}]\n",
      "unie917\n"
     ]
    },
    {
     "name": "stderr",
     "output_type": "stream",
     "text": [
      "\r",
      " 38% (228 of 591) |########              | Elapsed Time: 0:10:30 ETA:   0:18:36"
     ]
    },
    {
     "name": "stdout",
     "output_type": "stream",
     "text": [
      "[]\n",
      "unie91d\n"
     ]
    },
    {
     "name": "stderr",
     "output_type": "stream",
     "text": [
      "\r",
      " 38% (229 of 591) |########              | Elapsed Time: 0:10:32 ETA:   0:12:23"
     ]
    },
    {
     "name": "stdout",
     "output_type": "stream",
     "text": [
      "[{'words': '地'}]\n",
      "unie922\n"
     ]
    },
    {
     "name": "stderr",
     "output_type": "stream",
     "text": [
      "\r",
      " 38% (230 of 591) |########              | Elapsed Time: 0:10:35 ETA:   0:16:28"
     ]
    },
    {
     "name": "stdout",
     "output_type": "stream",
     "text": [
      "[{'words': '丁'}]\n",
      "unie92b\n"
     ]
    },
    {
     "name": "stderr",
     "output_type": "stream",
     "text": [
      "\r",
      " 39% (231 of 591) |########              | Elapsed Time: 0:10:37 ETA:   0:12:30"
     ]
    },
    {
     "name": "stdout",
     "output_type": "stream",
     "text": [
      "[{'words': '值'}]\n",
      "unie92c\n"
     ]
    },
    {
     "name": "stderr",
     "output_type": "stream",
     "text": [
      "\r",
      " 39% (232 of 591) |########              | Elapsed Time: 0:10:43 ETA:   0:39:47"
     ]
    },
    {
     "name": "stdout",
     "output_type": "stream",
     "text": [
      "[{'words': '甲'}]\n",
      "unie931\n"
     ]
    },
    {
     "name": "stderr",
     "output_type": "stream",
     "text": [
      "\r",
      " 39% (233 of 591) |########              | Elapsed Time: 0:10:47 ETA:   0:19:09"
     ]
    },
    {
     "name": "stdout",
     "output_type": "stream",
     "text": [
      "[{'words': '但'}]\n",
      "unie93b\n"
     ]
    },
    {
     "name": "stderr",
     "output_type": "stream",
     "text": [
      "\r",
      " 39% (234 of 591) |########              | Elapsed Time: 0:10:51 ETA:   0:25:17"
     ]
    },
    {
     "name": "stdout",
     "output_type": "stream",
     "text": [
      "[{'words': '修'}]\n",
      "unie946\n"
     ]
    },
    {
     "name": "stderr",
     "output_type": "stream",
     "text": [
      "\r",
      " 39% (235 of 591) |########              | Elapsed Time: 0:10:53 ETA:   0:12:41"
     ]
    },
    {
     "name": "stdout",
     "output_type": "stream",
     "text": [
      "[{'words': '商'}]\n",
      "unie962\n"
     ]
    },
    {
     "name": "stderr",
     "output_type": "stream",
     "text": [
      "\r",
      " 39% (236 of 591) |########              | Elapsed Time: 0:10:56 ETA:   0:17:00"
     ]
    },
    {
     "name": "stdout",
     "output_type": "stream",
     "text": [
      "[{'words': '后'}]\n",
      "unie966\n"
     ]
    },
    {
     "name": "stderr",
     "output_type": "stream",
     "text": [
      "\r",
      " 40% (237 of 591) |########              | Elapsed Time: 0:10:58 ETA:   0:12:38"
     ]
    },
    {
     "name": "stdout",
     "output_type": "stream",
     "text": [
      "[{'words': '于'}]\n",
      "unie976\n"
     ]
    },
    {
     "name": "stderr",
     "output_type": "stream",
     "text": [
      "\r",
      " 40% (238 of 591) |########              | Elapsed Time: 0:11:05 ETA:   0:41:50"
     ]
    },
    {
     "name": "stdout",
     "output_type": "stream",
     "text": [
      "[{'words': '社'}]\n",
      "unie977\n"
     ]
    },
    {
     "name": "stderr",
     "output_type": "stream",
     "text": [
      "\r",
      " 40% (239 of 591) |########              | Elapsed Time: 0:11:07 ETA:   0:14:04"
     ]
    },
    {
     "name": "stdout",
     "output_type": "stream",
     "text": [
      "[{'words': '大'}]\n",
      "unie980\n"
     ]
    },
    {
     "name": "stderr",
     "output_type": "stream",
     "text": [
      "\r",
      " 40% (240 of 591) |########              | Elapsed Time: 0:11:11 ETA:   0:19:28"
     ]
    },
    {
     "name": "stdout",
     "output_type": "stream",
     "text": [
      "[{'words': '具'}]\n",
      "unie988\n"
     ]
    },
    {
     "name": "stderr",
     "output_type": "stream",
     "text": [
      "\r",
      " 40% (241 of 591) |########              | Elapsed Time: 0:11:12 ETA:   0:13:56"
     ]
    },
    {
     "name": "stdout",
     "output_type": "stream",
     "text": [
      "[{'words': '双'}]\n",
      "unie989\n"
     ]
    },
    {
     "name": "stderr",
     "output_type": "stream",
     "text": [
      "\r",
      " 40% (242 of 591) |#########             | Elapsed Time: 0:11:15 ETA:   0:15:25"
     ]
    },
    {
     "name": "stdout",
     "output_type": "stream",
     "text": [
      "[{'words': '是'}]\n",
      "unie98a\n"
     ]
    },
    {
     "name": "stderr",
     "output_type": "stream",
     "text": [
      "\r",
      " 41% (243 of 591) |#########             | Elapsed Time: 0:11:17 ETA:   0:13:58"
     ]
    },
    {
     "name": "stdout",
     "output_type": "stream",
     "text": [
      "[{'words': '午'}]\n",
      "unie9a1\n"
     ]
    },
    {
     "name": "stderr",
     "output_type": "stream",
     "text": [
      "\r",
      " 41% (244 of 591) |#########             | Elapsed Time: 0:11:20 ETA:   0:18:19"
     ]
    },
    {
     "name": "stdout",
     "output_type": "stream",
     "text": [
      "[{'words': '适'}]\n",
      "unie9b1\n"
     ]
    },
    {
     "name": "stderr",
     "output_type": "stream",
     "text": [
      "\r",
      " 41% (245 of 591) |#########             | Elapsed Time: 0:11:23 ETA:   0:12:08"
     ]
    },
    {
     "name": "stdout",
     "output_type": "stream",
     "text": [
      "[{'words': '牌'}]\n",
      "unie9bc\n"
     ]
    },
    {
     "name": "stderr",
     "output_type": "stream",
     "text": [
      "\r",
      " 41% (246 of 591) |#########             | Elapsed Time: 0:11:27 ETA:   0:27:14"
     ]
    },
    {
     "name": "stdout",
     "output_type": "stream",
     "text": [
      "[{'words': '拍'}]\n",
      "unie9d0\n"
     ]
    },
    {
     "name": "stderr",
     "output_type": "stream",
     "text": [
      "\r",
      " 41% (247 of 591) |#########             | Elapsed Time: 0:11:30 ETA:   0:16:48"
     ]
    },
    {
     "name": "stdout",
     "output_type": "stream",
     "text": [
      "[{'words': '还'}]\n",
      "unie9d3\n"
     ]
    },
    {
     "name": "stderr",
     "output_type": "stream",
     "text": [
      "\r",
      " 41% (248 of 591) |#########             | Elapsed Time: 0:11:32 ETA:   0:11:58"
     ]
    },
    {
     "name": "stdout",
     "output_type": "stream",
     "text": [
      "[{'words': '话'}]\n",
      "unie9e7\n"
     ]
    },
    {
     "name": "stderr",
     "output_type": "stream",
     "text": [
      "\r",
      " 42% (249 of 591) |#########             | Elapsed Time: 0:11:40 ETA:   0:41:47"
     ]
    },
    {
     "name": "stdout",
     "output_type": "stream",
     "text": [
      "[{'words': '海'}]\n",
      "unie9f3\n"
     ]
    },
    {
     "name": "stderr",
     "output_type": "stream",
     "text": [
      "\r",
      " 42% (250 of 591) |#########             | Elapsed Time: 0:11:47 ETA:   0:44:10"
     ]
    },
    {
     "name": "stdout",
     "output_type": "stream",
     "text": [
      "[{'words': '存'}]\n",
      "uniea01\n"
     ]
    },
    {
     "name": "stderr",
     "output_type": "stream",
     "text": [
      "\r",
      " 42% (251 of 591) |#########             | Elapsed Time: 0:11:49 ETA:   0:26:34"
     ]
    },
    {
     "name": "stdout",
     "output_type": "stream",
     "text": [
      "[{'words': '微'}]\n",
      "uniea19\n"
     ]
    },
    {
     "name": "stderr",
     "output_type": "stream",
     "text": [
      "\r",
      " 42% (252 of 591) |#########             | Elapsed Time: 0:11:51 ETA:   0:12:24"
     ]
    },
    {
     "name": "stdout",
     "output_type": "stream",
     "text": [
      "[{'words': '宏'}]\n",
      "uniea28\n"
     ]
    },
    {
     "name": "stderr",
     "output_type": "stream",
     "text": [
      "\r",
      " 42% (253 of 591) |#########             | Elapsed Time: 0:11:54 ETA:   0:12:46"
     ]
    },
    {
     "name": "stdout",
     "output_type": "stream",
     "text": [
      "[{'words': '笑'}]\n",
      "uniea34\n"
     ]
    },
    {
     "name": "stderr",
     "output_type": "stream",
     "text": [
      "\r",
      " 42% (254 of 591) |#########             | Elapsed Time: 0:11:57 ETA:   0:17:07"
     ]
    },
    {
     "name": "stdout",
     "output_type": "stream",
     "text": [
      "[{'words': '春'}]\n",
      "uniea36\n"
     ]
    },
    {
     "name": "stderr",
     "output_type": "stream",
     "text": [
      "\r",
      " 43% (255 of 591) |#########             | Elapsed Time: 0:11:59 ETA:   0:14:44"
     ]
    },
    {
     "name": "stdout",
     "output_type": "stream",
     "text": [
      "[{'words': '么'}]\n",
      "uniea50\n"
     ]
    },
    {
     "name": "stderr",
     "output_type": "stream",
     "text": [
      "\r",
      " 43% (256 of 591) |#########             | Elapsed Time: 0:12:02 ETA:   0:17:17"
     ]
    },
    {
     "name": "stdout",
     "output_type": "stream",
     "text": [
      "[]\n",
      "uniea54\n"
     ]
    },
    {
     "name": "stderr",
     "output_type": "stream",
     "text": [
      "\r",
      " 43% (257 of 591) |#########             | Elapsed Time: 0:12:10 ETA:   0:40:17"
     ]
    },
    {
     "name": "stdout",
     "output_type": "stream",
     "text": [
      "[{'words': '七'}]\n",
      "uniea63\n"
     ]
    },
    {
     "name": "stderr",
     "output_type": "stream",
     "text": [
      "\r",
      " 43% (258 of 591) |#########             | Elapsed Time: 0:12:22 ETA:   1:10:59"
     ]
    },
    {
     "name": "stdout",
     "output_type": "stream",
     "text": [
      "[{'words': '纪'}]\n",
      "uniea69\n"
     ]
    },
    {
     "name": "stderr",
     "output_type": "stream",
     "text": [
      "\r",
      " 43% (259 of 591) |#########             | Elapsed Time: 0:12:24 ETA:   0:40:16"
     ]
    },
    {
     "name": "stdout",
     "output_type": "stream",
     "text": [
      "[{'words': '城'}]\n",
      "uniea6c\n"
     ]
    },
    {
     "name": "stderr",
     "output_type": "stream",
     "text": [
      "\r",
      " 43% (260 of 591) |#########             | Elapsed Time: 0:12:26 ETA:   0:10:03"
     ]
    },
    {
     "name": "stdout",
     "output_type": "stream",
     "text": [
      "[]\n",
      "uniea75\n"
     ]
    },
    {
     "name": "stderr",
     "output_type": "stream",
     "text": [
      "\r",
      " 44% (261 of 591) |#########             | Elapsed Time: 0:12:28 ETA:   0:12:19"
     ]
    },
    {
     "name": "stdout",
     "output_type": "stream",
     "text": [
      "[{'words': '羽'}]\n",
      "uniea77\n"
     ]
    },
    {
     "name": "stderr",
     "output_type": "stream",
     "text": [
      "\r",
      " 44% (262 of 591) |#########             | Elapsed Time: 0:12:31 ETA:   0:14:23"
     ]
    },
    {
     "name": "stdout",
     "output_type": "stream",
     "text": [
      "[{'words': '境'}]\n",
      "uniea80\n"
     ]
    },
    {
     "name": "stderr",
     "output_type": "stream",
     "text": [
      "\r",
      " 44% (263 of 591) |#########             | Elapsed Time: 0:12:35 ETA:   0:24:36"
     ]
    },
    {
     "name": "stdout",
     "output_type": "stream",
     "text": [
      "[{'words': '点'}]\n",
      "uniea86\n"
     ]
    },
    {
     "name": "stderr",
     "output_type": "stream",
     "text": [
      "\r",
      " 44% (264 of 591) |#########             | Elapsed Time: 0:12:42 ETA:   0:33:49"
     ]
    },
    {
     "name": "stdout",
     "output_type": "stream",
     "text": [
      "[{'words': '化贝'}]\n",
      "uniea8e\n"
     ]
    },
    {
     "name": "stderr",
     "output_type": "stream",
     "text": [
      "\r",
      " 44% (265 of 591) |#########             | Elapsed Time: 0:12:45 ETA:   0:17:33"
     ]
    },
    {
     "name": "stdout",
     "output_type": "stream",
     "text": [
      "[{'words': '二'}]\n",
      "uniea9a\n"
     ]
    },
    {
     "name": "stderr",
     "output_type": "stream",
     "text": [
      "\r",
      " 45% (266 of 591) |#########             | Elapsed Time: 0:12:47 ETA:   0:14:20"
     ]
    },
    {
     "name": "stdout",
     "output_type": "stream",
     "text": [
      "[{'words': '洗'}]\n",
      "unieaa0\n"
     ]
    },
    {
     "name": "stderr",
     "output_type": "stream",
     "text": [
      "\r",
      " 45% (267 of 591) |#########             | Elapsed Time: 0:12:50 ETA:   0:11:32"
     ]
    },
    {
     "name": "stdout",
     "output_type": "stream",
     "text": [
      "[{'words': '刚'}]\n",
      "unieaa1\n"
     ]
    },
    {
     "name": "stderr",
     "output_type": "stream",
     "text": [
      "\r",
      " 45% (268 of 591) |#########             | Elapsed Time: 0:13:09 ETA:   1:42:06"
     ]
    },
    {
     "name": "stdout",
     "output_type": "stream",
     "text": [
      "[{'words': '四'}]\n",
      "unieab1\n"
     ]
    },
    {
     "name": "stderr",
     "output_type": "stream",
     "text": [
      "\r",
      " 45% (269 of 591) |##########            | Elapsed Time: 0:13:11 ETA:   0:13:19"
     ]
    },
    {
     "name": "stdout",
     "output_type": "stream",
     "text": [
      "[{'words': '的'}]\n",
      "unieab9\n"
     ]
    },
    {
     "name": "stderr",
     "output_type": "stream",
     "text": [
      "\r",
      " 45% (270 of 591) |##########            | Elapsed Time: 0:13:13 ETA:   0:11:09"
     ]
    },
    {
     "name": "stdout",
     "output_type": "stream",
     "text": [
      "[{'words': '食'}]\n",
      "unieac3\n"
     ]
    },
    {
     "name": "stderr",
     "output_type": "stream",
     "text": [
      "\r",
      " 45% (271 of 591) |##########            | Elapsed Time: 0:13:17 ETA:   0:21:16"
     ]
    },
    {
     "name": "stdout",
     "output_type": "stream",
     "text": [
      "[]\n",
      "unieac5\n"
     ]
    },
    {
     "name": "stderr",
     "output_type": "stream",
     "text": [
      "\r",
      " 46% (272 of 591) |##########            | Elapsed Time: 0:13:21 ETA:   0:18:31"
     ]
    },
    {
     "name": "stdout",
     "output_type": "stream",
     "text": [
      "[{'words': '养'}]\n",
      "unieac8\n"
     ]
    },
    {
     "name": "stderr",
     "output_type": "stream",
     "text": [
      "\r",
      " 46% (273 of 591) |##########            | Elapsed Time: 0:13:23 ETA:   0:15:16"
     ]
    },
    {
     "name": "stdout",
     "output_type": "stream",
     "text": [
      "[{'words': '艺'}]\n",
      "unieacd\n"
     ]
    },
    {
     "name": "stderr",
     "output_type": "stream",
     "text": [
      "\r",
      " 46% (274 of 591) |##########            | Elapsed Time: 0:13:28 ETA:   0:23:37"
     ]
    },
    {
     "name": "stdout",
     "output_type": "stream",
     "text": [
      "[{'words': '乐'}]\n",
      "unieace\n"
     ]
    },
    {
     "name": "stderr",
     "output_type": "stream",
     "text": [
      "\r",
      " 46% (275 of 591) |##########            | Elapsed Time: 0:13:30 ETA:   0:16:13"
     ]
    },
    {
     "name": "stdout",
     "output_type": "stream",
     "text": [
      "[{'words': '万'}]\n",
      "unieae2\n"
     ]
    },
    {
     "name": "stderr",
     "output_type": "stream",
     "text": [
      "\r",
      " 46% (276 of 591) |##########            | Elapsed Time: 0:13:32 ETA:   0:13:39"
     ]
    },
    {
     "name": "stdout",
     "output_type": "stream",
     "text": [
      "[{'words': '算'}]\n",
      "unieae8\n"
     ]
    },
    {
     "name": "stderr",
     "output_type": "stream",
     "text": [
      "\r",
      " 46% (277 of 591) |##########            | Elapsed Time: 0:13:34 ETA:   0:11:49"
     ]
    },
    {
     "name": "stdout",
     "output_type": "stream",
     "text": [
      "[{'words': '和'}]\n",
      "unieaee\n"
     ]
    },
    {
     "name": "stderr",
     "output_type": "stream",
     "text": [
      "\r",
      " 47% (278 of 591) |##########            | Elapsed Time: 0:13:38 ETA:   0:22:30"
     ]
    },
    {
     "name": "stdout",
     "output_type": "stream",
     "text": [
      "[{'words': '咸'}]\n",
      "unieaf4\n"
     ]
    },
    {
     "name": "stderr",
     "output_type": "stream",
     "text": [
      "\r",
      " 47% (279 of 591) |##########            | Elapsed Time: 0:13:42 ETA:   0:16:00"
     ]
    },
    {
     "name": "stdout",
     "output_type": "stream",
     "text": [
      "[{'words': '幢'}]\n",
      "unieaf8\n"
     ]
    },
    {
     "name": "stderr",
     "output_type": "stream",
     "text": [
      "\r",
      " 47% (280 of 591) |##########            | Elapsed Time: 0:13:44 ETA:   0:10:28"
     ]
    },
    {
     "name": "stdout",
     "output_type": "stream",
     "text": [
      "[{'words': '要'}]\n",
      "unieb0a\n"
     ]
    },
    {
     "name": "stderr",
     "output_type": "stream",
     "text": [
      "\r",
      " 47% (281 of 591) |##########            | Elapsed Time: 0:13:47 ETA:   0:20:16"
     ]
    },
    {
     "name": "stdout",
     "output_type": "stream",
     "text": [
      "[{'words': '得'}]\n",
      "unieb2e\n"
     ]
    },
    {
     "name": "stderr",
     "output_type": "stream",
     "text": [
      "\r",
      " 47% (282 of 591) |##########            | Elapsed Time: 0:13:53 ETA:   0:28:22"
     ]
    },
    {
     "name": "stdout",
     "output_type": "stream",
     "text": [
      "[{'words': '重'}]\n",
      "unieb30\n"
     ]
    },
    {
     "name": "stderr",
     "output_type": "stream",
     "text": [
      "\r",
      " 47% (283 of 591) |##########            | Elapsed Time: 0:14:10 ETA:   1:26:46"
     ]
    },
    {
     "name": "stdout",
     "output_type": "stream",
     "text": [
      "[]\n",
      "unieb43\n"
     ]
    },
    {
     "name": "stderr",
     "output_type": "stream",
     "text": [
      "\r",
      " 48% (284 of 591) |##########            | Elapsed Time: 0:14:12 ETA:   0:13:00"
     ]
    },
    {
     "name": "stdout",
     "output_type": "stream",
     "text": [
      "[{'words': '甜'}]\n",
      "unieb46\n"
     ]
    },
    {
     "name": "stderr",
     "output_type": "stream",
     "text": [
      "\r",
      " 48% (285 of 591) |##########            | Elapsed Time: 0:14:17 ETA:   0:21:41"
     ]
    },
    {
     "name": "stdout",
     "output_type": "stream",
     "text": [
      "[{'words': '西'}]\n",
      "unieb48\n"
     ]
    },
    {
     "name": "stderr",
     "output_type": "stream",
     "text": [
      "\r",
      " 48% (286 of 591) |##########            | Elapsed Time: 0:14:30 ETA:   1:07:39"
     ]
    },
    {
     "name": "stdout",
     "output_type": "stream",
     "text": [
      "[{'words': '餐'}]\n",
      "unieb51\n"
     ]
    },
    {
     "name": "stderr",
     "output_type": "stream",
     "text": [
      "\r",
      " 48% (287 of 591) |##########            | Elapsed Time: 0:14:33 ETA:   0:15:22"
     ]
    },
    {
     "name": "stdout",
     "output_type": "stream",
     "text": [
      "[{'words': '调'}]\n",
      "unieb62\n"
     ]
    },
    {
     "name": "stderr",
     "output_type": "stream",
     "text": [
      "\r",
      " 48% (288 of 591) |##########            | Elapsed Time: 0:14:36 ETA:   0:13:19"
     ]
    },
    {
     "name": "stdout",
     "output_type": "stream",
     "text": [
      "[{'words': '接'}]\n",
      "unieb69\n"
     ]
    },
    {
     "name": "stderr",
     "output_type": "stream",
     "text": [
      "\r",
      " 48% (289 of 591) |##########            | Elapsed Time: 0:14:39 ETA:   0:18:01"
     ]
    },
    {
     "name": "stdout",
     "output_type": "stream",
     "text": [
      "[{'words': '去'}]\n",
      "unieb6f\n"
     ]
    },
    {
     "name": "stderr",
     "output_type": "stream",
     "text": [
      "\r",
      " 49% (290 of 591) |##########            | Elapsed Time: 0:14:41 ETA:   0:11:00"
     ]
    },
    {
     "name": "stdout",
     "output_type": "stream",
     "text": [
      "[{'words': '事'}]\n",
      "unieb76\n"
     ]
    },
    {
     "name": "stderr",
     "output_type": "stream",
     "text": [
      "\r",
      " 49% (291 of 591) |##########            | Elapsed Time: 0:14:45 ETA:   0:17:20"
     ]
    },
    {
     "name": "stdout",
     "output_type": "stream",
     "text": [
      "[{'words': '能'}]\n",
      "unieb86\n"
     ]
    },
    {
     "name": "stderr",
     "output_type": "stream",
     "text": [
      "\r",
      " 49% (292 of 591) |##########            | Elapsed Time: 0:14:47 ETA:   0:10:47"
     ]
    },
    {
     "name": "stdout",
     "output_type": "stream",
     "text": [
      "[{'words': '向'}]\n",
      "unieb8f\n"
     ]
    },
    {
     "name": "stderr",
     "output_type": "stream",
     "text": [
      "\r",
      " 49% (293 of 591) |##########            | Elapsed Time: 0:14:50 ETA:   0:12:05"
     ]
    },
    {
     "name": "stdout",
     "output_type": "stream",
     "text": [
      "[{'words': '柳'}]\n",
      "unieb9b\n"
     ]
    },
    {
     "name": "stderr",
     "output_type": "stream",
     "text": [
      "\r",
      " 49% (294 of 591) |##########            | Elapsed Time: 0:14:56 ETA:   0:31:01"
     ]
    },
    {
     "name": "stdout",
     "output_type": "stream",
     "text": [
      "[{'words': '茶'}]\n",
      "uniebac\n"
     ]
    },
    {
     "name": "stderr",
     "output_type": "stream",
     "text": [
      "\r",
      " 49% (295 of 591) |##########            | Elapsed Time: 0:15:07 ETA:   0:55:16"
     ]
    },
    {
     "name": "stdout",
     "output_type": "stream",
     "text": [
      "[{'words': '式'}]\n",
      "uniebad\n"
     ]
    },
    {
     "name": "stderr",
     "output_type": "stream",
     "text": [
      "\r",
      " 50% (296 of 591) |###########           | Elapsed Time: 0:15:11 ETA:   0:21:18"
     ]
    },
    {
     "name": "stdout",
     "output_type": "stream",
     "text": [
      "[{'words': '位'}]\n",
      "uniebbd\n"
     ]
    },
    {
     "name": "stderr",
     "output_type": "stream",
     "text": [
      "\r",
      " 50% (297 of 591) |###########           | Elapsed Time: 0:15:15 ETA:   0:16:18"
     ]
    },
    {
     "name": "stdout",
     "output_type": "stream",
     "text": [
      "[{'words': '车'}]\n",
      "uniebc1\n"
     ]
    },
    {
     "name": "stderr",
     "output_type": "stream",
     "text": [
      "\r",
      " 50% (298 of 591) |###########           | Elapsed Time: 0:15:17 ETA:   0:10:26"
     ]
    },
    {
     "name": "stdout",
     "output_type": "stream",
     "text": [
      "[{'words': '啦'}]\n",
      "uniebc5\n"
     ]
    },
    {
     "name": "stderr",
     "output_type": "stream",
     "text": [
      "\r",
      " 50% (299 of 591) |###########           | Elapsed Time: 0:15:19 ETA:   0:09:34"
     ]
    },
    {
     "name": "stdout",
     "output_type": "stream",
     "text": [
      "[]\n",
      "uniebdf\n"
     ]
    },
    {
     "name": "stderr",
     "output_type": "stream",
     "text": [
      "\r",
      " 50% (300 of 591) |###########           | Elapsed Time: 0:15:20 ETA:   0:08:55"
     ]
    },
    {
     "name": "stdout",
     "output_type": "stream",
     "text": [
      "[{'words': '宦'}]\n",
      "uniebee\n"
     ]
    },
    {
     "name": "stderr",
     "output_type": "stream",
     "text": [
      "\r",
      " 50% (301 of 591) |###########           | Elapsed Time: 0:15:22 ETA:   0:08:23"
     ]
    },
    {
     "name": "stdout",
     "output_type": "stream",
     "text": [
      "[{'words': '最取'}]\n",
      "uniebf5\n"
     ]
    },
    {
     "name": "stderr",
     "output_type": "stream",
     "text": [
      "\r",
      " 51% (302 of 591) |###########           | Elapsed Time: 0:15:24 ETA:   0:11:31"
     ]
    },
    {
     "name": "stdout",
     "output_type": "stream",
     "text": [
      "[{'words': '多'}]\n",
      "uniebfd\n"
     ]
    },
    {
     "name": "stderr",
     "output_type": "stream",
     "text": [
      "\r",
      " 51% (303 of 591) |###########           | Elapsed Time: 0:15:31 ETA:   0:30:29"
     ]
    },
    {
     "name": "stdout",
     "output_type": "stream",
     "text": [
      "[{'words': '有'}]\n",
      "uniec06\n"
     ]
    },
    {
     "name": "stderr",
     "output_type": "stream",
     "text": [
      "\r",
      " 51% (304 of 591) |###########           | Elapsed Time: 0:15:35 ETA:   0:21:53"
     ]
    },
    {
     "name": "stdout",
     "output_type": "stream",
     "text": [
      "[{'words': '带'}]\n",
      "uniec10\n"
     ]
    },
    {
     "name": "stderr",
     "output_type": "stream",
     "text": [
      "\r",
      " 51% (305 of 591) |###########           | Elapsed Time: 0:15:42 ETA:   0:29:19"
     ]
    },
    {
     "name": "stdout",
     "output_type": "stream",
     "text": [
      "[{'words': '楼'}]\n",
      "uniec11\n"
     ]
    },
    {
     "name": "stderr",
     "output_type": "stream",
     "text": [
      "\r",
      " 51% (306 of 591) |###########           | Elapsed Time: 0:15:45 ETA:   0:14:47"
     ]
    },
    {
     "name": "stdout",
     "output_type": "stream",
     "text": [
      "[{'words': '老'}]\n",
      "uniec20\n"
     ]
    },
    {
     "name": "stderr",
     "output_type": "stream",
     "text": [
      "\r",
      " 51% (307 of 591) |###########           | Elapsed Time: 0:15:47 ETA:   0:11:59"
     ]
    },
    {
     "name": "stdout",
     "output_type": "stream",
     "text": [
      "[{'words': '达'}]\n",
      "uniec22\n"
     ]
    },
    {
     "name": "stderr",
     "output_type": "stream",
     "text": [
      "\r",
      " 52% (308 of 591) |###########           | Elapsed Time: 0:15:49 ETA:   0:09:44"
     ]
    },
    {
     "name": "stdout",
     "output_type": "stream",
     "text": [
      "[{'words': '文'}]\n",
      "uniec2e\n"
     ]
    },
    {
     "name": "stderr",
     "output_type": "stream",
     "text": [
      "\r",
      " 52% (309 of 591) |###########           | Elapsed Time: 0:15:51 ETA:   0:10:34"
     ]
    },
    {
     "name": "stdout",
     "output_type": "stream",
     "text": [
      "[{'words': '水'}]\n",
      "uniec32\n"
     ]
    },
    {
     "name": "stderr",
     "output_type": "stream",
     "text": [
      "\r",
      " 52% (310 of 591) |###########           | Elapsed Time: 0:15:54 ETA:   0:11:40"
     ]
    },
    {
     "name": "stdout",
     "output_type": "stream",
     "text": [
      "[{'words': '外'}]\n",
      "uniec46\n"
     ]
    },
    {
     "name": "stderr",
     "output_type": "stream",
     "text": [
      "\r",
      " 52% (311 of 591) |###########           | Elapsed Time: 0:15:56 ETA:   0:10:06"
     ]
    },
    {
     "name": "stdout",
     "output_type": "stream",
     "text": [
      "[{'words': '庆'}]\n",
      "uniec4a\n"
     ]
    },
    {
     "name": "stderr",
     "output_type": "stream",
     "text": [
      "\r",
      " 52% (312 of 591) |###########           | Elapsed Time: 0:15:58 ETA:   0:11:46"
     ]
    },
    {
     "name": "stdout",
     "output_type": "stream",
     "text": [
      "[]\n",
      "uniec5c\n"
     ]
    },
    {
     "name": "stderr",
     "output_type": "stream",
     "text": [
      "\r",
      " 52% (313 of 591) |###########           | Elapsed Time: 0:16:00 ETA:   0:09:27"
     ]
    },
    {
     "name": "stdout",
     "output_type": "stream",
     "text": [
      "[{'words': '祥'}]\n",
      "uniec72\n"
     ]
    },
    {
     "name": "stderr",
     "output_type": "stream",
     "text": [
      "\r",
      " 53% (314 of 591) |###########           | Elapsed Time: 0:16:03 ETA:   0:14:20"
     ]
    },
    {
     "name": "stdout",
     "output_type": "stream",
     "text": [
      "[{'words': '烫'}]\n",
      "uniec78\n"
     ]
    },
    {
     "name": "stderr",
     "output_type": "stream",
     "text": [
      "\r",
      " 53% (315 of 591) |###########           | Elapsed Time: 0:16:07 ETA:   0:15:39"
     ]
    },
    {
     "name": "stdout",
     "output_type": "stream",
     "text": [
      "[{'words': '佳'}]\n",
      "unieca9\n"
     ]
    },
    {
     "name": "stderr",
     "output_type": "stream",
     "text": [
      "\r",
      " 53% (316 of 591) |###########           | Elapsed Time: 0:16:09 ETA:   0:12:14"
     ]
    },
    {
     "name": "stdout",
     "output_type": "stream",
     "text": [
      "[{'words': '秀'}]\n",
      "uniecbc\n"
     ]
    },
    {
     "name": "stderr",
     "output_type": "stream",
     "text": [
      "\r",
      " 53% (317 of 591) |###########           | Elapsed Time: 0:16:11 ETA:   0:08:34"
     ]
    },
    {
     "name": "stdout",
     "output_type": "stream",
     "text": [
      "[]\n",
      "uniecc2\n"
     ]
    },
    {
     "name": "stderr",
     "output_type": "stream",
     "text": [
      "\r",
      " 53% (318 of 591) |###########           | Elapsed Time: 0:16:13 ETA:   0:09:26"
     ]
    },
    {
     "name": "stdout",
     "output_type": "stream",
     "text": [
      "[{'words': '打'}]\n",
      "uniecc9\n"
     ]
    },
    {
     "name": "stderr",
     "output_type": "stream",
     "text": [
      "\r",
      " 53% (319 of 591) |###########           | Elapsed Time: 0:16:15 ETA:   0:09:09"
     ]
    },
    {
     "name": "stdout",
     "output_type": "stream",
     "text": [
      "[{'words': '座'}]\n",
      "uniece5\n"
     ]
    },
    {
     "name": "stderr",
     "output_type": "stream",
     "text": [
      "\r",
      " 54% (320 of 591) |###########           | Elapsed Time: 0:16:18 ETA:   0:17:27"
     ]
    },
    {
     "name": "stdout",
     "output_type": "stream",
     "text": [
      "[{'words': '原'}]\n",
      "uniecf3\n"
     ]
    },
    {
     "name": "stderr",
     "output_type": "stream",
     "text": [
      "\r",
      " 54% (321 of 591) |###########           | Elapsed Time: 0:16:21 ETA:   0:12:30"
     ]
    },
    {
     "name": "stdout",
     "output_type": "stream",
     "text": [
      "[{'words': '厨'}]\n",
      "uniecfd\n"
     ]
    },
    {
     "name": "stderr",
     "output_type": "stream",
     "text": [
      "\r",
      " 54% (322 of 591) |###########           | Elapsed Time: 0:16:23 ETA:   0:10:40"
     ]
    },
    {
     "name": "stdout",
     "output_type": "stream",
     "text": [
      "[{'words': '什'}]\n",
      "unied1e\n"
     ]
    },
    {
     "name": "stderr",
     "output_type": "stream",
     "text": [
      "\r",
      " 54% (323 of 591) |############          | Elapsed Time: 0:16:26 ETA:   0:10:35"
     ]
    },
    {
     "name": "stdout",
     "output_type": "stream",
     "text": [
      "[{'words': '合'}]\n",
      "unied22\n"
     ]
    },
    {
     "name": "stderr",
     "output_type": "stream",
     "text": [
      "\r",
      " 54% (324 of 591) |############          | Elapsed Time: 0:16:28 ETA:   0:10:15"
     ]
    },
    {
     "name": "stdout",
     "output_type": "stream",
     "text": [
      "[{'words': '定'}]\n",
      "unied24\n"
     ]
    },
    {
     "name": "stderr",
     "output_type": "stream",
     "text": [
      "\r",
      " 54% (325 of 591) |############          | Elapsed Time: 0:16:30 ETA:   0:09:21"
     ]
    },
    {
     "name": "stdout",
     "output_type": "stream",
     "text": [
      "[{'words': '分'}]\n",
      "unied37\n"
     ]
    },
    {
     "name": "stderr",
     "output_type": "stream",
     "text": [
      "\r",
      " 55% (326 of 591) |############          | Elapsed Time: 0:16:32 ETA:   0:08:20"
     ]
    },
    {
     "name": "stdout",
     "output_type": "stream",
     "text": [
      "[{'words': '而'}]\n",
      "unied3f\n"
     ]
    },
    {
     "name": "stderr",
     "output_type": "stream",
     "text": [
      "\r",
      " 55% (327 of 591) |############          | Elapsed Time: 0:16:34 ETA:   0:12:19"
     ]
    },
    {
     "name": "stdout",
     "output_type": "stream",
     "text": [
      "[{'words': '氏'}]\n",
      "unied48\n"
     ]
    },
    {
     "name": "stderr",
     "output_type": "stream",
     "text": [
      "\r",
      " 55% (328 of 591) |############          | Elapsed Time: 0:16:36 ETA:   0:10:22"
     ]
    },
    {
     "name": "stdout",
     "output_type": "stream",
     "text": [
      "[{'words': '常'}]\n",
      "unied4e\n"
     ]
    },
    {
     "name": "stderr",
     "output_type": "stream",
     "text": [
      "\r",
      " 55% (329 of 591) |############          | Elapsed Time: 0:16:41 ETA:   0:18:23"
     ]
    },
    {
     "name": "stdout",
     "output_type": "stream",
     "text": [
      "[]\n",
      "unied4f\n"
     ]
    },
    {
     "name": "stderr",
     "output_type": "stream",
     "text": [
      "\r",
      " 55% (330 of 591) |############          | Elapsed Time: 0:16:43 ETA:   0:09:39"
     ]
    },
    {
     "name": "stdout",
     "output_type": "stream",
     "text": [
      "[{'words': '两'}]\n",
      "unied62\n"
     ]
    },
    {
     "name": "stderr",
     "output_type": "stream",
     "text": [
      "\r",
      " 56% (331 of 591) |############          | Elapsed Time: 0:16:45 ETA:   0:11:13"
     ]
    },
    {
     "name": "stdout",
     "output_type": "stream",
     "text": [
      "[{'words': '试'}]\n",
      "unied6d\n"
     ]
    },
    {
     "name": "stderr",
     "output_type": "stream",
     "text": [
      "\r",
      " 56% (332 of 591) |############          | Elapsed Time: 0:16:49 ETA:   0:15:10"
     ]
    },
    {
     "name": "stdout",
     "output_type": "stream",
     "text": [
      "[{'words': '很'}]\n",
      "unied79\n"
     ]
    },
    {
     "name": "stderr",
     "output_type": "stream",
     "text": [
      "\r",
      " 56% (333 of 591) |############          | Elapsed Time: 0:16:51 ETA:   0:11:44"
     ]
    },
    {
     "name": "stdout",
     "output_type": "stream",
     "text": [
      "[{'words': '便'}]\n",
      "unied97\n"
     ]
    },
    {
     "name": "stderr",
     "output_type": "stream",
     "text": [
      "\r",
      " 56% (334 of 591) |############          | Elapsed Time: 0:16:53 ETA:   0:10:30"
     ]
    },
    {
     "name": "stdout",
     "output_type": "stream",
     "text": [
      "[{'words': '交'}]\n",
      "unieda2\n"
     ]
    },
    {
     "name": "stderr",
     "output_type": "stream",
     "text": [
      "\r",
      " 56% (335 of 591) |############          | Elapsed Time: 0:16:55 ETA:   0:08:34"
     ]
    },
    {
     "name": "stdout",
     "output_type": "stream",
     "text": [
      "[{'words': '力'}]\n",
      "unieda9\n"
     ]
    },
    {
     "name": "stderr",
     "output_type": "stream",
     "text": [
      "\r",
      " 56% (336 of 591) |############          | Elapsed Time: 0:17:01 ETA:   0:26:13"
     ]
    },
    {
     "name": "stdout",
     "output_type": "stream",
     "text": [
      "[]\n",
      "uniedad\n"
     ]
    },
    {
     "name": "stderr",
     "output_type": "stream",
     "text": [
      "\r",
      " 57% (337 of 591) |############          | Elapsed Time: 0:17:09 ETA:   0:34:01"
     ]
    },
    {
     "name": "stdout",
     "output_type": "stream",
     "text": [
      "[{'words': '成'}]\n",
      "uniedb8\n"
     ]
    },
    {
     "name": "stderr",
     "output_type": "stream",
     "text": [
      "\r",
      " 57% (338 of 591) |############          | Elapsed Time: 0:17:17 ETA:   0:31:52"
     ]
    },
    {
     "name": "stdout",
     "output_type": "stream",
     "text": [
      "[{'words': '相'}]\n",
      "uniedcc\n"
     ]
    },
    {
     "name": "stderr",
     "output_type": "stream",
     "text": [
      "\r",
      " 57% (339 of 591) |############          | Elapsed Time: 0:17:19 ETA:   0:10:40"
     ]
    },
    {
     "name": "stdout",
     "output_type": "stream",
     "text": [
      "[{'words': '讯'}]\n",
      "uniedd0\n"
     ]
    },
    {
     "name": "stderr",
     "output_type": "stream",
     "text": [
      "\r",
      " 57% (340 of 591) |############          | Elapsed Time: 0:17:22 ETA:   0:10:04"
     ]
    },
    {
     "name": "stdout",
     "output_type": "stream",
     "text": [
      "[{'words': '辣'}]\n",
      "uniedd5\n"
     ]
    },
    {
     "name": "stderr",
     "output_type": "stream",
     "text": [
      "\r",
      " 57% (341 of 591) |############          | Elapsed Time: 0:17:24 ETA:   0:09:55"
     ]
    },
    {
     "name": "stdout",
     "output_type": "stream",
     "text": [
      "[{'words': '包'}]\n",
      "unieded\n"
     ]
    },
    {
     "name": "stderr",
     "output_type": "stream",
     "text": [
      "\r",
      " 57% (342 of 591) |############          | Elapsed Time: 0:17:27 ETA:   0:13:09"
     ]
    },
    {
     "name": "stdout",
     "output_type": "stream",
     "text": [
      "[{'words': '来'}]\n",
      "uniee00\n"
     ]
    },
    {
     "name": "stderr",
     "output_type": "stream",
     "text": [
      "\r",
      " 58% (343 of 591) |############          | Elapsed Time: 0:17:29 ETA:   0:08:19"
     ]
    },
    {
     "name": "stdout",
     "output_type": "stream",
     "text": [
      "[{'words': '锅'}]\n",
      "uniee11\n"
     ]
    },
    {
     "name": "stderr",
     "output_type": "stream",
     "text": [
      "\r",
      " 58% (344 of 591) |############          | Elapsed Time: 0:17:32 ETA:   0:13:09"
     ]
    },
    {
     "name": "stdout",
     "output_type": "stream",
     "text": [
      "[]\n",
      "uniee42\n"
     ]
    },
    {
     "name": "stderr",
     "output_type": "stream",
     "text": [
      "\r",
      " 58% (345 of 591) |############          | Elapsed Time: 0:17:35 ETA:   0:08:56"
     ]
    },
    {
     "name": "stdout",
     "output_type": "stream",
     "text": [
      "[{'words': '省'}]\n",
      "uniee45\n"
     ]
    },
    {
     "name": "stderr",
     "output_type": "stream",
     "text": [
      "\r",
      " 58% (346 of 591) |############          | Elapsed Time: 0:17:43 ETA:   0:33:15"
     ]
    },
    {
     "name": "stdout",
     "output_type": "stream",
     "text": [
      "[{'words': '真'}]\n",
      "uniee4f\n"
     ]
    },
    {
     "name": "stderr",
     "output_type": "stream",
     "text": [
      "\r",
      " 58% (347 of 591) |############          | Elapsed Time: 0:17:46 ETA:   0:12:25"
     ]
    },
    {
     "name": "stdout",
     "output_type": "stream",
     "text": [
      "[{'words': '饰'}]\n",
      "uniee66\n"
     ]
    },
    {
     "name": "stderr",
     "output_type": "stream",
     "text": [
      "\r",
      " 58% (348 of 591) |############          | Elapsed Time: 0:17:48 ETA:   0:10:04"
     ]
    },
    {
     "name": "stdout",
     "output_type": "stream",
     "text": [
      "[{'words': '农'}]\n",
      "uniee7b\n"
     ]
    },
    {
     "name": "stderr",
     "output_type": "stream",
     "text": [
      "\r",
      " 59% (349 of 591) |############          | Elapsed Time: 0:17:51 ETA:   0:11:42"
     ]
    },
    {
     "name": "stdout",
     "output_type": "stream",
     "text": [
      "[{'words': '体'}]\n",
      "uniee92\n"
     ]
    },
    {
     "name": "stderr",
     "output_type": "stream",
     "text": [
      "\r",
      " 59% (350 of 591) |#############         | Elapsed Time: 0:17:54 ETA:   0:12:43"
     ]
    },
    {
     "name": "stdout",
     "output_type": "stream",
     "text": [
      "[{'words': '集'}]\n",
      "unieea2\n"
     ]
    },
    {
     "name": "stderr",
     "output_type": "stream",
     "text": [
      "\r",
      " 59% (351 of 591) |#############         | Elapsed Time: 0:17:56 ETA:   0:10:44"
     ]
    },
    {
     "name": "stdout",
     "output_type": "stream",
     "text": [
      "[]\n",
      "unieec5\n"
     ]
    },
    {
     "name": "stderr",
     "output_type": "stream",
     "text": [
      "\r",
      " 59% (352 of 591) |#############         | Elapsed Time: 0:17:58 ETA:   0:08:43"
     ]
    },
    {
     "name": "stdout",
     "output_type": "stream",
     "text": [
      "[{'words': '足'}]\n",
      "unieed6\n"
     ]
    },
    {
     "name": "stderr",
     "output_type": "stream",
     "text": [
      "\r",
      " 59% (353 of 591) |#############         | Elapsed Time: 0:18:00 ETA:   0:06:45"
     ]
    },
    {
     "name": "stdout",
     "output_type": "stream",
     "text": [
      "[{'words': '排'}]\n",
      "unieeda\n"
     ]
    },
    {
     "name": "stderr",
     "output_type": "stream",
     "text": [
      "\r",
      " 59% (354 of 591) |#############         | Elapsed Time: 0:18:02 ETA:   0:07:09"
     ]
    },
    {
     "name": "stdout",
     "output_type": "stream",
     "text": [
      "[{'words': '阿可'}]\n",
      "unieeed\n"
     ]
    },
    {
     "name": "stderr",
     "output_type": "stream",
     "text": [
      "\r",
      " 60% (355 of 591) |#############         | Elapsed Time: 0:18:07 ETA:   0:19:53"
     ]
    },
    {
     "name": "stdout",
     "output_type": "stream",
     "text": [
      "[{'words': '团'}]\n",
      "unieeee\n"
     ]
    },
    {
     "name": "stderr",
     "output_type": "stream",
     "text": [
      "\r",
      " 60% (356 of 591) |#############         | Elapsed Time: 0:18:10 ETA:   0:13:25"
     ]
    },
    {
     "name": "stdout",
     "output_type": "stream",
     "text": [
      "[{'words': '们'}]\n",
      "unieef7\n"
     ]
    },
    {
     "name": "stderr",
     "output_type": "stream",
     "text": [
      "\r",
      " 60% (357 of 591) |#############         | Elapsed Time: 0:18:14 ETA:   0:16:19"
     ]
    },
    {
     "name": "stdout",
     "output_type": "stream",
     "text": [
      "[{'words': '造'}]\n",
      "unieefb\n"
     ]
    },
    {
     "name": "stderr",
     "output_type": "stream",
     "text": [
      "\r",
      " 60% (358 of 591) |#############         | Elapsed Time: 0:18:18 ETA:   0:12:06"
     ]
    },
    {
     "name": "stdout",
     "output_type": "stream",
     "text": [
      "[{'words': '几'}]\n",
      "unief18\n"
     ]
    },
    {
     "name": "stderr",
     "output_type": "stream",
     "text": [
      "\r",
      " 60% (359 of 591) |#############         | Elapsed Time: 0:18:23 ETA:   0:22:50"
     ]
    },
    {
     "name": "stdout",
     "output_type": "stream",
     "text": [
      "[{'words': '建'}]\n",
      "unief1d\n"
     ]
    },
    {
     "name": "stderr",
     "output_type": "stream",
     "text": [
      "\r",
      " 60% (360 of 591) |#############         | Elapsed Time: 0:18:26 ETA:   0:09:41"
     ]
    },
    {
     "name": "stdout",
     "output_type": "stream",
     "text": [
      "[{'words': '鸭'}]\n",
      "unief2a\n"
     ]
    },
    {
     "name": "stderr",
     "output_type": "stream",
     "text": [
      "\r",
      " 61% (361 of 591) |#############         | Elapsed Time: 0:18:28 ETA:   0:08:41"
     ]
    },
    {
     "name": "stdout",
     "output_type": "stream",
     "text": [
      "[{'words': '米'}]\n",
      "unief30\n"
     ]
    },
    {
     "name": "stderr",
     "output_type": "stream",
     "text": [
      "\r",
      " 61% (362 of 591) |#############         | Elapsed Time: 0:18:31 ETA:   0:09:35"
     ]
    },
    {
     "name": "stdout",
     "output_type": "stream",
     "text": [
      "[]\n",
      "unief3c\n"
     ]
    },
    {
     "name": "stderr",
     "output_type": "stream",
     "text": [
      "\r",
      " 61% (363 of 591) |#############         | Elapsed Time: 0:18:34 ETA:   0:13:50"
     ]
    },
    {
     "name": "stdout",
     "output_type": "stream",
     "text": [
      "[{'words': '单'}]\n",
      "unief44\n"
     ]
    },
    {
     "name": "stderr",
     "output_type": "stream",
     "text": [
      "\r",
      " 61% (364 of 591) |#############         | Elapsed Time: 0:18:37 ETA:   0:09:14"
     ]
    },
    {
     "name": "stdout",
     "output_type": "stream",
     "text": [
      "[{'words': '知'}]\n",
      "unief45\n"
     ]
    },
    {
     "name": "stderr",
     "output_type": "stream",
     "text": [
      "\r",
      " 61% (365 of 591) |#############         | Elapsed Time: 0:18:39 ETA:   0:08:00"
     ]
    },
    {
     "name": "stdout",
     "output_type": "stream",
     "text": [
      "[{'words': '铺'}]\n",
      "unief49\n"
     ]
    },
    {
     "name": "stderr",
     "output_type": "stream",
     "text": [
      "\r",
      " 61% (366 of 591) |#############         | Elapsed Time: 0:18:42 ETA:   0:10:51"
     ]
    },
    {
     "name": "stdout",
     "output_type": "stream",
     "text": [
      "[{'words': '买'}]\n",
      "unief5a\n"
     ]
    },
    {
     "name": "stderr",
     "output_type": "stream",
     "text": [
      "\r",
      " 62% (367 of 591) |#############         | Elapsed Time: 0:18:43 ETA:   0:08:09"
     ]
    },
    {
     "name": "stdout",
     "output_type": "stream",
     "text": [
      "[{'words': '计'}]\n",
      "unief5b\n"
     ]
    },
    {
     "name": "stderr",
     "output_type": "stream",
     "text": [
      "\r",
      " 62% (368 of 591) |#############         | Elapsed Time: 0:18:45 ETA:   0:08:39"
     ]
    },
    {
     "name": "stdout",
     "output_type": "stream",
     "text": [
      "[{'words': '都'}]\n",
      "unief79\n"
     ]
    },
    {
     "name": "stderr",
     "output_type": "stream",
     "text": [
      "\r",
      " 62% (369 of 591) |#############         | Elapsed Time: 0:18:48 ETA:   0:08:19"
     ]
    },
    {
     "name": "stdout",
     "output_type": "stream",
     "text": [
      "[]\n",
      "unief7c\n"
     ]
    },
    {
     "name": "stderr",
     "output_type": "stream",
     "text": [
      "\r",
      " 62% (370 of 591) |#############         | Elapsed Time: 0:18:50 ETA:   0:08:15"
     ]
    },
    {
     "name": "stdout",
     "output_type": "stream",
     "text": [
      "[{'words': '次'}]\n",
      "unief8a\n"
     ]
    },
    {
     "name": "stderr",
     "output_type": "stream",
     "text": [
      "\r",
      " 62% (371 of 591) |#############         | Elapsed Time: 0:18:52 ETA:   0:07:23"
     ]
    },
    {
     "name": "stdout",
     "output_type": "stream",
     "text": [
      "[{'words': '别'}]\n",
      "unief8c\n"
     ]
    },
    {
     "name": "stderr",
     "output_type": "stream",
     "text": [
      "\r",
      " 62% (372 of 591) |#############         | Elapsed Time: 0:18:54 ETA:   0:07:24"
     ]
    },
    {
     "name": "stdout",
     "output_type": "stream",
     "text": [
      "[{'words': '木'}]\n",
      "unief94\n"
     ]
    },
    {
     "name": "stderr",
     "output_type": "stream",
     "text": [
      "\r",
      " 63% (373 of 591) |#############         | Elapsed Time: 0:18:55 ETA:   0:07:02"
     ]
    },
    {
     "name": "stdout",
     "output_type": "stream",
     "text": [
      "[{'words': '路'}]\n",
      "unief97\n"
     ]
    },
    {
     "name": "stderr",
     "output_type": "stream",
     "text": [
      "\r",
      " 63% (374 of 591) |#############         | Elapsed Time: 0:18:57 ETA:   0:06:12"
     ]
    },
    {
     "name": "stdout",
     "output_type": "stream",
     "text": [
      "[{'words': '米'}]\n",
      "uniefa8\n"
     ]
    },
    {
     "name": "stderr",
     "output_type": "stream",
     "text": [
      "\r",
      " 63% (375 of 591) |#############         | Elapsed Time: 0:18:59 ETA:   0:06:10"
     ]
    },
    {
     "name": "stdout",
     "output_type": "stream",
     "text": [
      "[{'words': '回'}]\n",
      "uniefc7\n"
     ]
    },
    {
     "name": "stderr",
     "output_type": "stream",
     "text": [
      "\r",
      " 63% (376 of 591) |#############         | Elapsed Time: 0:19:01 ETA:   0:07:59"
     ]
    },
    {
     "name": "stdout",
     "output_type": "stream",
     "text": [
      "[]\n",
      "uniefd0\n"
     ]
    },
    {
     "name": "stderr",
     "output_type": "stream",
     "text": [
      "\r",
      " 63% (377 of 591) |##############        | Elapsed Time: 0:19:04 ETA:   0:10:06"
     ]
    },
    {
     "name": "stdout",
     "output_type": "stream",
     "text": [
      "[{'words': '字'}]\n",
      "uniefe1\n"
     ]
    },
    {
     "name": "stderr",
     "output_type": "stream",
     "text": [
      "\r",
      " 63% (378 of 591) |##############        | Elapsed Time: 0:19:21 ETA:   1:01:28"
     ]
    },
    {
     "name": "stdout",
     "output_type": "stream",
     "text": [
      "[{'words': '烤'}]\n",
      "uniefec\n"
     ]
    },
    {
     "name": "stderr",
     "output_type": "stream",
     "text": [
      "\r",
      " 64% (379 of 591) |##############        | Elapsed Time: 0:19:23 ETA:   0:32:56"
     ]
    },
    {
     "name": "stdout",
     "output_type": "stream",
     "text": [
      "[{'words': '打'}]\n",
      "unieff1\n"
     ]
    },
    {
     "name": "stderr",
     "output_type": "stream",
     "text": [
      "\r",
      " 64% (380 of 591) |##############        | Elapsed Time: 0:19:27 ETA:   0:14:42"
     ]
    },
    {
     "name": "stdout",
     "output_type": "stream",
     "text": [
      "[{'words': '青'}]\n",
      "unif026\n"
     ]
    },
    {
     "name": "stderr",
     "output_type": "stream",
     "text": [
      "\r",
      " 64% (381 of 591) |##############        | Elapsed Time: 0:19:31 ETA:   0:13:57"
     ]
    },
    {
     "name": "stdout",
     "output_type": "stream",
     "text": [
      "[{'words': '周'}]\n",
      "unif030\n"
     ]
    },
    {
     "name": "stderr",
     "output_type": "stream",
     "text": [
      "\r",
      " 64% (382 of 591) |##############        | Elapsed Time: 0:19:33 ETA:   0:07:18"
     ]
    },
    {
     "name": "stdout",
     "output_type": "stream",
     "text": [
      "[{'words': '化'}]\n",
      "unif03c\n"
     ]
    },
    {
     "name": "stderr",
     "output_type": "stream",
     "text": [
      "\r",
      " 64% (383 of 591) |##############        | Elapsed Time: 0:19:35 ETA:   0:06:37"
     ]
    },
    {
     "name": "stdout",
     "output_type": "stream",
     "text": [
      "[{'words': '溪'}]\n",
      "unif05b\n"
     ]
    },
    {
     "name": "stderr",
     "output_type": "stream",
     "text": [
      "\r",
      " 64% (384 of 591) |##############        | Elapsed Time: 0:19:38 ETA:   0:10:44"
     ]
    },
    {
     "name": "stdout",
     "output_type": "stream",
     "text": [
      "[{'words': '务'}]\n",
      "unif060\n"
     ]
    },
    {
     "name": "stderr",
     "output_type": "stream",
     "text": [
      "\r",
      " 65% (385 of 591) |##############        | Elapsed Time: 0:19:41 ETA:   0:11:20"
     ]
    },
    {
     "name": "stdout",
     "output_type": "stream",
     "text": [
      "[{'words': '浦'}]\n",
      "unif063\n"
     ]
    },
    {
     "name": "stderr",
     "output_type": "stream",
     "text": [
      "\r",
      " 65% (386 of 591) |##############        | Elapsed Time: 0:19:43 ETA:   0:08:47"
     ]
    },
    {
     "name": "stdout",
     "output_type": "stream",
     "text": [
      "[{'words': '矢'}]\n",
      "unif066\n"
     ]
    },
    {
     "name": "stderr",
     "output_type": "stream",
     "text": [
      "\r",
      " 65% (387 of 591) |##############        | Elapsed Time: 0:19:45 ETA:   0:06:18"
     ]
    },
    {
     "name": "stdout",
     "output_type": "stream",
     "text": [
      "[{'words': '园'}]\n",
      "unif08b\n"
     ]
    },
    {
     "name": "stderr",
     "output_type": "stream",
     "text": [
      "\r",
      " 65% (388 of 591) |##############        | Elapsed Time: 0:19:47 ETA:   0:07:24"
     ]
    },
    {
     "name": "stdout",
     "output_type": "stream",
     "text": [
      "[{'words': '训'}]\n",
      "unif092\n"
     ]
    },
    {
     "name": "stderr",
     "output_type": "stream",
     "text": [
      "\r",
      " 65% (389 of 591) |##############        | Elapsed Time: 0:19:49 ETA:   0:08:25"
     ]
    },
    {
     "name": "stdout",
     "output_type": "stream",
     "text": [
      "[{'words': '全'}]\n",
      "unif096\n"
     ]
    },
    {
     "name": "stderr",
     "output_type": "stream",
     "text": [
      "\r",
      " 65% (390 of 591) |##############        | Elapsed Time: 0:19:52 ETA:   0:08:02"
     ]
    },
    {
     "name": "stdout",
     "output_type": "stream",
     "text": [
      "[{'words': '金'}]\n",
      "unif097\n"
     ]
    },
    {
     "name": "stderr",
     "output_type": "stream",
     "text": [
      "\r",
      " 66% (391 of 591) |##############        | Elapsed Time: 0:19:53 ETA:   0:05:53"
     ]
    },
    {
     "name": "stdout",
     "output_type": "stream",
     "text": [
      "[{'words': '川'}]\n",
      "unif09b\n"
     ]
    },
    {
     "name": "stderr",
     "output_type": "stream",
     "text": [
      "\r",
      " 66% (392 of 591) |##############        | Elapsed Time: 0:19:55 ETA:   0:04:51"
     ]
    },
    {
     "name": "stdout",
     "output_type": "stream",
     "text": [
      "[{'words': '通'}]\n",
      "unif0b0\n"
     ]
    },
    {
     "name": "stderr",
     "output_type": "stream",
     "text": [
      "\r",
      " 66% (393 of 591) |##############        | Elapsed Time: 0:19:56 ETA:   0:05:49"
     ]
    },
    {
     "name": "stdout",
     "output_type": "stream",
     "text": [
      "[{'words': '两'}]\n",
      "unif0ba\n"
     ]
    },
    {
     "name": "stderr",
     "output_type": "stream",
     "text": [
      "\r",
      " 66% (394 of 591) |##############        | Elapsed Time: 0:19:58 ETA:   0:05:36"
     ]
    },
    {
     "name": "stdout",
     "output_type": "stream",
     "text": [
      "[{'words': '津'}]\n",
      "unif0d0\n"
     ]
    },
    {
     "name": "stderr",
     "output_type": "stream",
     "text": [
      "\r",
      " 66% (395 of 591) |##############        | Elapsed Time: 0:20:03 ETA:   0:16:42"
     ]
    },
    {
     "name": "stdout",
     "output_type": "stream",
     "text": [
      "[{'words': '电'}]\n",
      "unif0d7\n"
     ]
    },
    {
     "name": "stderr",
     "output_type": "stream",
     "text": [
      "\r",
      " 67% (396 of 591) |##############        | Elapsed Time: 0:20:05 ETA:   0:10:39"
     ]
    },
    {
     "name": "stdout",
     "output_type": "stream",
     "text": [
      "[]\n",
      "unif0da\n"
     ]
    },
    {
     "name": "stderr",
     "output_type": "stream",
     "text": [
      "\r",
      " 67% (397 of 591) |##############        | Elapsed Time: 0:20:06 ETA:   0:04:52"
     ]
    },
    {
     "name": "stdout",
     "output_type": "stream",
     "text": [
      "[{'words': '等'}]\n",
      "unif0e4\n"
     ]
    },
    {
     "name": "stderr",
     "output_type": "stream",
     "text": [
      "\r",
      " 67% (398 of 591) |##############        | Elapsed Time: 0:20:07 ETA:   0:04:28"
     ]
    },
    {
     "name": "stdout",
     "output_type": "stream",
     "text": [
      "[]\n",
      "unif0f2\n"
     ]
    },
    {
     "name": "stderr",
     "output_type": "stream",
     "text": [
      "\r",
      " 67% (399 of 591) |##############        | Elapsed Time: 0:20:09 ETA:   0:04:58"
     ]
    },
    {
     "name": "stdout",
     "output_type": "stream",
     "text": [
      "[{'words': '信'}]\n",
      "unif0fb\n"
     ]
    },
    {
     "name": "stderr",
     "output_type": "stream",
     "text": [
      "\r",
      " 67% (400 of 591) |##############        | Elapsed Time: 0:20:12 ETA:   0:09:18"
     ]
    },
    {
     "name": "stdout",
     "output_type": "stream",
     "text": [
      "[{'words': '糕'}]\n",
      "unif10d\n"
     ]
    },
    {
     "name": "stderr",
     "output_type": "stream",
     "text": [
      "\r",
      " 67% (401 of 591) |##############        | Elapsed Time: 0:20:14 ETA:   0:06:32"
     ]
    },
    {
     "name": "stdout",
     "output_type": "stream",
     "text": [
      "[{'words': '入'}]\n",
      "unif10f\n"
     ]
    },
    {
     "name": "stderr",
     "output_type": "stream",
     "text": [
      "\r",
      " 68% (402 of 591) |##############        | Elapsed Time: 0:20:17 ETA:   0:09:45"
     ]
    },
    {
     "name": "stdout",
     "output_type": "stream",
     "text": [
      "[{'words': '兵'}]\n",
      "unif114\n"
     ]
    },
    {
     "name": "stderr",
     "output_type": "stream",
     "text": [
      "\r",
      " 68% (403 of 591) |###############       | Elapsed Time: 0:20:18 ETA:   0:06:48"
     ]
    },
    {
     "name": "stdout",
     "output_type": "stream",
     "text": [
      "[{'words': '人'}]\n",
      "unif123\n"
     ]
    },
    {
     "name": "stderr",
     "output_type": "stream",
     "text": [
      "\r",
      " 68% (404 of 591) |###############       | Elapsed Time: 0:20:21 ETA:   0:09:53"
     ]
    },
    {
     "name": "stdout",
     "output_type": "stream",
     "text": [
      "[{'words': '近'}]\n",
      "unif129\n"
     ]
    },
    {
     "name": "stderr",
     "output_type": "stream",
     "text": [
      "\r",
      " 68% (405 of 591) |###############       | Elapsed Time: 0:20:24 ETA:   0:08:05"
     ]
    },
    {
     "name": "stdout",
     "output_type": "stream",
     "text": [
      "[{'words': '奶'}]\n",
      "unif12a\n"
     ]
    },
    {
     "name": "stderr",
     "output_type": "stream",
     "text": [
      "\r",
      " 68% (406 of 591) |###############       | Elapsed Time: 0:20:26 ETA:   0:07:05"
     ]
    },
    {
     "name": "stdout",
     "output_type": "stream",
     "text": [
      "[{'words': '层'}]\n",
      "unif12c\n"
     ]
    },
    {
     "name": "stderr",
     "output_type": "stream",
     "text": [
      "\r",
      " 68% (407 of 591) |###############       | Elapsed Time: 0:20:29 ETA:   0:09:04"
     ]
    },
    {
     "name": "stdout",
     "output_type": "stream",
     "text": [
      "[{'words': '欢'}]\n",
      "unif143\n"
     ]
    },
    {
     "name": "stderr",
     "output_type": "stream",
     "text": [
      "\r",
      " 69% (408 of 591) |###############       | Elapsed Time: 0:20:31 ETA:   0:06:21"
     ]
    },
    {
     "name": "stdout",
     "output_type": "stream",
     "text": [
      "[{'words': '术'}]\n",
      "unif147\n"
     ]
    },
    {
     "name": "stderr",
     "output_type": "stream",
     "text": [
      "\r",
      " 69% (409 of 591) |###############       | Elapsed Time: 0:20:33 ETA:   0:05:56"
     ]
    },
    {
     "name": "stdout",
     "output_type": "stream",
     "text": [
      "[{'words': '座至'}]\n",
      "unif15a\n"
     ]
    },
    {
     "name": "stderr",
     "output_type": "stream",
     "text": [
      "\r",
      " 69% (410 of 591) |###############       | Elapsed Time: 0:20:34 ETA:   0:05:29"
     ]
    },
    {
     "name": "stdout",
     "output_type": "stream",
     "text": [
      "[{'words': '幼'}]\n",
      "unif15c\n"
     ]
    },
    {
     "name": "stderr",
     "output_type": "stream",
     "text": [
      "\r",
      " 69% (411 of 591) |###############       | Elapsed Time: 0:20:36 ETA:   0:05:41"
     ]
    },
    {
     "name": "stdout",
     "output_type": "stream",
     "text": [
      "[{'words': '机'}]\n",
      "unif160\n"
     ]
    },
    {
     "name": "stderr",
     "output_type": "stream",
     "text": [
      "\r",
      " 69% (412 of 591) |###############       | Elapsed Time: 0:20:37 ETA:   0:04:43"
     ]
    },
    {
     "name": "stdout",
     "output_type": "stream",
     "text": [
      "[{'words': '土土'}]\n",
      "unif16a\n"
     ]
    },
    {
     "name": "stderr",
     "output_type": "stream",
     "text": [
      "\r",
      " 69% (413 of 591) |###############       | Elapsed Time: 0:20:39 ETA:   0:04:21"
     ]
    },
    {
     "name": "stdout",
     "output_type": "stream",
     "text": [
      "[{'words': '布'}]\n",
      "unif16f\n"
     ]
    },
    {
     "name": "stderr",
     "output_type": "stream",
     "text": [
      "\r",
      " 70% (414 of 591) |###############       | Elapsed Time: 0:20:41 ETA:   0:05:20"
     ]
    },
    {
     "name": "stdout",
     "output_type": "stream",
     "text": [
      "[{'words': '室'}]\n",
      "unif179\n"
     ]
    },
    {
     "name": "stderr",
     "output_type": "stream",
     "text": [
      "\r",
      " 70% (415 of 591) |###############       | Elapsed Time: 0:20:42 ETA:   0:04:28"
     ]
    },
    {
     "name": "stdout",
     "output_type": "stream",
     "text": [
      "[{'words': '在'}]\n",
      "unif18a\n"
     ]
    },
    {
     "name": "stderr",
     "output_type": "stream",
     "text": [
      "\r",
      " 70% (416 of 591) |###############       | Elapsed Time: 0:20:44 ETA:   0:03:31"
     ]
    },
    {
     "name": "stdout",
     "output_type": "stream",
     "text": [
      "[{'words': '五'}]\n",
      "unif19d\n"
     ]
    },
    {
     "name": "stderr",
     "output_type": "stream",
     "text": [
      "\r",
      " 70% (417 of 591) |###############       | Elapsed Time: 0:20:45 ETA:   0:03:26"
     ]
    },
    {
     "name": "stdout",
     "output_type": "stream",
     "text": [
      "[{'words': '日'}]\n",
      "unif19e\n"
     ]
    },
    {
     "name": "stderr",
     "output_type": "stream",
     "text": [
      "\r",
      " 70% (418 of 591) |###############       | Elapsed Time: 0:20:47 ETA:   0:04:19"
     ]
    },
    {
     "name": "stdout",
     "output_type": "stream",
     "text": [
      "[]\n",
      "unif1a0\n"
     ]
    },
    {
     "name": "stderr",
     "output_type": "stream",
     "text": [
      "\r",
      " 70% (419 of 591) |###############       | Elapsed Time: 0:20:48 ETA:   0:04:20"
     ]
    },
    {
     "name": "stdout",
     "output_type": "stream",
     "text": [
      "[{'words': '朝'}]\n",
      "unif1a2\n"
     ]
    },
    {
     "name": "stderr",
     "output_type": "stream",
     "text": [
      "\r",
      " 71% (420 of 591) |###############       | Elapsed Time: 0:20:50 ETA:   0:04:26"
     ]
    },
    {
     "name": "stdout",
     "output_type": "stream",
     "text": [
      "[{'words': '车千'}]\n",
      "unif1ac\n"
     ]
    },
    {
     "name": "stderr",
     "output_type": "stream",
     "text": [
      "\r",
      " 71% (421 of 591) |###############       | Elapsed Time: 0:20:55 ETA:   0:16:20"
     ]
    },
    {
     "name": "stdout",
     "output_type": "stream",
     "text": [
      "[{'words': '缘'}]\n",
      "unif1b2\n"
     ]
    },
    {
     "name": "stderr",
     "output_type": "stream",
     "text": [
      "\r",
      " 71% (422 of 591) |###############       | Elapsed Time: 0:20:58 ETA:   0:06:07"
     ]
    },
    {
     "name": "stdout",
     "output_type": "stream",
     "text": [
      "[{'words': '旅'}]\n",
      "unif1ba\n"
     ]
    },
    {
     "name": "stderr",
     "output_type": "stream",
     "text": [
      "\r",
      " 71% (423 of 591) |###############       | Elapsed Time: 0:20:59 ETA:   0:05:32"
     ]
    },
    {
     "name": "stdout",
     "output_type": "stream",
     "text": [
      "[]\n",
      "unif1be\n"
     ]
    },
    {
     "name": "stderr",
     "output_type": "stream",
     "text": [
      "\r",
      " 71% (424 of 591) |###############       | Elapsed Time: 0:21:02 ETA:   0:06:10"
     ]
    },
    {
     "name": "stdout",
     "output_type": "stream",
     "text": [
      "[{'words': '侧'}]\n",
      "unif1c1\n"
     ]
    },
    {
     "name": "stderr",
     "output_type": "stream",
     "text": [
      "\r",
      " 71% (425 of 591) |###############       | Elapsed Time: 0:21:04 ETA:   0:07:28"
     ]
    },
    {
     "name": "stdout",
     "output_type": "stream",
     "text": [
      "[{'words': '非'}]\n",
      "unif1d0\n"
     ]
    },
    {
     "name": "stderr",
     "output_type": "stream",
     "text": [
      "\r",
      " 72% (426 of 591) |###############       | Elapsed Time: 0:21:06 ETA:   0:05:46"
     ]
    },
    {
     "name": "stdout",
     "output_type": "stream",
     "text": [
      "[{'words': '做'}]\n",
      "unif1d5\n"
     ]
    },
    {
     "name": "stderr",
     "output_type": "stream",
     "text": [
      "\r",
      " 72% (427 of 591) |###############       | Elapsed Time: 0:21:08 ETA:   0:06:34"
     ]
    },
    {
     "name": "stdout",
     "output_type": "stream",
     "text": [
      "[{'words': '庄'}]\n",
      "unif1e5\n"
     ]
    },
    {
     "name": "stderr",
     "output_type": "stream",
     "text": [
      "\r",
      " 72% (428 of 591) |###############       | Elapsed Time: 0:21:11 ETA:   0:07:25"
     ]
    },
    {
     "name": "stdout",
     "output_type": "stream",
     "text": [
      "[]\n",
      "unif1eb\n"
     ]
    },
    {
     "name": "stderr",
     "output_type": "stream",
     "text": [
      "\r",
      " 72% (429 of 591) |###############       | Elapsed Time: 0:21:13 ETA:   0:06:11"
     ]
    },
    {
     "name": "stdout",
     "output_type": "stream",
     "text": [
      "[{'words': '学'}]\n",
      "unif1f6\n"
     ]
    },
    {
     "name": "stderr",
     "output_type": "stream",
     "text": [
      "\r",
      " 72% (430 of 591) |################      | Elapsed Time: 0:21:15 ETA:   0:04:56"
     ]
    },
    {
     "name": "stdout",
     "output_type": "stream",
     "text": [
      "[{'words': '政'}]\n",
      "unif1fe\n"
     ]
    },
    {
     "name": "stderr",
     "output_type": "stream",
     "text": [
      "\r",
      " 72% (431 of 591) |################      | Elapsed Time: 0:21:16 ETA:   0:03:44"
     ]
    },
    {
     "name": "stdout",
     "output_type": "stream",
     "text": [
      "[{'words': '新'}]\n",
      "unif203\n"
     ]
    },
    {
     "name": "stderr",
     "output_type": "stream",
     "text": [
      "\r",
      " 73% (432 of 591) |################      | Elapsed Time: 0:21:17 ETA:   0:03:24"
     ]
    },
    {
     "name": "stdout",
     "output_type": "stream",
     "text": [
      "[{'words': '塔'}]\n",
      "unif204\n"
     ]
    },
    {
     "name": "stderr",
     "output_type": "stream",
     "text": [
      "\r",
      " 73% (433 of 591) |################      | Elapsed Time: 0:21:18 ETA:   0:02:44"
     ]
    },
    {
     "name": "stdout",
     "output_type": "stream",
     "text": [
      "[{'words': '丰'}]\n",
      "unif219\n"
     ]
    },
    {
     "name": "stderr",
     "output_type": "stream",
     "text": [
      "\r",
      " 73% (434 of 591) |################      | Elapsed Time: 0:21:21 ETA:   0:07:06"
     ]
    },
    {
     "name": "stdout",
     "output_type": "stream",
     "text": [
      "[{'words': '助'}]\n",
      "unif221\n"
     ]
    },
    {
     "name": "stderr",
     "output_type": "stream",
     "text": [
      "\r",
      " 73% (435 of 591) |################      | Elapsed Time: 0:21:22 ETA:   0:04:55"
     ]
    },
    {
     "name": "stdout",
     "output_type": "stream",
     "text": [
      "[{'words': '产'}]\n",
      "unif22d\n"
     ]
    },
    {
     "name": "stderr",
     "output_type": "stream",
     "text": [
      "\r",
      " 73% (436 of 591) |################      | Elapsed Time: 0:21:24 ETA:   0:06:17"
     ]
    },
    {
     "name": "stdout",
     "output_type": "stream",
     "text": [
      "[{'words': '张'}]\n",
      "unif24f\n"
     ]
    },
    {
     "name": "stderr",
     "output_type": "stream",
     "text": [
      "\r",
      " 73% (437 of 591) |################      | Elapsed Time: 0:21:27 ETA:   0:07:59"
     ]
    },
    {
     "name": "stdout",
     "output_type": "stream",
     "text": [
      "[{'words': '少'}]\n",
      "unif265\n"
     ]
    },
    {
     "name": "stderr",
     "output_type": "stream",
     "text": [
      "\r",
      " 74% (438 of 591) |################      | Elapsed Time: 0:21:30 ETA:   0:05:39"
     ]
    },
    {
     "name": "stdout",
     "output_type": "stream",
     "text": [
      "[{'words': '岛'}]\n",
      "unif26d\n"
     ]
    },
    {
     "name": "stderr",
     "output_type": "stream",
     "text": [
      "\r",
      " 74% (439 of 591) |################      | Elapsed Time: 0:21:34 ETA:   0:10:28"
     ]
    },
    {
     "name": "stdout",
     "output_type": "stream",
     "text": [
      "[]\n",
      "unif27c\n"
     ]
    },
    {
     "name": "stderr",
     "output_type": "stream",
     "text": [
      "\r",
      " 74% (440 of 591) |################      | Elapsed Time: 0:21:36 ETA:   0:07:22"
     ]
    },
    {
     "name": "stdout",
     "output_type": "stream",
     "text": [
      "[{'words': '评'}]\n",
      "unif282\n"
     ]
    },
    {
     "name": "stderr",
     "output_type": "stream",
     "text": [
      "\r",
      " 74% (441 of 591) |################      | Elapsed Time: 0:21:37 ETA:   0:03:55"
     ]
    },
    {
     "name": "stdout",
     "output_type": "stream",
     "text": [
      "[{'words': '衣'}]\n",
      "unif28c\n"
     ]
    },
    {
     "name": "stderr",
     "output_type": "stream",
     "text": [
      "\r",
      " 74% (442 of 591) |################      | Elapsed Time: 0:21:39 ETA:   0:04:11"
     ]
    },
    {
     "name": "stdout",
     "output_type": "stream",
     "text": [
      "[{'words': '馆'}]\n",
      "unif2a3\n"
     ]
    },
    {
     "name": "stderr",
     "output_type": "stream",
     "text": [
      "\r",
      " 74% (443 of 591) |################      | Elapsed Time: 0:21:41 ETA:   0:04:23"
     ]
    },
    {
     "name": "stdout",
     "output_type": "stream",
     "text": [
      "[{'words': '心'}]\n",
      "unif2a5\n"
     ]
    },
    {
     "name": "stderr",
     "output_type": "stream",
     "text": [
      "\r",
      " 75% (444 of 591) |################      | Elapsed Time: 0:21:42 ETA:   0:03:43"
     ]
    },
    {
     "name": "stdout",
     "output_type": "stream",
     "text": [
      "[{'words': '爱'}]\n",
      "unif2a7\n"
     ]
    },
    {
     "name": "stderr",
     "output_type": "stream",
     "text": [
      "\r",
      " 75% (445 of 591) |################      | Elapsed Time: 0:21:44 ETA:   0:03:38"
     ]
    },
    {
     "name": "stdout",
     "output_type": "stream",
     "text": [
      "[{'words': '晚'}]\n",
      "unif2c9\n"
     ]
    },
    {
     "name": "stderr",
     "output_type": "stream",
     "text": [
      "\r",
      " 75% (446 of 591) |################      | Elapsed Time: 0:21:45 ETA:   0:03:59"
     ]
    },
    {
     "name": "stdout",
     "output_type": "stream",
     "text": [
      "[{'words': '厅'}]\n",
      "unif2cc\n"
     ]
    },
    {
     "name": "stderr",
     "output_type": "stream",
     "text": [
      "\r",
      " 75% (447 of 591) |################      | Elapsed Time: 0:21:47 ETA:   0:04:23"
     ]
    },
    {
     "name": "stdout",
     "output_type": "stream",
     "text": [
      "[{'words': '皮'}]\n",
      "unif2cd\n"
     ]
    },
    {
     "name": "stderr",
     "output_type": "stream",
     "text": [
      "\r",
      " 75% (448 of 591) |################      | Elapsed Time: 0:21:49 ETA:   0:05:24"
     ]
    },
    {
     "name": "stdout",
     "output_type": "stream",
     "text": [
      "[{'words': '汉'}]\n",
      "unif2d0\n"
     ]
    },
    {
     "name": "stderr",
     "output_type": "stream",
     "text": [
      "\r",
      " 75% (449 of 591) |################      | Elapsed Time: 0:21:51 ETA:   0:04:27"
     ]
    },
    {
     "name": "stdout",
     "output_type": "stream",
     "text": [
      "[{'words': '镇'}]\n",
      "unif302\n"
     ]
    },
    {
     "name": "stderr",
     "output_type": "stream",
     "text": [
      "\r",
      " 76% (450 of 591) |################      | Elapsed Time: 0:21:53 ETA:   0:03:51"
     ]
    },
    {
     "name": "stdout",
     "output_type": "stream",
     "text": [
      "[{'words': '鸡'}]\n",
      "unif311\n"
     ]
    },
    {
     "name": "stderr",
     "output_type": "stream",
     "text": [
      "\r",
      " 76% (451 of 591) |################      | Elapsed Time: 0:21:55 ETA:   0:06:28"
     ]
    },
    {
     "name": "stdout",
     "output_type": "stream",
     "text": [
      "[{'words': '才'}]\n",
      "unif31b\n"
     ]
    },
    {
     "name": "stderr",
     "output_type": "stream",
     "text": [
      "\r",
      " 76% (452 of 591) |################      | Elapsed Time: 0:21:57 ETA:   0:04:49"
     ]
    },
    {
     "name": "stdout",
     "output_type": "stream",
     "text": [
      "[{'words': '当'}]\n",
      "unif329\n"
     ]
    },
    {
     "name": "stderr",
     "output_type": "stream",
     "text": [
      "\r",
      " 76% (453 of 591) |################      | Elapsed Time: 0:21:58 ETA:   0:02:39"
     ]
    },
    {
     "name": "stdout",
     "output_type": "stream",
     "text": [
      "[{'words': '汇'}]\n",
      "unif34c\n"
     ]
    },
    {
     "name": "stderr",
     "output_type": "stream",
     "text": [
      "\r",
      " 76% (454 of 591) |################      | Elapsed Time: 0:22:00 ETA:   0:06:02"
     ]
    },
    {
     "name": "stdout",
     "output_type": "stream",
     "text": [
      "[{'words': '蛋'}]\n",
      "unif356\n"
     ]
    },
    {
     "name": "stderr",
     "output_type": "stream",
     "text": [
      "\r",
      " 76% (455 of 591) |################      | Elapsed Time: 0:22:02 ETA:   0:04:40"
     ]
    },
    {
     "name": "stdout",
     "output_type": "stream",
     "text": [
      "[{'words': '院'}]\n",
      "unif35f\n"
     ]
    },
    {
     "name": "stderr",
     "output_type": "stream",
     "text": [
      "\r",
      " 77% (456 of 591) |################      | Elapsed Time: 0:22:04 ETA:   0:03:38"
     ]
    },
    {
     "name": "stdout",
     "output_type": "stream",
     "text": [
      "[{'words': '公'}]\n",
      "unif365\n"
     ]
    },
    {
     "name": "stderr",
     "output_type": "stream",
     "text": [
      "\r",
      " 77% (457 of 591) |#################     | Elapsed Time: 0:22:06 ETA:   0:05:03"
     ]
    },
    {
     "name": "stdout",
     "output_type": "stream",
     "text": [
      "[{'words': '本'}]\n",
      "unif370\n"
     ]
    },
    {
     "name": "stderr",
     "output_type": "stream",
     "text": [
      "\r",
      " 77% (458 of 591) |#################     | Elapsed Time: 0:22:07 ETA:   0:04:08"
     ]
    },
    {
     "name": "stdout",
     "output_type": "stream",
     "text": [
      "[{'words': '隆'}]\n",
      "unif371\n"
     ]
    },
    {
     "name": "stderr",
     "output_type": "stream",
     "text": [
      "\r",
      " 77% (459 of 591) |#################     | Elapsed Time: 0:22:09 ETA:   0:03:13"
     ]
    },
    {
     "name": "stdout",
     "output_type": "stream",
     "text": [
      "[{'words': '理'}]\n",
      "unif373\n"
     ]
    },
    {
     "name": "stderr",
     "output_type": "stream",
     "text": [
      "\r",
      " 77% (460 of 591) |#################     | Elapsed Time: 0:22:11 ETA:   0:04:43"
     ]
    },
    {
     "name": "stdout",
     "output_type": "stream",
     "text": [
      "[{'words': '也'}]\n",
      "unif377\n"
     ]
    },
    {
     "name": "stderr",
     "output_type": "stream",
     "text": [
      "\r",
      " 78% (461 of 591) |#################     | Elapsed Time: 0:22:19 ETA:   0:16:20"
     ]
    },
    {
     "name": "stdout",
     "output_type": "stream",
     "text": [
      "[{'words': '那'}]\n",
      "unif396\n"
     ]
    },
    {
     "name": "stderr",
     "output_type": "stream",
     "text": [
      "\r",
      " 78% (462 of 591) |#################     | Elapsed Time: 0:22:20 ETA:   0:09:51"
     ]
    },
    {
     "name": "stdout",
     "output_type": "stream",
     "text": [
      "[{'words': '长'}]\n",
      "unif3a7\n"
     ]
    },
    {
     "name": "stderr",
     "output_type": "stream",
     "text": [
      "\r",
      " 78% (463 of 591) |#################     | Elapsed Time: 0:22:22 ETA:   0:03:39"
     ]
    },
    {
     "name": "stdout",
     "output_type": "stream",
     "text": [
      "[{'words': '麻'}]\n",
      "unif3a9\n"
     ]
    },
    {
     "name": "stderr",
     "output_type": "stream",
     "text": [
      "\r",
      " 78% (464 of 591) |#################     | Elapsed Time: 0:22:23 ETA:   0:03:25"
     ]
    },
    {
     "name": "stdout",
     "output_type": "stream",
     "text": [
      "[{'words': '湾'}]\n",
      "unif3cb\n"
     ]
    },
    {
     "name": "stderr",
     "output_type": "stream",
     "text": [
      "\r",
      " 78% (465 of 591) |#################     | Elapsed Time: 0:22:25 ETA:   0:03:26"
     ]
    },
    {
     "name": "stdout",
     "output_type": "stream",
     "text": [
      "[{'words': '头'}]\n",
      "unif3d3\n"
     ]
    },
    {
     "name": "stderr",
     "output_type": "stream",
     "text": [
      "\r",
      " 78% (466 of 591) |#################     | Elapsed Time: 0:22:27 ETA:   0:03:29"
     ]
    },
    {
     "name": "stdout",
     "output_type": "stream",
     "text": [
      "[{'words': '县'}]\n",
      "unif3d4\n"
     ]
    },
    {
     "name": "stderr",
     "output_type": "stream",
     "text": [
      "\r",
      " 79% (467 of 591) |#################     | Elapsed Time: 0:22:28 ETA:   0:02:48"
     ]
    },
    {
     "name": "stdout",
     "output_type": "stream",
     "text": [
      "[{'words': '像'}]\n",
      "unif3d9\n"
     ]
    },
    {
     "name": "stderr",
     "output_type": "stream",
     "text": [
      "\r",
      " 79% (468 of 591) |#################     | Elapsed Time: 0:22:32 ETA:   0:07:19"
     ]
    },
    {
     "name": "stdout",
     "output_type": "stream",
     "text": [
      "[{'words': '格'}]\n",
      "unif3e4\n"
     ]
    },
    {
     "name": "stderr",
     "output_type": "stream",
     "text": [
      "\r",
      " 79% (469 of 591) |#################     | Elapsed Time: 0:22:34 ETA:   0:04:10"
     ]
    },
    {
     "name": "stdout",
     "output_type": "stream",
     "text": [
      "[]\n",
      "unif3e6\n"
     ]
    },
    {
     "name": "stderr",
     "output_type": "stream",
     "text": [
      "\r",
      " 79% (470 of 591) |#################     | Elapsed Time: 0:22:35 ETA:   0:03:54"
     ]
    },
    {
     "name": "stdout",
     "output_type": "stream",
     "text": [
      "[{'words': '桥'}]\n",
      "unif3eb\n"
     ]
    },
    {
     "name": "stderr",
     "output_type": "stream",
     "text": [
      "\r",
      " 79% (471 of 591) |#################     | Elapsed Time: 0:22:36 ETA:   0:02:45"
     ]
    },
    {
     "name": "stdout",
     "output_type": "stream",
     "text": [
      "[{'words': '了'}]\n",
      "unif3ef\n"
     ]
    },
    {
     "name": "stderr",
     "output_type": "stream",
     "text": [
      "\r",
      " 79% (472 of 591) |#################     | Elapsed Time: 0:22:38 ETA:   0:02:21"
     ]
    },
    {
     "name": "stdout",
     "output_type": "stream",
     "text": [
      "[]\n",
      "unif3f5\n"
     ]
    },
    {
     "name": "stderr",
     "output_type": "stream",
     "text": [
      "\r",
      " 80% (473 of 591) |#################     | Elapsed Time: 0:22:41 ETA:   0:05:26"
     ]
    },
    {
     "name": "stdout",
     "output_type": "stream",
     "text": [
      "[{'words': '百'}]\n",
      "unif3fa\n"
     ]
    },
    {
     "name": "stderr",
     "output_type": "stream",
     "text": [
      "\r",
      " 80% (474 of 591) |#################     | Elapsed Time: 0:22:42 ETA:   0:03:48"
     ]
    },
    {
     "name": "stdout",
     "output_type": "stream",
     "text": [
      "[{'words': '府'}]\n",
      "unif410\n"
     ]
    },
    {
     "name": "stderr",
     "output_type": "stream",
     "text": [
      "\r",
      " 80% (475 of 591) |#################     | Elapsed Time: 0:22:44 ETA:   0:04:20"
     ]
    },
    {
     "name": "stdout",
     "output_type": "stream",
     "text": [
      "[{'words': '振'}]\n",
      "unif411\n"
     ]
    },
    {
     "name": "stderr",
     "output_type": "stream",
     "text": [
      "\r",
      " 80% (476 of 591) |#################     | Elapsed Time: 0:22:45 ETA:   0:03:32"
     ]
    },
    {
     "name": "stdout",
     "output_type": "stream",
     "text": [
      "[{'words': '活'}]\n",
      "unif429\n"
     ]
    },
    {
     "name": "stderr",
     "output_type": "stream",
     "text": [
      "\r",
      " 80% (477 of 591) |#################     | Elapsed Time: 0:22:47 ETA:   0:02:43"
     ]
    },
    {
     "name": "stdout",
     "output_type": "stream",
     "text": [
      "[{'words': '儿心'}]\n",
      "unif433\n"
     ]
    },
    {
     "name": "stderr",
     "output_type": "stream",
     "text": [
      "\r",
      " 80% (478 of 591) |#################     | Elapsed Time: 0:22:49 ETA:   0:04:03"
     ]
    },
    {
     "name": "stdout",
     "output_type": "stream",
     "text": [
      "[{'words': '鲜'}]\n",
      "unif434\n"
     ]
    },
    {
     "name": "stderr",
     "output_type": "stream",
     "text": [
      "\r",
      " 81% (479 of 591) |#################     | Elapsed Time: 0:22:51 ETA:   0:03:25"
     ]
    },
    {
     "name": "stdout",
     "output_type": "stream",
     "text": [
      "[{'words': '源'}]\n",
      "unif437\n"
     ]
    },
    {
     "name": "stderr",
     "output_type": "stream",
     "text": [
      "\r",
      " 81% (480 of 591) |#################     | Elapsed Time: 0:22:54 ETA:   0:05:32"
     ]
    },
    {
     "name": "stdout",
     "output_type": "stream",
     "text": [
      "[{'words': '所'}]\n",
      "unif44e\n"
     ]
    },
    {
     "name": "stderr",
     "output_type": "stream",
     "text": [
      "\r",
      " 81% (481 of 591) |#################     | Elapsed Time: 0:22:55 ETA:   0:04:11"
     ]
    },
    {
     "name": "stdout",
     "output_type": "stream",
     "text": [
      "[{'words': '临'}]\n",
      "unif44f\n"
     ]
    },
    {
     "name": "stderr",
     "output_type": "stream",
     "text": [
      "\r",
      " 81% (482 of 591) |#################     | Elapsed Time: 0:22:57 ETA:   0:02:53"
     ]
    },
    {
     "name": "stdout",
     "output_type": "stream",
     "text": [
      "[{'words': '武'}]\n",
      "unif455\n"
     ]
    },
    {
     "name": "stderr",
     "output_type": "stream",
     "text": [
      "\r",
      " 81% (483 of 591) |#################     | Elapsed Time: 0:22:59 ETA:   0:03:06"
     ]
    },
    {
     "name": "stdout",
     "output_type": "stream",
     "text": [
      "[{'words': '校'}]\n",
      "unif45e\n"
     ]
    },
    {
     "name": "stderr",
     "output_type": "stream",
     "text": [
      "\r",
      " 81% (484 of 591) |##################    | Elapsed Time: 0:23:00 ETA:   0:02:56"
     ]
    },
    {
     "name": "stdout",
     "output_type": "stream",
     "text": [
      "[{'words': '停'}]\n",
      "unif45f\n"
     ]
    },
    {
     "name": "stderr",
     "output_type": "stream",
     "text": [
      "\r",
      " 82% (485 of 591) |##################    | Elapsed Time: 0:23:03 ETA:   0:04:40"
     ]
    },
    {
     "name": "stdout",
     "output_type": "stream",
     "text": [
      "[{'words': '自'}]\n",
      "unif470\n"
     ]
    },
    {
     "name": "stderr",
     "output_type": "stream",
     "text": [
      "\r",
      " 82% (486 of 591) |##################    | Elapsed Time: 0:23:05 ETA:   0:04:30"
     ]
    },
    {
     "name": "stdout",
     "output_type": "stream",
     "text": [
      "[{'words': '南'}]\n",
      "unif476\n"
     ]
    },
    {
     "name": "stderr",
     "output_type": "stream",
     "text": [
      "\r",
      " 82% (487 of 591) |##################    | Elapsed Time: 0:23:07 ETA:   0:03:29"
     ]
    },
    {
     "name": "stdout",
     "output_type": "stream",
     "text": [
      "[{'words': '粉'}]\n",
      "unif47d\n"
     ]
    },
    {
     "name": "stderr",
     "output_type": "stream",
     "text": [
      "\r",
      " 82% (488 of 591) |##################    | Elapsed Time: 0:23:09 ETA:   0:03:19"
     ]
    },
    {
     "name": "stdout",
     "output_type": "stream",
     "text": [
      "[{'words': '烧'}]\n",
      "unif48a\n"
     ]
    },
    {
     "name": "stderr",
     "output_type": "stream",
     "text": [
      "\r",
      " 82% (489 of 591) |##################    | Elapsed Time: 0:23:11 ETA:   0:02:50"
     ]
    },
    {
     "name": "stdout",
     "output_type": "stream",
     "text": [
      "[{'words': '我'}]\n",
      "unif497\n"
     ]
    },
    {
     "name": "stderr",
     "output_type": "stream",
     "text": [
      "\r",
      " 82% (490 of 591) |##################    | Elapsed Time: 0:23:12 ETA:   0:02:26"
     ]
    },
    {
     "name": "stdout",
     "output_type": "stream",
     "text": [
      "[{'words': '之'}]\n",
      "unif498\n"
     ]
    },
    {
     "name": "stderr",
     "output_type": "stream",
     "text": [
      "\r",
      " 83% (491 of 591) |##################    | Elapsed Time: 0:23:14 ETA:   0:02:36"
     ]
    },
    {
     "name": "stdout",
     "output_type": "stream",
     "text": [
      "[{'words': '可'}]\n",
      "unif4a5\n"
     ]
    },
    {
     "name": "stderr",
     "output_type": "stream",
     "text": [
      "\r",
      " 83% (492 of 591) |##################    | Elapsed Time: 0:23:15 ETA:   0:02:22"
     ]
    },
    {
     "name": "stdout",
     "output_type": "stream",
     "text": [
      "[{'words': '材'}]\n",
      "unif4c1\n"
     ]
    },
    {
     "name": "stderr",
     "output_type": "stream",
     "text": [
      "\r",
      " 83% (493 of 591) |##################    | Elapsed Time: 0:23:17 ETA:   0:02:28"
     ]
    },
    {
     "name": "stdout",
     "output_type": "stream",
     "text": [
      "[{'words': '九'}]\n",
      "unif4d4\n"
     ]
    },
    {
     "name": "stderr",
     "output_type": "stream",
     "text": [
      "\r",
      " 83% (494 of 591) |##################    | Elapsed Time: 0:23:18 ETA:   0:02:49"
     ]
    },
    {
     "name": "stdout",
     "output_type": "stream",
     "text": [
      "[{'words': '开'}]\n",
      "unif4d5\n"
     ]
    },
    {
     "name": "stderr",
     "output_type": "stream",
     "text": [
      "\r",
      " 83% (495 of 591) |##################    | Elapsed Time: 0:23:20 ETA:   0:02:35"
     ]
    },
    {
     "name": "stdout",
     "output_type": "stream",
     "text": [
      "[{'words': '药'}]\n",
      "unif4d6\n"
     ]
    },
    {
     "name": "stderr",
     "output_type": "stream",
     "text": [
      "\r",
      " 83% (496 of 591) |##################    | Elapsed Time: 0:23:21 ETA:   0:02:14"
     ]
    },
    {
     "name": "stdout",
     "output_type": "stream",
     "text": [
      "[{'words': '站'}]\n",
      "unif4d7\n"
     ]
    },
    {
     "name": "stderr",
     "output_type": "stream",
     "text": [
      "\r",
      " 84% (497 of 591) |##################    | Elapsed Time: 0:23:22 ETA:   0:01:51"
     ]
    },
    {
     "name": "stdout",
     "output_type": "stream",
     "text": [
      "[{'words': '厂'}]\n",
      "unif4da\n"
     ]
    },
    {
     "name": "stderr",
     "output_type": "stream",
     "text": [
      "\r",
      " 84% (498 of 591) |##################    | Elapsed Time: 0:23:24 ETA:   0:02:15"
     ]
    },
    {
     "name": "stdout",
     "output_type": "stream",
     "text": [
      "[{'words': '道'}]\n",
      "unif4dc\n"
     ]
    },
    {
     "name": "stderr",
     "output_type": "stream",
     "text": [
      "\r",
      " 84% (499 of 591) |##################    | Elapsed Time: 0:23:25 ETA:   0:02:10"
     ]
    },
    {
     "name": "stdout",
     "output_type": "stream",
     "text": [
      "[]\n",
      "unif4e4\n"
     ]
    },
    {
     "name": "stderr",
     "output_type": "stream",
     "text": [
      "\r",
      " 84% (500 of 591) |##################    | Elapsed Time: 0:23:26 ETA:   0:01:36"
     ]
    },
    {
     "name": "stdout",
     "output_type": "stream",
     "text": [
      "[{'words': '马'}]\n",
      "unif4e7\n"
     ]
    },
    {
     "name": "stderr",
     "output_type": "stream",
     "text": [
      "\r",
      " 84% (501 of 591) |##################    | Elapsed Time: 0:23:28 ETA:   0:01:56"
     ]
    },
    {
     "name": "stdout",
     "output_type": "stream",
     "text": [
      "[{'words': '他'}]\n",
      "unif4ff\n"
     ]
    },
    {
     "name": "stderr",
     "output_type": "stream",
     "text": [
      "\r",
      " 84% (502 of 591) |##################    | Elapsed Time: 0:23:30 ETA:   0:02:29"
     ]
    },
    {
     "name": "stdout",
     "output_type": "stream",
     "text": [
      "[{'words': '师'}]\n",
      "unif501\n"
     ]
    },
    {
     "name": "stderr",
     "output_type": "stream",
     "text": [
      "\r",
      " 85% (503 of 591) |##################    | Elapsed Time: 0:23:31 ETA:   0:02:22"
     ]
    },
    {
     "name": "stdout",
     "output_type": "stream",
     "text": [
      "[{'words': '名'}]\n",
      "unif506\n"
     ]
    },
    {
     "name": "stderr",
     "output_type": "stream",
     "text": [
      "\r",
      " 85% (504 of 591) |##################    | Elapsed Time: 0:23:42 ETA:   0:15:42"
     ]
    },
    {
     "name": "stdout",
     "output_type": "stream",
     "text": [
      "[{'words': '无'}]\n",
      "unif50f\n"
     ]
    },
    {
     "name": "stderr",
     "output_type": "stream",
     "text": [
      "\r",
      " 85% (505 of 591) |##################    | Elapsed Time: 0:23:44 ETA:   0:08:55"
     ]
    },
    {
     "name": "stdout",
     "output_type": "stream",
     "text": [
      "[{'words': '用'}]\n",
      "unif512\n"
     ]
    },
    {
     "name": "stderr",
     "output_type": "stream",
     "text": [
      "\r",
      " 85% (506 of 591) |##################    | Elapsed Time: 0:23:45 ETA:   0:02:25"
     ]
    },
    {
     "name": "stdout",
     "output_type": "stream",
     "text": [
      "[{'words': '嘉'}]\n",
      "unif514\n"
     ]
    },
    {
     "name": "stderr",
     "output_type": "stream",
     "text": [
      "\r",
      " 85% (507 of 591) |##################    | Elapsed Time: 0:23:47 ETA:   0:02:19"
     ]
    },
    {
     "name": "stdout",
     "output_type": "stream",
     "text": [
      "[{'words': '挺'}]\n",
      "unif518\n"
     ]
    },
    {
     "name": "stderr",
     "output_type": "stream",
     "text": [
      "\r",
      " 85% (508 of 591) |##################    | Elapsed Time: 0:23:48 ETA:   0:02:08"
     ]
    },
    {
     "name": "stdout",
     "output_type": "stream",
     "text": [
      "[{'words': '中'}]\n",
      "unif524\n"
     ]
    },
    {
     "name": "stderr",
     "output_type": "stream",
     "text": [
      "\r",
      " 86% (509 of 591) |##################    | Elapsed Time: 0:23:50 ETA:   0:01:59"
     ]
    },
    {
     "name": "stdout",
     "output_type": "stream",
     "text": [
      "[{'words': '科'}]\n",
      "unif52f\n"
     ]
    },
    {
     "name": "stderr",
     "output_type": "stream",
     "text": [
      "\r",
      " 86% (510 of 591) |##################    | Elapsed Time: 0:23:51 ETA:   0:02:02"
     ]
    },
    {
     "name": "stdout",
     "output_type": "stream",
     "text": [
      "[{'words': '强'}]\n",
      "unif532\n"
     ]
    },
    {
     "name": "stderr",
     "output_type": "stream",
     "text": [
      "\r",
      " 86% (511 of 591) |###################   | Elapsed Time: 0:23:53 ETA:   0:02:25"
     ]
    },
    {
     "name": "stdout",
     "output_type": "stream",
     "text": [
      "[{'words': '网'}]\n",
      "unif541\n"
     ]
    },
    {
     "name": "stderr",
     "output_type": "stream",
     "text": [
      "\r",
      " 86% (512 of 591) |###################   | Elapsed Time: 0:23:55 ETA:   0:02:16"
     ]
    },
    {
     "name": "stdout",
     "output_type": "stream",
     "text": [
      "[{'words': '妆'}]\n",
      "unif54c\n"
     ]
    },
    {
     "name": "stderr",
     "output_type": "stream",
     "text": [
      "\r",
      " 86% (513 of 591) |###################   | Elapsed Time: 0:23:57 ETA:   0:02:13"
     ]
    },
    {
     "name": "stdout",
     "output_type": "stream",
     "text": [
      "[]\n",
      "unif58a\n"
     ]
    },
    {
     "name": "stderr",
     "output_type": "stream",
     "text": [
      "\r",
      " 86% (514 of 591) |###################   | Elapsed Time: 0:23:59 ETA:   0:02:35"
     ]
    },
    {
     "name": "stdout",
     "output_type": "stream",
     "text": [
      "[{'words': '价'}]\n",
      "unif58f\n"
     ]
    },
    {
     "name": "stderr",
     "output_type": "stream",
     "text": [
      "\r",
      " 87% (515 of 591) |###################   | Elapsed Time: 0:24:00 ETA:   0:01:59"
     ]
    },
    {
     "name": "stdout",
     "output_type": "stream",
     "text": [
      "[{'words': '没'}]\n",
      "unif591\n"
     ]
    },
    {
     "name": "stderr",
     "output_type": "stream",
     "text": [
      "\r",
      " 87% (516 of 591) |###################   | Elapsed Time: 0:24:01 ETA:   0:01:35"
     ]
    },
    {
     "name": "stdout",
     "output_type": "stream",
     "text": [
      "[{'words': '日'}]\n",
      "unif5a1\n"
     ]
    },
    {
     "name": "stderr",
     "output_type": "stream",
     "text": [
      "\r",
      " 87% (517 of 591) |###################   | Elapsed Time: 0:24:04 ETA:   0:03:31"
     ]
    },
    {
     "name": "stdout",
     "output_type": "stream",
     "text": [
      "[{'words': '尚'}]\n",
      "unif5be\n"
     ]
    },
    {
     "name": "stderr",
     "output_type": "stream",
     "text": [
      "\r",
      " 87% (518 of 591) |###################   | Elapsed Time: 0:24:06 ETA:   0:02:48"
     ]
    },
    {
     "name": "stdout",
     "output_type": "stream",
     "text": [
      "[{'words': '态'}]\n",
      "unif5c5\n"
     ]
    },
    {
     "name": "stderr",
     "output_type": "stream",
     "text": [
      "\r",
      " 87% (519 of 591) |###################   | Elapsed Time: 0:24:12 ETA:   0:06:53"
     ]
    },
    {
     "name": "stdout",
     "output_type": "stream",
     "text": [
      "[{'words': '走'}]\n",
      "unif5c9\n"
     ]
    },
    {
     "name": "stderr",
     "output_type": "stream",
     "text": [
      "\r",
      " 87% (520 of 591) |###################   | Elapsed Time: 0:24:14 ETA:   0:02:44"
     ]
    },
    {
     "name": "stdout",
     "output_type": "stream",
     "text": [
      "[{'words': '环不'}]\n",
      "unif5e4\n"
     ]
    },
    {
     "name": "stderr",
     "output_type": "stream",
     "text": [
      "\r",
      " 88% (521 of 591) |###################   | Elapsed Time: 0:24:16 ETA:   0:02:20"
     ]
    },
    {
     "name": "stdout",
     "output_type": "stream",
     "text": [
      "[{'words': '博'}]\n",
      "unif5ec\n"
     ]
    },
    {
     "name": "stderr",
     "output_type": "stream",
     "text": [
      "\r",
      " 88% (522 of 591) |###################   | Elapsed Time: 0:24:18 ETA:   0:02:04"
     ]
    },
    {
     "name": "stdout",
     "output_type": "stream",
     "text": [
      "[{'words': '间'}]\n",
      "unif605\n"
     ]
    },
    {
     "name": "stderr",
     "output_type": "stream",
     "text": [
      "\r",
      " 88% (523 of 591) |###################   | Elapsed Time: 0:24:19 ETA:   0:02:06"
     ]
    },
    {
     "name": "stdout",
     "output_type": "stream",
     "text": [
      "[{'words': '再'}]\n",
      "unif60a\n"
     ]
    },
    {
     "name": "stderr",
     "output_type": "stream",
     "text": [
      "\r",
      " 88% (524 of 591) |###################   | Elapsed Time: 0:24:21 ETA:   0:01:56"
     ]
    },
    {
     "name": "stdout",
     "output_type": "stream",
     "text": [
      "[{'words': '巷'}]\n",
      "unif60e\n"
     ]
    },
    {
     "name": "stderr",
     "output_type": "stream",
     "text": [
      "\r",
      " 88% (525 of 591) |###################   | Elapsed Time: 0:24:24 ETA:   0:02:41"
     ]
    },
    {
     "name": "stdout",
     "output_type": "stream",
     "text": [
      "[{'words': '场'}]\n",
      "unif61b\n"
     ]
    },
    {
     "name": "stderr",
     "output_type": "stream",
     "text": [
      "\r",
      " 89% (526 of 591) |###################   | Elapsed Time: 0:24:26 ETA:   0:02:23"
     ]
    },
    {
     "name": "stdout",
     "output_type": "stream",
     "text": [
      "[{'words': '销'}]\n",
      "unif627\n"
     ]
    },
    {
     "name": "stderr",
     "output_type": "stream",
     "text": [
      "\r",
      " 89% (527 of 591) |###################   | Elapsed Time: 0:24:27 ETA:   0:01:52"
     ]
    },
    {
     "name": "stdout",
     "output_type": "stream",
     "text": [
      "[{'words': '现'}]\n",
      "unif62b\n"
     ]
    },
    {
     "name": "stderr",
     "output_type": "stream",
     "text": [
      "\r",
      " 89% (528 of 591) |###################   | Elapsed Time: 0:24:29 ETA:   0:01:41"
     ]
    },
    {
     "name": "stdout",
     "output_type": "stream",
     "text": [
      "[{'words': '香'}]\n",
      "unif633\n"
     ]
    },
    {
     "name": "stderr",
     "output_type": "stream",
     "text": [
      "\r",
      " 89% (529 of 591) |###################   | Elapsed Time: 0:24:31 ETA:   0:02:38"
     ]
    },
    {
     "name": "stdout",
     "output_type": "stream",
     "text": [
      "[{'words': '铁'}]\n",
      "unif654\n"
     ]
    },
    {
     "name": "stderr",
     "output_type": "stream",
     "text": [
      "\r",
      " 89% (530 of 591) |###################   | Elapsed Time: 0:24:32 ETA:   0:01:52"
     ]
    },
    {
     "name": "stdout",
     "output_type": "stream",
     "text": [
      "[{'words': '阳'}]\n",
      "unif659\n"
     ]
    },
    {
     "name": "stderr",
     "output_type": "stream",
     "text": [
      "\r",
      " 89% (531 of 591) |###################   | Elapsed Time: 0:24:35 ETA:   0:02:35"
     ]
    },
    {
     "name": "stdout",
     "output_type": "stream",
     "text": [
      "[{'words': '队'}]\n",
      "unif65b\n"
     ]
    },
    {
     "name": "stderr",
     "output_type": "stream",
     "text": [
      "\r",
      " 90% (532 of 591) |###################   | Elapsed Time: 0:24:43 ETA:   0:07:59"
     ]
    },
    {
     "name": "stdout",
     "output_type": "stream",
     "text": [
      "[{'words': '州'}]\n",
      "unif664\n"
     ]
    },
    {
     "name": "stderr",
     "output_type": "stream",
     "text": [
      "\r",
      " 90% (533 of 591) |###################   | Elapsed Time: 0:24:45 ETA:   0:02:07"
     ]
    },
    {
     "name": "stdout",
     "output_type": "stream",
     "text": [
      "[{'words': '业∠'}]\n",
      "unif67e\n"
     ]
    },
    {
     "name": "stderr",
     "output_type": "stream",
     "text": [
      "\r",
      " 90% (534 of 591) |###################   | Elapsed Time: 0:24:47 ETA:   0:01:51"
     ]
    },
    {
     "name": "stdout",
     "output_type": "stream",
     "text": [
      "[{'words': '立'}]\n",
      "unif681\n"
     ]
    },
    {
     "name": "stderr",
     "output_type": "stream",
     "text": [
      "\r",
      " 90% (535 of 591) |###################   | Elapsed Time: 0:24:49 ETA:   0:01:34"
     ]
    },
    {
     "name": "stdout",
     "output_type": "stream",
     "text": [
      "[{'words': '与'}]\n",
      "unif689\n"
     ]
    },
    {
     "name": "stderr",
     "output_type": "stream",
     "text": [
      "\r",
      " 90% (536 of 591) |###################   | Elapsed Time: 0:24:54 ETA:   0:04:28"
     ]
    },
    {
     "name": "stdout",
     "output_type": "stream",
     "text": [
      "[{'words': '牛'}]\n",
      "unif68e\n"
     ]
    },
    {
     "name": "stderr",
     "output_type": "stream",
     "text": [
      "\r",
      " 90% (537 of 591) |###################   | Elapsed Time: 0:24:55 ETA:   0:02:49"
     ]
    },
    {
     "name": "stdout",
     "output_type": "stream",
     "text": [
      "[{'words': '制'}]\n",
      "unif694\n"
     ]
    },
    {
     "name": "stderr",
     "output_type": "stream",
     "text": [
      "\r",
      " 91% (538 of 591) |####################  | Elapsed Time: 0:24:57 ETA:   0:01:55"
     ]
    },
    {
     "name": "stdout",
     "output_type": "stream",
     "text": [
      "[]\n",
      "unif697\n"
     ]
    },
    {
     "name": "stderr",
     "output_type": "stream",
     "text": [
      "\r",
      " 91% (539 of 591) |####################  | Elapsed Time: 0:24:59 ETA:   0:01:35"
     ]
    },
    {
     "name": "stdout",
     "output_type": "stream",
     "text": [
      "[{'words': '面'}]\n",
      "unif698\n"
     ]
    },
    {
     "name": "stderr",
     "output_type": "stream",
     "text": [
      "\r",
      " 91% (540 of 591) |####################  | Elapsed Time: 0:25:00 ETA:   0:01:20"
     ]
    },
    {
     "name": "stdout",
     "output_type": "stream",
     "text": [
      "[{'words': '央'}]\n",
      "unif69f\n"
     ]
    },
    {
     "name": "stderr",
     "output_type": "stream",
     "text": [
      "\r",
      " 91% (541 of 591) |####################  | Elapsed Time: 0:25:02 ETA:   0:01:27"
     ]
    },
    {
     "name": "stdout",
     "output_type": "stream",
     "text": [
      "[{'words': '较'}]\n",
      "unif6a6\n"
     ]
    },
    {
     "name": "stderr",
     "output_type": "stream",
     "text": [
      "\r",
      " 91% (542 of 591) |####################  | Elapsed Time: 0:25:04 ETA:   0:01:25"
     ]
    },
    {
     "name": "stdout",
     "output_type": "stream",
     "text": [
      "[{'words': '主'}]\n",
      "unif6aa\n"
     ]
    },
    {
     "name": "stderr",
     "output_type": "stream",
     "text": [
      "\r",
      " 91% (543 of 591) |####################  | Elapsed Time: 0:25:12 ETA:   0:06:21"
     ]
    },
    {
     "name": "stdout",
     "output_type": "stream",
     "text": [
      "[{'words': '紫'}]\n",
      "unif6b2\n"
     ]
    },
    {
     "name": "stderr",
     "output_type": "stream",
     "text": [
      "\r",
      " 92% (544 of 591) |####################  | Elapsed Time: 0:25:20 ETA:   0:06:21"
     ]
    },
    {
     "name": "stdout",
     "output_type": "stream",
     "text": [
      "[{'words': '塘'}]\n",
      "unif6b6\n"
     ]
    },
    {
     "name": "stderr",
     "output_type": "stream",
     "text": [
      "\r",
      " 92% (545 of 591) |####################  | Elapsed Time: 0:25:22 ETA:   0:01:49"
     ]
    },
    {
     "name": "stdout",
     "output_type": "stream",
     "text": [
      "[{'words': '装'}]\n",
      "unif6c1\n"
     ]
    },
    {
     "name": "stderr",
     "output_type": "stream",
     "text": [
      "\r",
      " 92% (546 of 591) |####################  | Elapsed Time: 0:25:24 ETA:   0:01:35"
     ]
    },
    {
     "name": "stdout",
     "output_type": "stream",
     "text": [
      "[]\n",
      "unif6c8\n"
     ]
    },
    {
     "name": "stderr",
     "output_type": "stream",
     "text": [
      "\r",
      " 92% (547 of 591) |####################  | Elapsed Time: 0:25:26 ETA:   0:01:15"
     ]
    },
    {
     "name": "stdout",
     "output_type": "stream",
     "text": [
      "[{'words': '置'}]\n",
      "unif6dd\n"
     ]
    },
    {
     "name": "stderr",
     "output_type": "stream",
     "text": [
      "\r",
      " 92% (548 of 591) |####################  | Elapsed Time: 0:25:27 ETA:   0:01:10"
     ]
    },
    {
     "name": "stdout",
     "output_type": "stream",
     "text": [
      "[{'words': '饭'}]\n",
      "unif6ea\n"
     ]
    },
    {
     "name": "stderr",
     "output_type": "stream",
     "text": [
      "\r",
      " 92% (549 of 591) |####################  | Elapsed Time: 0:25:29 ETA:   0:01:07"
     ]
    },
    {
     "name": "stdout",
     "output_type": "stream",
     "text": [
      "[{'words': '音'}]\n",
      "unif6ec\n"
     ]
    },
    {
     "name": "stderr",
     "output_type": "stream",
     "text": [
      "\r",
      " 93% (550 of 591) |####################  | Elapsed Time: 0:25:30 ETA:   0:00:55"
     ]
    },
    {
     "name": "stdout",
     "output_type": "stream",
     "text": [
      "[{'words': '玉'}]\n",
      "unif6fa\n"
     ]
    },
    {
     "name": "stderr",
     "output_type": "stream",
     "text": [
      "\r",
      " 93% (551 of 591) |####################  | Elapsed Time: 0:25:32 ETA:   0:00:53"
     ]
    },
    {
     "name": "stdout",
     "output_type": "stream",
     "text": [
      "[{'words': '天'}]\n",
      "unif6ff\n"
     ]
    },
    {
     "name": "stderr",
     "output_type": "stream",
     "text": [
      "\r",
      " 93% (552 of 591) |####################  | Elapsed Time: 0:25:33 ETA:   0:01:00"
     ]
    },
    {
     "name": "stdout",
     "output_type": "stream",
     "text": [
      "[{'words': '时'}]\n",
      "unif704\n"
     ]
    },
    {
     "name": "stderr",
     "output_type": "stream",
     "text": [
      "\r",
      " 93% (553 of 591) |####################  | Elapsed Time: 0:25:35 ETA:   0:00:55"
     ]
    },
    {
     "name": "stdout",
     "output_type": "stream",
     "text": [
      "[{'words': '样'}]\n",
      "unif714\n"
     ]
    },
    {
     "name": "stderr",
     "output_type": "stream",
     "text": [
      "\r",
      " 93% (554 of 591) |####################  | Elapsed Time: 0:25:36 ETA:   0:00:50"
     ]
    },
    {
     "name": "stdout",
     "output_type": "stream",
     "text": [
      "[{'words': '陵'}]\n",
      "unif715\n"
     ]
    },
    {
     "name": "stderr",
     "output_type": "stream",
     "text": [
      "\r",
      " 93% (555 of 591) |####################  | Elapsed Time: 0:25:41 ETA:   0:03:08"
     ]
    },
    {
     "name": "stdout",
     "output_type": "stream",
     "text": [
      "[{'words': '叉'}]\n",
      "unif71c\n"
     ]
    },
    {
     "name": "stderr",
     "output_type": "stream",
     "text": [
      "\r",
      " 94% (556 of 591) |####################  | Elapsed Time: 0:25:48 ETA:   0:04:01"
     ]
    },
    {
     "name": "stdout",
     "output_type": "stream",
     "text": [
      "[{'words': '岗'}]\n",
      "unif721\n"
     ]
    },
    {
     "name": "stderr",
     "output_type": "stream",
     "text": [
      "\r",
      " 94% (557 of 591) |####################  | Elapsed Time: 0:25:50 ETA:   0:02:30"
     ]
    },
    {
     "name": "stdout",
     "output_type": "stream",
     "text": [
      "[{'words': '购'}]\n",
      "unif723\n"
     ]
    },
    {
     "name": "stderr",
     "output_type": "stream",
     "text": [
      "\r",
      " 94% (558 of 591) |####################  | Elapsed Time: 0:25:52 ETA:   0:00:55"
     ]
    },
    {
     "name": "stdout",
     "output_type": "stream",
     "text": [
      "[{'words': '方'}]\n",
      "unif752\n"
     ]
    },
    {
     "name": "stderr",
     "output_type": "stream",
     "text": [
      "\r",
      " 94% (559 of 591) |####################  | Elapsed Time: 0:25:53 ETA:   0:00:51"
     ]
    },
    {
     "name": "stdout",
     "output_type": "stream",
     "text": [
      "[]\n",
      "unif767\n"
     ]
    },
    {
     "name": "stderr",
     "output_type": "stream",
     "text": [
      "\r",
      " 94% (560 of 591) |####################  | Elapsed Time: 0:25:55 ETA:   0:00:54"
     ]
    },
    {
     "name": "stdout",
     "output_type": "stream",
     "text": [
      "[{'words': '厦'}]\n",
      "unif769\n"
     ]
    },
    {
     "name": "stderr",
     "output_type": "stream",
     "text": [
      "\r",
      " 94% (561 of 591) |####################  | Elapsed Time: 0:25:57 ETA:   0:01:03"
     ]
    },
    {
     "name": "stdout",
     "output_type": "stream",
     "text": [
      "[{'words': '古'}]\n",
      "unif779\n"
     ]
    },
    {
     "name": "stderr",
     "output_type": "stream",
     "text": [
      "\r",
      " 95% (562 of 591) |####################  | Elapsed Time: 0:25:59 ETA:   0:00:54"
     ]
    },
    {
     "name": "stdout",
     "output_type": "stream",
     "text": [
      "[]\n",
      "unif782\n"
     ]
    },
    {
     "name": "stderr",
     "output_type": "stream",
     "text": [
      "\r",
      " 95% (563 of 591) |####################  | Elapsed Time: 0:26:01 ETA:   0:00:51"
     ]
    },
    {
     "name": "stdout",
     "output_type": "stream",
     "text": [
      "[{'words': '昔'}]\n",
      "unif788\n"
     ]
    },
    {
     "name": "stderr",
     "output_type": "stream",
     "text": [
      "\r",
      " 95% (564 of 591) |####################  | Elapsed Time: 0:26:03 ETA:   0:01:00"
     ]
    },
    {
     "name": "stdout",
     "output_type": "stream",
     "text": [
      "[{'words': '个'}]\n",
      "unif78f\n"
     ]
    },
    {
     "name": "stderr",
     "output_type": "stream",
     "text": [
      "\r",
      " 95% (565 of 591) |##################### | Elapsed Time: 0:26:05 ETA:   0:00:48"
     ]
    },
    {
     "name": "stdout",
     "output_type": "stream",
     "text": [
      "[{'words': '雅'}]\n",
      "unif79b\n"
     ]
    },
    {
     "name": "stderr",
     "output_type": "stream",
     "text": [
      "\r",
      " 95% (566 of 591) |##################### | Elapsed Time: 0:26:07 ETA:   0:00:52"
     ]
    },
    {
     "name": "stdout",
     "output_type": "stream",
     "text": [
      "[{'words': '角'}]\n",
      "unif7a5\n"
     ]
    },
    {
     "name": "stderr",
     "output_type": "stream",
     "text": [
      "\r",
      " 95% (567 of 591) |##################### | Elapsed Time: 0:26:08 ETA:   0:00:46"
     ]
    },
    {
     "name": "stdout",
     "output_type": "stream",
     "text": [
      "[{'words': '烟'}]\n",
      "unif7a8\n"
     ]
    },
    {
     "name": "stderr",
     "output_type": "stream",
     "text": [
      "\r",
      " 96% (568 of 591) |##################### | Elapsed Time: 0:26:10 ETA:   0:00:40"
     ]
    },
    {
     "name": "stdout",
     "output_type": "stream",
     "text": [
      "[{'words': '选'}]\n",
      "unif7b7\n"
     ]
    },
    {
     "name": "stderr",
     "output_type": "stream",
     "text": [
      "\r",
      " 96% (569 of 591) |##################### | Elapsed Time: 0:26:13 ETA:   0:01:02"
     ]
    },
    {
     "name": "stdout",
     "output_type": "stream",
     "text": [
      "[{'words': '提'}]\n",
      "unif7d0\n"
     ]
    },
    {
     "name": "stderr",
     "output_type": "stream",
     "text": [
      "\r",
      " 96% (570 of 591) |##################### | Elapsed Time: 0:26:15 ETA:   0:00:46"
     ]
    },
    {
     "name": "stdout",
     "output_type": "stream",
     "text": [
      "[{'words': '华'}]\n",
      "unif7e6\n"
     ]
    },
    {
     "name": "stderr",
     "output_type": "stream",
     "text": [
      "\r",
      " 96% (571 of 591) |##################### | Elapsed Time: 0:26:17 ETA:   0:00:40"
     ]
    },
    {
     "name": "stdout",
     "output_type": "stream",
     "text": [
      "[{'words': '台'}]\n",
      "unif7f2\n"
     ]
    },
    {
     "name": "stderr",
     "output_type": "stream",
     "text": [
      "\r",
      " 96% (572 of 591) |##################### | Elapsed Time: 0:26:18 ETA:   0:00:33"
     ]
    },
    {
     "name": "stdout",
     "output_type": "stream",
     "text": [
      "[{'words': '栋'}]\n",
      "unif80b\n"
     ]
    },
    {
     "name": "stderr",
     "output_type": "stream",
     "text": [
      "\r",
      " 96% (573 of 591) |##################### | Elapsed Time: 0:26:20 ETA:   0:00:29"
     ]
    },
    {
     "name": "stdout",
     "output_type": "stream",
     "text": [
      "[{'words': '记'}]\n",
      "unif81f\n"
     ]
    },
    {
     "name": "stderr",
     "output_type": "stream",
     "text": [
      "\r",
      " 97% (574 of 591) |##################### | Elapsed Time: 0:26:21 ETA:   0:00:26"
     ]
    },
    {
     "name": "stdout",
     "output_type": "stream",
     "text": [
      "[{'words': '上'}]\n",
      "unif846\n"
     ]
    },
    {
     "name": "stderr",
     "output_type": "stream",
     "text": [
      "\r",
      " 97% (575 of 591) |##################### | Elapsed Time: 0:26:23 ETA:   0:00:26"
     ]
    },
    {
     "name": "stdout",
     "output_type": "stream",
     "text": [
      "[{'words': '量'}]\n",
      "unif859\n"
     ]
    },
    {
     "name": "stderr",
     "output_type": "stream",
     "text": [
      "\r",
      " 97% (576 of 591) |##################### | Elapsed Time: 0:26:26 ETA:   0:00:37"
     ]
    },
    {
     "name": "stdout",
     "output_type": "stream",
     "text": [
      "[{'words': '居'}]\n",
      "unif85b\n"
     ]
    },
    {
     "name": "stderr",
     "output_type": "stream",
     "text": [
      "\r",
      " 97% (577 of 591) |##################### | Elapsed Time: 0:26:27 ETA:   0:00:27"
     ]
    },
    {
     "name": "stdout",
     "output_type": "stream",
     "text": [
      "[{'words': '花'}]\n",
      "unif85e\n"
     ]
    },
    {
     "name": "stderr",
     "output_type": "stream",
     "text": [
      "\r",
      " 97% (578 of 591) |##################### | Elapsed Time: 0:26:29 ETA:   0:00:26"
     ]
    },
    {
     "name": "stdout",
     "output_type": "stream",
     "text": [
      "[{'words': '器'}]\n",
      "unif85f\n"
     ]
    },
    {
     "name": "stderr",
     "output_type": "stream",
     "text": [
      "\r",
      " 97% (579 of 591) |##################### | Elapsed Time: 0:26:31 ETA:   0:00:21"
     ]
    },
    {
     "name": "stdout",
     "output_type": "stream",
     "text": [
      "[{'words': '培'}]\n",
      "unif864\n"
     ]
    },
    {
     "name": "stderr",
     "output_type": "stream",
     "text": [
      "\r",
      " 98% (580 of 591) |##################### | Elapsed Time: 0:26:33 ETA:   0:00:18"
     ]
    },
    {
     "name": "stdout",
     "output_type": "stream",
     "text": [
      "[{'words': '瑞'}]\n",
      "unif869\n"
     ]
    },
    {
     "name": "stderr",
     "output_type": "stream",
     "text": [
      "\r",
      " 98% (581 of 591) |##################### | Elapsed Time: 0:26:34 ETA:   0:00:16"
     ]
    },
    {
     "name": "stdout",
     "output_type": "stream",
     "text": [
      "[{'words': '湖'}]\n",
      "unif876\n"
     ]
    },
    {
     "name": "stderr",
     "output_type": "stream",
     "text": [
      "\r",
      " 98% (582 of 591) |##################### | Elapsed Time: 0:26:35 ETA:   0:00:12"
     ]
    },
    {
     "name": "stdout",
     "output_type": "stream",
     "text": [
      "[{'words': '批'}]\n",
      "unif88b\n"
     ]
    },
    {
     "name": "stderr",
     "output_type": "stream",
     "text": [
      "\r",
      " 98% (583 of 591) |##################### | Elapsed Time: 0:26:40 ETA:   0:00:36"
     ]
    },
    {
     "name": "stdout",
     "output_type": "stream",
     "text": [
      "[{'words': '太'}]\n",
      "unif895\n"
     ]
    },
    {
     "name": "stderr",
     "output_type": "stream",
     "text": [
      "\r",
      " 98% (584 of 591) |##################### | Elapsed Time: 0:26:42 ETA:   0:00:22"
     ]
    },
    {
     "name": "stdout",
     "output_type": "stream",
     "text": [
      "[{'words': '饼'}]\n",
      "unif899\n"
     ]
    },
    {
     "name": "stderr",
     "output_type": "stream",
     "text": [
      "\r",
      " 98% (585 of 591) |##################### | Elapsed Time: 0:26:43 ETA:   0:00:10"
     ]
    },
    {
     "name": "stdout",
     "output_type": "stream",
     "text": [
      "[{'words': '河'}]\n",
      "unif8a1\n"
     ]
    },
    {
     "name": "stderr",
     "output_type": "stream",
     "text": [
      "\r",
      " 99% (586 of 591) |##################### | Elapsed Time: 0:26:45 ETA:   0:00:07"
     ]
    },
    {
     "name": "stdout",
     "output_type": "stream",
     "text": [
      "[{'words': '井'}]\n",
      "unif8cd\n"
     ]
    },
    {
     "name": "stderr",
     "output_type": "stream",
     "text": [
      "\r",
      " 99% (587 of 591) |##################### | Elapsed Time: 0:26:47 ETA:   0:00:06"
     ]
    },
    {
     "name": "stdout",
     "output_type": "stream",
     "text": [
      "[{'words': '火'}]\n",
      "unif8e2\n"
     ]
    },
    {
     "name": "stderr",
     "output_type": "stream",
     "text": [
      "\r",
      " 99% (588 of 591) |##################### | Elapsed Time: 0:26:48 ETA:   0:00:04"
     ]
    },
    {
     "name": "stdout",
     "output_type": "stream",
     "text": [
      "[{'words': '旗'}]\n",
      "unif8ed\n"
     ]
    },
    {
     "name": "stderr",
     "output_type": "stream",
     "text": [
      "\r",
      " 99% (589 of 591) |##################### | Elapsed Time: 0:26:51 ETA:   0:00:06"
     ]
    },
    {
     "name": "stdout",
     "output_type": "stream",
     "text": [
      "[{'words': '候'}]\n",
      "unif8ee\n"
     ]
    },
    {
     "name": "stderr",
     "output_type": "stream",
     "text": [
      "\r",
      " 99% (590 of 591) |##################### | Elapsed Time: 0:26:54 ETA:   0:00:02"
     ]
    },
    {
     "name": "stdout",
     "output_type": "stream",
     "text": [
      "[{'words': '费'}]\n",
      "unif8f3\n"
     ]
    },
    {
     "name": "stderr",
     "output_type": "stream",
     "text": [
      "100% (591 of 591) |######################| Elapsed Time: 0:26:55 Time:  0:26:55\n"
     ]
    },
    {
     "name": "stdout",
     "output_type": "stream",
     "text": [
      "[{'words': '胜'}]\n"
     ]
    }
   ],
   "source": [
    "uni2word_3 = {}\n",
    "for font_name in see_progress(font_namelist):\n",
    "    print(font_name)\n",
    "    word_result = baidu_OCR(\"./DianPing_font_2/\"+font_name+\".jpg\")\n",
    "    print(word_result)\n",
    "    uni2word_3[\"font_name\"] = word_result"
   ]
  },
  {
   "cell_type": "code",
   "execution_count": 43,
   "metadata": {},
   "outputs": [
    {
     "name": "stderr",
     "output_type": "stream",
     "text": [
      "\r",
      "N/A% (0 of 591) |                        | Elapsed Time: 0:00:00 ETA:  --:--:--"
     ]
    },
    {
     "name": "stdout",
     "output_type": "stream",
     "text": [
      "unie00f\n"
     ]
    },
    {
     "name": "stderr",
     "output_type": "stream",
     "text": [
      "\r",
      "  0% (1 of 591) |                        | Elapsed Time: 0:00:08 ETA:   1:23:43"
     ]
    },
    {
     "name": "stdout",
     "output_type": "stream",
     "text": [
      "[{'words': '桌'}]\n",
      "unie017\n"
     ]
    },
    {
     "name": "stderr",
     "output_type": "stream",
     "text": [
      "\r",
      "  0% (2 of 591) |                        | Elapsed Time: 0:00:13 ETA:   0:51:38"
     ]
    },
    {
     "name": "stdout",
     "output_type": "stream",
     "text": [
      "[{'words': '代'}]\n",
      "unie01b\n"
     ]
    },
    {
     "name": "stderr",
     "output_type": "stream",
     "text": [
      "\r",
      "  0% (3 of 591) |                        | Elapsed Time: 0:00:17 ETA:   0:40:39"
     ]
    },
    {
     "name": "stdout",
     "output_type": "stream",
     "text": [
      "[{'words': '锦'}]\n",
      "unie025\n"
     ]
    },
    {
     "name": "stderr",
     "output_type": "stream",
     "text": [
      "\r",
      "  0% (4 of 591) |                        | Elapsed Time: 0:00:21 ETA:   0:36:14"
     ]
    },
    {
     "name": "stdout",
     "output_type": "stream",
     "text": [
      "[{'words': '羊'}]\n",
      "unie028\n"
     ]
    },
    {
     "name": "stderr",
     "output_type": "stream",
     "text": [
      "\r",
      "  0% (5 of 591) |                        | Elapsed Time: 0:00:25 ETA:   0:40:04"
     ]
    },
    {
     "name": "stdout",
     "output_type": "stream",
     "text": [
      "[{'words': '泰'}]\n",
      "unie029\n"
     ]
    },
    {
     "name": "stderr",
     "output_type": "stream",
     "text": [
      "\r",
      "  1% (6 of 591) |                        | Elapsed Time: 0:00:30 ETA:   0:47:02"
     ]
    },
    {
     "name": "stdout",
     "output_type": "stream",
     "text": [
      "[{'words': '窗'}]\n",
      "unie031\n"
     ]
    },
    {
     "name": "stderr",
     "output_type": "stream",
     "text": [
      "\r",
      "  1% (7 of 591) |                        | Elapsed Time: 0:00:34 ETA:   0:42:31"
     ]
    },
    {
     "name": "stdout",
     "output_type": "stream",
     "text": [
      "[{'words': '十'}]\n",
      "unie032\n"
     ]
    },
    {
     "name": "stderr",
     "output_type": "stream",
     "text": [
      "\r",
      "  1% (8 of 591) |                        | Elapsed Time: 0:00:38 ETA:   0:39:12"
     ]
    },
    {
     "name": "stdout",
     "output_type": "stream",
     "text": [
      "[{'words': '肉'}]\n",
      "unie034\n"
     ]
    },
    {
     "name": "stderr",
     "output_type": "stream",
     "text": [
      "\r",
      "  1% (9 of 591) |                        | Elapsed Time: 0:00:42 ETA:   0:38:43"
     ]
    },
    {
     "name": "stdout",
     "output_type": "stream",
     "text": [
      "[{'words': '卖'}]\n",
      "unie036\n"
     ]
    },
    {
     "name": "stderr",
     "output_type": "stream",
     "text": [
      "\r",
      "  1% (10 of 591) |                       | Elapsed Time: 0:00:47 ETA:   0:43:37"
     ]
    },
    {
     "name": "stdout",
     "output_type": "stream",
     "text": [
      "[{'words': '又'}]\n",
      "unie046\n"
     ]
    },
    {
     "name": "stderr",
     "output_type": "stream",
     "text": [
      "\r",
      "  1% (11 of 591) |                       | Elapsed Time: 0:00:53 ETA:   1:02:27"
     ]
    },
    {
     "name": "stdout",
     "output_type": "stream",
     "text": [
      "[{'words': '果'}]\n",
      "unie04e\n"
     ]
    },
    {
     "name": "stderr",
     "output_type": "stream",
     "text": [
      "\r",
      "  2% (12 of 591) |                       | Elapsed Time: 0:00:58 ETA:   0:39:56"
     ]
    },
    {
     "name": "stdout",
     "output_type": "stream",
     "text": [
      "[{'words': '嫩'}]\n",
      "unie053\n"
     ]
    },
    {
     "name": "stderr",
     "output_type": "stream",
     "text": [
      "\r",
      "  2% (13 of 591) |                       | Elapsed Time: 0:01:06 ETA:   1:19:44"
     ]
    },
    {
     "name": "stdout",
     "output_type": "stream",
     "text": [
      "[{'words': '酱'}]\n",
      "unie058\n"
     ]
    },
    {
     "name": "stderr",
     "output_type": "stream",
     "text": [
      "\r",
      "  2% (14 of 591) |                       | Elapsed Time: 0:01:11 ETA:   0:49:19"
     ]
    },
    {
     "name": "stdout",
     "output_type": "stream",
     "text": [
      "[]\n",
      "unie05b\n"
     ]
    },
    {
     "name": "stderr",
     "output_type": "stream",
     "text": [
      "\r",
      "  2% (15 of 591) |                       | Elapsed Time: 0:01:15 ETA:   0:40:28"
     ]
    },
    {
     "name": "stdout",
     "output_type": "stream",
     "text": [
      "[{'words': '连'}]\n",
      "unie05c\n"
     ]
    },
    {
     "name": "stderr",
     "output_type": "stream",
     "text": [
      "\r",
      "  2% (16 of 591) |                       | Elapsed Time: 0:01:22 ETA:   1:00:43"
     ]
    },
    {
     "name": "stdout",
     "output_type": "stream",
     "text": [
      "[{'words': '吉'}]\n",
      "unie05e\n"
     ]
    },
    {
     "name": "stderr",
     "output_type": "stream",
     "text": [
      "\r",
      "  2% (17 of 591) |                       | Elapsed Time: 0:01:29 ETA:   1:07:47"
     ]
    },
    {
     "name": "stdout",
     "output_type": "stream",
     "text": [
      "[{'words': '苑'}]\n",
      "unie062\n"
     ]
    },
    {
     "name": "stderr",
     "output_type": "stream",
     "text": [
      "\r",
      "  3% (18 of 591) |                       | Elapsed Time: 0:01:33 ETA:   0:42:40"
     ]
    },
    {
     "name": "stdout",
     "output_type": "stream",
     "text": [
      "[{'words': '康'}]\n",
      "unie067\n"
     ]
    },
    {
     "name": "stderr",
     "output_type": "stream",
     "text": [
      "\r",
      "  3% (19 of 591) |                       | Elapsed Time: 0:01:37 ETA:   0:38:22"
     ]
    },
    {
     "name": "stdout",
     "output_type": "stream",
     "text": [
      "[{'words': '鞋'}]\n",
      "unie069\n"
     ]
    },
    {
     "name": "stderr",
     "output_type": "stream",
     "text": [
      "\r",
      "  3% (20 of 591) |                       | Elapsed Time: 0:01:41 ETA:   0:38:06"
     ]
    },
    {
     "name": "stdout",
     "output_type": "stream",
     "text": [
      "[{'words': '里'}]\n",
      "unie072\n"
     ]
    },
    {
     "name": "stderr",
     "output_type": "stream",
     "text": [
      "\r",
      "  3% (21 of 591) |                       | Elapsed Time: 0:01:46 ETA:   0:48:01"
     ]
    },
    {
     "name": "stdout",
     "output_type": "stream",
     "text": [
      "[{'words': '整'}]\n",
      "unie08a\n"
     ]
    },
    {
     "name": "stderr",
     "output_type": "stream",
     "text": [
      "\r",
      "  3% (22 of 591) |                       | Elapsed Time: 0:01:50 ETA:   0:36:45"
     ]
    },
    {
     "name": "stdout",
     "output_type": "stream",
     "text": [
      "[{'words': '贝'}]\n",
      "unie090\n"
     ]
    },
    {
     "name": "stderr",
     "output_type": "stream",
     "text": [
      "\r",
      "  3% (23 of 591) |                       | Elapsed Time: 0:01:54 ETA:   0:40:45"
     ]
    },
    {
     "name": "stdout",
     "output_type": "stream",
     "text": [
      "[{'words': '发'}]\n",
      "unie091\n"
     ]
    },
    {
     "name": "stderr",
     "output_type": "stream",
     "text": [
      "\r",
      "  4% (24 of 591) |                       | Elapsed Time: 0:01:58 ETA:   0:35:00"
     ]
    },
    {
     "name": "stdout",
     "output_type": "stream",
     "text": [
      "[{'words': '号'}]\n",
      "unie092\n"
     ]
    },
    {
     "name": "stderr",
     "output_type": "stream",
     "text": [
      "\r",
      "  4% (25 of 591) |                       | Elapsed Time: 0:02:02 ETA:   0:35:00"
     ]
    },
    {
     "name": "stdout",
     "output_type": "stream",
     "text": [
      "[]\n",
      "unie09d\n"
     ]
    },
    {
     "name": "stderr",
     "output_type": "stream",
     "text": [
      "\r",
      "  4% (26 of 591) |#                      | Elapsed Time: 0:02:06 ETA:   0:41:46"
     ]
    },
    {
     "name": "stdout",
     "output_type": "stream",
     "text": [
      "[{'words': '景'}]\n",
      "unie0a0\n"
     ]
    },
    {
     "name": "stderr",
     "output_type": "stream",
     "text": [
      "\r",
      "  4% (27 of 591) |#                      | Elapsed Time: 0:02:10 ETA:   0:36:48"
     ]
    },
    {
     "name": "stdout",
     "output_type": "stream",
     "text": [
      "[{'words': '济'}]\n",
      "unie0a6\n"
     ]
    },
    {
     "name": "stderr",
     "output_type": "stream",
     "text": [
      "\r",
      "  4% (28 of 591) |#                      | Elapsed Time: 0:02:14 ETA:   0:37:11"
     ]
    },
    {
     "name": "stdout",
     "output_type": "stream",
     "text": [
      "[{'words': '店'}]\n",
      "unie0ab\n"
     ]
    },
    {
     "name": "stderr",
     "output_type": "stream",
     "text": [
      "\r",
      "  4% (29 of 591) |#                      | Elapsed Time: 0:02:18 ETA:   0:35:04"
     ]
    },
    {
     "name": "stdout",
     "output_type": "stream",
     "text": [
      "[{'words': '贸'}]\n",
      "unie0ae\n"
     ]
    },
    {
     "name": "stderr",
     "output_type": "stream",
     "text": [
      "\r",
      "  5% (30 of 591) |#                      | Elapsed Time: 0:02:22 ETA:   0:35:08"
     ]
    },
    {
     "name": "stdout",
     "output_type": "stream",
     "text": [
      "[{'words': '维'}]\n",
      "unie0bb\n"
     ]
    },
    {
     "name": "stderr",
     "output_type": "stream",
     "text": [
      "\r",
      "  5% (31 of 591) |#                      | Elapsed Time: 0:02:25 ETA:   0:36:35"
     ]
    },
    {
     "name": "stdout",
     "output_type": "stream",
     "text": [
      "[{'words': '司'}]\n",
      "unie0ef\n"
     ]
    },
    {
     "name": "stderr",
     "output_type": "stream",
     "text": [
      "\r",
      "  5% (32 of 591) |#                      | Elapsed Time: 0:02:30 ETA:   0:40:16"
     ]
    },
    {
     "name": "stdout",
     "output_type": "stream",
     "text": [
      "[{'words': '前'}]\n",
      "unie0f7\n"
     ]
    },
    {
     "name": "stderr",
     "output_type": "stream",
     "text": [
      "\r",
      "  5% (33 of 591) |#                      | Elapsed Time: 0:02:35 ETA:   0:45:15"
     ]
    },
    {
     "name": "stdout",
     "output_type": "stream",
     "text": [
      "[{'words': '尔'}]\n",
      "unie10f\n"
     ]
    },
    {
     "name": "stderr",
     "output_type": "stream",
     "text": [
      "\r",
      "  5% (34 of 591) |#                      | Elapsed Time: 0:02:39 ETA:   0:35:41"
     ]
    },
    {
     "name": "stdout",
     "output_type": "stream",
     "text": [
      "[{'words': '直'}]\n",
      "unie11c\n"
     ]
    },
    {
     "name": "stderr",
     "output_type": "stream",
     "text": [
      "\r",
      "  5% (35 of 591) |#                      | Elapsed Time: 0:02:47 ETA:   1:17:32"
     ]
    },
    {
     "name": "stdout",
     "output_type": "stream",
     "text": [
      "[{'words': '童'}]\n",
      "unie11e\n"
     ]
    },
    {
     "name": "stderr",
     "output_type": "stream",
     "text": [
      "\r",
      "  6% (36 of 591) |#                      | Elapsed Time: 0:02:51 ETA:   0:36:15"
     ]
    },
    {
     "name": "stdout",
     "output_type": "stream",
     "text": [
      "[{'words': '利'}]\n",
      "unie121\n"
     ]
    },
    {
     "name": "stderr",
     "output_type": "stream",
     "text": [
      "\r",
      "  6% (37 of 591) |#                      | Elapsed Time: 0:02:54 ETA:   0:33:15"
     ]
    },
    {
     "name": "stdout",
     "output_type": "stream",
     "text": [
      "[{'words': '附'}]\n",
      "unie131\n"
     ]
    },
    {
     "name": "stderr",
     "output_type": "stream",
     "text": [
      "\r",
      "  6% (38 of 591) |#                      | Elapsed Time: 0:02:58 ETA:   0:36:03"
     ]
    },
    {
     "name": "stdout",
     "output_type": "stream",
     "text": [
      "[{'words': '出'}]\n",
      "unie13c\n"
     ]
    },
    {
     "name": "stderr",
     "output_type": "stream",
     "text": [
      "\r",
      "  6% (39 of 591) |#                      | Elapsed Time: 0:03:02 ETA:   0:35:29"
     ]
    },
    {
     "name": "stdout",
     "output_type": "stream",
     "text": [
      "[{'words': '比'}]\n",
      "unie14a\n"
     ]
    },
    {
     "name": "stderr",
     "output_type": "stream",
     "text": [
      "\r",
      "  6% (40 of 591) |#                      | Elapsed Time: 0:03:06 ETA:   0:34:13"
     ]
    },
    {
     "name": "stdout",
     "output_type": "stream",
     "text": [
      "[{'words': '性'}]\n",
      "unie16a\n"
     ]
    },
    {
     "name": "stderr",
     "output_type": "stream",
     "text": [
      "\r",
      "  6% (41 of 591) |#                      | Elapsed Time: 0:03:10 ETA:   0:40:11"
     ]
    },
    {
     "name": "stdout",
     "output_type": "stream",
     "text": [
      "[{'words': '度'}]\n",
      "unie16f\n"
     ]
    },
    {
     "name": "stderr",
     "output_type": "stream",
     "text": [
      "\r",
      "  7% (42 of 591) |#                      | Elapsed Time: 0:03:15 ETA:   0:40:46"
     ]
    },
    {
     "name": "stdout",
     "output_type": "stream",
     "text": [
      "[{'words': '林'}]\n",
      "unie172\n"
     ]
    },
    {
     "name": "stderr",
     "output_type": "stream",
     "text": [
      "\r",
      "  7% (43 of 591) |#                      | Elapsed Time: 0:03:19 ETA:   0:38:27"
     ]
    },
    {
     "name": "stdout",
     "output_type": "stream",
     "text": [
      "[{'words': '田'}]\n",
      "unie176\n"
     ]
    },
    {
     "name": "stderr",
     "output_type": "stream",
     "text": [
      "\r",
      "  7% (44 of 591) |#                      | Elapsed Time: 0:03:24 ETA:   0:47:52"
     ]
    },
    {
     "name": "stdout",
     "output_type": "stream",
     "text": [
      "[{'words': '份'}]\n",
      "unie18f\n"
     ]
    },
    {
     "name": "stderr",
     "output_type": "stream",
     "text": [
      "\r",
      "  7% (45 of 591) |#                      | Elapsed Time: 0:03:29 ETA:   0:45:48"
     ]
    },
    {
     "name": "stdout",
     "output_type": "stream",
     "text": [
      "[{'words': '清'}]\n",
      "unie198\n"
     ]
    },
    {
     "name": "stderr",
     "output_type": "stream",
     "text": [
      "\r",
      "  7% (46 of 591) |#                      | Elapsed Time: 0:03:33 ETA:   0:33:03"
     ]
    },
    {
     "name": "stdout",
     "output_type": "stream",
     "text": [
      "[{'words': '斜'}]\n",
      "unie1a1\n"
     ]
    },
    {
     "name": "stderr",
     "output_type": "stream",
     "text": [
      "\r",
      "  7% (47 of 591) |#                      | Elapsed Time: 0:03:37 ETA:   0:33:10"
     ]
    },
    {
     "name": "stdout",
     "output_type": "stream",
     "text": [
      "[{'words': '处'}]\n",
      "unie1b1\n"
     ]
    },
    {
     "name": "stderr",
     "output_type": "stream",
     "text": [
      "\r",
      "  8% (48 of 591) |#                      | Elapsed Time: 0:03:42 ETA:   0:47:21"
     ]
    },
    {
     "name": "stdout",
     "output_type": "stream",
     "text": [
      "[{'words': '板'}]\n",
      "unie1b6\n"
     ]
    },
    {
     "name": "stderr",
     "output_type": "stream",
     "text": [
      "\r",
      "  8% (49 of 591) |#                      | Elapsed Time: 0:03:46 ETA:   0:40:23"
     ]
    },
    {
     "name": "stdout",
     "output_type": "stream",
     "text": [
      "[{'words': '同'}]\n",
      "unie1be\n"
     ]
    },
    {
     "name": "stderr",
     "output_type": "stream",
     "text": [
      "\r",
      "  8% (50 of 591) |#                      | Elapsed Time: 0:03:50 ETA:   0:34:48"
     ]
    },
    {
     "name": "stdout",
     "output_type": "stream",
     "text": [
      "[{'words': '以'}]\n",
      "unie1ca\n"
     ]
    },
    {
     "name": "stderr",
     "output_type": "stream",
     "text": [
      "\r",
      "  8% (51 of 591) |#                      | Elapsed Time: 0:03:55 ETA:   0:40:52"
     ]
    },
    {
     "name": "stdout",
     "output_type": "stream",
     "text": [
      "[{'words': '给'}]\n",
      "unie1cd\n"
     ]
    },
    {
     "name": "stderr",
     "output_type": "stream",
     "text": [
      "\r",
      "  8% (52 of 591) |##                     | Elapsed Time: 0:04:03 ETA:   1:11:47"
     ]
    },
    {
     "name": "stdout",
     "output_type": "stream",
     "text": [
      "[{'words': '鸿'}]\n",
      "unie1ec\n"
     ]
    },
    {
     "name": "stderr",
     "output_type": "stream",
     "text": [
      "\r",
      "  8% (53 of 591) |##                     | Elapsed Time: 0:04:07 ETA:   0:43:19"
     ]
    },
    {
     "name": "stdout",
     "output_type": "stream",
     "text": [
      "[{'words': '步'}]\n",
      "unie1f0\n"
     ]
    },
    {
     "name": "stderr",
     "output_type": "stream",
     "text": [
      "\r",
      "  9% (54 of 591) |##                     | Elapsed Time: 0:04:12 ETA:   0:44:17"
     ]
    },
    {
     "name": "stdout",
     "output_type": "stream",
     "text": [
      "[{'words': '关'}]\n",
      "unie1fb\n"
     ]
    },
    {
     "name": "stderr",
     "output_type": "stream",
     "text": [
      "\r",
      "  9% (55 of 591) |##                     | Elapsed Time: 0:04:16 ETA:   0:34:33"
     ]
    },
    {
     "name": "stdout",
     "output_type": "stream",
     "text": [
      "[{'words': '松'}]\n",
      "unie200\n"
     ]
    },
    {
     "name": "stderr",
     "output_type": "stream",
     "text": [
      "\r",
      "  9% (56 of 591) |##                     | Elapsed Time: 0:04:20 ETA:   0:35:34"
     ]
    },
    {
     "name": "stdout",
     "output_type": "stream",
     "text": [
      "[{'words': '红'}]\n",
      "unie230\n"
     ]
    },
    {
     "name": "stderr",
     "output_type": "stream",
     "text": [
      "\r",
      "  9% (57 of 591) |##                     | Elapsed Time: 0:04:27 ETA:   1:00:14"
     ]
    },
    {
     "name": "stdout",
     "output_type": "stream",
     "text": [
      "[{'words': '杂'}]\n",
      "unie237\n"
     ]
    },
    {
     "name": "stderr",
     "output_type": "stream",
     "text": [
      "\r",
      "  9% (58 of 591) |##                     | Elapsed Time: 0:04:31 ETA:   0:32:42"
     ]
    },
    {
     "name": "stdout",
     "output_type": "stream",
     "text": [
      "[{'words': '好'}]\n",
      "unie23d\n"
     ]
    },
    {
     "name": "stderr",
     "output_type": "stream",
     "text": [
      "\r",
      "  9% (59 of 591) |##                     | Elapsed Time: 0:04:36 ETA:   0:51:01"
     ]
    },
    {
     "name": "stdout",
     "output_type": "stream",
     "text": [
      "[{'words': '梅'}]\n",
      "unie242\n"
     ]
    },
    {
     "name": "stderr",
     "output_type": "stream",
     "text": [
      "\r",
      " 10% (60 of 591) |##                     | Elapsed Time: 0:04:42 ETA:   0:46:06"
     ]
    },
    {
     "name": "stdout",
     "output_type": "stream",
     "text": [
      "[{'words': '酸'}]\n",
      "unie244\n"
     ]
    },
    {
     "name": "stderr",
     "output_type": "stream",
     "text": [
      "\r",
      " 10% (61 of 591) |##                     | Elapsed Time: 0:04:49 ETA:   1:06:07"
     ]
    },
    {
     "name": "stdout",
     "output_type": "stream",
     "text": [
      "[{'words': '线'}]\n",
      "unie25a\n"
     ]
    },
    {
     "name": "stderr",
     "output_type": "stream",
     "text": [
      "\r",
      " 10% (62 of 591) |##                     | Elapsed Time: 0:04:53 ETA:   0:37:27"
     ]
    },
    {
     "name": "stdout",
     "output_type": "stream",
     "text": [
      "[{'words': '跟'}]\n",
      "unie25f\n"
     ]
    },
    {
     "name": "stderr",
     "output_type": "stream",
     "text": [
      "\r",
      " 10% (63 of 591) |##                     | Elapsed Time: 0:04:57 ETA:   0:31:59"
     ]
    },
    {
     "name": "stdout",
     "output_type": "stream",
     "text": [
      "[{'words': '杨'}]\n",
      "unie261\n"
     ]
    },
    {
     "name": "stderr",
     "output_type": "stream",
     "text": [
      "\r",
      " 10% (64 of 591) |##                     | Elapsed Time: 0:05:04 ETA:   1:04:49"
     ]
    },
    {
     "name": "stdout",
     "output_type": "stream",
     "text": [
      "[{'words': '味'}]\n",
      "unie26e\n"
     ]
    },
    {
     "name": "stderr",
     "output_type": "stream",
     "text": [
      "\r",
      " 10% (65 of 591) |##                     | Elapsed Time: 0:05:08 ETA:   0:34:59"
     ]
    },
    {
     "name": "stdout",
     "output_type": "stream",
     "text": [
      "[]\n",
      "unie272\n"
     ]
    },
    {
     "name": "stderr",
     "output_type": "stream",
     "text": [
      "\r",
      " 11% (66 of 591) |##                     | Elapsed Time: 0:05:13 ETA:   0:44:10"
     ]
    },
    {
     "name": "stdout",
     "output_type": "stream",
     "text": [
      "[{'words': '广'}]\n",
      "unie293\n"
     ]
    },
    {
     "name": "stderr",
     "output_type": "stream",
     "text": [
      "\r",
      " 11% (67 of 591) |##                     | Elapsed Time: 0:05:18 ETA:   0:35:31"
     ]
    },
    {
     "name": "stdout",
     "output_type": "stream",
     "text": [
      "[{'words': '干'}]\n",
      "unie298\n"
     ]
    },
    {
     "name": "stderr",
     "output_type": "stream",
     "text": [
      "\r",
      " 11% (68 of 591) |##                     | Elapsed Time: 0:05:25 ETA:   1:02:52"
     ]
    },
    {
     "name": "stdout",
     "output_type": "stream",
     "text": [
      "[{'words': '完'}]\n",
      "unie29a\n"
     ]
    },
    {
     "name": "stderr",
     "output_type": "stream",
     "text": [
      "\r",
      " 11% (69 of 591) |##                     | Elapsed Time: 0:05:29 ETA:   0:37:11"
     ]
    },
    {
     "name": "stdout",
     "output_type": "stream",
     "text": [
      "[{'words': '洲'}]\n",
      "unie29d\n"
     ]
    },
    {
     "name": "stderr",
     "output_type": "stream",
     "text": [
      "\r",
      " 11% (70 of 591) |##                     | Elapsed Time: 0:05:33 ETA:   0:33:38"
     ]
    },
    {
     "name": "stdout",
     "output_type": "stream",
     "text": [
      "[{'words': '凤'}]\n",
      "unie2b8\n"
     ]
    },
    {
     "name": "stderr",
     "output_type": "stream",
     "text": [
      "\r",
      " 12% (71 of 591) |##                     | Elapsed Time: 0:05:38 ETA:   0:40:41"
     ]
    },
    {
     "name": "stdout",
     "output_type": "stream",
     "text": [
      "[{'words': '啊'}]\n",
      "unie2bb\n"
     ]
    },
    {
     "name": "stderr",
     "output_type": "stream",
     "text": [
      "\r",
      " 12% (72 of 591) |##                     | Elapsed Time: 0:05:42 ETA:   0:39:00"
     ]
    },
    {
     "name": "stdout",
     "output_type": "stream",
     "text": [
      "[{'words': '放'}]\n",
      "unie2c5\n"
     ]
    },
    {
     "name": "stderr",
     "output_type": "stream",
     "text": [
      "\r",
      " 12% (73 of 591) |##                     | Elapsed Time: 0:05:47 ETA:   0:38:47"
     ]
    },
    {
     "name": "stdout",
     "output_type": "stream",
     "text": [
      "[{'words': '民'}]\n",
      "unie2cf\n"
     ]
    },
    {
     "name": "stderr",
     "output_type": "stream",
     "text": [
      "\r",
      " 12% (74 of 591) |##                     | Elapsed Time: 0:05:51 ETA:   0:37:04"
     ]
    },
    {
     "name": "stdout",
     "output_type": "stream",
     "text": [
      "[{'words': '棒'}]\n",
      "unie2d7\n"
     ]
    },
    {
     "name": "stderr",
     "output_type": "stream",
     "text": [
      "\r",
      " 12% (75 of 591) |##                     | Elapsed Time: 0:05:56 ETA:   0:43:26"
     ]
    },
    {
     "name": "stdout",
     "output_type": "stream",
     "text": [
      "[{'words': '世'}]\n",
      "unie2da\n"
     ]
    },
    {
     "name": "stderr",
     "output_type": "stream",
     "text": [
      "\r",
      " 12% (76 of 591) |##                     | Elapsed Time: 0:06:01 ETA:   0:40:43"
     ]
    },
    {
     "name": "stdout",
     "output_type": "stream",
     "text": [
      "[{'words': '宝'}]\n",
      "unie2dd\n"
     ]
    },
    {
     "name": "stderr",
     "output_type": "stream",
     "text": [
      "\r",
      " 13% (77 of 591) |##                     | Elapsed Time: 0:06:05 ETA:   0:39:06"
     ]
    },
    {
     "name": "stdout",
     "output_type": "stream",
     "text": [
      "[{'words': '正'}]\n",
      "unie2e1\n"
     ]
    },
    {
     "name": "stderr",
     "output_type": "stream",
     "text": [
      "\r",
      " 13% (78 of 591) |###                    | Elapsed Time: 0:06:09 ETA:   0:31:00"
     ]
    },
    {
     "name": "stdout",
     "output_type": "stream",
     "text": [
      "[{'words': '东'}]\n",
      "unie2f0\n"
     ]
    },
    {
     "name": "stderr",
     "output_type": "stream",
     "text": [
      "\r",
      " 13% (79 of 591) |###                    | Elapsed Time: 0:06:13 ETA:   0:32:47"
     ]
    },
    {
     "name": "stdout",
     "output_type": "stream",
     "text": [
      "[{'words': '看'}]\n",
      "unie300\n"
     ]
    },
    {
     "name": "stderr",
     "output_type": "stream",
     "text": [
      "\r",
      " 13% (80 of 591) |###                    | Elapsed Time: 0:06:18 ETA:   0:40:51"
     ]
    },
    {
     "name": "stdout",
     "output_type": "stream",
     "text": [
      "[{'words': '汤'}]\n",
      "unie30e\n"
     ]
    },
    {
     "name": "stderr",
     "output_type": "stream",
     "text": [
      "\r",
      " 13% (81 of 591) |###                    | Elapsed Time: 0:06:22 ETA:   0:36:26"
     ]
    },
    {
     "name": "stdout",
     "output_type": "stream",
     "text": [
      "[{'words': '段'}]\n",
      "unie312\n"
     ]
    },
    {
     "name": "stderr",
     "output_type": "stream",
     "text": [
      "\r",
      " 13% (82 of 591) |###                    | Elapsed Time: 0:06:26 ETA:   0:32:37"
     ]
    },
    {
     "name": "stdout",
     "output_type": "stream",
     "text": [
      "[{'words': '品'}]\n",
      "unie319\n"
     ]
    },
    {
     "name": "stderr",
     "output_type": "stream",
     "text": [
      "\r",
      " 14% (83 of 591) |###                    | Elapsed Time: 0:06:29 ETA:   0:30:33"
     ]
    },
    {
     "name": "stdout",
     "output_type": "stream",
     "text": [
      "[{'words': '明'}]\n",
      "unie326\n"
     ]
    },
    {
     "name": "stderr",
     "output_type": "stream",
     "text": [
      "\r",
      " 14% (84 of 591) |###                    | Elapsed Time: 0:06:33 ETA:   0:34:01"
     ]
    },
    {
     "name": "stdout",
     "output_type": "stream",
     "text": [
      "[{'words': '虹'}]\n",
      "unie329\n"
     ]
    },
    {
     "name": "stderr",
     "output_type": "stream",
     "text": [
      "\r",
      " 14% (85 of 591) |###                    | Elapsed Time: 0:06:37 ETA:   0:33:07"
     ]
    },
    {
     "name": "stdout",
     "output_type": "stream",
     "text": [
      "[{'words': '吃'}]\n",
      "unie32e\n"
     ]
    },
    {
     "name": "stderr",
     "output_type": "stream",
     "text": [
      "\r",
      " 14% (86 of 591) |###                    | Elapsed Time: 0:06:43 ETA:   0:45:29"
     ]
    },
    {
     "name": "stdout",
     "output_type": "stream",
     "text": [
      "[{'words': '京'}]\n",
      "unie348\n"
     ]
    },
    {
     "name": "stderr",
     "output_type": "stream",
     "text": [
      "\r",
      " 14% (87 of 591) |###                    | Elapsed Time: 0:06:47 ETA:   0:34:34"
     ]
    },
    {
     "name": "stdout",
     "output_type": "stream",
     "text": [
      "[{'words': '技'}]\n",
      "unie352\n"
     ]
    },
    {
     "name": "stderr",
     "output_type": "stream",
     "text": [
      "\r",
      " 14% (88 of 591) |###                    | Elapsed Time: 0:06:51 ETA:   0:32:33"
     ]
    },
    {
     "name": "stdout",
     "output_type": "stream",
     "text": [
      "[{'words': '这'}]\n",
      "unie371\n"
     ]
    },
    {
     "name": "stderr",
     "output_type": "stream",
     "text": [
      "\r",
      " 15% (89 of 591) |###                    | Elapsed Time: 0:06:55 ETA:   0:33:40"
     ]
    },
    {
     "name": "stdout",
     "output_type": "stream",
     "text": [
      "[{'words': '福'}]\n",
      "unie37b\n"
     ]
    },
    {
     "name": "stderr",
     "output_type": "stream",
     "text": [
      "\r",
      " 15% (90 of 591) |###                    | Elapsed Time: 0:06:59 ETA:   0:38:17"
     ]
    },
    {
     "name": "stdout",
     "output_type": "stream",
     "text": [
      "[{'words': '串'}]\n",
      "unie392\n"
     ]
    },
    {
     "name": "stderr",
     "output_type": "stream",
     "text": [
      "\r",
      " 15% (91 of 591) |###                    | Elapsed Time: 0:07:05 ETA:   0:48:39"
     ]
    },
    {
     "name": "stdout",
     "output_type": "stream",
     "text": [
      "[{'words': '办'}]\n",
      "unie39e\n"
     ]
    },
    {
     "name": "stderr",
     "output_type": "stream",
     "text": [
      "\r",
      " 15% (92 of 591) |###                    | Elapsed Time: 0:07:09 ETA:   0:32:07"
     ]
    },
    {
     "name": "stdout",
     "output_type": "stream",
     "text": [
      "[]\n",
      "unie3a7\n"
     ]
    },
    {
     "name": "stderr",
     "output_type": "stream",
     "text": [
      "\r",
      " 15% (93 of 591) |###                    | Elapsed Time: 0:07:17 ETA:   1:06:46"
     ]
    },
    {
     "name": "stdout",
     "output_type": "stream",
     "text": [
      "[{'words': '连'}]\n",
      "unie3a8\n"
     ]
    },
    {
     "name": "stderr",
     "output_type": "stream",
     "text": [
      "\r",
      " 15% (94 of 591) |###                    | Elapsed Time: 0:07:22 ETA:   0:44:42"
     ]
    },
    {
     "name": "stdout",
     "output_type": "stream",
     "text": [
      "[{'words': '料'}]\n",
      "unie3af\n"
     ]
    },
    {
     "name": "stderr",
     "output_type": "stream",
     "text": [
      "\r",
      " 16% (95 of 591) |###                    | Elapsed Time: 0:07:43 ETA:   2:48:36"
     ]
    },
    {
     "name": "stdout",
     "output_type": "stream",
     "text": [
      "[{'words': '内'}]\n",
      "unie3c6\n"
     ]
    },
    {
     "name": "stderr",
     "output_type": "stream",
     "text": [
      "\r",
      " 16% (96 of 591) |###                    | Elapsed Time: 0:07:47 ETA:   0:35:46"
     ]
    },
    {
     "name": "stdout",
     "output_type": "stream",
     "text": [
      "[{'words': '配'}]\n",
      "unie3d7\n"
     ]
    },
    {
     "name": "stderr",
     "output_type": "stream",
     "text": [
      "\r",
      " 16% (97 of 591) |###                    | Elapsed Time: 0:07:51 ETA:   0:30:20"
     ]
    },
    {
     "name": "stdout",
     "output_type": "stream",
     "text": [
      "[{'words': '峰'}]\n",
      "unie3e3\n"
     ]
    },
    {
     "name": "stderr",
     "output_type": "stream",
     "text": [
      "\r",
      " 16% (98 of 591) |###                    | Elapsed Time: 0:07:56 ETA:   0:44:50"
     ]
    },
    {
     "name": "stdout",
     "output_type": "stream",
     "text": [
      "[{'words': '豆'}]\n",
      "unie3e5\n"
     ]
    },
    {
     "name": "stderr",
     "output_type": "stream",
     "text": [
      "\r",
      " 16% (99 of 591) |###                    | Elapsed Time: 0:08:00 ETA:   0:34:33"
     ]
    },
    {
     "name": "stdout",
     "output_type": "stream",
     "text": [
      "[{'words': '石'}]\n",
      "unie3e9\n"
     ]
    },
    {
     "name": "stderr",
     "output_type": "stream",
     "text": [
      "\r",
      " 16% (100 of 591) |###                   | Elapsed Time: 0:08:04 ETA:   0:31:26"
     ]
    },
    {
     "name": "stdout",
     "output_type": "stream",
     "text": [
      "[{'words': '就'}]\n",
      "unie3f1\n"
     ]
    },
    {
     "name": "stderr",
     "output_type": "stream",
     "text": [
      "\r",
      " 17% (101 of 591) |###                   | Elapsed Time: 0:08:08 ETA:   0:29:46"
     ]
    },
    {
     "name": "stdout",
     "output_type": "stream",
     "text": [
      "[{'words': '解'}]\n",
      "unie3f9\n"
     ]
    },
    {
     "name": "stderr",
     "output_type": "stream",
     "text": [
      "\r",
      " 17% (102 of 591) |###                   | Elapsed Time: 0:08:12 ETA:   0:33:13"
     ]
    },
    {
     "name": "stdout",
     "output_type": "stream",
     "text": [
      "[{'words': '光'}]\n",
      "unie423\n"
     ]
    },
    {
     "name": "stderr",
     "output_type": "stream",
     "text": [
      "\r",
      " 17% (103 of 591) |###                   | Elapsed Time: 0:08:18 ETA:   0:52:01"
     ]
    },
    {
     "name": "stdout",
     "output_type": "stream",
     "text": [
      "[{'words': '期'}]\n",
      "unie433\n"
     ]
    },
    {
     "name": "stderr",
     "output_type": "stream",
     "text": [
      "\r",
      " 17% (104 of 591) |###                   | Elapsed Time: 0:08:23 ETA:   0:38:54"
     ]
    },
    {
     "name": "stdout",
     "output_type": "stream",
     "text": [
      "[{'words': '加'}]\n",
      "unie441\n"
     ]
    },
    {
     "name": "stderr",
     "output_type": "stream",
     "text": [
      "\r",
      " 17% (105 of 591) |###                   | Elapsed Time: 0:08:27 ETA:   0:29:51"
     ]
    },
    {
     "name": "stdout",
     "output_type": "stream",
     "text": [
      "[{'words': '然'}]\n",
      "unie459\n"
     ]
    },
    {
     "name": "stderr",
     "output_type": "stream",
     "text": [
      "\r",
      " 17% (106 of 591) |###                   | Elapsed Time: 0:08:31 ETA:   0:32:44"
     ]
    },
    {
     "name": "stdout",
     "output_type": "stream",
     "text": [
      "[{'words': '堂'}]\n",
      "unie45b\n"
     ]
    },
    {
     "name": "stderr",
     "output_type": "stream",
     "text": [
      "\r",
      " 18% (107 of 591) |###                   | Elapsed Time: 0:08:35 ETA:   0:31:13"
     ]
    },
    {
     "name": "stdout",
     "output_type": "stream",
     "text": [
      "[{'words': '行'}]\n",
      "unie45d\n"
     ]
    },
    {
     "name": "stderr",
     "output_type": "stream",
     "text": [
      "\r",
      " 18% (108 of 591) |####                  | Elapsed Time: 0:08:39 ETA:   0:35:22"
     ]
    },
    {
     "name": "stdout",
     "output_type": "stream",
     "text": [
      "[{'words': '且'}]\n",
      "unie47c\n"
     ]
    },
    {
     "name": "stderr",
     "output_type": "stream",
     "text": [
      "\r",
      " 18% (109 of 591) |####                  | Elapsed Time: 0:08:44 ETA:   0:34:59"
     ]
    },
    {
     "name": "stdout",
     "output_type": "stream",
     "text": [
      "[{'words': '物'}]\n",
      "unie487\n"
     ]
    },
    {
     "name": "stderr",
     "output_type": "stream",
     "text": [
      "\r",
      " 18% (110 of 591) |####                  | Elapsed Time: 0:08:47 ETA:   0:31:04"
     ]
    },
    {
     "name": "stdout",
     "output_type": "stream",
     "text": [
      "[{'words': '保'}]\n",
      "unie493\n"
     ]
    },
    {
     "name": "stderr",
     "output_type": "stream",
     "text": [
      "\r",
      " 18% (111 of 591) |####                  | Elapsed Time: 0:08:52 ETA:   0:39:39"
     ]
    },
    {
     "name": "stdout",
     "output_type": "stream",
     "text": [
      "[]\n",
      "unie495\n"
     ]
    },
    {
     "name": "stderr",
     "output_type": "stream",
     "text": [
      "\r",
      " 18% (112 of 591) |####                  | Elapsed Time: 0:08:56 ETA:   0:30:41"
     ]
    },
    {
     "name": "stdout",
     "output_type": "stream",
     "text": [
      "[{'words': '龙'}]\n",
      "unie4a1\n"
     ]
    },
    {
     "name": "stderr",
     "output_type": "stream",
     "text": [
      "\r",
      " 19% (113 of 591) |####                  | Elapsed Time: 0:09:00 ETA:   0:30:29"
     ]
    },
    {
     "name": "stdout",
     "output_type": "stream",
     "text": [
      "[{'words': '朋'}]\n",
      "unie4a4\n"
     ]
    },
    {
     "name": "stderr",
     "output_type": "stream",
     "text": [
      "\r",
      " 19% (114 of 591) |####                  | Elapsed Time: 0:09:04 ETA:   0:30:22"
     ]
    },
    {
     "name": "stdout",
     "output_type": "stream",
     "text": [
      "[{'words': '因'}]\n",
      "unie4a9\n"
     ]
    },
    {
     "name": "stderr",
     "output_type": "stream",
     "text": [
      "\r",
      " 19% (115 of 591) |####                  | Elapsed Time: 0:09:09 ETA:   0:37:15"
     ]
    },
    {
     "name": "stdout",
     "output_type": "stream",
     "text": [
      "[]\n",
      "unie4c6\n"
     ]
    },
    {
     "name": "stderr",
     "output_type": "stream",
     "text": [
      "\r",
      " 19% (116 of 591) |####                  | Elapsed Time: 0:09:13 ETA:   0:31:47"
     ]
    },
    {
     "name": "stdout",
     "output_type": "stream",
     "text": [
      "[{'words': '际'}]\n",
      "unie4ca\n"
     ]
    },
    {
     "name": "stderr",
     "output_type": "stream",
     "text": [
      "\r",
      " 19% (117 of 591) |####                  | Elapsed Time: 0:09:17 ETA:   0:30:40"
     ]
    },
    {
     "name": "stdout",
     "output_type": "stream",
     "text": [
      "[{'words': '块'}]\n",
      "unie4ce\n"
     ]
    },
    {
     "name": "stderr",
     "output_type": "stream",
     "text": [
      "\r",
      " 19% (118 of 591) |####                  | Elapsed Time: 0:09:21 ETA:   0:33:36"
     ]
    },
    {
     "name": "stdout",
     "output_type": "stream",
     "text": [
      "[{'words': '寸'}]\n",
      "unie4da\n"
     ]
    },
    {
     "name": "stderr",
     "output_type": "stream",
     "text": [
      "\r",
      " 20% (119 of 591) |####                  | Elapsed Time: 0:09:24 ETA:   0:28:17"
     ]
    },
    {
     "name": "stdout",
     "output_type": "stream",
     "text": [
      "[{'words': '村'}]\n",
      "unie4f4\n"
     ]
    },
    {
     "name": "stderr",
     "output_type": "stream",
     "text": [
      "\r",
      " 20% (120 of 591) |####                  | Elapsed Time: 0:09:28 ETA:   0:30:10"
     ]
    },
    {
     "name": "stdout",
     "output_type": "stream",
     "text": [
      "[{'words': '着'}]\n",
      "unie50b\n"
     ]
    },
    {
     "name": "stderr",
     "output_type": "stream",
     "text": [
      "\r",
      " 20% (121 of 591) |####                  | Elapsed Time: 0:09:32 ETA:   0:30:28"
     ]
    },
    {
     "name": "stdout",
     "output_type": "stream",
     "text": [
      "[{'words': '到'}]\n",
      "unie51b\n"
     ]
    },
    {
     "name": "stderr",
     "output_type": "stream",
     "text": [
      "\r",
      " 20% (122 of 591) |####                  | Elapsed Time: 0:09:36 ETA:   0:28:47"
     ]
    },
    {
     "name": "stdout",
     "output_type": "stream",
     "text": [
      "[{'words': '江'}]\n",
      "unie51c\n"
     ]
    },
    {
     "name": "stderr",
     "output_type": "stream",
     "text": [
      "\r",
      " 20% (123 of 591) |####                  | Elapsed Time: 0:09:39 ETA:   0:28:20"
     ]
    },
    {
     "name": "stdout",
     "output_type": "stream",
     "text": [
      "[{'words': '联'}]\n",
      "unie51d\n"
     ]
    },
    {
     "name": "stderr",
     "output_type": "stream",
     "text": [
      "\r",
      " 20% (124 of 591) |####                  | Elapsed Time: 0:09:44 ETA:   0:32:56"
     ]
    },
    {
     "name": "stdout",
     "output_type": "stream",
     "text": [
      "[{'words': '银'}]\n",
      "unie53e\n"
     ]
    },
    {
     "name": "stderr",
     "output_type": "stream",
     "text": [
      "\r",
      " 21% (125 of 591) |####                  | Elapsed Time: 0:09:47 ETA:   0:28:49"
     ]
    },
    {
     "name": "stdout",
     "output_type": "stream",
     "text": [
      "[{'words': '客'}]\n",
      "unie53f\n"
     ]
    },
    {
     "name": "stderr",
     "output_type": "stream",
     "text": [
      "\r",
      " 21% (126 of 591) |####                  | Elapsed Time: 0:09:51 ETA:   0:31:16"
     ]
    },
    {
     "name": "stdout",
     "output_type": "stream",
     "text": [
      "[{'words': '说'}]\n",
      "unie547\n"
     ]
    },
    {
     "name": "stderr",
     "output_type": "stream",
     "text": [
      "\r",
      " 21% (127 of 591) |####                  | Elapsed Time: 0:09:56 ETA:   0:39:11"
     ]
    },
    {
     "name": "stdout",
     "output_type": "stream",
     "text": [
      "[{'words': '每'}]\n",
      "unie559\n"
     ]
    },
    {
     "name": "stderr",
     "output_type": "stream",
     "text": [
      "\r",
      " 21% (128 of 591) |####                  | Elapsed Time: 0:10:03 ETA:   0:50:11"
     ]
    },
    {
     "name": "stdout",
     "output_type": "stream",
     "text": [
      "[{'words': '鑫'}]\n",
      "unie55b\n"
     ]
    },
    {
     "name": "stderr",
     "output_type": "stream",
     "text": [
      "\r",
      " 21% (129 of 591) |####                  | Elapsed Time: 0:10:07 ETA:   0:32:52"
     ]
    },
    {
     "name": "stdout",
     "output_type": "stream",
     "text": [
      "[{'words': '般'}]\n",
      "unie567\n"
     ]
    },
    {
     "name": "stderr",
     "output_type": "stream",
     "text": [
      "\r",
      " 21% (130 of 591) |####                  | Elapsed Time: 0:10:12 ETA:   0:33:33"
     ]
    },
    {
     "name": "stdout",
     "output_type": "stream",
     "text": [
      "[{'words': '岭'}]\n",
      "unie56d\n"
     ]
    },
    {
     "name": "stderr",
     "output_type": "stream",
     "text": [
      "\r",
      " 22% (131 of 591) |####                  | Elapsed Time: 0:10:15 ETA:   0:28:09"
     ]
    },
    {
     "name": "stdout",
     "output_type": "stream",
     "text": [
      "[{'words': '风'}]\n",
      "unie56e\n"
     ]
    },
    {
     "name": "stderr",
     "output_type": "stream",
     "text": [
      "\r",
      " 22% (132 of 591) |####                  | Elapsed Time: 0:10:19 ETA:   0:29:14"
     ]
    },
    {
     "name": "stdout",
     "output_type": "stream",
     "text": [
      "[{'words': '诚'}]\n",
      "unie581\n"
     ]
    },
    {
     "name": "stderr",
     "output_type": "stream",
     "text": [
      "\r",
      " 22% (133 of 591) |####                  | Elapsed Time: 0:10:24 ETA:   0:40:50"
     ]
    },
    {
     "name": "stdout",
     "output_type": "stream",
     "text": [
      "[{'words': '房'}]\n",
      "unie588\n"
     ]
    },
    {
     "name": "stderr",
     "output_type": "stream",
     "text": [
      "\r",
      " 22% (134 of 591) |####                  | Elapsed Time: 0:10:29 ETA:   0:31:07"
     ]
    },
    {
     "name": "stdout",
     "output_type": "stream",
     "text": [
      "[{'words': '级'}]\n",
      "unie592\n"
     ]
    },
    {
     "name": "stderr",
     "output_type": "stream",
     "text": [
      "\r",
      " 22% (135 of 591) |#####                 | Elapsed Time: 0:10:33 ETA:   0:32:37"
     ]
    },
    {
     "name": "stdout",
     "output_type": "stream",
     "text": [
      "[]\n",
      "unie595\n"
     ]
    },
    {
     "name": "stderr",
     "output_type": "stream",
     "text": [
      "\r",
      " 23% (136 of 591) |#####                 | Elapsed Time: 0:10:37 ETA:   0:30:40"
     ]
    },
    {
     "name": "stdout",
     "output_type": "stream",
     "text": [
      "[{'words': '横'}]\n",
      "unie598\n"
     ]
    },
    {
     "name": "stderr",
     "output_type": "stream",
     "text": [
      "\r",
      " 23% (137 of 591) |#####                 | Elapsed Time: 0:10:41 ETA:   0:29:15"
     ]
    },
    {
     "name": "stdout",
     "output_type": "stream",
     "text": [
      "[{'words': '专'}]\n",
      "unie59c\n"
     ]
    },
    {
     "name": "stderr",
     "output_type": "stream",
     "text": [
      "\r",
      " 23% (138 of 591) |#####                 | Elapsed Time: 0:10:45 ETA:   0:29:40"
     ]
    },
    {
     "name": "stdout",
     "output_type": "stream",
     "text": [
      "[{'words': '王'}]\n",
      "unie5af\n"
     ]
    },
    {
     "name": "stderr",
     "output_type": "stream",
     "text": [
      "\r",
      " 23% (139 of 591) |#####                 | Elapsed Time: 0:10:50 ETA:   0:38:00"
     ]
    },
    {
     "name": "stdout",
     "output_type": "stream",
     "text": [
      "[{'words': '安'}]\n",
      "unie5b3\n"
     ]
    },
    {
     "name": "stderr",
     "output_type": "stream",
     "text": [
      "\r",
      " 23% (140 of 591) |#####                 | Elapsed Time: 0:10:54 ETA:   0:29:02"
     ]
    },
    {
     "name": "stdout",
     "output_type": "stream",
     "text": [
      "[{'words': '为'}]\n",
      "unie5b9\n"
     ]
    },
    {
     "name": "stderr",
     "output_type": "stream",
     "text": [
      "\r",
      " 23% (141 of 591) |#####                 | Elapsed Time: 0:10:57 ETA:   0:28:39"
     ]
    },
    {
     "name": "stdout",
     "output_type": "stream",
     "text": [
      "[{'words': '手'}]\n",
      "unie5c2\n"
     ]
    },
    {
     "name": "stderr",
     "output_type": "stream",
     "text": [
      "\r",
      " 24% (142 of 591) |#####                 | Elapsed Time: 0:11:03 ETA:   0:39:33"
     ]
    },
    {
     "name": "stdout",
     "output_type": "stream",
     "text": [
      "[{'words': '山'}]\n",
      "unie5cc\n"
     ]
    },
    {
     "name": "stderr",
     "output_type": "stream",
     "text": [
      "\r",
      " 24% (143 of 591) |#####                 | Elapsed Time: 0:11:06 ETA:   0:27:11"
     ]
    },
    {
     "name": "stdout",
     "output_type": "stream",
     "text": [
      "[{'words': '泉'}]\n",
      "unie5d3\n"
     ]
    },
    {
     "name": "stderr",
     "output_type": "stream",
     "text": [
      "\r",
      " 24% (144 of 591) |#####                 | Elapsed Time: 0:11:11 ETA:   0:33:27"
     ]
    },
    {
     "name": "stdout",
     "output_type": "stream",
     "text": [
      "[{'words': '其'}]\n",
      "unie5e4\n"
     ]
    },
    {
     "name": "stderr",
     "output_type": "stream",
     "text": [
      "\r",
      " 24% (145 of 591) |#####                 | Elapsed Time: 0:11:15 ETA:   0:28:37"
     ]
    },
    {
     "name": "stdout",
     "output_type": "stream",
     "text": [
      "[{'words': '家'}]\n",
      "unie5ef\n"
     ]
    },
    {
     "name": "stderr",
     "output_type": "stream",
     "text": [
      "\r",
      " 24% (146 of 591) |#####                 | Elapsed Time: 0:11:19 ETA:   0:33:03"
     ]
    },
    {
     "name": "stdout",
     "output_type": "stream",
     "text": [
      "[]\n",
      "unie5f4\n"
     ]
    },
    {
     "name": "stderr",
     "output_type": "stream",
     "text": [
      "\r",
      " 24% (147 of 591) |#####                 | Elapsed Time: 0:11:23 ETA:   0:28:32"
     ]
    },
    {
     "name": "stdout",
     "output_type": "stream",
     "text": [
      "[{'words': '实'}]\n",
      "unie5f5\n"
     ]
    },
    {
     "name": "stderr",
     "output_type": "stream",
     "text": [
      "\r",
      " 25% (148 of 591) |#####                 | Elapsed Time: 0:11:28 ETA:   0:40:10"
     ]
    },
    {
     "name": "stdout",
     "output_type": "stream",
     "text": [
      "[{'words': '找'}]\n",
      "unie5fd\n"
     ]
    },
    {
     "name": "stderr",
     "output_type": "stream",
     "text": [
      "\r",
      " 25% (149 of 591) |#####                 | Elapsed Time: 0:11:32 ETA:   0:28:26"
     ]
    },
    {
     "name": "stdout",
     "output_type": "stream",
     "text": [
      "[{'words': '下'}]\n",
      "unie614\n"
     ]
    },
    {
     "name": "stderr",
     "output_type": "stream",
     "text": [
      "\r",
      " 25% (150 of 591) |#####                 | Elapsed Time: 0:11:37 ETA:   0:31:26"
     ]
    },
    {
     "name": "stdout",
     "output_type": "stream",
     "text": [
      "[{'words': '斯'}]\n",
      "unie616\n"
     ]
    },
    {
     "name": "stderr",
     "output_type": "stream",
     "text": [
      "\r",
      " 25% (151 of 591) |#####                 | Elapsed Time: 0:11:41 ETA:   0:33:43"
     ]
    },
    {
     "name": "stdout",
     "output_type": "stream",
     "text": [
      "[{'words': '健'}]\n",
      "unie618\n"
     ]
    },
    {
     "name": "stderr",
     "output_type": "stream",
     "text": [
      "\r",
      " 25% (152 of 591) |#####                 | Elapsed Time: 0:11:46 ETA:   0:32:35"
     ]
    },
    {
     "name": "stdout",
     "output_type": "stream",
     "text": [
      "[]\n",
      "unie62a\n"
     ]
    },
    {
     "name": "stderr",
     "output_type": "stream",
     "text": [
      "\r",
      " 25% (153 of 591) |#####                 | Elapsed Time: 0:11:49 ETA:   0:26:31"
     ]
    },
    {
     "name": "stdout",
     "output_type": "stream",
     "text": [
      "[{'words': '情'}]\n",
      "unie639\n"
     ]
    },
    {
     "name": "stderr",
     "output_type": "stream",
     "text": [
      "\r",
      " 26% (154 of 591) |#####                 | Elapsed Time: 0:11:53 ETA:   0:28:01"
     ]
    },
    {
     "name": "stdout",
     "output_type": "stream",
     "text": [
      "[{'words': '友'}]\n",
      "unie63e\n"
     ]
    },
    {
     "name": "stderr",
     "output_type": "stream",
     "text": [
      "\r",
      " 26% (155 of 591) |#####                 | Elapsed Time: 0:11:59 ETA:   0:44:51"
     ]
    },
    {
     "name": "stdout",
     "output_type": "stream",
     "text": [
      "[{'words': '经'}]\n",
      "unie65a\n"
     ]
    },
    {
     "name": "stderr",
     "output_type": "stream",
     "text": [
      "\r",
      " 26% (156 of 591) |#####                 | Elapsed Time: 0:12:05 ETA:   0:40:41"
     ]
    },
    {
     "name": "stdout",
     "output_type": "stream",
     "text": [
      "[{'words': '街'}]\n",
      "unie660\n"
     ]
    },
    {
     "name": "stderr",
     "output_type": "stream",
     "text": [
      "\r",
      " 26% (157 of 591) |#####                 | Elapsed Time: 0:12:09 ETA:   0:26:04"
     ]
    },
    {
     "name": "stdout",
     "output_type": "stream",
     "text": [
      "[{'words': '宁'}]\n",
      "unie672\n"
     ]
    },
    {
     "name": "stderr",
     "output_type": "stream",
     "text": [
      "\r",
      " 26% (158 of 591) |#####                 | Elapsed Time: 0:12:13 ETA:   0:31:55"
     ]
    },
    {
     "name": "stdout",
     "output_type": "stream",
     "text": [
      "[{'words': '北'}]\n",
      "unie683\n"
     ]
    },
    {
     "name": "stderr",
     "output_type": "stream",
     "text": [
      "\r",
      " 26% (159 of 591) |#####                 | Elapsed Time: 0:12:17 ETA:   0:26:07"
     ]
    },
    {
     "name": "stdout",
     "output_type": "stream",
     "text": [
      "[]\n",
      "unie699\n"
     ]
    },
    {
     "name": "stderr",
     "output_type": "stream",
     "text": [
      "\r",
      " 27% (160 of 591) |#####                 | Elapsed Time: 0:12:20 ETA:   0:27:47"
     ]
    },
    {
     "name": "stdout",
     "output_type": "stream",
     "text": [
      "[{'words': '凯'}]\n",
      "unie6a1\n"
     ]
    },
    {
     "name": "stderr",
     "output_type": "stream",
     "text": [
      "\r",
      " 27% (161 of 591) |#####                 | Elapsed Time: 0:12:24 ETA:   0:27:29"
     ]
    },
    {
     "name": "stdout",
     "output_type": "stream",
     "text": [
      "[]\n",
      "unie6a6\n"
     ]
    },
    {
     "name": "stderr",
     "output_type": "stream",
     "text": [
      "\r",
      " 27% (162 of 591) |######                | Elapsed Time: 0:12:28 ETA:   0:27:32"
     ]
    },
    {
     "name": "stdout",
     "output_type": "stream",
     "text": [
      "[{'words': '弄'}]\n",
      "unie6ab\n"
     ]
    },
    {
     "name": "stderr",
     "output_type": "stream",
     "text": [
      "\r",
      " 27% (163 of 591) |######                | Elapsed Time: 0:12:32 ETA:   0:25:47"
     ]
    },
    {
     "name": "stdout",
     "output_type": "stream",
     "text": [
      "[{'words': '旁'}]\n",
      "unie6af\n"
     ]
    },
    {
     "name": "stderr",
     "output_type": "stream",
     "text": [
      "\r",
      " 27% (164 of 591) |######                | Elapsed Time: 0:12:36 ETA:   0:27:25"
     ]
    },
    {
     "name": "stdout",
     "output_type": "stream",
     "text": [
      "[{'words': '元'}]\n",
      "unie6bb\n"
     ]
    },
    {
     "name": "stderr",
     "output_type": "stream",
     "text": [
      "\r",
      " 27% (165 of 591) |######                | Elapsed Time: 0:12:39 ETA:   0:27:09"
     ]
    },
    {
     "name": "stdout",
     "output_type": "stream",
     "text": [
      "[{'words': '沿'}]\n",
      "unie6be\n"
     ]
    },
    {
     "name": "stderr",
     "output_type": "stream",
     "text": [
      "\r",
      " 28% (166 of 591) |######                | Elapsed Time: 0:12:44 ETA:   0:32:36"
     ]
    },
    {
     "name": "stdout",
     "output_type": "stream",
     "text": [
      "[{'words': '油'}]\n",
      "unie6d4\n"
     ]
    },
    {
     "name": "stderr",
     "output_type": "stream",
     "text": [
      "\r",
      " 28% (167 of 591) |######                | Elapsed Time: 0:12:48 ETA:   0:31:25"
     ]
    },
    {
     "name": "stdout",
     "output_type": "stream",
     "text": [
      "[{'words': '精'}]\n",
      "unie6d6\n"
     ]
    },
    {
     "name": "stderr",
     "output_type": "stream",
     "text": [
      "\r",
      " 28% (168 of 591) |######                | Elapsed Time: 0:12:52 ETA:   0:26:03"
     ]
    },
    {
     "name": "stdout",
     "output_type": "stream",
     "text": [
      "[{'words': '迎'}]\n",
      "unie6d9\n"
     ]
    },
    {
     "name": "stderr",
     "output_type": "stream",
     "text": [
      "\r",
      " 28% (169 of 591) |######                | Elapsed Time: 0:12:56 ETA:   0:28:20"
     ]
    },
    {
     "name": "stdout",
     "output_type": "stream",
     "text": [
      "[{'words': '姐'}]\n",
      "unie6e3\n"
     ]
    },
    {
     "name": "stderr",
     "output_type": "stream",
     "text": [
      "\r",
      " 28% (170 of 591) |######                | Elapsed Time: 0:13:00 ETA:   0:29:41"
     ]
    },
    {
     "name": "stdout",
     "output_type": "stream",
     "text": [
      "[{'words': '特'}]\n",
      "unie6e6\n"
     ]
    },
    {
     "name": "stderr",
     "output_type": "stream",
     "text": [
      "\r",
      " 28% (171 of 591) |######                | Elapsed Time: 0:13:05 ETA:   0:30:44"
     ]
    },
    {
     "name": "stdout",
     "output_type": "stream",
     "text": [
      "[{'words': '错'}]\n",
      "unie6e7\n"
     ]
    },
    {
     "name": "stderr",
     "output_type": "stream",
     "text": [
      "\r",
      " 29% (172 of 591) |######                | Elapsed Time: 0:13:11 ETA:   0:40:22"
     ]
    },
    {
     "name": "stdout",
     "output_type": "stream",
     "text": [
      "[{'words': '你'}]\n",
      "unie6e9\n"
     ]
    },
    {
     "name": "stderr",
     "output_type": "stream",
     "text": [
      "\r",
      " 29% (173 of 591) |######                | Elapsed Time: 0:13:15 ETA:   0:28:04"
     ]
    },
    {
     "name": "stdout",
     "output_type": "stream",
     "text": [
      "[{'words': '盛'}]\n",
      "unie700\n"
     ]
    },
    {
     "name": "stderr",
     "output_type": "stream",
     "text": [
      "\r",
      " 29% (174 of 591) |######                | Elapsed Time: 0:13:20 ETA:   0:34:11"
     ]
    },
    {
     "name": "stdout",
     "output_type": "stream",
     "text": [
      "[{'words': '乡'}]\n",
      "unie70b\n"
     ]
    },
    {
     "name": "stderr",
     "output_type": "stream",
     "text": [
      "\r",
      " 29% (175 of 591) |######                | Elapsed Time: 0:13:27 ETA:   0:51:06"
     ]
    },
    {
     "name": "stdout",
     "output_type": "stream",
     "text": [
      "[{'words': '虾'}]\n",
      "unie711\n"
     ]
    },
    {
     "name": "stderr",
     "output_type": "stream",
     "text": [
      "\r",
      " 29% (176 of 591) |######                | Elapsed Time: 0:13:31 ETA:   0:25:10"
     ]
    },
    {
     "name": "stdout",
     "output_type": "stream",
     "text": [
      "[{'words': '沙'}]\n",
      "unie722\n"
     ]
    },
    {
     "name": "stderr",
     "output_type": "stream",
     "text": [
      "\r",
      " 29% (177 of 591) |######                | Elapsed Time: 0:13:35 ETA:   0:29:22"
     ]
    },
    {
     "name": "stdout",
     "output_type": "stream",
     "text": [
      "[{'words': '酒'}]\n",
      "unie736\n"
     ]
    },
    {
     "name": "stderr",
     "output_type": "stream",
     "text": [
      "\r",
      " 30% (178 of 591) |######                | Elapsed Time: 0:13:40 ETA:   0:34:22"
     ]
    },
    {
     "name": "stdout",
     "output_type": "stream",
     "text": [
      "[{'words': '片'}]\n",
      "unie738\n"
     ]
    },
    {
     "name": "stderr",
     "output_type": "stream",
     "text": [
      "\r",
      " 30% (179 of 591) |######                | Elapsed Time: 0:13:44 ETA:   0:31:24"
     ]
    },
    {
     "name": "stdout",
     "output_type": "stream",
     "text": [
      "[{'words': '动'}]\n",
      "unie756\n"
     ]
    },
    {
     "name": "stderr",
     "output_type": "stream",
     "text": [
      "\r",
      " 30% (180 of 591) |######                | Elapsed Time: 0:13:49 ETA:   0:29:08"
     ]
    },
    {
     "name": "stdout",
     "output_type": "stream",
     "text": [
      "[{'words': '珠朱'}]\n",
      "unie763\n"
     ]
    },
    {
     "name": "stderr",
     "output_type": "stream",
     "text": [
      "\r",
      " 30% (181 of 591) |######                | Elapsed Time: 0:13:54 ETA:   0:33:23"
     ]
    },
    {
     "name": "stdout",
     "output_type": "stream",
     "text": [
      "[{'words': '哈'}]\n",
      "unie76b\n"
     ]
    },
    {
     "name": "stderr",
     "output_type": "stream",
     "text": [
      "\r",
      " 30% (182 of 591) |######                | Elapsed Time: 0:13:57 ETA:   0:26:00"
     ]
    },
    {
     "name": "stdout",
     "output_type": "stream",
     "text": [
      "[{'words': '吧'}]\n",
      "unie76e\n"
     ]
    },
    {
     "name": "stderr",
     "output_type": "stream",
     "text": [
      "\r",
      " 30% (183 of 591) |######                | Elapsed Time: 0:14:02 ETA:   0:28:40"
     ]
    },
    {
     "name": "stdout",
     "output_type": "stream",
     "text": [
      "[{'words': '子'}]\n",
      "unie77a\n"
     ]
    },
    {
     "name": "stderr",
     "output_type": "stream",
     "text": [
      "\r",
      " 31% (184 of 591) |######                | Elapsed Time: 0:14:07 ETA:   0:37:08"
     ]
    },
    {
     "name": "stdout",
     "output_type": "stream",
     "text": [
      "[]\n",
      "unie788\n"
     ]
    },
    {
     "name": "stderr",
     "output_type": "stream",
     "text": [
      "\r",
      " 31% (185 of 591) |######                | Elapsed Time: 0:14:11 ETA:   0:27:34"
     ]
    },
    {
     "name": "stdout",
     "output_type": "stream",
     "text": [
      "[{'words': '兴'}]\n",
      "unie7b3\n"
     ]
    },
    {
     "name": "stderr",
     "output_type": "stream",
     "text": [
      "\r",
      " 31% (186 of 591) |######                | Elapsed Time: 0:14:15 ETA:   0:24:40"
     ]
    },
    {
     "name": "stdout",
     "output_type": "stream",
     "text": [
      "[{'words': '白'}]\n",
      "unie7bc\n"
     ]
    },
    {
     "name": "stderr",
     "output_type": "stream",
     "text": [
      "\r",
      " 31% (187 of 591) |######                | Elapsed Time: 0:14:19 ETA:   0:30:19"
     ]
    },
    {
     "name": "stdout",
     "output_type": "stream",
     "text": [
      "[{'words': '平'}]\n",
      "unie7c6\n"
     ]
    },
    {
     "name": "stderr",
     "output_type": "stream",
     "text": [
      "\r",
      " 31% (188 of 591) |######                | Elapsed Time: 0:14:25 ETA:   0:38:52"
     ]
    },
    {
     "name": "stdout",
     "output_type": "stream",
     "text": [
      "[{'words': '局'}]\n",
      "unie7cd\n"
     ]
    },
    {
     "name": "stderr",
     "output_type": "stream",
     "text": [
      "\r",
      " 31% (189 of 591) |#######               | Elapsed Time: 0:14:31 ETA:   0:37:54"
     ]
    },
    {
     "name": "stdout",
     "output_type": "stream",
     "text": [
      "[{'words': '寓'}]\n",
      "unie7d4\n"
     ]
    },
    {
     "name": "stderr",
     "output_type": "stream",
     "text": [
      "\r",
      " 32% (190 of 591) |#######               | Elapsed Time: 0:14:35 ETA:   0:26:56"
     ]
    },
    {
     "name": "stdout",
     "output_type": "stream",
     "text": [
      "[{'words': '进'}]\n",
      "unie7d5\n"
     ]
    },
    {
     "name": "stderr",
     "output_type": "stream",
     "text": [
      "\r",
      " 32% (191 of 591) |#######               | Elapsed Time: 0:14:40 ETA:   0:31:56"
     ]
    },
    {
     "name": "stdout",
     "output_type": "stream",
     "text": [
      "[{'words': '国'}]\n",
      "unie7d8\n"
     ]
    },
    {
     "name": "stderr",
     "output_type": "stream",
     "text": [
      "\r",
      " 32% (192 of 591) |#######               | Elapsed Time: 0:14:44 ETA:   0:27:11"
     ]
    },
    {
     "name": "stdout",
     "output_type": "stream",
     "text": [
      "[{'words': '坊'}]\n",
      "unie7e4\n"
     ]
    },
    {
     "name": "stderr",
     "output_type": "stream",
     "text": [
      "\r",
      " 32% (193 of 591) |#######               | Elapsed Time: 0:14:48 ETA:   0:27:01"
     ]
    },
    {
     "name": "stdout",
     "output_type": "stream",
     "text": [
      "[{'words': '型'}]\n",
      "unie7eb\n"
     ]
    },
    {
     "name": "stderr",
     "output_type": "stream",
     "text": [
      "\r",
      " 32% (194 of 591) |#######               | Elapsed Time: 0:14:51 ETA:   0:23:59"
     ]
    },
    {
     "name": "stdout",
     "output_type": "stream",
     "text": [
      "[{'words': '底'}]\n",
      "unie7ed\n"
     ]
    },
    {
     "name": "stderr",
     "output_type": "stream",
     "text": [
      "\r",
      " 32% (195 of 591) |#######               | Elapsed Time: 0:14:55 ETA:   0:25:20"
     ]
    },
    {
     "name": "stdout",
     "output_type": "stream",
     "text": [
      "[{'words': '差'}]\n",
      "unie7f2\n"
     ]
    },
    {
     "name": "stderr",
     "output_type": "stream",
     "text": [
      "\r",
      " 33% (196 of 591) |#######               | Elapsed Time: 0:15:02 ETA:   0:44:35"
     ]
    },
    {
     "name": "stdout",
     "output_type": "stream",
     "text": [
      "[{'words': '工'}]\n",
      "unie811\n"
     ]
    },
    {
     "name": "stderr",
     "output_type": "stream",
     "text": [
      "\r",
      " 33% (197 of 591) |#######               | Elapsed Time: 0:15:06 ETA:   0:25:20"
     ]
    },
    {
     "name": "stdout",
     "output_type": "stream",
     "text": [
      "[{'words': '更'}]\n",
      "unie81e\n"
     ]
    },
    {
     "name": "stderr",
     "output_type": "stream",
     "text": [
      "\r",
      " 33% (198 of 591) |#######               | Elapsed Time: 0:15:10 ETA:   0:25:14"
     ]
    },
    {
     "name": "stdout",
     "output_type": "stream",
     "text": [
      "[{'words': '钢'}]\n",
      "unie821\n"
     ]
    },
    {
     "name": "stderr",
     "output_type": "stream",
     "text": [
      "\r",
      " 33% (199 of 591) |#######               | Elapsed Time: 0:15:14 ETA:   0:26:03"
     ]
    },
    {
     "name": "stdout",
     "output_type": "stream",
     "text": [
      "[{'words': '限'}]\n",
      "unie823\n"
     ]
    },
    {
     "name": "stderr",
     "output_type": "stream",
     "text": [
      "\r",
      " 33% (200 of 591) |#######               | Elapsed Time: 0:15:18 ETA:   0:26:29"
     ]
    },
    {
     "name": "stdout",
     "output_type": "stream",
     "text": [
      "[{'words': '不'}]\n",
      "unie828\n"
     ]
    },
    {
     "name": "stderr",
     "output_type": "stream",
     "text": [
      "\r",
      " 34% (201 of 591) |#######               | Elapsed Time: 0:15:21 ETA:   0:23:27"
     ]
    },
    {
     "name": "stdout",
     "output_type": "stream",
     "text": [
      "[{'words': '超'}]\n",
      "unie82f\n"
     ]
    },
    {
     "name": "stderr",
     "output_type": "stream",
     "text": [
      "\r",
      " 34% (202 of 591) |#######               | Elapsed Time: 0:15:25 ETA:   0:24:56"
     ]
    },
    {
     "name": "stdout",
     "output_type": "stream",
     "text": [
      "[{'words': '女'}]\n",
      "unie836\n"
     ]
    },
    {
     "name": "stderr",
     "output_type": "stream",
     "text": [
      "\r",
      " 34% (203 of 591) |#######               | Elapsed Time: 0:15:29 ETA:   0:26:05"
     ]
    },
    {
     "name": "stdout",
     "output_type": "stream",
     "text": [
      "[{'words': '容'}]\n",
      "unie84e\n"
     ]
    },
    {
     "name": "stderr",
     "output_type": "stream",
     "text": [
      "\r",
      " 34% (204 of 591) |#######               | Elapsed Time: 0:15:34 ETA:   0:32:07"
     ]
    },
    {
     "name": "stdout",
     "output_type": "stream",
     "text": [
      "[{'words': '教'}]\n",
      "unie850\n"
     ]
    },
    {
     "name": "stderr",
     "output_type": "stream",
     "text": [
      "\r",
      " 34% (205 of 591) |#######               | Elapsed Time: 0:15:41 ETA:   0:43:27"
     ]
    },
    {
     "name": "stdout",
     "output_type": "stream",
     "text": [
      "[{'words': '第'}]\n",
      "unie85a\n"
     ]
    },
    {
     "name": "stderr",
     "output_type": "stream",
     "text": [
      "\r",
      " 34% (206 of 591) |#######               | Elapsed Time: 0:15:48 ETA:   0:42:58"
     ]
    },
    {
     "name": "stdout",
     "output_type": "stream",
     "text": [
      "[{'words': '对'}]\n",
      "unie864\n"
     ]
    },
    {
     "name": "stderr",
     "output_type": "stream",
     "text": [
      "\r",
      " 35% (207 of 591) |#######               | Elapsed Time: 0:15:53 ETA:   0:32:53"
     ]
    },
    {
     "name": "stdout",
     "output_type": "stream",
     "text": [
      "[{'words': '港'}]\n",
      "unie865\n"
     ]
    },
    {
     "name": "stderr",
     "output_type": "stream",
     "text": [
      "\r",
      " 35% (208 of 591) |#######               | Elapsed Time: 0:15:57 ETA:   0:28:05"
     ]
    },
    {
     "name": "stdout",
     "output_type": "stream",
     "text": [
      "[{'words': '只'}]\n",
      "unie86a\n"
     ]
    },
    {
     "name": "stderr",
     "output_type": "stream",
     "text": [
      "\r",
      " 35% (209 of 591) |#######               | Elapsed Time: 0:16:01 ETA:   0:25:34"
     ]
    },
    {
     "name": "stdout",
     "output_type": "stream",
     "text": [
      "[{'words': '年'}]\n",
      "unie871\n"
     ]
    },
    {
     "name": "stderr",
     "output_type": "stream",
     "text": [
      "\r",
      " 35% (210 of 591) |#######               | Elapsed Time: 0:16:06 ETA:   0:31:51"
     ]
    },
    {
     "name": "stdout",
     "output_type": "stream",
     "text": [
      "[{'words': '区'}]\n",
      "unie876\n"
     ]
    },
    {
     "name": "stderr",
     "output_type": "stream",
     "text": [
      "\r",
      " 35% (211 of 591) |#######               | Elapsed Time: 0:16:10 ETA:   0:25:15"
     ]
    },
    {
     "name": "stdout",
     "output_type": "stream",
     "text": [
      "[{'words': '市'}]\n",
      "unie877\n"
     ]
    },
    {
     "name": "stderr",
     "output_type": "stream",
     "text": [
      "\r",
      " 35% (212 of 591) |#######               | Elapsed Time: 0:16:14 ETA:   0:25:25"
     ]
    },
    {
     "name": "stdout",
     "output_type": "stream",
     "text": [
      "[{'words': '生'}]\n",
      "unie881\n"
     ]
    },
    {
     "name": "stderr",
     "output_type": "stream",
     "text": [
      "\r",
      " 36% (213 of 591) |#######               | Elapsed Time: 0:16:19 ETA:   0:27:16"
     ]
    },
    {
     "name": "stdout",
     "output_type": "stream",
     "text": [
      "[{'words': '让'}]\n",
      "unie8a1\n"
     ]
    },
    {
     "name": "stderr",
     "output_type": "stream",
     "text": [
      "\r",
      " 36% (214 of 591) |#######               | Elapsed Time: 0:16:24 ETA:   0:32:18"
     ]
    },
    {
     "name": "stdout",
     "output_type": "stream",
     "text": [
      "[{'words': '喝'}]\n",
      "unie8a5\n"
     ]
    },
    {
     "name": "stderr",
     "output_type": "stream",
     "text": [
      "\r",
      " 36% (215 of 591) |########              | Elapsed Time: 0:16:27 ETA:   0:23:47"
     ]
    },
    {
     "name": "stdout",
     "output_type": "stream",
     "text": [
      "[{'words': '拉'}]\n",
      "unie8ab\n"
     ]
    },
    {
     "name": "stderr",
     "output_type": "stream",
     "text": [
      "\r",
      " 36% (216 of 591) |########              | Elapsed Time: 0:16:31 ETA:   0:23:49"
     ]
    },
    {
     "name": "stdout",
     "output_type": "stream",
     "text": [
      "[{'words': '重'}]\n",
      "unie8b0\n"
     ]
    },
    {
     "name": "stderr",
     "output_type": "stream",
     "text": [
      "\r",
      " 36% (217 of 591) |########              | Elapsed Time: 0:16:35 ETA:   0:22:28"
     ]
    },
    {
     "name": "stdout",
     "output_type": "stream",
     "text": [
      "[{'words': '卫'}]\n",
      "unie8bb\n"
     ]
    },
    {
     "name": "stderr",
     "output_type": "stream",
     "text": [
      "\r",
      " 36% (218 of 591) |########              | Elapsed Time: 0:16:39 ETA:   0:27:08"
     ]
    },
    {
     "name": "stdout",
     "output_type": "stream",
     "text": [
      "[{'words': '作'}]\n",
      "unie8d9\n"
     ]
    },
    {
     "name": "stderr",
     "output_type": "stream",
     "text": [
      "\r",
      " 37% (219 of 591) |########              | Elapsed Time: 0:16:43 ETA:   0:22:20"
     ]
    },
    {
     "name": "stdout",
     "output_type": "stream",
     "text": [
      "[{'words': '服'}]\n",
      "unie8de\n"
     ]
    },
    {
     "name": "stderr",
     "output_type": "stream",
     "text": [
      "\r",
      " 37% (220 of 591) |########              | Elapsed Time: 0:16:47 ETA:   0:25:01"
     ]
    },
    {
     "name": "stdout",
     "output_type": "stream",
     "text": [
      "[{'words': '起'}]\n",
      "unie8f0\n"
     ]
    },
    {
     "name": "stderr",
     "output_type": "stream",
     "text": [
      "\r",
      " 37% (221 of 591) |########              | Elapsed Time: 0:16:51 ETA:   0:22:15"
     ]
    },
    {
     "name": "stdout",
     "output_type": "stream",
     "text": [
      "[{'words': '色'}]\n",
      "unie8f5\n"
     ]
    },
    {
     "name": "stderr",
     "output_type": "stream",
     "text": [
      "\r",
      " 37% (222 of 591) |########              | Elapsed Time: 0:16:54 ETA:   0:23:19"
     ]
    },
    {
     "name": "stdout",
     "output_type": "stream",
     "text": [
      "[{'words': '种'}]\n",
      "unie8f8\n"
     ]
    },
    {
     "name": "stderr",
     "output_type": "stream",
     "text": [
      "\r",
      " 37% (223 of 591) |########              | Elapsed Time: 0:17:03 ETA:   0:55:25"
     ]
    },
    {
     "name": "stdout",
     "output_type": "stream",
     "text": [
      "[{'words': '边'}]\n",
      "unie907\n"
     ]
    },
    {
     "name": "stderr",
     "output_type": "stream",
     "text": [
      "\r",
      " 37% (224 of 591) |########              | Elapsed Time: 0:17:11 ETA:   0:46:43"
     ]
    },
    {
     "name": "stdout",
     "output_type": "stream",
     "text": [
      "[{'words': '星'}]\n",
      "unie90d\n"
     ]
    },
    {
     "name": "stderr",
     "output_type": "stream",
     "text": [
      "\r",
      " 38% (225 of 591) |########              | Elapsed Time: 0:17:16 ETA:   0:27:54"
     ]
    },
    {
     "name": "stdout",
     "output_type": "stream",
     "text": [
      "[{'words': '推'}]\n",
      "unie90f\n"
     ]
    },
    {
     "name": "stderr",
     "output_type": "stream",
     "text": [
      "\r",
      " 38% (226 of 591) |########              | Elapsed Time: 0:17:19 ETA:   0:21:54"
     ]
    },
    {
     "name": "stdout",
     "output_type": "stream",
     "text": [
      "[{'words': '快'}]\n",
      "unie915\n"
     ]
    },
    {
     "name": "stderr",
     "output_type": "stream",
     "text": [
      "\r",
      " 38% (227 of 591) |########              | Elapsed Time: 0:17:23 ETA:   0:21:44"
     ]
    },
    {
     "name": "stdout",
     "output_type": "stream",
     "text": [
      "[{'words': '合'}]\n",
      "unie917\n"
     ]
    },
    {
     "name": "stderr",
     "output_type": "stream",
     "text": [
      "\r",
      " 38% (228 of 591) |########              | Elapsed Time: 0:17:27 ETA:   0:24:04"
     ]
    },
    {
     "name": "stdout",
     "output_type": "stream",
     "text": [
      "[{'words': '尝'}]\n",
      "unie91d\n"
     ]
    },
    {
     "name": "stderr",
     "output_type": "stream",
     "text": [
      "\r",
      " 38% (229 of 591) |########              | Elapsed Time: 0:17:31 ETA:   0:23:15"
     ]
    },
    {
     "name": "stdout",
     "output_type": "stream",
     "text": [
      "[{'words': '地'}]\n",
      "unie922\n"
     ]
    },
    {
     "name": "stderr",
     "output_type": "stream",
     "text": [
      "\r",
      " 38% (230 of 591) |########              | Elapsed Time: 0:17:37 ETA:   0:37:58"
     ]
    },
    {
     "name": "stdout",
     "output_type": "stream",
     "text": [
      "[{'words': '丁'}]\n",
      "unie92b\n"
     ]
    },
    {
     "name": "stderr",
     "output_type": "stream",
     "text": [
      "\r",
      " 39% (231 of 591) |########              | Elapsed Time: 0:17:42 ETA:   0:29:10"
     ]
    },
    {
     "name": "stdout",
     "output_type": "stream",
     "text": [
      "[{'words': '值'}]\n",
      "unie92c\n"
     ]
    },
    {
     "name": "stderr",
     "output_type": "stream",
     "text": [
      "\r",
      " 39% (232 of 591) |########              | Elapsed Time: 0:17:46 ETA:   0:26:06"
     ]
    },
    {
     "name": "stdout",
     "output_type": "stream",
     "text": [
      "[{'words': '甲'}]\n",
      "unie931\n"
     ]
    },
    {
     "name": "stderr",
     "output_type": "stream",
     "text": [
      "\r",
      " 39% (233 of 591) |########              | Elapsed Time: 0:17:50 ETA:   0:23:52"
     ]
    },
    {
     "name": "stdout",
     "output_type": "stream",
     "text": [
      "[{'words': '日'}]\n",
      "unie93b\n"
     ]
    },
    {
     "name": "stderr",
     "output_type": "stream",
     "text": [
      "\r",
      " 39% (234 of 591) |########              | Elapsed Time: 0:17:54 ETA:   0:23:39"
     ]
    },
    {
     "name": "stdout",
     "output_type": "stream",
     "text": [
      "[{'words': '修'}]\n",
      "unie946\n"
     ]
    },
    {
     "name": "stderr",
     "output_type": "stream",
     "text": [
      "\r",
      " 39% (235 of 591) |########              | Elapsed Time: 0:17:58 ETA:   0:22:24"
     ]
    },
    {
     "name": "stdout",
     "output_type": "stream",
     "text": [
      "[{'words': '商'}]\n",
      "unie962\n"
     ]
    },
    {
     "name": "stderr",
     "output_type": "stream",
     "text": [
      "\r",
      " 39% (236 of 591) |########              | Elapsed Time: 0:18:03 ETA:   0:28:36"
     ]
    },
    {
     "name": "stdout",
     "output_type": "stream",
     "text": [
      "[{'words': '后'}]\n",
      "unie966\n"
     ]
    },
    {
     "name": "stderr",
     "output_type": "stream",
     "text": [
      "\r",
      " 40% (237 of 591) |########              | Elapsed Time: 0:18:07 ETA:   0:23:54"
     ]
    },
    {
     "name": "stdout",
     "output_type": "stream",
     "text": [
      "[{'words': '于'}]\n",
      "unie976\n"
     ]
    },
    {
     "name": "stderr",
     "output_type": "stream",
     "text": [
      "\r",
      " 40% (238 of 591) |########              | Elapsed Time: 0:18:12 ETA:   0:31:59"
     ]
    },
    {
     "name": "stdout",
     "output_type": "stream",
     "text": [
      "[{'words': '社'}]\n",
      "unie977\n"
     ]
    },
    {
     "name": "stderr",
     "output_type": "stream",
     "text": [
      "\r",
      " 40% (239 of 591) |########              | Elapsed Time: 0:18:18 ETA:   0:35:51"
     ]
    },
    {
     "name": "stdout",
     "output_type": "stream",
     "text": [
      "[{'words': '大'}]\n",
      "unie980\n"
     ]
    },
    {
     "name": "stderr",
     "output_type": "stream",
     "text": [
      "\r",
      " 40% (240 of 591) |########              | Elapsed Time: 0:18:23 ETA:   0:27:05"
     ]
    },
    {
     "name": "stdout",
     "output_type": "stream",
     "text": [
      "[{'words': '具'}]\n",
      "unie988\n"
     ]
    },
    {
     "name": "stderr",
     "output_type": "stream",
     "text": [
      "\r",
      " 40% (241 of 591) |########              | Elapsed Time: 0:18:27 ETA:   0:23:47"
     ]
    },
    {
     "name": "stdout",
     "output_type": "stream",
     "text": [
      "[{'words': '双'}]\n",
      "unie989\n"
     ]
    },
    {
     "name": "stderr",
     "output_type": "stream",
     "text": [
      "\r",
      " 40% (242 of 591) |#########             | Elapsed Time: 0:18:31 ETA:   0:20:48"
     ]
    },
    {
     "name": "stdout",
     "output_type": "stream",
     "text": [
      "[{'words': '是'}]\n",
      "unie98a\n"
     ]
    },
    {
     "name": "stderr",
     "output_type": "stream",
     "text": [
      "\r",
      " 41% (243 of 591) |#########             | Elapsed Time: 0:18:36 ETA:   0:28:37"
     ]
    },
    {
     "name": "stdout",
     "output_type": "stream",
     "text": [
      "[{'words': '午'}]\n",
      "unie9a1\n"
     ]
    },
    {
     "name": "stderr",
     "output_type": "stream",
     "text": [
      "\r",
      " 41% (244 of 591) |#########             | Elapsed Time: 0:18:39 ETA:   0:22:09"
     ]
    },
    {
     "name": "stdout",
     "output_type": "stream",
     "text": [
      "[{'words': '适'}]\n",
      "unie9b1\n"
     ]
    },
    {
     "name": "stderr",
     "output_type": "stream",
     "text": [
      "\r",
      " 41% (245 of 591) |#########             | Elapsed Time: 0:18:44 ETA:   0:29:24"
     ]
    },
    {
     "name": "stdout",
     "output_type": "stream",
     "text": [
      "[{'words': '牌'}]\n",
      "unie9bc\n"
     ]
    },
    {
     "name": "stderr",
     "output_type": "stream",
     "text": [
      "\r",
      " 41% (246 of 591) |#########             | Elapsed Time: 0:18:48 ETA:   0:21:49"
     ]
    },
    {
     "name": "stdout",
     "output_type": "stream",
     "text": [
      "[{'words': '拍'}]\n",
      "unie9d0\n"
     ]
    },
    {
     "name": "stderr",
     "output_type": "stream",
     "text": [
      "\r",
      " 41% (247 of 591) |#########             | Elapsed Time: 0:18:53 ETA:   0:25:07"
     ]
    },
    {
     "name": "stdout",
     "output_type": "stream",
     "text": [
      "[{'words': '还'}]\n",
      "unie9d3\n"
     ]
    },
    {
     "name": "stderr",
     "output_type": "stream",
     "text": [
      "\r",
      " 41% (248 of 591) |#########             | Elapsed Time: 0:18:56 ETA:   0:21:44"
     ]
    },
    {
     "name": "stdout",
     "output_type": "stream",
     "text": [
      "[{'words': '话'}]\n",
      "unie9e7\n"
     ]
    },
    {
     "name": "stderr",
     "output_type": "stream",
     "text": [
      "\r",
      " 42% (249 of 591) |#########             | Elapsed Time: 0:19:00 ETA:   0:20:55"
     ]
    },
    {
     "name": "stdout",
     "output_type": "stream",
     "text": [
      "[{'words': '海'}]\n",
      "unie9f3\n"
     ]
    },
    {
     "name": "stderr",
     "output_type": "stream",
     "text": [
      "\r",
      " 42% (250 of 591) |#########             | Elapsed Time: 0:19:04 ETA:   0:21:30"
     ]
    },
    {
     "name": "stdout",
     "output_type": "stream",
     "text": [
      "[{'words': '存'}]\n",
      "uniea01\n"
     ]
    },
    {
     "name": "stderr",
     "output_type": "stream",
     "text": [
      "\r",
      " 42% (251 of 591) |#########             | Elapsed Time: 0:19:07 ETA:   0:20:14"
     ]
    },
    {
     "name": "stdout",
     "output_type": "stream",
     "text": [
      "[{'words': '微'}]\n",
      "uniea19\n"
     ]
    },
    {
     "name": "stderr",
     "output_type": "stream",
     "text": [
      "\r",
      " 42% (252 of 591) |#########             | Elapsed Time: 0:19:13 ETA:   0:29:49"
     ]
    },
    {
     "name": "stdout",
     "output_type": "stream",
     "text": [
      "[{'words': '宏'}]\n",
      "uniea28\n"
     ]
    },
    {
     "name": "stderr",
     "output_type": "stream",
     "text": [
      "\r",
      " 42% (253 of 591) |#########             | Elapsed Time: 0:19:17 ETA:   0:24:52"
     ]
    },
    {
     "name": "stdout",
     "output_type": "stream",
     "text": [
      "[{'words': '天'}]\n",
      "uniea34\n"
     ]
    },
    {
     "name": "stderr",
     "output_type": "stream",
     "text": [
      "\r",
      " 42% (254 of 591) |#########             | Elapsed Time: 0:19:21 ETA:   0:20:19"
     ]
    },
    {
     "name": "stdout",
     "output_type": "stream",
     "text": [
      "[{'words': '春'}]\n",
      "uniea36\n"
     ]
    },
    {
     "name": "stderr",
     "output_type": "stream",
     "text": [
      "\r",
      " 43% (255 of 591) |#########             | Elapsed Time: 0:19:25 ETA:   0:21:22"
     ]
    },
    {
     "name": "stdout",
     "output_type": "stream",
     "text": [
      "[{'words': '么'}]\n",
      "uniea50\n"
     ]
    },
    {
     "name": "stderr",
     "output_type": "stream",
     "text": [
      "\r",
      " 43% (256 of 591) |#########             | Elapsed Time: 0:19:28 ETA:   0:20:34"
     ]
    },
    {
     "name": "stdout",
     "output_type": "stream",
     "text": [
      "[{'words': '会'}]\n",
      "uniea54\n"
     ]
    },
    {
     "name": "stderr",
     "output_type": "stream",
     "text": [
      "\r",
      " 43% (257 of 591) |#########             | Elapsed Time: 0:19:34 ETA:   0:30:12"
     ]
    },
    {
     "name": "stdout",
     "output_type": "stream",
     "text": [
      "[{'words': '七'}]\n",
      "uniea63\n"
     ]
    },
    {
     "name": "stderr",
     "output_type": "stream",
     "text": [
      "\r",
      " 43% (258 of 591) |#########             | Elapsed Time: 0:19:37 ETA:   0:19:54"
     ]
    },
    {
     "name": "stdout",
     "output_type": "stream",
     "text": [
      "[{'words': '纪'}]\n",
      "uniea69\n"
     ]
    },
    {
     "name": "stderr",
     "output_type": "stream",
     "text": [
      "\r",
      " 43% (259 of 591) |#########             | Elapsed Time: 0:19:41 ETA:   0:21:13"
     ]
    },
    {
     "name": "stdout",
     "output_type": "stream",
     "text": [
      "[{'words': '城'}]\n",
      "uniea6c\n"
     ]
    },
    {
     "name": "stderr",
     "output_type": "stream",
     "text": [
      "\r",
      " 43% (260 of 591) |#########             | Elapsed Time: 0:19:46 ETA:   0:24:48"
     ]
    },
    {
     "name": "stdout",
     "output_type": "stream",
     "text": [
      "[{'words': '美'}]\n",
      "uniea75\n"
     ]
    },
    {
     "name": "stderr",
     "output_type": "stream",
     "text": [
      "\r",
      " 44% (261 of 591) |#########             | Elapsed Time: 0:19:49 ETA:   0:20:00"
     ]
    },
    {
     "name": "stdout",
     "output_type": "stream",
     "text": [
      "[]\n",
      "uniea77\n"
     ]
    },
    {
     "name": "stderr",
     "output_type": "stream",
     "text": [
      "\r",
      " 44% (262 of 591) |#########             | Elapsed Time: 0:19:54 ETA:   0:23:17"
     ]
    },
    {
     "name": "stdout",
     "output_type": "stream",
     "text": [
      "[{'words': '境'}]\n",
      "uniea80\n"
     ]
    },
    {
     "name": "stderr",
     "output_type": "stream",
     "text": [
      "\r",
      " 44% (263 of 591) |#########             | Elapsed Time: 0:19:58 ETA:   0:24:36"
     ]
    },
    {
     "name": "stdout",
     "output_type": "stream",
     "text": [
      "[{'words': '点'}]\n",
      "uniea86\n"
     ]
    },
    {
     "name": "stderr",
     "output_type": "stream",
     "text": [
      "\r",
      " 44% (264 of 591) |#########             | Elapsed Time: 0:20:02 ETA:   0:23:25"
     ]
    },
    {
     "name": "stdout",
     "output_type": "stream",
     "text": [
      "[{'words': '货'}]\n",
      "uniea8e\n"
     ]
    },
    {
     "name": "stderr",
     "output_type": "stream",
     "text": [
      "\r",
      " 44% (265 of 591) |#########             | Elapsed Time: 0:20:06 ETA:   0:22:26"
     ]
    },
    {
     "name": "stdout",
     "output_type": "stream",
     "text": [
      "[]\n",
      "uniea9a\n"
     ]
    },
    {
     "name": "stderr",
     "output_type": "stream",
     "text": [
      "\r",
      " 45% (266 of 591) |#########             | Elapsed Time: 0:20:10 ETA:   0:20:36"
     ]
    },
    {
     "name": "stdout",
     "output_type": "stream",
     "text": [
      "[{'words': '洗'}]\n",
      "unieaa0\n"
     ]
    },
    {
     "name": "stderr",
     "output_type": "stream",
     "text": [
      "\r",
      " 45% (267 of 591) |#########             | Elapsed Time: 0:20:15 ETA:   0:23:00"
     ]
    },
    {
     "name": "stdout",
     "output_type": "stream",
     "text": [
      "[{'words': '刚'}]\n",
      "unieaa1\n"
     ]
    },
    {
     "name": "stderr",
     "output_type": "stream",
     "text": [
      "\r",
      " 45% (268 of 591) |#########             | Elapsed Time: 0:20:19 ETA:   0:24:00"
     ]
    },
    {
     "name": "stdout",
     "output_type": "stream",
     "text": [
      "[]\n",
      "unieab1\n"
     ]
    },
    {
     "name": "stderr",
     "output_type": "stream",
     "text": [
      "\r",
      " 45% (269 of 591) |##########            | Elapsed Time: 0:20:23 ETA:   0:19:16"
     ]
    },
    {
     "name": "stdout",
     "output_type": "stream",
     "text": [
      "[{'words': '的'}]\n",
      "unieab9\n"
     ]
    },
    {
     "name": "stderr",
     "output_type": "stream",
     "text": [
      "\r",
      " 45% (270 of 591) |##########            | Elapsed Time: 0:20:28 ETA:   0:27:29"
     ]
    },
    {
     "name": "stdout",
     "output_type": "stream",
     "text": [
      "[{'words': '食'}]\n",
      "unieac3\n"
     ]
    },
    {
     "name": "stderr",
     "output_type": "stream",
     "text": [
      "\r",
      " 45% (271 of 591) |##########            | Elapsed Time: 0:20:33 ETA:   0:26:03"
     ]
    },
    {
     "name": "stdout",
     "output_type": "stream",
     "text": [
      "[{'words': '育'}]\n",
      "unieac5\n"
     ]
    },
    {
     "name": "stderr",
     "output_type": "stream",
     "text": [
      "\r",
      " 46% (272 of 591) |##########            | Elapsed Time: 0:20:37 ETA:   0:25:06"
     ]
    },
    {
     "name": "stdout",
     "output_type": "stream",
     "text": [
      "[{'words': '养'}]\n",
      "unieac8\n"
     ]
    },
    {
     "name": "stderr",
     "output_type": "stream",
     "text": [
      "\r",
      " 46% (273 of 591) |##########            | Elapsed Time: 0:20:42 ETA:   0:24:34"
     ]
    },
    {
     "name": "stdout",
     "output_type": "stream",
     "text": [
      "[{'words': '艺'}]\n",
      "unieacd\n"
     ]
    },
    {
     "name": "stderr",
     "output_type": "stream",
     "text": [
      "\r",
      " 46% (274 of 591) |##########            | Elapsed Time: 0:20:47 ETA:   0:25:19"
     ]
    },
    {
     "name": "stdout",
     "output_type": "stream",
     "text": [
      "[{'words': '乐'}]\n",
      "unieace\n"
     ]
    },
    {
     "name": "stderr",
     "output_type": "stream",
     "text": [
      "\r",
      " 46% (275 of 591) |##########            | Elapsed Time: 0:20:52 ETA:   0:25:42"
     ]
    },
    {
     "name": "stdout",
     "output_type": "stream",
     "text": [
      "[{'words': '万'}]\n",
      "unieae2\n"
     ]
    },
    {
     "name": "stderr",
     "output_type": "stream",
     "text": [
      "\r",
      " 46% (276 of 591) |##########            | Elapsed Time: 0:21:00 ETA:   0:45:39"
     ]
    },
    {
     "name": "stdout",
     "output_type": "stream",
     "text": [
      "[{'words': '算'}]\n",
      "unieae8\n"
     ]
    },
    {
     "name": "stderr",
     "output_type": "stream",
     "text": [
      "\r",
      " 46% (277 of 591) |##########            | Elapsed Time: 0:21:12 ETA:   0:59:46"
     ]
    },
    {
     "name": "stdout",
     "output_type": "stream",
     "text": [
      "[{'words': '和'}]\n",
      "unieaee\n"
     ]
    },
    {
     "name": "stderr",
     "output_type": "stream",
     "text": [
      "\r",
      " 47% (278 of 591) |##########            | Elapsed Time: 0:21:17 ETA:   0:27:52"
     ]
    },
    {
     "name": "stdout",
     "output_type": "stream",
     "text": [
      "[{'words': '感'}]\n",
      "unieaf4\n"
     ]
    },
    {
     "name": "stderr",
     "output_type": "stream",
     "text": [
      "\r",
      " 47% (279 of 591) |##########            | Elapsed Time: 0:21:21 ETA:   0:20:56"
     ]
    },
    {
     "name": "stdout",
     "output_type": "stream",
     "text": [
      "[{'words': '幢'}]\n",
      "unieaf8\n"
     ]
    },
    {
     "name": "stderr",
     "output_type": "stream",
     "text": [
      "\r",
      " 47% (280 of 591) |##########            | Elapsed Time: 0:21:26 ETA:   0:23:54"
     ]
    },
    {
     "name": "stdout",
     "output_type": "stream",
     "text": [
      "[{'words': '要'}]\n",
      "unieb0a\n"
     ]
    },
    {
     "name": "stderr",
     "output_type": "stream",
     "text": [
      "\r",
      " 47% (281 of 591) |##########            | Elapsed Time: 0:21:29 ETA:   0:19:30"
     ]
    },
    {
     "name": "stdout",
     "output_type": "stream",
     "text": [
      "[{'words': '得'}]\n",
      "unieb2e\n"
     ]
    },
    {
     "name": "stderr",
     "output_type": "stream",
     "text": [
      "\r",
      " 47% (282 of 591) |##########            | Elapsed Time: 0:21:35 ETA:   0:27:58"
     ]
    },
    {
     "name": "stdout",
     "output_type": "stream",
     "text": [
      "[{'words': '惠'}]\n",
      "unieb30\n"
     ]
    },
    {
     "name": "stderr",
     "output_type": "stream",
     "text": [
      "\r",
      " 47% (283 of 591) |##########            | Elapsed Time: 0:21:40 ETA:   0:27:48"
     ]
    },
    {
     "name": "stdout",
     "output_type": "stream",
     "text": [
      "[{'words': '管'}]\n",
      "unieb43\n"
     ]
    },
    {
     "name": "stderr",
     "output_type": "stream",
     "text": [
      "\r",
      " 48% (284 of 591) |##########            | Elapsed Time: 0:21:45 ETA:   0:22:02"
     ]
    },
    {
     "name": "stdout",
     "output_type": "stream",
     "text": [
      "[{'words': '甜'}]\n",
      "unieb46\n"
     ]
    },
    {
     "name": "stderr",
     "output_type": "stream",
     "text": [
      "\r",
      " 48% (285 of 591) |##########            | Elapsed Time: 0:21:49 ETA:   0:20:08"
     ]
    },
    {
     "name": "stdout",
     "output_type": "stream",
     "text": [
      "[{'words': '西'}]\n",
      "unieb48\n"
     ]
    },
    {
     "name": "stderr",
     "output_type": "stream",
     "text": [
      "\r",
      " 48% (286 of 591) |##########            | Elapsed Time: 0:21:53 ETA:   0:22:54"
     ]
    },
    {
     "name": "stdout",
     "output_type": "stream",
     "text": [
      "[{'words': '餐'}]\n",
      "unieb51\n"
     ]
    },
    {
     "name": "stderr",
     "output_type": "stream",
     "text": [
      "\r",
      " 48% (287 of 591) |##########            | Elapsed Time: 0:21:57 ETA:   0:19:17"
     ]
    },
    {
     "name": "stdout",
     "output_type": "stream",
     "text": [
      "[{'words': '调'}]\n",
      "unieb62\n"
     ]
    },
    {
     "name": "stderr",
     "output_type": "stream",
     "text": [
      "\r",
      " 48% (288 of 591) |##########            | Elapsed Time: 0:22:01 ETA:   0:23:09"
     ]
    },
    {
     "name": "stdout",
     "output_type": "stream",
     "text": [
      "[{'words': '接'}]\n",
      "unieb69\n"
     ]
    },
    {
     "name": "stderr",
     "output_type": "stream",
     "text": [
      "\r",
      " 48% (289 of 591) |##########            | Elapsed Time: 0:22:06 ETA:   0:20:47"
     ]
    },
    {
     "name": "stdout",
     "output_type": "stream",
     "text": [
      "[{'words': '去'}]\n",
      "unieb6f\n"
     ]
    },
    {
     "name": "stderr",
     "output_type": "stream",
     "text": [
      "\r",
      " 49% (290 of 591) |##########            | Elapsed Time: 0:22:10 ETA:   0:20:13"
     ]
    },
    {
     "name": "stdout",
     "output_type": "stream",
     "text": [
      "[{'words': '事'}]\n",
      "unieb76\n"
     ]
    },
    {
     "name": "stderr",
     "output_type": "stream",
     "text": [
      "\r",
      " 49% (291 of 591) |##########            | Elapsed Time: 0:22:14 ETA:   0:23:22"
     ]
    },
    {
     "name": "stdout",
     "output_type": "stream",
     "text": [
      "[{'words': '能'}]\n",
      "unieb86\n"
     ]
    },
    {
     "name": "stderr",
     "output_type": "stream",
     "text": [
      "\r",
      " 49% (292 of 591) |##########            | Elapsed Time: 0:22:19 ETA:   0:21:56"
     ]
    },
    {
     "name": "stdout",
     "output_type": "stream",
     "text": [
      "[{'words': '向'}]\n",
      "unieb8f\n"
     ]
    },
    {
     "name": "stderr",
     "output_type": "stream",
     "text": [
      "\r",
      " 49% (293 of 591) |##########            | Elapsed Time: 0:22:23 ETA:   0:21:01"
     ]
    },
    {
     "name": "stdout",
     "output_type": "stream",
     "text": [
      "[{'words': '柳'}]\n",
      "unieb9b\n"
     ]
    },
    {
     "name": "stderr",
     "output_type": "stream",
     "text": [
      "\r",
      " 49% (294 of 591) |##########            | Elapsed Time: 0:22:27 ETA:   0:19:03"
     ]
    },
    {
     "name": "stdout",
     "output_type": "stream",
     "text": [
      "[{'words': '茶'}]\n",
      "uniebac\n"
     ]
    },
    {
     "name": "stderr",
     "output_type": "stream",
     "text": [
      "\r",
      " 49% (295 of 591) |##########            | Elapsed Time: 0:22:31 ETA:   0:18:39"
     ]
    },
    {
     "name": "stdout",
     "output_type": "stream",
     "text": [
      "[{'words': '式'}]\n",
      "uniebad\n"
     ]
    },
    {
     "name": "stderr",
     "output_type": "stream",
     "text": [
      "\r",
      " 50% (296 of 591) |###########           | Elapsed Time: 0:22:34 ETA:   0:18:39"
     ]
    },
    {
     "name": "stdout",
     "output_type": "stream",
     "text": [
      "[{'words': '位'}]\n",
      "uniebbd\n"
     ]
    },
    {
     "name": "stderr",
     "output_type": "stream",
     "text": [
      "\r",
      " 50% (297 of 591) |###########           | Elapsed Time: 0:22:38 ETA:   0:19:31"
     ]
    },
    {
     "name": "stdout",
     "output_type": "stream",
     "text": [
      "[{'words': '车'}]\n",
      "uniebc1\n"
     ]
    },
    {
     "name": "stderr",
     "output_type": "stream",
     "text": [
      "\r",
      " 50% (298 of 591) |###########           | Elapsed Time: 0:22:42 ETA:   0:19:48"
     ]
    },
    {
     "name": "stdout",
     "output_type": "stream",
     "text": [
      "[{'words': '啦'}]\n",
      "uniebc5\n"
     ]
    },
    {
     "name": "stderr",
     "output_type": "stream",
     "text": [
      "\r",
      " 50% (299 of 591) |###########           | Elapsed Time: 0:22:48 ETA:   0:25:43"
     ]
    },
    {
     "name": "stdout",
     "output_type": "stream",
     "text": [
      "[{'words': '汽'}]\n",
      "uniebdf\n"
     ]
    },
    {
     "name": "stderr",
     "output_type": "stream",
     "text": [
      "\r",
      " 50% (300 of 591) |###########           | Elapsed Time: 0:22:52 ETA:   0:21:38"
     ]
    },
    {
     "name": "stdout",
     "output_type": "stream",
     "text": [
      "[{'words': '宾'}]\n",
      "uniebee\n"
     ]
    },
    {
     "name": "stderr",
     "output_type": "stream",
     "text": [
      "\r",
      " 50% (301 of 591) |###########           | Elapsed Time: 0:22:56 ETA:   0:17:37"
     ]
    },
    {
     "name": "stdout",
     "output_type": "stream",
     "text": [
      "[{'words': '最'}]\n",
      "uniebf5\n"
     ]
    },
    {
     "name": "stderr",
     "output_type": "stream",
     "text": [
      "\r",
      " 51% (302 of 591) |###########           | Elapsed Time: 0:23:01 ETA:   0:23:41"
     ]
    },
    {
     "name": "stdout",
     "output_type": "stream",
     "text": [
      "[{'words': '多'}]\n",
      "uniebfd\n"
     ]
    },
    {
     "name": "stderr",
     "output_type": "stream",
     "text": [
      "\r",
      " 51% (303 of 591) |###########           | Elapsed Time: 0:23:04 ETA:   0:17:16"
     ]
    },
    {
     "name": "stdout",
     "output_type": "stream",
     "text": [
      "[{'words': '有'}]\n",
      "uniec06\n"
     ]
    },
    {
     "name": "stderr",
     "output_type": "stream",
     "text": [
      "\r",
      " 51% (304 of 591) |###########           | Elapsed Time: 0:23:15 ETA:   0:50:49"
     ]
    },
    {
     "name": "stdout",
     "output_type": "stream",
     "text": [
      "[{'words': '带'}]\n",
      "uniec10\n"
     ]
    },
    {
     "name": "stderr",
     "output_type": "stream",
     "text": [
      "\r",
      " 51% (305 of 591) |###########           | Elapsed Time: 0:23:21 ETA:   0:26:33"
     ]
    },
    {
     "name": "stdout",
     "output_type": "stream",
     "text": [
      "[{'words': '楼'}]\n",
      "uniec11\n"
     ]
    },
    {
     "name": "stderr",
     "output_type": "stream",
     "text": [
      "\r",
      " 51% (306 of 591) |###########           | Elapsed Time: 0:23:25 ETA:   0:19:46"
     ]
    },
    {
     "name": "stdout",
     "output_type": "stream",
     "text": [
      "[{'words': '老'}]\n",
      "uniec20\n"
     ]
    },
    {
     "name": "stderr",
     "output_type": "stream",
     "text": [
      "\r",
      " 51% (307 of 591) |###########           | Elapsed Time: 0:23:28 ETA:   0:17:42"
     ]
    },
    {
     "name": "stdout",
     "output_type": "stream",
     "text": [
      "[{'words': '达'}]\n",
      "uniec22\n"
     ]
    },
    {
     "name": "stderr",
     "output_type": "stream",
     "text": [
      "\r",
      " 52% (308 of 591) |###########           | Elapsed Time: 0:23:33 ETA:   0:19:28"
     ]
    },
    {
     "name": "stdout",
     "output_type": "stream",
     "text": [
      "[{'words': '文'}]\n",
      "uniec2e\n"
     ]
    },
    {
     "name": "stderr",
     "output_type": "stream",
     "text": [
      "\r",
      " 52% (309 of 591) |###########           | Elapsed Time: 0:23:36 ETA:   0:18:14"
     ]
    },
    {
     "name": "stdout",
     "output_type": "stream",
     "text": [
      "[{'words': '水'}]\n",
      "uniec32\n"
     ]
    },
    {
     "name": "stderr",
     "output_type": "stream",
     "text": [
      "\r",
      " 52% (310 of 591) |###########           | Elapsed Time: 0:23:41 ETA:   0:20:50"
     ]
    },
    {
     "name": "stdout",
     "output_type": "stream",
     "text": [
      "[{'words': '外'}]\n",
      "uniec46\n"
     ]
    },
    {
     "name": "stderr",
     "output_type": "stream",
     "text": [
      "\r",
      " 52% (311 of 591) |###########           | Elapsed Time: 0:23:45 ETA:   0:20:12"
     ]
    },
    {
     "name": "stdout",
     "output_type": "stream",
     "text": [
      "[{'words': '庆'}]\n",
      "uniec4a\n"
     ]
    },
    {
     "name": "stderr",
     "output_type": "stream",
     "text": [
      "\r",
      " 52% (312 of 591) |###########           | Elapsed Time: 0:23:49 ETA:   0:19:16"
     ]
    },
    {
     "name": "stdout",
     "output_type": "stream",
     "text": [
      "[{'words': '设'}]\n",
      "uniec5c\n"
     ]
    },
    {
     "name": "stderr",
     "output_type": "stream",
     "text": [
      "\r",
      " 52% (313 of 591) |###########           | Elapsed Time: 0:23:54 ETA:   0:20:13"
     ]
    },
    {
     "name": "stdout",
     "output_type": "stream",
     "text": [
      "[{'words': '祥'}]\n",
      "uniec72\n"
     ]
    },
    {
     "name": "stderr",
     "output_type": "stream",
     "text": [
      "\r",
      " 53% (314 of 591) |###########           | Elapsed Time: 0:23:58 ETA:   0:19:57"
     ]
    },
    {
     "name": "stdout",
     "output_type": "stream",
     "text": [
      "[{'words': '烫'}]\n",
      "uniec78\n"
     ]
    },
    {
     "name": "stderr",
     "output_type": "stream",
     "text": [
      "\r",
      " 53% (315 of 591) |###########           | Elapsed Time: 0:24:02 ETA:   0:16:29"
     ]
    },
    {
     "name": "stdout",
     "output_type": "stream",
     "text": [
      "[{'words': '佳'}]\n",
      "unieca9\n"
     ]
    },
    {
     "name": "stderr",
     "output_type": "stream",
     "text": [
      "\r",
      " 53% (316 of 591) |###########           | Elapsed Time: 0:24:05 ETA:   0:17:23"
     ]
    },
    {
     "name": "stdout",
     "output_type": "stream",
     "text": [
      "[{'words': '秀'}]\n",
      "uniecbc\n"
     ]
    },
    {
     "name": "stderr",
     "output_type": "stream",
     "text": [
      "\r",
      " 53% (317 of 591) |###########           | Elapsed Time: 0:24:09 ETA:   0:17:25"
     ]
    },
    {
     "name": "stdout",
     "output_type": "stream",
     "text": [
      "[]\n",
      "uniecc2\n"
     ]
    },
    {
     "name": "stderr",
     "output_type": "stream",
     "text": [
      "\r",
      " 53% (318 of 591) |###########           | Elapsed Time: 0:24:14 ETA:   0:20:32"
     ]
    },
    {
     "name": "stdout",
     "output_type": "stream",
     "text": [
      "[{'words': '热'}]\n",
      "uniecc9\n"
     ]
    },
    {
     "name": "stderr",
     "output_type": "stream",
     "text": [
      "\r",
      " 53% (319 of 591) |###########           | Elapsed Time: 0:24:18 ETA:   0:17:53"
     ]
    },
    {
     "name": "stdout",
     "output_type": "stream",
     "text": [
      "[{'words': '座'}]\n",
      "uniece5\n"
     ]
    },
    {
     "name": "stderr",
     "output_type": "stream",
     "text": [
      "\r",
      " 54% (320 of 591) |###########           | Elapsed Time: 0:24:22 ETA:   0:17:54"
     ]
    },
    {
     "name": "stdout",
     "output_type": "stream",
     "text": [
      "[{'words': '原'}]\n",
      "uniecf3\n"
     ]
    },
    {
     "name": "stderr",
     "output_type": "stream",
     "text": [
      "\r",
      " 54% (321 of 591) |###########           | Elapsed Time: 0:24:26 ETA:   0:17:57"
     ]
    },
    {
     "name": "stdout",
     "output_type": "stream",
     "text": [
      "[{'words': '厨'}]\n",
      "uniecfd\n"
     ]
    },
    {
     "name": "stderr",
     "output_type": "stream",
     "text": [
      "\r",
      " 54% (322 of 591) |###########           | Elapsed Time: 0:24:34 ETA:   0:37:21"
     ]
    },
    {
     "name": "stdout",
     "output_type": "stream",
     "text": [
      "[{'words': '什'}]\n",
      "unied1e\n"
     ]
    },
    {
     "name": "stderr",
     "output_type": "stream",
     "text": [
      "\r",
      " 54% (323 of 591) |############          | Elapsed Time: 0:24:39 ETA:   0:20:12"
     ]
    },
    {
     "name": "stdout",
     "output_type": "stream",
     "text": [
      "[{'words': '合'}]\n",
      "unied22\n"
     ]
    },
    {
     "name": "stderr",
     "output_type": "stream",
     "text": [
      "\r",
      " 54% (324 of 591) |############          | Elapsed Time: 0:24:42 ETA:   0:15:55"
     ]
    },
    {
     "name": "stdout",
     "output_type": "stream",
     "text": [
      "[{'words': '定'}]\n",
      "unied24\n"
     ]
    },
    {
     "name": "stderr",
     "output_type": "stream",
     "text": [
      "\r",
      " 54% (325 of 591) |############          | Elapsed Time: 0:24:46 ETA:   0:16:56"
     ]
    },
    {
     "name": "stdout",
     "output_type": "stream",
     "text": [
      "[{'words': '分'}]\n",
      "unied37\n"
     ]
    },
    {
     "name": "stderr",
     "output_type": "stream",
     "text": [
      "\r",
      " 55% (326 of 591) |############          | Elapsed Time: 0:24:50 ETA:   0:17:38"
     ]
    },
    {
     "name": "stdout",
     "output_type": "stream",
     "text": [
      "[{'words': '而'}]\n",
      "unied3f\n"
     ]
    },
    {
     "name": "stderr",
     "output_type": "stream",
     "text": [
      "\r",
      " 55% (327 of 591) |############          | Elapsed Time: 0:24:54 ETA:   0:15:45"
     ]
    },
    {
     "name": "stdout",
     "output_type": "stream",
     "text": [
      "[{'words': '氏'}]\n",
      "unied48\n"
     ]
    },
    {
     "name": "stderr",
     "output_type": "stream",
     "text": [
      "\r",
      " 55% (328 of 591) |############          | Elapsed Time: 0:25:02 ETA:   0:37:32"
     ]
    },
    {
     "name": "stdout",
     "output_type": "stream",
     "text": [
      "[{'words': '常'}]\n",
      "unied4e\n"
     ]
    },
    {
     "name": "stderr",
     "output_type": "stream",
     "text": [
      "\r",
      " 55% (329 of 591) |############          | Elapsed Time: 0:25:08 ETA:   0:26:03"
     ]
    },
    {
     "name": "stdout",
     "output_type": "stream",
     "text": [
      "[{'words': '己'}]\n",
      "unied4f\n"
     ]
    },
    {
     "name": "stderr",
     "output_type": "stream",
     "text": [
      "\r",
      " 55% (330 of 591) |############          | Elapsed Time: 0:25:12 ETA:   0:15:42"
     ]
    },
    {
     "name": "stdout",
     "output_type": "stream",
     "text": [
      "[]\n",
      "unied62\n"
     ]
    },
    {
     "name": "stderr",
     "output_type": "stream",
     "text": [
      "\r",
      " 56% (331 of 591) |############          | Elapsed Time: 0:25:16 ETA:   0:17:30"
     ]
    },
    {
     "name": "stdout",
     "output_type": "stream",
     "text": [
      "[{'words': '试'}]\n",
      "unied6d\n"
     ]
    },
    {
     "name": "stderr",
     "output_type": "stream",
     "text": [
      "\r",
      " 56% (332 of 591) |############          | Elapsed Time: 0:25:21 ETA:   0:22:00"
     ]
    },
    {
     "name": "stdout",
     "output_type": "stream",
     "text": [
      "[{'words': '很'}]\n",
      "unied79\n"
     ]
    },
    {
     "name": "stderr",
     "output_type": "stream",
     "text": [
      "\r",
      " 56% (333 of 591) |############          | Elapsed Time: 0:25:25 ETA:   0:19:31"
     ]
    },
    {
     "name": "stdout",
     "output_type": "stream",
     "text": [
      "[{'words': '便'}]\n",
      "unied97\n"
     ]
    },
    {
     "name": "stderr",
     "output_type": "stream",
     "text": [
      "\r",
      " 56% (334 of 591) |############          | Elapsed Time: 0:25:31 ETA:   0:22:36"
     ]
    },
    {
     "name": "stdout",
     "output_type": "stream",
     "text": [
      "[{'words': '父'}]\n",
      "unieda2\n"
     ]
    },
    {
     "name": "stderr",
     "output_type": "stream",
     "text": [
      "\r",
      " 56% (335 of 591) |############          | Elapsed Time: 0:25:36 ETA:   0:22:12"
     ]
    },
    {
     "name": "stdout",
     "output_type": "stream",
     "text": [
      "[{'words': '力'}]\n",
      "unieda9\n"
     ]
    },
    {
     "name": "stderr",
     "output_type": "stream",
     "text": [
      "\r",
      " 56% (336 of 591) |############          | Elapsed Time: 0:25:40 ETA:   0:18:27"
     ]
    },
    {
     "name": "stdout",
     "output_type": "stream",
     "text": [
      "[{'words': '觉'}]\n",
      "uniedad\n"
     ]
    },
    {
     "name": "stderr",
     "output_type": "stream",
     "text": [
      "\r",
      " 57% (337 of 591) |############          | Elapsed Time: 0:25:46 ETA:   0:22:55"
     ]
    },
    {
     "name": "stdout",
     "output_type": "stream",
     "text": [
      "[{'words': '成'}]\n",
      "uniedb8\n"
     ]
    },
    {
     "name": "stderr",
     "output_type": "stream",
     "text": [
      "\r",
      " 57% (338 of 591) |############          | Elapsed Time: 0:25:50 ETA:   0:19:35"
     ]
    },
    {
     "name": "stdout",
     "output_type": "stream",
     "text": [
      "[{'words': '想'}]\n",
      "uniedcc\n"
     ]
    },
    {
     "name": "stderr",
     "output_type": "stream",
     "text": [
      "\r",
      " 57% (339 of 591) |############          | Elapsed Time: 0:25:55 ETA:   0:18:37"
     ]
    },
    {
     "name": "stdout",
     "output_type": "stream",
     "text": [
      "[{'words': '讯'}]\n",
      "uniedd0\n"
     ]
    },
    {
     "name": "stderr",
     "output_type": "stream",
     "text": [
      "\r",
      " 57% (340 of 591) |############          | Elapsed Time: 0:25:59 ETA:   0:17:01"
     ]
    },
    {
     "name": "stdout",
     "output_type": "stream",
     "text": [
      "[{'words': '辣'}]\n",
      "uniedd5\n"
     ]
    },
    {
     "name": "stderr",
     "output_type": "stream",
     "text": [
      "\r",
      " 57% (341 of 591) |############          | Elapsed Time: 0:26:05 ETA:   0:26:34"
     ]
    },
    {
     "name": "stdout",
     "output_type": "stream",
     "text": [
      "[{'words': '包'}]\n",
      "unieded\n"
     ]
    },
    {
     "name": "stderr",
     "output_type": "stream",
     "text": [
      "\r",
      " 57% (342 of 591) |############          | Elapsed Time: 0:26:09 ETA:   0:16:05"
     ]
    },
    {
     "name": "stdout",
     "output_type": "stream",
     "text": [
      "[{'words': '来'}]\n",
      "uniee00\n"
     ]
    },
    {
     "name": "stderr",
     "output_type": "stream",
     "text": [
      "\r",
      " 58% (343 of 591) |############          | Elapsed Time: 0:26:17 ETA:   0:34:14"
     ]
    },
    {
     "name": "stdout",
     "output_type": "stream",
     "text": [
      "[{'words': '锅'}]\n",
      "uniee11\n"
     ]
    },
    {
     "name": "stderr",
     "output_type": "stream",
     "text": [
      "\r",
      " 58% (344 of 591) |############          | Elapsed Time: 0:26:22 ETA:   0:17:49"
     ]
    },
    {
     "name": "stdout",
     "output_type": "stream",
     "text": [
      "[{'words': '昌'}]\n",
      "uniee42\n"
     ]
    },
    {
     "name": "stderr",
     "output_type": "stream",
     "text": [
      "\r",
      " 58% (345 of 591) |############          | Elapsed Time: 0:26:26 ETA:   0:17:06"
     ]
    },
    {
     "name": "stdout",
     "output_type": "stream",
     "text": [
      "[{'words': '省'}]\n",
      "uniee45\n"
     ]
    },
    {
     "name": "stderr",
     "output_type": "stream",
     "text": [
      "\r",
      " 58% (346 of 591) |############          | Elapsed Time: 0:26:31 ETA:   0:19:30"
     ]
    },
    {
     "name": "stdout",
     "output_type": "stream",
     "text": [
      "[{'words': '真'}]\n",
      "uniee4f\n"
     ]
    },
    {
     "name": "stderr",
     "output_type": "stream",
     "text": [
      "\r",
      " 58% (347 of 591) |############          | Elapsed Time: 0:26:34 ETA:   0:15:29"
     ]
    },
    {
     "name": "stdout",
     "output_type": "stream",
     "text": [
      "[{'words': '饰'}]\n",
      "uniee66\n"
     ]
    },
    {
     "name": "stderr",
     "output_type": "stream",
     "text": [
      "\r",
      " 58% (348 of 591) |############          | Elapsed Time: 0:26:38 ETA:   0:16:20"
     ]
    },
    {
     "name": "stdout",
     "output_type": "stream",
     "text": [
      "[{'words': '农'}]\n",
      "uniee7b\n"
     ]
    },
    {
     "name": "stderr",
     "output_type": "stream",
     "text": [
      "\r",
      " 59% (349 of 591) |############          | Elapsed Time: 0:26:43 ETA:   0:19:07"
     ]
    },
    {
     "name": "stdout",
     "output_type": "stream",
     "text": [
      "[{'words': '体'}]\n",
      "uniee92\n"
     ]
    },
    {
     "name": "stderr",
     "output_type": "stream",
     "text": [
      "\r",
      " 59% (350 of 591) |#############         | Elapsed Time: 0:26:47 ETA:   0:16:43"
     ]
    },
    {
     "name": "stdout",
     "output_type": "stream",
     "text": [
      "[{'words': '集'}]\n",
      "unieea2\n"
     ]
    },
    {
     "name": "stderr",
     "output_type": "stream",
     "text": [
      "\r",
      " 59% (351 of 591) |#############         | Elapsed Time: 0:26:51 ETA:   0:16:32"
     ]
    },
    {
     "name": "stdout",
     "output_type": "stream",
     "text": [
      "[]\n",
      "unieec5\n"
     ]
    },
    {
     "name": "stderr",
     "output_type": "stream",
     "text": [
      "\r",
      " 59% (352 of 591) |#############         | Elapsed Time: 0:26:55 ETA:   0:14:14"
     ]
    },
    {
     "name": "stdout",
     "output_type": "stream",
     "text": [
      "[{'words': '足'}]\n",
      "unieed6\n"
     ]
    },
    {
     "name": "stderr",
     "output_type": "stream",
     "text": [
      "\r",
      " 59% (353 of 591) |#############         | Elapsed Time: 0:27:00 ETA:   0:20:17"
     ]
    },
    {
     "name": "stdout",
     "output_type": "stream",
     "text": [
      "[{'words': '排'}]\n",
      "unieeda\n"
     ]
    },
    {
     "name": "stderr",
     "output_type": "stream",
     "text": [
      "\r",
      " 59% (354 of 591) |#############         | Elapsed Time: 0:27:04 ETA:   0:15:57"
     ]
    },
    {
     "name": "stdout",
     "output_type": "stream",
     "text": [
      "[{'words': '阿'}]\n",
      "unieeed\n"
     ]
    },
    {
     "name": "stderr",
     "output_type": "stream",
     "text": [
      "\r",
      " 60% (355 of 591) |#############         | Elapsed Time: 0:27:09 ETA:   0:19:19"
     ]
    },
    {
     "name": "stdout",
     "output_type": "stream",
     "text": [
      "[{'words': '团'}]\n",
      "unieeee\n"
     ]
    },
    {
     "name": "stderr",
     "output_type": "stream",
     "text": [
      "\r",
      " 60% (356 of 591) |#############         | Elapsed Time: 0:27:14 ETA:   0:18:34"
     ]
    },
    {
     "name": "stdout",
     "output_type": "stream",
     "text": [
      "[]\n",
      "unieef7\n"
     ]
    },
    {
     "name": "stderr",
     "output_type": "stream",
     "text": [
      "\r",
      " 60% (357 of 591) |#############         | Elapsed Time: 0:27:17 ETA:   0:14:14"
     ]
    },
    {
     "name": "stdout",
     "output_type": "stream",
     "text": [
      "[{'words': '造'}]\n",
      "unieefb\n"
     ]
    },
    {
     "name": "stderr",
     "output_type": "stream",
     "text": [
      "\r",
      " 60% (358 of 591) |#############         | Elapsed Time: 0:27:22 ETA:   0:19:21"
     ]
    },
    {
     "name": "stdout",
     "output_type": "stream",
     "text": [
      "[{'words': '几'}]\n",
      "unief18\n"
     ]
    },
    {
     "name": "stderr",
     "output_type": "stream",
     "text": [
      "\r",
      " 60% (359 of 591) |#############         | Elapsed Time: 0:27:26 ETA:   0:15:36"
     ]
    },
    {
     "name": "stdout",
     "output_type": "stream",
     "text": [
      "[{'words': '建'}]\n",
      "unief1d\n"
     ]
    },
    {
     "name": "stderr",
     "output_type": "stream",
     "text": [
      "\r",
      " 60% (360 of 591) |#############         | Elapsed Time: 0:27:35 ETA:   0:32:44"
     ]
    },
    {
     "name": "stdout",
     "output_type": "stream",
     "text": [
      "[{'words': '鸭'}]\n",
      "unief2a\n"
     ]
    },
    {
     "name": "stderr",
     "output_type": "stream",
     "text": [
      "\r",
      " 61% (361 of 591) |#############         | Elapsed Time: 0:27:39 ETA:   0:14:43"
     ]
    },
    {
     "name": "stdout",
     "output_type": "stream",
     "text": [
      "[{'words': '木'}]\n",
      "unief30\n"
     ]
    },
    {
     "name": "stderr",
     "output_type": "stream",
     "text": [
      "\r",
      " 61% (362 of 591) |#############         | Elapsed Time: 0:27:44 ETA:   0:18:06"
     ]
    },
    {
     "name": "stdout",
     "output_type": "stream",
     "text": [
      "[{'words': '赞'}]\n",
      "unief3c\n"
     ]
    },
    {
     "name": "stderr",
     "output_type": "stream",
     "text": [
      "\r",
      " 61% (363 of 591) |#############         | Elapsed Time: 0:27:49 ETA:   0:20:32"
     ]
    },
    {
     "name": "stdout",
     "output_type": "stream",
     "text": [
      "[{'words': '单'}]\n",
      "unief44\n"
     ]
    },
    {
     "name": "stderr",
     "output_type": "stream",
     "text": [
      "\r",
      " 61% (364 of 591) |#############         | Elapsed Time: 0:27:54 ETA:   0:17:44"
     ]
    },
    {
     "name": "stdout",
     "output_type": "stream",
     "text": [
      "[{'words': '知'}]\n",
      "unief45\n"
     ]
    },
    {
     "name": "stderr",
     "output_type": "stream",
     "text": [
      "\r",
      " 61% (365 of 591) |#############         | Elapsed Time: 0:27:58 ETA:   0:15:15"
     ]
    },
    {
     "name": "stdout",
     "output_type": "stream",
     "text": [
      "[{'words': '铺'}]\n",
      "unief49\n"
     ]
    },
    {
     "ename": "KeyboardInterrupt",
     "evalue": "",
     "output_type": "error",
     "traceback": [
      "\u001b[1;31m---------------------------------------------------------------------------\u001b[0m",
      "\u001b[1;31mWantReadError\u001b[0m                             Traceback (most recent call last)",
      "\u001b[1;32mD:\\Anaconda\\lib\\site-packages\\urllib3\\contrib\\pyopenssl.py\u001b[0m in \u001b[0;36mwrap_socket\u001b[1;34m(self, sock, server_side, do_handshake_on_connect, suppress_ragged_eofs, server_hostname)\u001b[0m\n\u001b[0;32m    452\u001b[0m             \u001b[1;32mtry\u001b[0m\u001b[1;33m:\u001b[0m\u001b[1;33m\u001b[0m\u001b[1;33m\u001b[0m\u001b[0m\n\u001b[1;32m--> 453\u001b[1;33m                 \u001b[0mcnx\u001b[0m\u001b[1;33m.\u001b[0m\u001b[0mdo_handshake\u001b[0m\u001b[1;33m(\u001b[0m\u001b[1;33m)\u001b[0m\u001b[1;33m\u001b[0m\u001b[1;33m\u001b[0m\u001b[0m\n\u001b[0m\u001b[0;32m    454\u001b[0m             \u001b[1;32mexcept\u001b[0m \u001b[0mOpenSSL\u001b[0m\u001b[1;33m.\u001b[0m\u001b[0mSSL\u001b[0m\u001b[1;33m.\u001b[0m\u001b[0mWantReadError\u001b[0m\u001b[1;33m:\u001b[0m\u001b[1;33m\u001b[0m\u001b[1;33m\u001b[0m\u001b[0m\n",
      "\u001b[1;32mD:\\Anaconda\\lib\\site-packages\\OpenSSL\\SSL.py\u001b[0m in \u001b[0;36mdo_handshake\u001b[1;34m(self)\u001b[0m\n\u001b[0;32m   1906\u001b[0m         \u001b[0mresult\u001b[0m \u001b[1;33m=\u001b[0m \u001b[0m_lib\u001b[0m\u001b[1;33m.\u001b[0m\u001b[0mSSL_do_handshake\u001b[0m\u001b[1;33m(\u001b[0m\u001b[0mself\u001b[0m\u001b[1;33m.\u001b[0m\u001b[0m_ssl\u001b[0m\u001b[1;33m)\u001b[0m\u001b[1;33m\u001b[0m\u001b[1;33m\u001b[0m\u001b[0m\n\u001b[1;32m-> 1907\u001b[1;33m         \u001b[0mself\u001b[0m\u001b[1;33m.\u001b[0m\u001b[0m_raise_ssl_error\u001b[0m\u001b[1;33m(\u001b[0m\u001b[0mself\u001b[0m\u001b[1;33m.\u001b[0m\u001b[0m_ssl\u001b[0m\u001b[1;33m,\u001b[0m \u001b[0mresult\u001b[0m\u001b[1;33m)\u001b[0m\u001b[1;33m\u001b[0m\u001b[1;33m\u001b[0m\u001b[0m\n\u001b[0m\u001b[0;32m   1908\u001b[0m \u001b[1;33m\u001b[0m\u001b[0m\n",
      "\u001b[1;32mD:\\Anaconda\\lib\\site-packages\\OpenSSL\\SSL.py\u001b[0m in \u001b[0;36m_raise_ssl_error\u001b[1;34m(self, ssl, result)\u001b[0m\n\u001b[0;32m   1613\u001b[0m         \u001b[1;32mif\u001b[0m \u001b[0merror\u001b[0m \u001b[1;33m==\u001b[0m \u001b[0m_lib\u001b[0m\u001b[1;33m.\u001b[0m\u001b[0mSSL_ERROR_WANT_READ\u001b[0m\u001b[1;33m:\u001b[0m\u001b[1;33m\u001b[0m\u001b[1;33m\u001b[0m\u001b[0m\n\u001b[1;32m-> 1614\u001b[1;33m             \u001b[1;32mraise\u001b[0m \u001b[0mWantReadError\u001b[0m\u001b[1;33m(\u001b[0m\u001b[1;33m)\u001b[0m\u001b[1;33m\u001b[0m\u001b[1;33m\u001b[0m\u001b[0m\n\u001b[0m\u001b[0;32m   1615\u001b[0m         \u001b[1;32melif\u001b[0m \u001b[0merror\u001b[0m \u001b[1;33m==\u001b[0m \u001b[0m_lib\u001b[0m\u001b[1;33m.\u001b[0m\u001b[0mSSL_ERROR_WANT_WRITE\u001b[0m\u001b[1;33m:\u001b[0m\u001b[1;33m\u001b[0m\u001b[1;33m\u001b[0m\u001b[0m\n",
      "\u001b[1;31mWantReadError\u001b[0m: ",
      "\nDuring handling of the above exception, another exception occurred:\n",
      "\u001b[1;31mKeyboardInterrupt\u001b[0m                         Traceback (most recent call last)",
      "\u001b[1;32m<ipython-input-43-bdd261cb8d3b>\u001b[0m in \u001b[0;36m<module>\u001b[1;34m\u001b[0m\n\u001b[0;32m      2\u001b[0m \u001b[1;32mfor\u001b[0m \u001b[0mfont_name\u001b[0m \u001b[1;32min\u001b[0m \u001b[0msee_progress\u001b[0m\u001b[1;33m(\u001b[0m\u001b[0mfont_namelist\u001b[0m\u001b[1;33m)\u001b[0m\u001b[1;33m:\u001b[0m\u001b[1;33m\u001b[0m\u001b[1;33m\u001b[0m\u001b[0m\n\u001b[0;32m      3\u001b[0m     \u001b[0mprint\u001b[0m\u001b[1;33m(\u001b[0m\u001b[0mfont_name\u001b[0m\u001b[1;33m)\u001b[0m\u001b[1;33m\u001b[0m\u001b[1;33m\u001b[0m\u001b[0m\n\u001b[1;32m----> 4\u001b[1;33m     \u001b[0mword_result\u001b[0m \u001b[1;33m=\u001b[0m \u001b[0mbaidu_OCR\u001b[0m\u001b[1;33m(\u001b[0m\u001b[1;34m\"./DianPing_font_5/\"\u001b[0m\u001b[1;33m+\u001b[0m\u001b[0mfont_name\u001b[0m\u001b[1;33m+\u001b[0m\u001b[1;34m\".jpg\"\u001b[0m\u001b[1;33m)\u001b[0m\u001b[1;33m\u001b[0m\u001b[1;33m\u001b[0m\u001b[0m\n\u001b[0m\u001b[0;32m      5\u001b[0m     \u001b[0mprint\u001b[0m\u001b[1;33m(\u001b[0m\u001b[0mword_result\u001b[0m\u001b[1;33m)\u001b[0m\u001b[1;33m\u001b[0m\u001b[1;33m\u001b[0m\u001b[0m\n\u001b[0;32m      6\u001b[0m     \u001b[0muni2word_4\u001b[0m\u001b[1;33m[\u001b[0m\u001b[1;34m\"font_name\"\u001b[0m\u001b[1;33m]\u001b[0m \u001b[1;33m=\u001b[0m \u001b[0mword_result\u001b[0m\u001b[1;33m\u001b[0m\u001b[1;33m\u001b[0m\u001b[0m\n",
      "\u001b[1;32m<ipython-input-42-e8bb24f548ec>\u001b[0m in \u001b[0;36mbaidu_OCR\u001b[1;34m(image_path)\u001b[0m\n\u001b[0;32m     17\u001b[0m \u001b[1;32mdef\u001b[0m \u001b[0mbaidu_OCR\u001b[0m\u001b[1;33m(\u001b[0m\u001b[0mimage_path\u001b[0m\u001b[1;33m)\u001b[0m\u001b[1;33m:\u001b[0m\u001b[1;33m\u001b[0m\u001b[1;33m\u001b[0m\u001b[0m\n\u001b[0;32m     18\u001b[0m     \u001b[0mimage\u001b[0m \u001b[1;33m=\u001b[0m \u001b[0mget_file_content\u001b[0m\u001b[1;33m(\u001b[0m\u001b[0mimage_path\u001b[0m\u001b[1;33m)\u001b[0m\u001b[1;33m\u001b[0m\u001b[1;33m\u001b[0m\u001b[0m\n\u001b[1;32m---> 19\u001b[1;33m     \u001b[0mword\u001b[0m \u001b[1;33m=\u001b[0m \u001b[0mclient\u001b[0m\u001b[1;33m.\u001b[0m\u001b[0mbasicGeneral\u001b[0m\u001b[1;33m(\u001b[0m\u001b[0mimage\u001b[0m\u001b[1;33m)\u001b[0m\u001b[1;33m\u001b[0m\u001b[1;33m\u001b[0m\u001b[0m\n\u001b[0m\u001b[0;32m     20\u001b[0m     \u001b[0mword_results\u001b[0m \u001b[1;33m=\u001b[0m \u001b[0mword\u001b[0m\u001b[1;33m[\u001b[0m\u001b[1;34m\"words_result\"\u001b[0m\u001b[1;33m]\u001b[0m\u001b[1;33m\u001b[0m\u001b[1;33m\u001b[0m\u001b[0m\n\u001b[0;32m     21\u001b[0m     \u001b[1;32mreturn\u001b[0m \u001b[0mword_results\u001b[0m\u001b[1;33m\u001b[0m\u001b[1;33m\u001b[0m\u001b[0m\n",
      "\u001b[1;32mD:\\Anaconda\\lib\\site-packages\\aip\\ocr.py\u001b[0m in \u001b[0;36mbasicGeneral\u001b[1;34m(self, image, options)\u001b[0m\n\u001b[0;32m    108\u001b[0m         \u001b[0mdata\u001b[0m\u001b[1;33m.\u001b[0m\u001b[0mupdate\u001b[0m\u001b[1;33m(\u001b[0m\u001b[0moptions\u001b[0m\u001b[1;33m)\u001b[0m\u001b[1;33m\u001b[0m\u001b[1;33m\u001b[0m\u001b[0m\n\u001b[0;32m    109\u001b[0m \u001b[1;33m\u001b[0m\u001b[0m\n\u001b[1;32m--> 110\u001b[1;33m         \u001b[1;32mreturn\u001b[0m \u001b[0mself\u001b[0m\u001b[1;33m.\u001b[0m\u001b[0m_request\u001b[0m\u001b[1;33m(\u001b[0m\u001b[0mself\u001b[0m\u001b[1;33m.\u001b[0m\u001b[0m__generalBasicUrl\u001b[0m\u001b[1;33m,\u001b[0m \u001b[0mdata\u001b[0m\u001b[1;33m)\u001b[0m\u001b[1;33m\u001b[0m\u001b[1;33m\u001b[0m\u001b[0m\n\u001b[0m\u001b[0;32m    111\u001b[0m \u001b[1;33m\u001b[0m\u001b[0m\n\u001b[0;32m    112\u001b[0m     \u001b[1;32mdef\u001b[0m \u001b[0mbasicGeneralUrl\u001b[0m\u001b[1;33m(\u001b[0m\u001b[0mself\u001b[0m\u001b[1;33m,\u001b[0m \u001b[0murl\u001b[0m\u001b[1;33m,\u001b[0m \u001b[0moptions\u001b[0m\u001b[1;33m=\u001b[0m\u001b[1;32mNone\u001b[0m\u001b[1;33m)\u001b[0m\u001b[1;33m:\u001b[0m\u001b[1;33m\u001b[0m\u001b[1;33m\u001b[0m\u001b[0m\n",
      "\u001b[1;32mD:\\Anaconda\\lib\\site-packages\\aip\\base.py\u001b[0m in \u001b[0;36m_request\u001b[1;34m(self, url, data, headers)\u001b[0m\n\u001b[0;32m     96\u001b[0m                                 \u001b[0mself\u001b[0m\u001b[1;33m.\u001b[0m\u001b[0m__connectTimeout\u001b[0m\u001b[1;33m,\u001b[0m\u001b[1;33m\u001b[0m\u001b[1;33m\u001b[0m\u001b[0m\n\u001b[0;32m     97\u001b[0m                                 \u001b[0mself\u001b[0m\u001b[1;33m.\u001b[0m\u001b[0m__socketTimeout\u001b[0m\u001b[1;33m,\u001b[0m\u001b[1;33m\u001b[0m\u001b[1;33m\u001b[0m\u001b[0m\n\u001b[1;32m---> 98\u001b[1;33m                             ), proxies=self._proxies\n\u001b[0m\u001b[0;32m     99\u001b[0m                         )\n\u001b[0;32m    100\u001b[0m             \u001b[0mobj\u001b[0m \u001b[1;33m=\u001b[0m \u001b[0mself\u001b[0m\u001b[1;33m.\u001b[0m\u001b[0m_proccessResult\u001b[0m\u001b[1;33m(\u001b[0m\u001b[0mresponse\u001b[0m\u001b[1;33m.\u001b[0m\u001b[0mcontent\u001b[0m\u001b[1;33m)\u001b[0m\u001b[1;33m\u001b[0m\u001b[1;33m\u001b[0m\u001b[0m\n",
      "\u001b[1;32mD:\\Anaconda\\lib\\site-packages\\requests\\api.py\u001b[0m in \u001b[0;36mpost\u001b[1;34m(url, data, json, **kwargs)\u001b[0m\n\u001b[0;32m    114\u001b[0m     \"\"\"\n\u001b[0;32m    115\u001b[0m \u001b[1;33m\u001b[0m\u001b[0m\n\u001b[1;32m--> 116\u001b[1;33m     \u001b[1;32mreturn\u001b[0m \u001b[0mrequest\u001b[0m\u001b[1;33m(\u001b[0m\u001b[1;34m'post'\u001b[0m\u001b[1;33m,\u001b[0m \u001b[0murl\u001b[0m\u001b[1;33m,\u001b[0m \u001b[0mdata\u001b[0m\u001b[1;33m=\u001b[0m\u001b[0mdata\u001b[0m\u001b[1;33m,\u001b[0m \u001b[0mjson\u001b[0m\u001b[1;33m=\u001b[0m\u001b[0mjson\u001b[0m\u001b[1;33m,\u001b[0m \u001b[1;33m**\u001b[0m\u001b[0mkwargs\u001b[0m\u001b[1;33m)\u001b[0m\u001b[1;33m\u001b[0m\u001b[1;33m\u001b[0m\u001b[0m\n\u001b[0m\u001b[0;32m    117\u001b[0m \u001b[1;33m\u001b[0m\u001b[0m\n\u001b[0;32m    118\u001b[0m \u001b[1;33m\u001b[0m\u001b[0m\n",
      "\u001b[1;32mD:\\Anaconda\\lib\\site-packages\\requests\\api.py\u001b[0m in \u001b[0;36mrequest\u001b[1;34m(method, url, **kwargs)\u001b[0m\n\u001b[0;32m     58\u001b[0m     \u001b[1;31m# cases, and look like a memory leak in others.\u001b[0m\u001b[1;33m\u001b[0m\u001b[1;33m\u001b[0m\u001b[1;33m\u001b[0m\u001b[0m\n\u001b[0;32m     59\u001b[0m     \u001b[1;32mwith\u001b[0m \u001b[0msessions\u001b[0m\u001b[1;33m.\u001b[0m\u001b[0mSession\u001b[0m\u001b[1;33m(\u001b[0m\u001b[1;33m)\u001b[0m \u001b[1;32mas\u001b[0m \u001b[0msession\u001b[0m\u001b[1;33m:\u001b[0m\u001b[1;33m\u001b[0m\u001b[1;33m\u001b[0m\u001b[0m\n\u001b[1;32m---> 60\u001b[1;33m         \u001b[1;32mreturn\u001b[0m \u001b[0msession\u001b[0m\u001b[1;33m.\u001b[0m\u001b[0mrequest\u001b[0m\u001b[1;33m(\u001b[0m\u001b[0mmethod\u001b[0m\u001b[1;33m=\u001b[0m\u001b[0mmethod\u001b[0m\u001b[1;33m,\u001b[0m \u001b[0murl\u001b[0m\u001b[1;33m=\u001b[0m\u001b[0murl\u001b[0m\u001b[1;33m,\u001b[0m \u001b[1;33m**\u001b[0m\u001b[0mkwargs\u001b[0m\u001b[1;33m)\u001b[0m\u001b[1;33m\u001b[0m\u001b[1;33m\u001b[0m\u001b[0m\n\u001b[0m\u001b[0;32m     61\u001b[0m \u001b[1;33m\u001b[0m\u001b[0m\n\u001b[0;32m     62\u001b[0m \u001b[1;33m\u001b[0m\u001b[0m\n",
      "\u001b[1;32mD:\\Anaconda\\lib\\site-packages\\requests\\sessions.py\u001b[0m in \u001b[0;36mrequest\u001b[1;34m(self, method, url, params, data, headers, cookies, files, auth, timeout, allow_redirects, proxies, hooks, stream, verify, cert, json)\u001b[0m\n\u001b[0;32m    531\u001b[0m         }\n\u001b[0;32m    532\u001b[0m         \u001b[0msend_kwargs\u001b[0m\u001b[1;33m.\u001b[0m\u001b[0mupdate\u001b[0m\u001b[1;33m(\u001b[0m\u001b[0msettings\u001b[0m\u001b[1;33m)\u001b[0m\u001b[1;33m\u001b[0m\u001b[1;33m\u001b[0m\u001b[0m\n\u001b[1;32m--> 533\u001b[1;33m         \u001b[0mresp\u001b[0m \u001b[1;33m=\u001b[0m \u001b[0mself\u001b[0m\u001b[1;33m.\u001b[0m\u001b[0msend\u001b[0m\u001b[1;33m(\u001b[0m\u001b[0mprep\u001b[0m\u001b[1;33m,\u001b[0m \u001b[1;33m**\u001b[0m\u001b[0msend_kwargs\u001b[0m\u001b[1;33m)\u001b[0m\u001b[1;33m\u001b[0m\u001b[1;33m\u001b[0m\u001b[0m\n\u001b[0m\u001b[0;32m    534\u001b[0m \u001b[1;33m\u001b[0m\u001b[0m\n\u001b[0;32m    535\u001b[0m         \u001b[1;32mreturn\u001b[0m \u001b[0mresp\u001b[0m\u001b[1;33m\u001b[0m\u001b[1;33m\u001b[0m\u001b[0m\n",
      "\u001b[1;32mD:\\Anaconda\\lib\\site-packages\\requests\\sessions.py\u001b[0m in \u001b[0;36msend\u001b[1;34m(self, request, **kwargs)\u001b[0m\n\u001b[0;32m    644\u001b[0m \u001b[1;33m\u001b[0m\u001b[0m\n\u001b[0;32m    645\u001b[0m         \u001b[1;31m# Send the request\u001b[0m\u001b[1;33m\u001b[0m\u001b[1;33m\u001b[0m\u001b[1;33m\u001b[0m\u001b[0m\n\u001b[1;32m--> 646\u001b[1;33m         \u001b[0mr\u001b[0m \u001b[1;33m=\u001b[0m \u001b[0madapter\u001b[0m\u001b[1;33m.\u001b[0m\u001b[0msend\u001b[0m\u001b[1;33m(\u001b[0m\u001b[0mrequest\u001b[0m\u001b[1;33m,\u001b[0m \u001b[1;33m**\u001b[0m\u001b[0mkwargs\u001b[0m\u001b[1;33m)\u001b[0m\u001b[1;33m\u001b[0m\u001b[1;33m\u001b[0m\u001b[0m\n\u001b[0m\u001b[0;32m    647\u001b[0m \u001b[1;33m\u001b[0m\u001b[0m\n\u001b[0;32m    648\u001b[0m         \u001b[1;31m# Total elapsed time of the request (approximately)\u001b[0m\u001b[1;33m\u001b[0m\u001b[1;33m\u001b[0m\u001b[1;33m\u001b[0m\u001b[0m\n",
      "\u001b[1;32mD:\\Anaconda\\lib\\site-packages\\requests\\adapters.py\u001b[0m in \u001b[0;36msend\u001b[1;34m(self, request, stream, timeout, verify, cert, proxies)\u001b[0m\n\u001b[0;32m    447\u001b[0m                     \u001b[0mdecode_content\u001b[0m\u001b[1;33m=\u001b[0m\u001b[1;32mFalse\u001b[0m\u001b[1;33m,\u001b[0m\u001b[1;33m\u001b[0m\u001b[1;33m\u001b[0m\u001b[0m\n\u001b[0;32m    448\u001b[0m                     \u001b[0mretries\u001b[0m\u001b[1;33m=\u001b[0m\u001b[0mself\u001b[0m\u001b[1;33m.\u001b[0m\u001b[0mmax_retries\u001b[0m\u001b[1;33m,\u001b[0m\u001b[1;33m\u001b[0m\u001b[1;33m\u001b[0m\u001b[0m\n\u001b[1;32m--> 449\u001b[1;33m                     \u001b[0mtimeout\u001b[0m\u001b[1;33m=\u001b[0m\u001b[0mtimeout\u001b[0m\u001b[1;33m\u001b[0m\u001b[1;33m\u001b[0m\u001b[0m\n\u001b[0m\u001b[0;32m    450\u001b[0m                 )\n\u001b[0;32m    451\u001b[0m \u001b[1;33m\u001b[0m\u001b[0m\n",
      "\u001b[1;32mD:\\Anaconda\\lib\\site-packages\\urllib3\\connectionpool.py\u001b[0m in \u001b[0;36murlopen\u001b[1;34m(self, method, url, body, headers, retries, redirect, assert_same_host, timeout, pool_timeout, release_conn, chunked, body_pos, **response_kw)\u001b[0m\n\u001b[0;32m    592\u001b[0m             \u001b[0mis_new_proxy_conn\u001b[0m \u001b[1;33m=\u001b[0m \u001b[0mself\u001b[0m\u001b[1;33m.\u001b[0m\u001b[0mproxy\u001b[0m \u001b[1;32mis\u001b[0m \u001b[1;32mnot\u001b[0m \u001b[1;32mNone\u001b[0m \u001b[1;32mand\u001b[0m \u001b[1;32mnot\u001b[0m \u001b[0mgetattr\u001b[0m\u001b[1;33m(\u001b[0m\u001b[0mconn\u001b[0m\u001b[1;33m,\u001b[0m \u001b[1;34m'sock'\u001b[0m\u001b[1;33m,\u001b[0m \u001b[1;32mNone\u001b[0m\u001b[1;33m)\u001b[0m\u001b[1;33m\u001b[0m\u001b[1;33m\u001b[0m\u001b[0m\n\u001b[0;32m    593\u001b[0m             \u001b[1;32mif\u001b[0m \u001b[0mis_new_proxy_conn\u001b[0m\u001b[1;33m:\u001b[0m\u001b[1;33m\u001b[0m\u001b[1;33m\u001b[0m\u001b[0m\n\u001b[1;32m--> 594\u001b[1;33m                 \u001b[0mself\u001b[0m\u001b[1;33m.\u001b[0m\u001b[0m_prepare_proxy\u001b[0m\u001b[1;33m(\u001b[0m\u001b[0mconn\u001b[0m\u001b[1;33m)\u001b[0m\u001b[1;33m\u001b[0m\u001b[1;33m\u001b[0m\u001b[0m\n\u001b[0m\u001b[0;32m    595\u001b[0m \u001b[1;33m\u001b[0m\u001b[0m\n\u001b[0;32m    596\u001b[0m             \u001b[1;31m# Make the request on the httplib connection object.\u001b[0m\u001b[1;33m\u001b[0m\u001b[1;33m\u001b[0m\u001b[1;33m\u001b[0m\u001b[0m\n",
      "\u001b[1;32mD:\\Anaconda\\lib\\site-packages\\urllib3\\connectionpool.py\u001b[0m in \u001b[0;36m_prepare_proxy\u001b[1;34m(self, conn)\u001b[0m\n\u001b[0;32m    803\u001b[0m         \"\"\"\n\u001b[0;32m    804\u001b[0m         \u001b[0mconn\u001b[0m\u001b[1;33m.\u001b[0m\u001b[0mset_tunnel\u001b[0m\u001b[1;33m(\u001b[0m\u001b[0mself\u001b[0m\u001b[1;33m.\u001b[0m\u001b[0m_proxy_host\u001b[0m\u001b[1;33m,\u001b[0m \u001b[0mself\u001b[0m\u001b[1;33m.\u001b[0m\u001b[0mport\u001b[0m\u001b[1;33m,\u001b[0m \u001b[0mself\u001b[0m\u001b[1;33m.\u001b[0m\u001b[0mproxy_headers\u001b[0m\u001b[1;33m)\u001b[0m\u001b[1;33m\u001b[0m\u001b[1;33m\u001b[0m\u001b[0m\n\u001b[1;32m--> 805\u001b[1;33m         \u001b[0mconn\u001b[0m\u001b[1;33m.\u001b[0m\u001b[0mconnect\u001b[0m\u001b[1;33m(\u001b[0m\u001b[1;33m)\u001b[0m\u001b[1;33m\u001b[0m\u001b[1;33m\u001b[0m\u001b[0m\n\u001b[0m\u001b[0;32m    806\u001b[0m \u001b[1;33m\u001b[0m\u001b[0m\n\u001b[0;32m    807\u001b[0m     \u001b[1;32mdef\u001b[0m \u001b[0m_new_conn\u001b[0m\u001b[1;33m(\u001b[0m\u001b[0mself\u001b[0m\u001b[1;33m)\u001b[0m\u001b[1;33m:\u001b[0m\u001b[1;33m\u001b[0m\u001b[1;33m\u001b[0m\u001b[0m\n",
      "\u001b[1;32mD:\\Anaconda\\lib\\site-packages\\urllib3\\connection.py\u001b[0m in \u001b[0;36mconnect\u001b[1;34m(self)\u001b[0m\n\u001b[0;32m    342\u001b[0m             \u001b[0mca_cert_dir\u001b[0m\u001b[1;33m=\u001b[0m\u001b[0mself\u001b[0m\u001b[1;33m.\u001b[0m\u001b[0mca_cert_dir\u001b[0m\u001b[1;33m,\u001b[0m\u001b[1;33m\u001b[0m\u001b[1;33m\u001b[0m\u001b[0m\n\u001b[0;32m    343\u001b[0m             \u001b[0mserver_hostname\u001b[0m\u001b[1;33m=\u001b[0m\u001b[0mserver_hostname\u001b[0m\u001b[1;33m,\u001b[0m\u001b[1;33m\u001b[0m\u001b[1;33m\u001b[0m\u001b[0m\n\u001b[1;32m--> 344\u001b[1;33m             ssl_context=context)\n\u001b[0m\u001b[0;32m    345\u001b[0m \u001b[1;33m\u001b[0m\u001b[0m\n\u001b[0;32m    346\u001b[0m         \u001b[1;32mif\u001b[0m \u001b[0mself\u001b[0m\u001b[1;33m.\u001b[0m\u001b[0massert_fingerprint\u001b[0m\u001b[1;33m:\u001b[0m\u001b[1;33m\u001b[0m\u001b[1;33m\u001b[0m\u001b[0m\n",
      "\u001b[1;32mD:\\Anaconda\\lib\\site-packages\\urllib3\\util\\ssl_.py\u001b[0m in \u001b[0;36mssl_wrap_socket\u001b[1;34m(sock, keyfile, certfile, cert_reqs, ca_certs, server_hostname, ssl_version, ciphers, ssl_context, ca_cert_dir)\u001b[0m\n\u001b[0;32m    342\u001b[0m             or IS_SECURETRANSPORT):\n\u001b[0;32m    343\u001b[0m         \u001b[1;32mif\u001b[0m \u001b[0mHAS_SNI\u001b[0m \u001b[1;32mand\u001b[0m \u001b[0mserver_hostname\u001b[0m \u001b[1;32mis\u001b[0m \u001b[1;32mnot\u001b[0m \u001b[1;32mNone\u001b[0m\u001b[1;33m:\u001b[0m\u001b[1;33m\u001b[0m\u001b[1;33m\u001b[0m\u001b[0m\n\u001b[1;32m--> 344\u001b[1;33m             \u001b[1;32mreturn\u001b[0m \u001b[0mcontext\u001b[0m\u001b[1;33m.\u001b[0m\u001b[0mwrap_socket\u001b[0m\u001b[1;33m(\u001b[0m\u001b[0msock\u001b[0m\u001b[1;33m,\u001b[0m \u001b[0mserver_hostname\u001b[0m\u001b[1;33m=\u001b[0m\u001b[0mserver_hostname\u001b[0m\u001b[1;33m)\u001b[0m\u001b[1;33m\u001b[0m\u001b[1;33m\u001b[0m\u001b[0m\n\u001b[0m\u001b[0;32m    345\u001b[0m \u001b[1;33m\u001b[0m\u001b[0m\n\u001b[0;32m    346\u001b[0m         warnings.warn(\n",
      "\u001b[1;32mD:\\Anaconda\\lib\\site-packages\\urllib3\\contrib\\pyopenssl.py\u001b[0m in \u001b[0;36mwrap_socket\u001b[1;34m(self, sock, server_side, do_handshake_on_connect, suppress_ragged_eofs, server_hostname)\u001b[0m\n\u001b[0;32m    453\u001b[0m                 \u001b[0mcnx\u001b[0m\u001b[1;33m.\u001b[0m\u001b[0mdo_handshake\u001b[0m\u001b[1;33m(\u001b[0m\u001b[1;33m)\u001b[0m\u001b[1;33m\u001b[0m\u001b[1;33m\u001b[0m\u001b[0m\n\u001b[0;32m    454\u001b[0m             \u001b[1;32mexcept\u001b[0m \u001b[0mOpenSSL\u001b[0m\u001b[1;33m.\u001b[0m\u001b[0mSSL\u001b[0m\u001b[1;33m.\u001b[0m\u001b[0mWantReadError\u001b[0m\u001b[1;33m:\u001b[0m\u001b[1;33m\u001b[0m\u001b[1;33m\u001b[0m\u001b[0m\n\u001b[1;32m--> 455\u001b[1;33m                 \u001b[1;32mif\u001b[0m \u001b[1;32mnot\u001b[0m \u001b[0mutil\u001b[0m\u001b[1;33m.\u001b[0m\u001b[0mwait_for_read\u001b[0m\u001b[1;33m(\u001b[0m\u001b[0msock\u001b[0m\u001b[1;33m,\u001b[0m \u001b[0msock\u001b[0m\u001b[1;33m.\u001b[0m\u001b[0mgettimeout\u001b[0m\u001b[1;33m(\u001b[0m\u001b[1;33m)\u001b[0m\u001b[1;33m)\u001b[0m\u001b[1;33m:\u001b[0m\u001b[1;33m\u001b[0m\u001b[1;33m\u001b[0m\u001b[0m\n\u001b[0m\u001b[0;32m    456\u001b[0m                     \u001b[1;32mraise\u001b[0m \u001b[0mtimeout\u001b[0m\u001b[1;33m(\u001b[0m\u001b[1;34m'select timed out'\u001b[0m\u001b[1;33m)\u001b[0m\u001b[1;33m\u001b[0m\u001b[1;33m\u001b[0m\u001b[0m\n\u001b[0;32m    457\u001b[0m                 \u001b[1;32mcontinue\u001b[0m\u001b[1;33m\u001b[0m\u001b[1;33m\u001b[0m\u001b[0m\n",
      "\u001b[1;32mD:\\Anaconda\\lib\\site-packages\\urllib3\\util\\wait.py\u001b[0m in \u001b[0;36mwait_for_read\u001b[1;34m(sock, timeout)\u001b[0m\n\u001b[0;32m    141\u001b[0m     \u001b[0mReturns\u001b[0m \u001b[1;32mTrue\u001b[0m \u001b[1;32mif\u001b[0m \u001b[0mthe\u001b[0m \u001b[0msocket\u001b[0m \u001b[1;32mis\u001b[0m \u001b[0mreadable\u001b[0m\u001b[1;33m,\u001b[0m \u001b[1;32mor\u001b[0m \u001b[1;32mFalse\u001b[0m \u001b[1;32mif\u001b[0m \u001b[0mthe\u001b[0m \u001b[0mtimeout\u001b[0m \u001b[0mexpired\u001b[0m\u001b[1;33m.\u001b[0m\u001b[1;33m\u001b[0m\u001b[1;33m\u001b[0m\u001b[0m\n\u001b[0;32m    142\u001b[0m     \"\"\"\n\u001b[1;32m--> 143\u001b[1;33m     \u001b[1;32mreturn\u001b[0m \u001b[0mwait_for_socket\u001b[0m\u001b[1;33m(\u001b[0m\u001b[0msock\u001b[0m\u001b[1;33m,\u001b[0m \u001b[0mread\u001b[0m\u001b[1;33m=\u001b[0m\u001b[1;32mTrue\u001b[0m\u001b[1;33m,\u001b[0m \u001b[0mtimeout\u001b[0m\u001b[1;33m=\u001b[0m\u001b[0mtimeout\u001b[0m\u001b[1;33m)\u001b[0m\u001b[1;33m\u001b[0m\u001b[1;33m\u001b[0m\u001b[0m\n\u001b[0m\u001b[0;32m    144\u001b[0m \u001b[1;33m\u001b[0m\u001b[0m\n\u001b[0;32m    145\u001b[0m \u001b[1;33m\u001b[0m\u001b[0m\n",
      "\u001b[1;32mD:\\Anaconda\\lib\\site-packages\\urllib3\\util\\wait.py\u001b[0m in \u001b[0;36mselect_wait_for_socket\u001b[1;34m(sock, read, write, timeout)\u001b[0m\n\u001b[0;32m     81\u001b[0m     \u001b[1;31m# thing.)\u001b[0m\u001b[1;33m\u001b[0m\u001b[1;33m\u001b[0m\u001b[1;33m\u001b[0m\u001b[0m\n\u001b[0;32m     82\u001b[0m     \u001b[0mfn\u001b[0m \u001b[1;33m=\u001b[0m \u001b[0mpartial\u001b[0m\u001b[1;33m(\u001b[0m\u001b[0mselect\u001b[0m\u001b[1;33m.\u001b[0m\u001b[0mselect\u001b[0m\u001b[1;33m,\u001b[0m \u001b[0mrcheck\u001b[0m\u001b[1;33m,\u001b[0m \u001b[0mwcheck\u001b[0m\u001b[1;33m,\u001b[0m \u001b[0mwcheck\u001b[0m\u001b[1;33m)\u001b[0m\u001b[1;33m\u001b[0m\u001b[1;33m\u001b[0m\u001b[0m\n\u001b[1;32m---> 83\u001b[1;33m     \u001b[0mrready\u001b[0m\u001b[1;33m,\u001b[0m \u001b[0mwready\u001b[0m\u001b[1;33m,\u001b[0m \u001b[0mxready\u001b[0m \u001b[1;33m=\u001b[0m \u001b[0m_retry_on_intr\u001b[0m\u001b[1;33m(\u001b[0m\u001b[0mfn\u001b[0m\u001b[1;33m,\u001b[0m \u001b[0mtimeout\u001b[0m\u001b[1;33m)\u001b[0m\u001b[1;33m\u001b[0m\u001b[1;33m\u001b[0m\u001b[0m\n\u001b[0m\u001b[0;32m     84\u001b[0m     \u001b[1;32mreturn\u001b[0m \u001b[0mbool\u001b[0m\u001b[1;33m(\u001b[0m\u001b[0mrready\u001b[0m \u001b[1;32mor\u001b[0m \u001b[0mwready\u001b[0m \u001b[1;32mor\u001b[0m \u001b[0mxready\u001b[0m\u001b[1;33m)\u001b[0m\u001b[1;33m\u001b[0m\u001b[1;33m\u001b[0m\u001b[0m\n\u001b[0;32m     85\u001b[0m \u001b[1;33m\u001b[0m\u001b[0m\n",
      "\u001b[1;32mD:\\Anaconda\\lib\\site-packages\\urllib3\\util\\wait.py\u001b[0m in \u001b[0;36m_retry_on_intr\u001b[1;34m(fn, timeout)\u001b[0m\n\u001b[0;32m     40\u001b[0m     \u001b[1;31m# Modern Python, that retries syscalls by default\u001b[0m\u001b[1;33m\u001b[0m\u001b[1;33m\u001b[0m\u001b[1;33m\u001b[0m\u001b[0m\n\u001b[0;32m     41\u001b[0m     \u001b[1;32mdef\u001b[0m \u001b[0m_retry_on_intr\u001b[0m\u001b[1;33m(\u001b[0m\u001b[0mfn\u001b[0m\u001b[1;33m,\u001b[0m \u001b[0mtimeout\u001b[0m\u001b[1;33m)\u001b[0m\u001b[1;33m:\u001b[0m\u001b[1;33m\u001b[0m\u001b[1;33m\u001b[0m\u001b[0m\n\u001b[1;32m---> 42\u001b[1;33m         \u001b[1;32mreturn\u001b[0m \u001b[0mfn\u001b[0m\u001b[1;33m(\u001b[0m\u001b[0mtimeout\u001b[0m\u001b[1;33m)\u001b[0m\u001b[1;33m\u001b[0m\u001b[1;33m\u001b[0m\u001b[0m\n\u001b[0m\u001b[0;32m     43\u001b[0m \u001b[1;32melse\u001b[0m\u001b[1;33m:\u001b[0m\u001b[1;33m\u001b[0m\u001b[1;33m\u001b[0m\u001b[0m\n\u001b[0;32m     44\u001b[0m     \u001b[1;31m# Old and broken Pythons.\u001b[0m\u001b[1;33m\u001b[0m\u001b[1;33m\u001b[0m\u001b[1;33m\u001b[0m\u001b[0m\n",
      "\u001b[1;31mKeyboardInterrupt\u001b[0m: "
     ]
    }
   ],
   "source": [
    "uni2word_4 = {}\n",
    "for font_name in see_progress(font_namelist):\n",
    "    print(font_name)\n",
    "    word_result = baidu_OCR(\"./DianPing_font_5/\"+font_name+\".jpg\")\n",
    "    print(word_result)\n",
    "    uni2word_4[\"font_name\"] = word_result"
   ]
  },
  {
   "cell_type": "code",
   "execution_count": 132,
   "metadata": {},
   "outputs": [],
   "source": []
  },
  {
   "cell_type": "code",
   "execution_count": 133,
   "metadata": {},
   "outputs": [
    {
     "data": {
      "text/plain": [
       "'潮汕牛肉火锅'"
      ]
     },
     "execution_count": 133,
     "metadata": {},
     "output_type": "execute_result"
    }
   ],
   "source": [
    "get_text_result(shop_tag)"
   ]
  },
  {
   "cell_type": "code",
   "execution_count": 13,
   "metadata": {},
   "outputs": [],
   "source": [
    "import cv2\n",
    "# 对数据的处理\n",
    "image = cv2.imread(\"./DianPing_font_4/unie00f.jpg\")\n",
    "cv2.imshow(\"Original\",image)\n",
    "cv2.waitKey(0)\n",
    "cv2.destroyAllWindows()\n",
    "\n",
    "# blur = cv2.medianBlur(img, 3)  # 中值滤波函数\n",
    "# blur = cv2.bilateralFilter(image, 3, 560, 560)  # 双边滤波函数 560：0.28"
   ]
  },
  {
   "cell_type": "code",
   "execution_count": 40,
   "metadata": {},
   "outputs": [
    {
     "name": "stderr",
     "output_type": "stream",
     "text": [
      "100% (591 of 591) |######################| Elapsed Time: 0:00:02 Time:  0:00:02\n"
     ]
    }
   ],
   "source": [
    "for font_name in see_progress(font_namelist):\n",
    "    image = cv2.imread(\"./DianPing_font_4/\"+font_name+\".jpg\")\n",
    "    blur = cv2.bilateralFilter(image, 20, 200, 200) # 双边滤波函数\n",
    "    cv2.imwrite(\"./DianPing_font_5/\"+font_name+\".jpg\",blur)\n",
    "#cv2.imshow(\"now\",blur)\n",
    "#cv2.waitKey(0)\n",
    "#cv2.destroyAllWindows()"
   ]
  },
  {
   "cell_type": "code",
   "execution_count": 44,
   "metadata": {},
   "outputs": [
    {
     "name": "stdout",
     "output_type": "stream",
     "text": [
      "Help on Response in module requests.models object:\n",
      "\n",
      "class Response(builtins.object)\n",
      " |  The :class:`Response <Response>` object, which contains a\n",
      " |  server's response to an HTTP request.\n",
      " |  \n",
      " |  Methods defined here:\n",
      " |  \n",
      " |  __bool__(self)\n",
      " |      Returns True if :attr:`status_code` is less than 400.\n",
      " |      \n",
      " |      This attribute checks if the status code of the response is between\n",
      " |      400 and 600 to see if there was a client error or a server error. If\n",
      " |      the status code, is between 200 and 400, this will return True. This\n",
      " |      is **not** a check to see if the response code is ``200 OK``.\n",
      " |  \n",
      " |  __enter__(self)\n",
      " |  \n",
      " |  __exit__(self, *args)\n",
      " |  \n",
      " |  __getstate__(self)\n",
      " |  \n",
      " |  __init__(self)\n",
      " |      Initialize self.  See help(type(self)) for accurate signature.\n",
      " |  \n",
      " |  __iter__(self)\n",
      " |      Allows you to use a response as an iterator.\n",
      " |  \n",
      " |  __nonzero__(self)\n",
      " |      Returns True if :attr:`status_code` is less than 400.\n",
      " |      \n",
      " |      This attribute checks if the status code of the response is between\n",
      " |      400 and 600 to see if there was a client error or a server error. If\n",
      " |      the status code, is between 200 and 400, this will return True. This\n",
      " |      is **not** a check to see if the response code is ``200 OK``.\n",
      " |  \n",
      " |  __repr__(self)\n",
      " |      Return repr(self).\n",
      " |  \n",
      " |  __setstate__(self, state)\n",
      " |  \n",
      " |  close(self)\n",
      " |      Releases the connection back to the pool. Once this method has been\n",
      " |      called the underlying ``raw`` object must not be accessed again.\n",
      " |      \n",
      " |      *Note: Should not normally need to be called explicitly.*\n",
      " |  \n",
      " |  iter_content(self, chunk_size=1, decode_unicode=False)\n",
      " |      Iterates over the response data.  When stream=True is set on the\n",
      " |      request, this avoids reading the content at once into memory for\n",
      " |      large responses.  The chunk size is the number of bytes it should\n",
      " |      read into memory.  This is not necessarily the length of each item\n",
      " |      returned as decoding can take place.\n",
      " |      \n",
      " |      chunk_size must be of type int or None. A value of None will\n",
      " |      function differently depending on the value of `stream`.\n",
      " |      stream=True will read data as it arrives in whatever size the\n",
      " |      chunks are received. If stream=False, data is returned as\n",
      " |      a single chunk.\n",
      " |      \n",
      " |      If decode_unicode is True, content will be decoded using the best\n",
      " |      available encoding based on the response.\n",
      " |  \n",
      " |  iter_lines(self, chunk_size=512, decode_unicode=False, delimiter=None)\n",
      " |      Iterates over the response data, one line at a time.  When\n",
      " |      stream=True is set on the request, this avoids reading the\n",
      " |      content at once into memory for large responses.\n",
      " |      \n",
      " |      .. note:: This method is not reentrant safe.\n",
      " |  \n",
      " |  json(self, **kwargs)\n",
      " |      Returns the json-encoded content of a response, if any.\n",
      " |      \n",
      " |      :param \\*\\*kwargs: Optional arguments that ``json.loads`` takes.\n",
      " |      :raises ValueError: If the response body does not contain valid json.\n",
      " |  \n",
      " |  raise_for_status(self)\n",
      " |      Raises stored :class:`HTTPError`, if one occurred.\n",
      " |  \n",
      " |  ----------------------------------------------------------------------\n",
      " |  Data descriptors defined here:\n",
      " |  \n",
      " |  __dict__\n",
      " |      dictionary for instance variables (if defined)\n",
      " |  \n",
      " |  __weakref__\n",
      " |      list of weak references to the object (if defined)\n",
      " |  \n",
      " |  apparent_encoding\n",
      " |      The apparent encoding, provided by the chardet library.\n",
      " |  \n",
      " |  content\n",
      " |      Content of the response, in bytes.\n",
      " |  \n",
      " |  is_permanent_redirect\n",
      " |      True if this Response one of the permanent versions of redirect.\n",
      " |  \n",
      " |  is_redirect\n",
      " |      True if this Response is a well-formed HTTP redirect that could have\n",
      " |      been processed automatically (by :meth:`Session.resolve_redirects`).\n",
      " |  \n",
      " |  links\n",
      " |      Returns the parsed header links of the response, if any.\n",
      " |  \n",
      " |  next\n",
      " |      Returns a PreparedRequest for the next request in a redirect chain, if there is one.\n",
      " |  \n",
      " |  ok\n",
      " |      Returns True if :attr:`status_code` is less than 400, False if not.\n",
      " |      \n",
      " |      This attribute checks if the status code of the response is between\n",
      " |      400 and 600 to see if there was a client error or a server error. If\n",
      " |      the status code is between 200 and 400, this will return True. This\n",
      " |      is **not** a check to see if the response code is ``200 OK``.\n",
      " |  \n",
      " |  text\n",
      " |      Content of the response, in unicode.\n",
      " |      \n",
      " |      If Response.encoding is None, encoding will be guessed using\n",
      " |      ``chardet``.\n",
      " |      \n",
      " |      The encoding of the response content is determined based solely on HTTP\n",
      " |      headers, following RFC 2616 to the letter. If you can take advantage of\n",
      " |      non-HTTP knowledge to make a better guess at the encoding, you should\n",
      " |      set ``r.encoding`` appropriately before accessing this property.\n",
      " |  \n",
      " |  ----------------------------------------------------------------------\n",
      " |  Data and other attributes defined here:\n",
      " |  \n",
      " |  __attrs__ = ['_content', 'status_code', 'headers', 'url', 'history', '...\n",
      "\n"
     ]
    }
   ],
   "source": [
    "help(r)"
   ]
  },
  {
   "cell_type": "code",
   "execution_count": 187,
   "metadata": {},
   "outputs": [
    {
     "name": "stdout",
     "output_type": "stream",
     "text": [
      "Help on module reportlab.graphics.renderPM in reportlab.graphics:\n",
      "\n",
      "NAME\n",
      "    reportlab.graphics.renderPM - Render drawing objects in common bitmap formats\n",
      "\n",
      "DESCRIPTION\n",
      "    Usage::\n",
      "    \n",
      "        from reportlab.graphics import renderPM\n",
      "        renderPM.drawToFile(drawing,filename,fmt='GIF',configPIL={....})\n",
      "    \n",
      "    Other functions let you create a PM drawing as string or into a PM buffer.\n",
      "    Execute the script to see some test drawings.\n",
      "\n",
      "CLASSES\n",
      "    builtins.Exception(builtins.BaseException)\n",
      "        RenderPMError\n",
      "    builtins.object\n",
      "        PMCanvas\n",
      "    \n",
      "    class PMCanvas(builtins.object)\n",
      "     |  PMCanvas(w, h, dpi=72, bg=16777215, configPIL=None)\n",
      "     |  \n",
      "     |  Methods defined here:\n",
      "     |  \n",
      "     |  __getattr__(self, name)\n",
      "     |  \n",
      "     |  __init__(self, w, h, dpi=72, bg=16777215, configPIL=None)\n",
      "     |      configPIL dict is passed to image save method\n",
      "     |  \n",
      "     |  __setattr__(self, name, value)\n",
      "     |      Implement setattr(self, name, value).\n",
      "     |  \n",
      "     |  addEllipsoidalArc(self, cx, cy, rx, ry, ang1, ang2)\n",
      "     |      adds an ellisesoidal arc segment to a path, with an ellipse centered\n",
      "     |      on cx,cy and with radii (major & minor axes) rx and ry.  The arc is\n",
      "     |      drawn in the CCW direction.  Requires: (ang2-ang1) > 0\n",
      "     |  \n",
      "     |  bezierArcCCW(self, cx, cy, rx, ry, theta0, theta1)\n",
      "     |      return a set of control points for Bezier approximation to an arc\n",
      "     |      with angle increasing counter clockwise. No requirement on (theta1-theta0) <= 90\n",
      "     |      However, it must be true that theta1-theta0 > 0.\n",
      "     |  \n",
      "     |  circle(self, cx, cy, r)\n",
      "     |      add closed path circle with center cx,cy and axes r: counter-clockwise orientation\n",
      "     |  \n",
      "     |  drawCentredString(self, x, y, text, text_anchor='middle')\n",
      "     |  \n",
      "     |  drawRightString(self, text, x, y)\n",
      "     |  \n",
      "     |  drawString(self, x, y, text, _fontInfo=None)\n",
      "     |  \n",
      "     |  ellipse(self, cx, cy, rx, ry)\n",
      "     |      add closed path ellipse with center cx,cy and axes rx,ry: counter-clockwise orientation\n",
      "     |      (remember y-axis increases downward)\n",
      "     |  \n",
      "     |  fillstrokepath(self, stroke=1, fill=1)\n",
      "     |  \n",
      "     |  line(self, x1, y1, x2, y2)\n",
      "     |  \n",
      "     |  rect(self, x, y, width, height, stroke=1, fill=1)\n",
      "     |  \n",
      "     |  restoreState = saveState(self)\n",
      "     |  \n",
      "     |  roundRect(self, x, y, width, height, rx, ry)\n",
      "     |      rect(self, x, y, width, height, rx,ry):\n",
      "     |      Draw a rectangle if rx or rx and ry are specified the corners are\n",
      "     |      rounded with ellipsoidal arcs determined by rx and ry\n",
      "     |      (drawn in the counter-clockwise direction)\n",
      "     |  \n",
      "     |  saveState(self)\n",
      "     |      do nothing for compatibility\n",
      "     |  \n",
      "     |  saveToFile(self, fn, fmt=None)\n",
      "     |  \n",
      "     |  saveToString(self, fmt='GIF')\n",
      "     |  \n",
      "     |  setFillColor(self, aColor)\n",
      "     |  \n",
      "     |  setFont(self, fontName, fontSize, leading=None)\n",
      "     |  \n",
      "     |  setLineCap(self, cap)\n",
      "     |      # compatibility routines\n",
      "     |  \n",
      "     |  setLineJoin(self, join)\n",
      "     |  \n",
      "     |  setLineWidth(self, width)\n",
      "     |  \n",
      "     |  setStrokeColor(self, aColor)\n",
      "     |  \n",
      "     |  toPIL(self)\n",
      "     |  \n",
      "     |  ----------------------------------------------------------------------\n",
      "     |  Data descriptors defined here:\n",
      "     |  \n",
      "     |  __dict__\n",
      "     |      dictionary for instance variables (if defined)\n",
      "     |  \n",
      "     |  __weakref__\n",
      "     |      list of weak references to the object (if defined)\n",
      "    \n",
      "    class RenderPMError(builtins.Exception)\n",
      "     |  Common base class for all non-exit exceptions.\n",
      "     |  \n",
      "     |  Method resolution order:\n",
      "     |      RenderPMError\n",
      "     |      builtins.Exception\n",
      "     |      builtins.BaseException\n",
      "     |      builtins.object\n",
      "     |  \n",
      "     |  Data descriptors defined here:\n",
      "     |  \n",
      "     |  __weakref__\n",
      "     |      list of weak references to the object (if defined)\n",
      "     |  \n",
      "     |  ----------------------------------------------------------------------\n",
      "     |  Methods inherited from builtins.Exception:\n",
      "     |  \n",
      "     |  __init__(self, /, *args, **kwargs)\n",
      "     |      Initialize self.  See help(type(self)) for accurate signature.\n",
      "     |  \n",
      "     |  ----------------------------------------------------------------------\n",
      "     |  Static methods inherited from builtins.Exception:\n",
      "     |  \n",
      "     |  __new__(*args, **kwargs) from builtins.type\n",
      "     |      Create and return a new object.  See help(type) for accurate signature.\n",
      "     |  \n",
      "     |  ----------------------------------------------------------------------\n",
      "     |  Methods inherited from builtins.BaseException:\n",
      "     |  \n",
      "     |  __delattr__(self, name, /)\n",
      "     |      Implement delattr(self, name).\n",
      "     |  \n",
      "     |  __getattribute__(self, name, /)\n",
      "     |      Return getattr(self, name).\n",
      "     |  \n",
      "     |  __reduce__(...)\n",
      "     |      Helper for pickle.\n",
      "     |  \n",
      "     |  __repr__(self, /)\n",
      "     |      Return repr(self).\n",
      "     |  \n",
      "     |  __setattr__(self, name, value, /)\n",
      "     |      Implement setattr(self, name, value).\n",
      "     |  \n",
      "     |  __setstate__(...)\n",
      "     |  \n",
      "     |  __str__(self, /)\n",
      "     |      Return str(self).\n",
      "     |  \n",
      "     |  with_traceback(...)\n",
      "     |      Exception.with_traceback(tb) --\n",
      "     |      set self.__traceback__ to tb and return self.\n",
      "     |  \n",
      "     |  ----------------------------------------------------------------------\n",
      "     |  Data descriptors inherited from builtins.BaseException:\n",
      "     |  \n",
      "     |  __cause__\n",
      "     |      exception cause\n",
      "     |  \n",
      "     |  __context__\n",
      "     |      exception context\n",
      "     |  \n",
      "     |  __dict__\n",
      "     |  \n",
      "     |  __suppress_context__\n",
      "     |  \n",
      "     |  __traceback__\n",
      "     |  \n",
      "     |  args\n",
      "\n",
      "FUNCTIONS\n",
      "    Color2Hex(c)\n",
      "    \n",
      "    ascii(obj, /)\n",
      "        Return an ASCII-only representation of an object.\n",
      "        \n",
      "        As repr(), return a string containing a printable representation of an\n",
      "        object, but escape the non-ASCII characters in the string returned by\n",
      "        repr() using \\\\x, \\\\u or \\\\U escapes. This generates a string similar\n",
      "        to that returned by repr() in Python 2.\n",
      "    \n",
      "    ceil(x, /)\n",
      "        Return the ceiling of x as an Integral.\n",
      "        \n",
      "        This is the smallest integer >= x.\n",
      "    \n",
      "    cos(x, /)\n",
      "        Return the cosine of x (measured in radians).\n",
      "    \n",
      "    draw(drawing, canvas, x, y, showBoundary=<reportlab.rl_config._unset_ object at 0x000002B58C411198>)\n",
      "        As it says\n",
      "    \n",
      "    drawToFile(d, fn, fmt='GIF', dpi=72, bg=16777215, configPIL=None, showBoundary=<reportlab.rl_config._unset_ object at 0x000002B58C411198>)\n",
      "        create a pixmap and draw drawing, d to it then save as a file\n",
      "        configPIL dict is passed to image save method\n",
      "    \n",
      "    drawToPIL(d, dpi=72, bg=16777215, configPIL=None, showBoundary=<reportlab.rl_config._unset_ object at 0x000002B58C411198>)\n",
      "    \n",
      "    drawToPILP(d, dpi=72, bg=16777215, configPIL=None, showBoundary=<reportlab.rl_config._unset_ object at 0x000002B58C411198>)\n",
      "    \n",
      "    drawToPMCanvas(d, dpi=72, bg=16777215, configPIL=None, showBoundary=<reportlab.rl_config._unset_ object at 0x000002B58C411198>)\n",
      "    \n",
      "    drawToString(d, fmt='GIF', dpi=72, bg=16777215, configPIL=None, showBoundary=<reportlab.rl_config._unset_ object at 0x000002B58C411198>)\n",
      "    \n",
      "    floor(x, /)\n",
      "        Return the floor of x as an Integral.\n",
      "        \n",
      "        This is the largest integer <= x.\n",
      "    \n",
      "    fp_str(...)\n",
      "        fp_str(a0, a1,...) convert numerics to blank separated string\n",
      "    \n",
      "    radians(x, /)\n",
      "        Convert angle x from degrees to radians.\n",
      "    \n",
      "    save = drawToFile(d, fn, fmt='GIF', dpi=72, bg=16777215, configPIL=None, showBoundary=<reportlab.rl_config._unset_ object at 0x000002B58C411198>)\n",
      "        create a pixmap and draw drawing, d to it then save as a file\n",
      "        configPIL dict is passed to image save method\n",
      "    \n",
      "    sin(x, /)\n",
      "        Return the sine of x (measured in radians).\n",
      "    \n",
      "    sqrt(x, /)\n",
      "        Return the square root of x.\n",
      "    \n",
      "    tan(x, /)\n",
      "        Return the tangent of x (measured in radians).\n",
      "    \n",
      "    test(outDir='pmout', shout=False)\n",
      "    \n",
      "    unicode2T1(...)\n",
      "        return a list of (font,string) pairs representing the unicode text\n",
      "\n",
      "DATA\n",
      "    BEZIER_ARC_MAGIC = 0.5522847498\n",
      "    EVEN_ODD = 'Even-Odd'\n",
      "    EmptyClipPath = <reportlab.graphics.shapes.Path object>\n",
      "    FILL_EVEN_ODD = 0\n",
      "    FILL_NON_ZERO = 1\n",
      "    NON_ZERO_WINDING = 'Non-Zero Winding'\n",
      "    STATE_DEFAULTS = {'fillColor': Color(0,0,0,1), 'fillMode': 0, 'fillOpa...\n",
      "    decimalSymbol = '.'\n",
      "    inherit = inherit\n",
      "    isAnything = <reportlab.lib.validators._isAnything object>\n",
      "    isAuto = <reportlab.lib.validators.Auto object>\n",
      "    isBoolean = <reportlab.lib.validators._isBoolean object>\n",
      "    isBoxAnchor = <reportlab.lib.validators.OneOf object>\n",
      "    isCallable = <reportlab.lib.validators._isCallable object>\n",
      "    isCodec = <reportlab.lib.validators._isCodec object>\n",
      "    isColor = <reportlab.lib.validators._isColor object>\n",
      "    isColorOrNone = <reportlab.lib.validators._isColorOrNone object>\n",
      "    isInt = <reportlab.lib.validators._isInt object>\n",
      "    isListOfColors = <reportlab.lib.validators.SequenceOf object>\n",
      "    isListOfListOfNoneOrNumber = <reportlab.lib.validators.SequenceOf obje...\n",
      "    isListOfNoneOrNumber = <reportlab.lib.validators.SequenceOf object>\n",
      "    isListOfNoneOrString = <reportlab.lib.validators.SequenceOf object>\n",
      "    isListOfNumbers = <reportlab.lib.validators.SequenceOf object>\n",
      "    isListOfNumbersOrNone = <reportlab.lib.validators._isListOfNumbersOrNo...\n",
      "    isListOfShapes = <reportlab.lib.validators._isListOfShapes object>\n",
      "    isListOfStrings = <reportlab.lib.validators.SequenceOf object>\n",
      "    isListOfStringsOrNone = <reportlab.lib.validators._isListOfStringsOrNo...\n",
      "    isNoneOrCallable = <reportlab.lib.validators.NoneOr object>\n",
      "    isNoneOrInt = <reportlab.lib.validators.NoneOr object>\n",
      "    isNoneOrListOfNoneOrNumbers = <reportlab.lib.validators.SequenceOf obj...\n",
      "    isNoneOrListOfNoneOrStrings = <reportlab.lib.validators.SequenceOf obj...\n",
      "    isNoneOrShape = <reportlab.lib.validators._isValidChildOrNone object>\n",
      "    isNoneOrString = <reportlab.lib.validators.NoneOr object>\n",
      "    isNormalDate = <reportlab.lib.validators._isNormalDate object>\n",
      "    isNotSet = <reportlab.lib.validators._isNotSet object>\n",
      "    isNothing = <reportlab.lib.validators._isNothing object>\n",
      "    isNumber = <reportlab.lib.validators._isNumber object>\n",
      "    isNumberOrNone = <reportlab.lib.validators._isNumberOrNone object>\n",
      "    isOpacity = <reportlab.lib.validators.NoneOr object>\n",
      "    isPy3 = True\n",
      "    isShape = <reportlab.lib.validators._isValidChild object>\n",
      "    isString = <reportlab.lib.validators._isString object>\n",
      "    isStringOrCallable = <reportlab.lib.validators.EitherOr object>\n",
      "    isStringOrCallableOrNone = <reportlab.lib.validators.NoneOr object>\n",
      "    isStringOrNone = <reportlab.lib.validators.NoneOr object>\n",
      "    isStrokeDashArray = <reportlab.graphics.shapes.isStrokeDashArray objec...\n",
      "    isTextAnchor = <reportlab.lib.validators.OneOf object>\n",
      "    isTransform = <reportlab.lib.validators._isTransform object>\n",
      "    isValidChild = <reportlab.lib.validators._isValidChild object>\n",
      "    isValidChildOrNone = <reportlab.lib.validators._isValidChildOrNone obj...\n",
      "    isXYCoord = <reportlab.lib.validators.SequenceOf object>\n",
      "    pi = 3.141592653589793\n",
      "    shapeChecking = 1\n",
      "    verbose = 0\n",
      "\n",
      "VERSION\n",
      "    3.3.0\n",
      "\n",
      "FILE\n",
      "    d:\\anaconda\\lib\\site-packages\\reportlab\\graphics\\renderpm.py\n",
      "\n",
      "\n"
     ]
    }
   ],
   "source": [
    "help(renderPM)"
   ]
  },
  {
   "cell_type": "code",
   "execution_count": 177,
   "metadata": {},
   "outputs": [
    {
     "data": {
      "text/plain": [
       "{'glyph00000': 0,\n",
       " 'x': 1,\n",
       " 'unie0eb': 2,\n",
       " 'unif18a': 3,\n",
       " 'unie27e': 4,\n",
       " 'unif42a': 5,\n",
       " 'unif330': 6,\n",
       " 'unie78e': 7,\n",
       " 'unieb8c': 8,\n",
       " 'unif4f8': 9,\n",
       " 'unie6b2': 10,\n",
       " 'unied49': 11,\n",
       " 'unied27': 12,\n",
       " 'unie7f1': 13,\n",
       " 'unif800': 14,\n",
       " 'unif317': 15,\n",
       " 'unie213': 16,\n",
       " 'unif15a': 17,\n",
       " 'unif7ce': 18,\n",
       " 'unif8ee': 19,\n",
       " 'unie9a1': 20,\n",
       " 'unif881': 21,\n",
       " 'unif846': 22,\n",
       " 'uniea60': 23,\n",
       " 'unie28e': 24,\n",
       " 'unie8cf': 25,\n",
       " 'unif004': 26,\n",
       " 'unie584': 27,\n",
       " 'unif882': 28,\n",
       " 'unif59f': 29,\n",
       " 'unie61e': 30,\n",
       " 'unif8a6': 31,\n",
       " 'unif4f5': 32,\n",
       " 'uniebd1': 33,\n",
       " 'unie47a': 34,\n",
       " 'unif0bc': 35,\n",
       " 'unie12f': 36,\n",
       " 'unie453': 37,\n",
       " 'unif297': 38,\n",
       " 'unif495': 39,\n",
       " 'uniede1': 40,\n",
       " 'unif64d': 41,\n",
       " 'unif01f': 42,\n",
       " 'unieba3': 43,\n",
       " 'uniebc1': 44,\n",
       " 'uniefc3': 45,\n",
       " 'unif446': 46,\n",
       " 'unie15b': 47,\n",
       " 'unie9a5': 48,\n",
       " 'unif069': 49,\n",
       " 'unif03c': 50,\n",
       " 'unif5f9': 51,\n",
       " 'unie96b': 52,\n",
       " 'unif0f5': 53,\n",
       " 'unif0e5': 54,\n",
       " 'unif74a': 55,\n",
       " 'uniee2a': 56,\n",
       " 'unie8c4': 57,\n",
       " 'uniee0c': 58,\n",
       " 'unie143': 59,\n",
       " 'uniebb0': 60,\n",
       " 'unie7c2': 61,\n",
       " 'unif65c': 62,\n",
       " 'uniee93': 63,\n",
       " 'unie7ec': 64,\n",
       " 'unie204': 65,\n",
       " 'unif315': 66,\n",
       " 'unieb53': 67,\n",
       " 'unie8ee': 68,\n",
       " 'unie075': 69,\n",
       " 'unie969': 70,\n",
       " 'unie26a': 71,\n",
       " 'unie540': 72,\n",
       " 'unie1bf': 73,\n",
       " 'unie1d8': 74,\n",
       " 'unif781': 75,\n",
       " 'unie630': 76,\n",
       " 'unie8be': 77,\n",
       " 'unif264': 78,\n",
       " 'unie333': 79,\n",
       " 'unie369': 80,\n",
       " 'unieef8': 81,\n",
       " 'unif00e': 82,\n",
       " 'unif86d': 83,\n",
       " 'unie425': 84,\n",
       " 'unif29b': 85,\n",
       " 'unif55e': 86,\n",
       " 'uniea05': 87,\n",
       " 'uniefed': 88,\n",
       " 'unief38': 89,\n",
       " 'unie13d': 90,\n",
       " 'unie46e': 91,\n",
       " 'unieffe': 92,\n",
       " 'unie2c6': 93,\n",
       " 'unied66': 94,\n",
       " 'unie4d6': 95,\n",
       " 'unie5ad': 96,\n",
       " 'unieb77': 97,\n",
       " 'unif4df': 98,\n",
       " 'unie6ea': 99,\n",
       " 'uniee00': 100,\n",
       " 'unif713': 101,\n",
       " 'unie206': 102,\n",
       " 'unif604': 103,\n",
       " 'unif5dd': 104,\n",
       " 'unie231': 105,\n",
       " 'uniece4': 106,\n",
       " 'unif75c': 107,\n",
       " 'unie985': 108,\n",
       " 'unif1ac': 109,\n",
       " 'unif4c2': 110,\n",
       " 'unif0fb': 111,\n",
       " 'unie9b1': 112,\n",
       " 'unie83d': 113,\n",
       " 'uniee9f': 114,\n",
       " 'unif43c': 115,\n",
       " 'unie8cc': 116,\n",
       " 'unif3a0': 117,\n",
       " 'unieb3a': 118,\n",
       " 'unif210': 119,\n",
       " 'unif222': 120,\n",
       " 'unieeac': 121,\n",
       " 'unie798': 122,\n",
       " 'unif59b': 123,\n",
       " 'unied7f': 124,\n",
       " 'unif2b4': 125,\n",
       " 'unie544': 126,\n",
       " 'uniede5': 127,\n",
       " 'unief99': 128,\n",
       " 'unie6f5': 129,\n",
       " 'unie5d9': 130,\n",
       " 'unie797': 131,\n",
       " 'uniee41': 132,\n",
       " 'unief2f': 133,\n",
       " 'unie64d': 134,\n",
       " 'unif08b': 135,\n",
       " 'unie9f0': 136,\n",
       " 'unie2be': 137,\n",
       " 'unie3e3': 138,\n",
       " 'unie464': 139,\n",
       " 'unif433': 140,\n",
       " 'unif411': 141,\n",
       " 'unie197': 142,\n",
       " 'uniee60': 143,\n",
       " 'unief31': 144,\n",
       " 'uniee9c': 145,\n",
       " 'unie5e6': 146,\n",
       " 'unif71a': 147,\n",
       " 'unif6a6': 148,\n",
       " 'unie1c0': 149,\n",
       " 'unie6c9': 150,\n",
       " 'unie201': 151,\n",
       " 'unie8e4': 152,\n",
       " 'unie4bd': 153,\n",
       " 'uniecb4': 154,\n",
       " 'uniee57': 155,\n",
       " 'unif57e': 156,\n",
       " 'unif0db': 157,\n",
       " 'uniec1b': 158,\n",
       " 'unie216': 159,\n",
       " 'unie639': 160,\n",
       " 'unie7b0': 161,\n",
       " 'uniefbb': 162,\n",
       " 'uniefe2': 163,\n",
       " 'unif5d4': 164,\n",
       " 'unieb6b': 165,\n",
       " 'unif1a1': 166,\n",
       " 'uniee35': 167,\n",
       " 'unie5dc': 168,\n",
       " 'unif518': 169,\n",
       " 'unie2a6': 170,\n",
       " 'unif8c6': 171,\n",
       " 'unieadf': 172,\n",
       " 'unief14': 173,\n",
       " 'unif139': 174,\n",
       " 'unif290': 175,\n",
       " 'unif613': 176,\n",
       " 'unif3ad': 177,\n",
       " 'unieb55': 178,\n",
       " 'unie11e': 179,\n",
       " 'uniecdd': 180,\n",
       " 'unif8b5': 181,\n",
       " 'unif102': 182,\n",
       " 'unie3fe': 183,\n",
       " 'unif4da': 184,\n",
       " 'unie6e8': 185,\n",
       " 'unied90': 186,\n",
       " 'unie5bd': 187,\n",
       " 'uniec91': 188,\n",
       " 'unieb11': 189,\n",
       " 'unif6c3': 190,\n",
       " 'unie275': 191,\n",
       " 'unieb63': 192,\n",
       " 'unie995': 193,\n",
       " 'uniebe0': 194,\n",
       " 'unie184': 195,\n",
       " 'unie775': 196,\n",
       " 'uniee8b': 197,\n",
       " 'unif0a0': 198,\n",
       " 'unif36d': 199,\n",
       " 'unie6d6': 200,\n",
       " 'uniea28': 201,\n",
       " 'uniea4e': 202,\n",
       " 'unif824': 203,\n",
       " 'unif1bd': 204,\n",
       " 'unif4ff': 205,\n",
       " 'uniee8f': 206,\n",
       " 'unif38a': 207,\n",
       " 'uniee49': 208,\n",
       " 'unie588': 209,\n",
       " 'unieeda': 210,\n",
       " 'unif7e4': 211,\n",
       " 'uniecc6': 212,\n",
       " 'unieb99': 213,\n",
       " 'unie629': 214,\n",
       " 'uniec03': 215,\n",
       " 'unied3e': 216,\n",
       " 'unied48': 217,\n",
       " 'uniec4b': 218,\n",
       " 'unie95b': 219,\n",
       " 'unie63b': 220,\n",
       " 'unie13e': 221,\n",
       " 'uniee2d': 222,\n",
       " 'unie2a8': 223,\n",
       " 'unif4fc': 224,\n",
       " 'unif788': 225,\n",
       " 'unie37b': 226,\n",
       " 'unie450': 227,\n",
       " 'unie6e3': 228,\n",
       " 'unif70b': 229,\n",
       " 'unie7b8': 230,\n",
       " 'unie2b5': 231,\n",
       " 'unif540': 232,\n",
       " 'unie190': 233,\n",
       " 'unif423': 234,\n",
       " 'unie25d': 235,\n",
       " 'unif26e': 236,\n",
       " 'unie8af': 237,\n",
       " 'unif6d9': 238,\n",
       " 'unie521': 239,\n",
       " 'unie748': 240,\n",
       " 'unied22': 241,\n",
       " 'unieeea': 242,\n",
       " 'unie902': 243,\n",
       " 'unif4f9': 244,\n",
       " 'unif492': 245,\n",
       " 'unie578': 246,\n",
       " 'unie930': 247,\n",
       " 'unif68f': 248,\n",
       " 'unif29e': 249,\n",
       " 'unied0b': 250,\n",
       " 'unief6b': 251,\n",
       " 'unie3d0': 252,\n",
       " 'unif33c': 253,\n",
       " 'unie247': 254,\n",
       " 'unif798': 255,\n",
       " 'uniec7d': 256,\n",
       " 'unie9b9': 257,\n",
       " 'unif3da': 258,\n",
       " 'unie8a8': 259,\n",
       " 'unie8de': 260,\n",
       " 'unif78f': 261,\n",
       " 'unie08e': 262,\n",
       " 'unieb19': 263,\n",
       " 'unie699': 264,\n",
       " 'uniec07': 265,\n",
       " 'unie2f2': 266,\n",
       " 'unieaa5': 267,\n",
       " 'unif1b1': 268,\n",
       " 'unie86f': 269,\n",
       " 'unif516': 270,\n",
       " 'unif674': 271,\n",
       " 'uniea52': 272,\n",
       " 'unie188': 273,\n",
       " 'unif870': 274,\n",
       " 'unieb0f': 275,\n",
       " 'unie9f5': 276,\n",
       " 'unif83d': 277,\n",
       " 'uniec7a': 278,\n",
       " 'uniecf3': 279,\n",
       " 'unief2d': 280,\n",
       " 'unied93': 281,\n",
       " 'uniee81': 282,\n",
       " 'unie4a6': 283,\n",
       " 'unief27': 284,\n",
       " 'uniec77': 285,\n",
       " 'uniecce': 286,\n",
       " 'unif0d7': 287,\n",
       " 'unieaae': 288,\n",
       " 'unie631': 289,\n",
       " 'uniea35': 290,\n",
       " 'uniec2c': 291,\n",
       " 'unie1c6': 292,\n",
       " 'unif263': 293,\n",
       " 'unie3d5': 294,\n",
       " 'uniec7e': 295,\n",
       " 'unie410': 296,\n",
       " 'unif866': 297,\n",
       " 'unieb02': 298,\n",
       " 'unief0d': 299,\n",
       " 'unif2d2': 300,\n",
       " 'unif76d': 301,\n",
       " 'unie810': 302,\n",
       " 'unif316': 303,\n",
       " 'unie945': 304,\n",
       " 'unif243': 305,\n",
       " 'unif381': 306,\n",
       " 'unie488': 307,\n",
       " 'unif4f2': 308,\n",
       " 'unie988': 309,\n",
       " 'unif815': 310,\n",
       " 'unif09f': 311,\n",
       " 'unie946': 312,\n",
       " 'unie321': 313,\n",
       " 'uniec84': 314,\n",
       " 'unif1d0': 315,\n",
       " 'unif62c': 316,\n",
       " 'unie3dc': 317,\n",
       " 'unie065': 318,\n",
       " 'unif132': 319,\n",
       " 'unif7b0': 320,\n",
       " 'uniecda': 321,\n",
       " 'unif554': 322,\n",
       " 'unie107': 323,\n",
       " 'unie9ed': 324,\n",
       " 'unie7dc': 325,\n",
       " 'unie949': 326,\n",
       " 'uniecef': 327,\n",
       " 'unif4ef': 328,\n",
       " 'uniecbc': 329,\n",
       " 'unif4b7': 330,\n",
       " 'unie677': 331,\n",
       " 'unieb70': 332,\n",
       " 'unie6c4': 333,\n",
       " 'unie1cf': 334,\n",
       " 'unie379': 335,\n",
       " 'unif119': 336,\n",
       " 'unie932': 337,\n",
       " 'unif7df': 338,\n",
       " 'unieec1': 339,\n",
       " 'uniecb8': 340,\n",
       " 'unif4cf': 341,\n",
       " 'unieded': 342,\n",
       " 'unieb18': 343,\n",
       " 'unieab1': 344,\n",
       " 'unie524': 345,\n",
       " 'unie92c': 346,\n",
       " 'unie244': 347,\n",
       " 'unie1e0': 348,\n",
       " 'unif28a': 349,\n",
       " 'unie04d': 350,\n",
       " 'unif4f3': 351,\n",
       " 'unif11a': 352,\n",
       " 'unif067': 353,\n",
       " 'unif425': 354,\n",
       " 'unif8d4': 355,\n",
       " 'unie5f3': 356,\n",
       " 'unie10e': 357,\n",
       " 'unie296': 358,\n",
       " 'unie4b0': 359,\n",
       " 'unie173': 360,\n",
       " 'uniea24': 361,\n",
       " 'unie1ec': 362,\n",
       " 'unie8db': 363,\n",
       " 'unif3d2': 364,\n",
       " 'unif02f': 365,\n",
       " 'unie73e': 366,\n",
       " 'unif877': 367,\n",
       " 'unif7bf': 368,\n",
       " 'uniee32': 369,\n",
       " 'unie072': 370,\n",
       " 'unie96c': 371,\n",
       " 'unif00c': 372,\n",
       " 'unif757': 373,\n",
       " 'unie076': 374,\n",
       " 'unie6b5': 375,\n",
       " 'unie982': 376,\n",
       " 'unif63a': 377,\n",
       " 'unie298': 378,\n",
       " 'unie4cd': 379,\n",
       " 'unif5f6': 380,\n",
       " 'unif14b': 381,\n",
       " 'unie5b6': 382,\n",
       " 'unieee0': 383,\n",
       " 'unie787': 384,\n",
       " 'unie9d0': 385,\n",
       " 'unied83': 386,\n",
       " 'unif5eb': 387,\n",
       " 'unie469': 388,\n",
       " 'unif710': 389,\n",
       " 'uniefb6': 390,\n",
       " 'unif124': 391,\n",
       " 'unie2fa': 392,\n",
       " 'unif2f6': 393,\n",
       " 'unied23': 394,\n",
       " 'unif7e1': 395,\n",
       " 'unie33b': 396,\n",
       " 'unie6d4': 397,\n",
       " 'unif09a': 398,\n",
       " 'unif1ce': 399,\n",
       " 'unieae4': 400,\n",
       " 'unif32c': 401,\n",
       " 'uniee8d': 402,\n",
       " 'unieb6d': 403,\n",
       " 'unif54f': 404,\n",
       " 'unie8ae': 405,\n",
       " 'unieb8a': 406,\n",
       " 'unie868': 407,\n",
       " 'unie9f2': 408,\n",
       " 'unif704': 409,\n",
       " 'unif80e': 410,\n",
       " 'unie567': 411,\n",
       " 'uniebd6': 412,\n",
       " 'unie2bf': 413,\n",
       " 'unif320': 414,\n",
       " 'unie117': 415,\n",
       " 'unie4b8': 416,\n",
       " 'unif384': 417,\n",
       " 'unie783': 418,\n",
       " 'unif072': 419,\n",
       " 'unieb3b': 420,\n",
       " 'unif6af': 421,\n",
       " 'unif4fe': 422,\n",
       " 'unieff3': 423,\n",
       " 'unif096': 424,\n",
       " 'unie006': 425,\n",
       " 'unief04': 426,\n",
       " 'uniebd5': 427,\n",
       " 'uniec74': 428,\n",
       " 'uniebf3': 429,\n",
       " 'unied25': 430,\n",
       " 'unie8e5': 431,\n",
       " 'unif70c': 432,\n",
       " 'unie0aa': 433,\n",
       " 'unie8f3': 434,\n",
       " 'unief9a': 435,\n",
       " 'unied26': 436,\n",
       " 'uniee79': 437,\n",
       " 'uniece1': 438,\n",
       " 'unie8bf': 439,\n",
       " 'unif0c5': 440,\n",
       " 'unif044': 441,\n",
       " 'unieee3': 442,\n",
       " 'unif2d0': 443,\n",
       " 'unif3ee': 444,\n",
       " 'unie200': 445,\n",
       " 'unie980': 446,\n",
       " 'unie74e': 447,\n",
       " 'unie718': 448,\n",
       " 'uniecdb': 449,\n",
       " 'unie2d4': 450,\n",
       " 'unie407': 451,\n",
       " 'unie4a1': 452,\n",
       " 'unie419': 453,\n",
       " 'unieb7e': 454,\n",
       " 'unif473': 455,\n",
       " 'unieea2': 456,\n",
       " 'unif0b9': 457,\n",
       " 'unie6f8': 458,\n",
       " 'unif542': 459,\n",
       " 'unie2cd': 460,\n",
       " 'unie67d': 461,\n",
       " 'unif7da': 462,\n",
       " 'unif130': 463,\n",
       " 'unif2a9': 464,\n",
       " 'unie1a5': 465,\n",
       " 'unie32b': 466,\n",
       " 'uniecfd': 467,\n",
       " 'unie228': 468,\n",
       " 'unif616': 469,\n",
       " 'unie583': 470,\n",
       " 'unieba4': 471,\n",
       " 'unie9af': 472,\n",
       " 'uniec3e': 473,\n",
       " 'unie2ff': 474,\n",
       " 'unif0c7': 475,\n",
       " 'unie38e': 476,\n",
       " 'unie88e': 477,\n",
       " 'unif2e1': 478,\n",
       " 'unif87d': 479,\n",
       " 'unie39b': 480,\n",
       " 'unif512': 481,\n",
       " 'unie991': 482,\n",
       " 'unif023': 483,\n",
       " 'unif09c': 484,\n",
       " 'unie1a0': 485,\n",
       " 'unif04e': 486,\n",
       " 'unie3ce': 487,\n",
       " 'unie9a2': 488,\n",
       " 'unie493': 489,\n",
       " 'unieaee': 490,\n",
       " 'unie94e': 491,\n",
       " 'unie6c6': 492,\n",
       " 'unieb13': 493,\n",
       " 'unif61f': 494,\n",
       " 'unie068': 495,\n",
       " 'unif01e': 496,\n",
       " 'unie79a': 497,\n",
       " 'uniec10': 498,\n",
       " 'unieebe': 499,\n",
       " 'unif3e9': 500,\n",
       " 'unie919': 501,\n",
       " 'unie6af': 502,\n",
       " 'unif8ac': 503,\n",
       " 'unie170': 504,\n",
       " 'unie568': 505,\n",
       " 'unie2bc': 506,\n",
       " 'uniee0d': 507,\n",
       " 'unie610': 508,\n",
       " 'unif58c': 509,\n",
       " 'unie634': 510,\n",
       " 'unif507': 511,\n",
       " 'unie087': 512,\n",
       " 'unif437': 513,\n",
       " 'uniea34': 514,\n",
       " 'unie067': 515,\n",
       " 'unif618': 516,\n",
       " 'unie10b': 517,\n",
       " 'unif85b': 518,\n",
       " 'unif6e8': 519,\n",
       " 'unie8b2': 520,\n",
       " 'unif453': 521,\n",
       " 'unif76b': 522,\n",
       " 'unie3ed': 523,\n",
       " 'unie400': 524,\n",
       " 'unif151': 525,\n",
       " 'unied5d': 526,\n",
       " 'unif7d2': 527,\n",
       " 'uniefad': 528,\n",
       " 'unif3ce': 529,\n",
       " 'unie22f': 530,\n",
       " 'unie7b6': 531,\n",
       " 'unied0e': 532,\n",
       " 'unie662': 533,\n",
       " 'unif7c5': 534,\n",
       " 'unif44d': 535,\n",
       " 'uniea62': 536,\n",
       " 'uniecee': 537,\n",
       " 'uniefa2': 538,\n",
       " 'unie5d7': 539,\n",
       " 'unie29a': 540,\n",
       " 'unie71f': 541,\n",
       " 'unie185': 542,\n",
       " 'uniebec': 543,\n",
       " 'unie4fb': 544,\n",
       " 'unif43a': 545,\n",
       " 'unif44c': 546,\n",
       " 'unif6ad': 547,\n",
       " 'unif090': 548,\n",
       " 'unie4de': 549,\n",
       " 'unif24c': 550,\n",
       " 'unif12b': 551,\n",
       " 'unif874': 552,\n",
       " 'unie900': 553,\n",
       " 'unie0ce': 554,\n",
       " 'unie770': 555,\n",
       " 'unif48b': 556,\n",
       " 'unie7be': 557,\n",
       " 'unie6e6': 558,\n",
       " 'unie510': 559,\n",
       " 'uniecb9': 560,\n",
       " 'unif292': 561,\n",
       " 'unif753': 562,\n",
       " 'unif7e5': 563,\n",
       " 'unie7a3': 564,\n",
       " 'unieefa': 565,\n",
       " 'unif434': 566,\n",
       " 'unif169': 567,\n",
       " 'unie34c': 568,\n",
       " 'unif32e': 569,\n",
       " 'unie6e5': 570,\n",
       " 'unieae1': 571,\n",
       " 'unie0dd': 572,\n",
       " 'unief10': 573,\n",
       " 'uniea5c': 574,\n",
       " 'unif3d8': 575,\n",
       " 'uniefd5': 576,\n",
       " 'unif468': 577,\n",
       " 'unie2a2': 578,\n",
       " 'unie1b2': 579,\n",
       " 'unief6f': 580,\n",
       " 'unie6a3': 581,\n",
       " 'unif7b3': 582,\n",
       " 'unif6ce': 583,\n",
       " 'unie780': 584,\n",
       " 'unieb31': 585,\n",
       " 'unie388': 586,\n",
       " 'unif3d6': 587,\n",
       " 'unie4a0': 588,\n",
       " 'unie115': 589,\n",
       " 'uniea4a': 590,\n",
       " 'unieb08': 591,\n",
       " 'unif8b0': 592,\n",
       " 'unif773': 593,\n",
       " 'unif164': 594,\n",
       " 'unieff5': 595,\n",
       " 'unie6d5': 596,\n",
       " 'uniee30': 597,\n",
       " 'uniec70': 598,\n",
       " 'unied70': 599,\n",
       " 'unie177': 600,\n",
       " 'unif705': 601,\n",
       " 'unif8fb': 602}"
      ]
     },
     "execution_count": 177,
     "metadata": {},
     "output_type": "execute_result"
    }
   ],
   "source": [
    "font.getReverseGlyphMap()renderPM.drawToFile"
   ]
  },
  {
   "cell_type": "code",
   "execution_count": 142,
   "metadata": {},
   "outputs": [
    {
     "data": {
      "text/plain": [
       "dict_keys(['a', 'b'])"
      ]
     },
     "execution_count": 142,
     "metadata": {},
     "output_type": "execute_result"
    }
   ],
   "source": [
    "aaa={\"a\":1, \"b\":2}\n",
    "aaa.keys()"
   ]
  },
  {
   "cell_type": "code",
   "execution_count": 152,
   "metadata": {},
   "outputs": [],
   "source": [
    "def compare(string, pattern):\n",
    "    dict_1 = {}\n",
    "    x = [\"a\",\"b\"]\n",
    "    n = 0\n",
    "    result = \"\"\n",
    "    for i in str_1.split(\" \"):\n",
    "        if(i not in dict_1.keys()):\n",
    "            dict_1[i] = x[n]\n",
    "            n+=1\n",
    "            result+=dict_1[i]\n",
    "        else:\n",
    "            result+=dict_1[i]\n",
    "    if(result==pattern):\n",
    "        return True\n",
    "    else:\n",
    "        return False"
   ]
  },
  {
   "cell_type": "code",
   "execution_count": 156,
   "metadata": {},
   "outputs": [
    {
     "data": {
      "text/plain": [
       "True"
      ]
     },
     "execution_count": 156,
     "metadata": {},
     "output_type": "execute_result"
    }
   ],
   "source": [
    "str_1 = \"apple orange apple apple\"\n",
    "pattern_1 = \"abaa\"\n",
    "compare(str_1, pattern_1)"
   ]
  },
  {
   "cell_type": "code",
   "execution_count": null,
   "metadata": {},
   "outputs": [],
   "source": []
  }
 ],
 "metadata": {
  "kernelspec": {
   "display_name": "Python 3",
   "language": "python",
   "name": "python3"
  },
  "language_info": {
   "codemirror_mode": {
    "name": "ipython",
    "version": 3
   },
   "file_extension": ".py",
   "mimetype": "text/x-python",
   "name": "python",
   "nbconvert_exporter": "python",
   "pygments_lexer": "ipython3",
   "version": "3.7.1"
  }
 },
 "nbformat": 4,
 "nbformat_minor": 2
}
